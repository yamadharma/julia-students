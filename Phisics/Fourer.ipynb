{
 "cells": [
  {
   "cell_type": "markdown",
   "metadata": {},
   "source": [
    "Пакеты\n",
    "\n",
    "* [Неоднородные БПФ](https://github.com/JuliaApproximation/FastTransforms.jl)  \n",
    "* [FFTW](https://github.com/JuliaMath/FFTW.jl)\n",
    "\n",
    "Фурье:\n",
    "* [БПФ](http://bourabai.ru/graphics/fft7.htm)\n",
    "* [Habr 1](https://habr.com/ru/post/196374/)\n",
    "* [Habr 2](https://habr.com/ru/post/269991/)"
   ]
  },
  {
   "cell_type": "code",
   "execution_count": null,
   "metadata": {},
   "outputs": [],
   "source": [
    "using Plots, FFTW"
   ]
  },
  {
   "cell_type": "markdown",
   "metadata": {},
   "source": [
    "# Fast Fourier Transform\n",
    "\n",
    "$$\n",
    "\\operatorname{DFT}(A)[k] =\n",
    "  \\sum_{n=1}^{\\operatorname{length}(A)}\n",
    "  \\exp\\left(-i\\frac{2\\pi\n",
    "  (n-1)(k-1)}{\\operatorname{length}(A)} \\right) A[n].\n",
    "$$\n",
    "\n",
    "Выполним **быстрое Фурье преобразование** для функции Гаусса:"
   ]
  },
  {
   "cell_type": "code",
   "execution_count": null,
   "metadata": {},
   "outputs": [],
   "source": [
    "t = collect( range(-5,5,length = 512) )\n",
    "f(x) = exp(-x^2)\n",
    "f1 = f.(t)\n",
    "\n",
    "plot([t, [1:512;] ], [f1, real( fft(f1) )  ], layout = 2, lab = [\"Orig\" \"fft\"] )"
   ]
  },
  {
   "cell_type": "markdown",
   "metadata": {},
   "source": [
    "В таком виде трулно выудить полезную информацию. Нужна выполнить [ряд преобразований](http://www.phys.nsu.ru/cherk/Vestnik_Fourier_my_15_09.pdf)"
   ]
  },
  {
   "cell_type": "code",
   "execution_count": null,
   "metadata": {},
   "outputs": [],
   "source": [
    "function fftn(x::T, y::T, a::Int64, b::Int64) where T>:Array{Float64, 1}\n",
    "    N = length(y)\n",
    "    Tm = abs(x[end] - x[1]) # длительность сигнала\n",
    "    dt = Tm/(N-1)\n",
    "    half = N ÷ 2+1\n",
    "    \n",
    "    F = fft(y) # быстрое фурье\n",
    "    F1 = F[1:half] # Выделение первых N/2+1 (положительные частоты)\n",
    "    F2 = F[half:N] # Выделение спектра отрицательных частот\n",
    "    F = abs.( [F2; F1] ) / N * sqrt(2pi) # Объединение спектра и нормировка\n",
    "    # высота = амплитуда постоянной составляющей\n",
    "    # Вычисление вектора частот:\n",
    "    dnu = (N-1)/(N*Tm) # Шаг частоты\n",
    "    nuNyq = 1/(2*dt) # Частота Найквиста\n",
    "    nu = -nuNyq .+ dnu*[0:N;]\n",
    "\n",
    "    mnu = round( abs( nu[argmax(F)] ), digits = 3)\n",
    "    println(\"nu: $mnu Hz\") # выводим одну из частот\n",
    "    \n",
    "    p1 = plot(x, y, lab = \"Orig\", xaxis = \"t, s\")\n",
    "    p2 = plot(nu[a:b], F[a:b], marker = :circle, lab = \"fft norm-d\", xaxis = \"freq, Hz\")\n",
    "    plot(p1, p2, layout = (2,1))\n",
    "end"
   ]
  },
  {
   "cell_type": "code",
   "execution_count": null,
   "metadata": {},
   "outputs": [],
   "source": [
    "fftn(t, f1, 240, 270) # последние два аргумента - границы окна"
   ]
  },
  {
   "cell_type": "markdown",
   "metadata": {},
   "source": [
    "Еще ряд примеров:"
   ]
  },
  {
   "cell_type": "code",
   "execution_count": null,
   "metadata": {},
   "outputs": [],
   "source": [
    "t1 = collect( range(0,10,length = 512) )\n",
    "f2 = sin.(2pi*t1) + 0.5sin.(pi*t1);"
   ]
  },
  {
   "cell_type": "code",
   "execution_count": null,
   "metadata": {},
   "outputs": [],
   "source": [
    "fftn(t1, f2, 257, 280)"
   ]
  },
  {
   "cell_type": "code",
   "execution_count": null,
   "metadata": {},
   "outputs": [],
   "source": [
    "y1(x) = U1*sin(w1*x)\n",
    "y2(x) = U1*sin(w1*x) + U2*sin(w2*x)\n",
    "y3(x) = U1*sin(w1*x).*( 1.0 + tanh(μ*x) ) + U2*sin(w2*x).*(1.0-tanh(μ*x) )\n",
    "y4(x) = sin(250pi*x^2)\n",
    "\n",
    "X = range(0,  1,  length = 2048) |> collect\n",
    "x1 = range(0,  180,  length = 512) |> collect;\n",
    "\n",
    "U1 = 1.0\n",
    "U2 = 1.0\n",
    "T1 = 50\n",
    "T2 = 10\n",
    "μ = 0.01\n",
    "\n",
    "w1 = 2pi/T1\n",
    "w2 = 2pi/T2\n",
    "\n",
    "Y1 = y1.(x1)\n",
    "Y2 = y2.(x1)\n",
    "Y3 = y3.(x1)\n",
    "Y4 = y4.(X)\n",
    "\n",
    "w1, w2"
   ]
  },
  {
   "cell_type": "code",
   "execution_count": null,
   "metadata": {},
   "outputs": [],
   "source": [
    "fftn(x1, Y1, 257, 270)"
   ]
  },
  {
   "cell_type": "markdown",
   "metadata": {},
   "source": [
    "Для того, чтоб сгладить боковые лепестки (уточнить значение частоты), нужно стараться брать целое количество периодов, т е `x1 = range(0,  150,  length = 512) |> collect;` так как период равен 50."
   ]
  },
  {
   "cell_type": "code",
   "execution_count": null,
   "metadata": {},
   "outputs": [],
   "source": [
    "fftn(x1, Y2, 257, 290)"
   ]
  },
  {
   "cell_type": "code",
   "execution_count": null,
   "metadata": {},
   "outputs": [],
   "source": [
    "fftn(x1, Y3, 257, 290)"
   ]
  },
  {
   "cell_type": "markdown",
   "metadata": {},
   "source": [
    "Сиглал с переменной частотой:"
   ]
  },
  {
   "cell_type": "code",
   "execution_count": null,
   "metadata": {},
   "outputs": [],
   "source": [
    "fftn(X, Y4, 250, 290)"
   ]
  },
  {
   "cell_type": "code",
   "execution_count": null,
   "metadata": {},
   "outputs": [],
   "source": [
    "N=10000\n",
    "dt = 1e-4\n",
    "xa = range(0, 1, length=N) |> collect\n",
    "xb = range(0, 1/4, length=N ÷ 4) |> collect\n",
    "\n",
    "freqs = [4, 30, 60, 90]\n",
    "\n",
    "f5(t) = sin.(2pi*freqs*t)\n",
    "\n",
    "y00 = hcat( [f5(x) for x in xa]... )\n",
    "y11 = vec( sum(y00, dims = 1) ) \n",
    "\n",
    "y00 = hcat( [f5(x) for x in xb]... )\n",
    "y01 = permutedims(y00)\n",
    "y22 = reshape(y01, N, 1) |> vec;"
   ]
  },
  {
   "cell_type": "code",
   "execution_count": null,
   "metadata": {
    "scrolled": true
   },
   "outputs": [],
   "source": [
    "fftn(xa, y11, 5000, 5100)"
   ]
  },
  {
   "cell_type": "markdown",
   "metadata": {},
   "source": [
    "Здесь четыре различные частоты присутствующие в сигнале на протяжении всего измерения - поэтому всё хорошо очертилось."
   ]
  },
  {
   "cell_type": "code",
   "execution_count": null,
   "metadata": {},
   "outputs": [],
   "source": [
    "fftn(xa, y22, 5000, 5100)"
   ]
  },
  {
   "cell_type": "markdown",
   "metadata": {},
   "source": [
    "На этом графике сигналы не перекрываются во времени, боковые лепестки обусловлены разрывом между четырьмя различными частотами.\n",
    "https://habr.com/ru/post/451278/\n"
   ]
  },
  {
   "cell_type": "code",
   "execution_count": null,
   "metadata": {},
   "outputs": [],
   "source": []
  }
 ],
 "metadata": {
  "kernelspec": {
   "display_name": "Julia 1.4.1",
   "language": "julia",
   "name": "julia-1.4"
  },
  "language_info": {
   "file_extension": ".jl",
   "mimetype": "application/julia",
   "name": "julia",
   "version": "1.4.1"
  }
 },
 "nbformat": 4,
 "nbformat_minor": 4
}
