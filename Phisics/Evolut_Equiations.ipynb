{
 "cells": [
  {
   "cell_type": "markdown",
   "metadata": {},
   "source": [
    "## ДВИЖЕНИЕ ЗАРЯЖЕННЫХ ЧАСТИЦ В ЭЛЕКТРОМАГНИТНОМ ПОЛЕ\n",
    "\n",
    "На заряженую частицу с зарядом $q$ движущуюся в ЭМП со скоростью $u$ действует сила Лоренца: $\\vec{F}_L=q\\left(\\vec{E}+\\left[\\vec{u}\\times\\vec{B}\\right]\\right)$. Данная формула справедлива при ряде упрощений. Пренебрегая поправками на теорию относительности, считаем массу частицы постоянной, так что уравнение движения имеет вид: $\\frac{d}{dt}(m\\vec{u})=q\\left(\\vec{E}+\\left[\\vec{u}\\times\\vec{B}\\right]\\right)$\n",
    "\n",
    "Направим ось Y вдоль электрического поля, ось Z  — вдоль магнитного поля и предположим для простоты, что начальная скорость частицы лежит в плоскости XY. В этом случае вся траектория частицы также будет лежать в этой плоскости. Уравнения движения примут вид:\n",
    "\n",
    "$$\n",
    "\\left\\{\\begin{matrix}\n",
    "m\\ddot{x}=qB\\dot{y} \\\\\n",
    "m\\ddot{y}=qE-qB\\dot{x}\n",
    "\\end{matrix}\\right.\n",
    "$$\n",
    "\n",
    "Обезразмерим: $x^*=\\frac{x}{\\lambda},\\, y^*=\\frac{y}{\\lambda},\\,\\tau=\\frac{ct}{\\lambda},\\, B^*=\\frac{Bmc}{q\\lambda},\\, E^*=\\frac{Emc^2}{q\\lambda}$. Звёздочками обозначены размерные величины, а $\\lambda$ - характерный размер рассматриваемой физической системы. Получим безразмерную систему уравнений движения заряженной частицы в магнитном поле:\n",
    "\n",
    "$$\n",
    "\\left\\{\\begin{matrix}\n",
    "\\frac{d^2x}{d\\tau^2}=B\\frac{dy}{d\\tau} \\\\\n",
    "\\frac{d^2y}{d\\tau^2}=E-B\\frac{dx}{d\\tau}\n",
    "\\end{matrix}\\right.\n",
    "$$\n",
    "\n",
    "Понизим порядок:\n",
    "\n",
    "$$\n",
    "\\left\\{\\begin{matrix}\n",
    "\\frac{dx}{d\\tau}=U_x \\\\\n",
    "\\frac{dy}{d\\tau}=U_y \\\\\n",
    "\\frac{dU_x}{d\\tau}=BU_y \\\\\n",
    "\\frac{dU_y}{d\\tau}=E-BU_x\n",
    "\\end{matrix}\\right.\n",
    "$$\n",
    "\n",
    "В качестве начальной конфигурации модели выберем: $B = 2$ Тл, $E = 5\\cdot 10^4$, В/м $v_0=7\\cdot 10^4$ м/с. Для численного решения воспользуемся пакетом *DifferentialEquations*:"
   ]
  },
  {
   "cell_type": "code",
   "execution_count": null,
   "metadata": {},
   "outputs": [],
   "source": [
    "using DifferentialEquations"
   ]
  },
  {
   "cell_type": "code",
   "execution_count": null,
   "metadata": {},
   "outputs": [],
   "source": [
    "using Plots\n",
    "# pyplot()"
   ]
  },
  {
   "cell_type": "code",
   "execution_count": null,
   "metadata": {},
   "outputs": [],
   "source": [
    "M = 9.11e-31 # kg\n",
    "q = 1.6e-19 # C\n",
    "C = 3e8 # m/s\n",
    "λ = 1e-3 # m\n",
    "\n",
    "function modelsolver(Bo = 2., Eo = 5e4, vel = 7e4)\n",
    "\n",
    "    B = Bo*q*λ / (M*C)\n",
    "    E = Eo*q*λ / (M*C*C)\n",
    "    vel /= C\n",
    "\n",
    "    A = [0. 0. 1. 0.;\n",
    "        0. 0. 0. 1.;\n",
    "        0. 0. 0. B;\n",
    "        0. 0. -B 0.]\n",
    "\n",
    "    syst(u,p,t) = A * u + [0.; 0.; 0.; E] # ODE system\n",
    "\n",
    "    u0 = [0.0; 0.0; vel; 0.0] # start cond-ns\n",
    "    tspan = (0.0, 6pi) # time period\n",
    "\n",
    "    prob = ODEProblem(syst, u0, tspan) # problem to solve\n",
    "    sol = solve(prob, Euler(), dt = 1e-4, save_idxs = [1, 2], timeseries_steps = 1000)\n",
    "end\n",
    "\n",
    "Solut = modelsolver()\n",
    "\n",
    "plot(Solut)"
   ]
  },
  {
   "cell_type": "code",
   "execution_count": null,
   "metadata": {},
   "outputs": [],
   "source": [
    "X = [Solut.u[i][1] for i in eachindex(Solut.u)]\n",
    "Y = [Solut.u[i][2] for i in eachindex(Solut.u)]\n",
    "\n",
    "plot(X, Y, xaxis=(\"X\"), background_color=RGB(0.1, 0.1, 0.1))\n",
    "title!(\"Траектория частицы\")\n",
    "yaxis!(\"Y\")\n",
    "\n",
    "savefig(\"XY1.png\")"
   ]
  },
  {
   "cell_type": "markdown",
   "metadata": {},
   "source": [
    "Проверим результат. Введем вместо **х** новую переменную $\\tilde{x}=x-ut$. Таким образом осуществляется переход в новую систему координат, движущуюся относительно исходной со скоростью *u* в направлении оси *Х*:\n",
    "\n",
    "$$\n",
    "\\left\\{\\begin{matrix}\n",
    "\\ddot{\\tilde{x}}=qB\\dot{y}/m \\\\\n",
    "\\ddot{y}=qE/m-qB\\dot{x}/m -qBu/m\n",
    "\\end{matrix}\\right.\n",
    "$$\n",
    "\n",
    "Если выбрать $u=E/B$ и обозначить $\\omega=qB/m$, то система упростится:\n",
    "\n",
    "$$\n",
    "\\left\\{\\begin{matrix}\n",
    "\\ddot{\\tilde{x}}=\\omega\\dot{y} \\\\\n",
    "\\ddot{y}=-\\omega\\dot{\\tilde{x}}\n",
    "\\end{matrix}\\right.\n",
    "$$\n",
    "\n",
    "Электрическое поле исчезло из последних равенств, и они представляют собой уравнения движения частицы, находящейся под действием однородного магнитного поля. Таким образом, частица в новой системе координат *(х, у)* должна двигаться по окружности. Так как эта новая система координат сама перемещается относительно исходной со скоростью $u=E/B$, то результирующее движение частицы будет складываться из равномерного движения по оси *X* и вращения по окружности в плоскости *XY*. Как известно, траектория, возникающая при сложении таких двух движений, в общем случае представляет собой *трохоиду*. В частности, если начальная скорость равна нулю, реализуется простейший случай движения такого рода - по *циклоиде*.\n",
    "Удостоверимся, что скорость дрейфа вышла действительно равной **Е/В**. Для этого:\n",
    "+ подпортим матрицу ответов, поставив вместо первого элемента (максимального) заведомо меньшее значение\n",
    "+ найдем номер максимального элемента во втором столбце матрицы ответов, который откладывается по ординате\n",
    "+ вычислим безразмерную скорость дрейфа, разделив значение абсциссы в максимуме на соответствующее значение времени"
   ]
  },
  {
   "cell_type": "code",
   "execution_count": null,
   "metadata": {},
   "outputs": [],
   "source": [
    "Y[1] = -0.1\n",
    "numax = argmax( Y )\n",
    "X[numax] / Solut.t[numax]"
   ]
  },
  {
   "cell_type": "code",
   "execution_count": null,
   "metadata": {},
   "outputs": [],
   "source": [
    "B = 2*q*λ / (M*C)\n",
    "E = 5e4*q*λ / (M*C*C)\n",
    "E/B"
   ]
  },
  {
   "cell_type": "markdown",
   "metadata": {},
   "source": [
    "С точностью до седьмого порядка! \n",
    "При нулевой начальной скорости, как и предполагалось, получаем *циклоиду*:"
   ]
  },
  {
   "cell_type": "code",
   "execution_count": null,
   "metadata": {},
   "outputs": [],
   "source": [
    "function plotter(ttle = \"qwerty\", Bo = 2, Eo = 4e4, vel = 7e4)\n",
    "    Ans = modelsolver(Bo, Eo, vel)\n",
    "\n",
    "    X = [Ans.u[i][1] for i in eachindex(Ans.u)]\n",
    "    Y = [Ans.u[i][2] for i in eachindex(Ans.u)]\n",
    "    plot!(X, Y)\n",
    "\n",
    "    p = title!(ttle)\n",
    "    savefig( p, ttle * \".png\" )\n",
    "end"
   ]
  },
  {
   "cell_type": "code",
   "execution_count": null,
   "metadata": {},
   "outputs": [],
   "source": [
    "plot()\n",
    "plotter(\"Zero start velocity\", 2, 4e4, 0)"
   ]
  },
  {
   "cell_type": "markdown",
   "metadata": {},
   "source": [
    "Поочередно получим траекторию частицы при занулении индукции, напряженности и при смене знака заряда"
   ]
  },
  {
   "cell_type": "code",
   "execution_count": null,
   "metadata": {},
   "outputs": [],
   "source": [
    "plot()\n",
    "plotter.(\"B занулено Е варьируется\", 0, [3e4 4e4 5e4 6e4] )\n"
   ]
  },
  {
   "cell_type": "code",
   "execution_count": null,
   "metadata": {},
   "outputs": [],
   "source": [
    "plot()\n",
    "plotter.(\"E занулено B варьируется\", [1 2 3 4], 0 )"
   ]
  },
  {
   "cell_type": "code",
   "execution_count": null,
   "metadata": {},
   "outputs": [],
   "source": [
    "q = -1.6e-19 # C\n",
    "\n",
    "plot()\n",
    "plotter.(\"Отрицательный заряд\")"
   ]
  },
  {
   "cell_type": "markdown",
   "metadata": {},
   "source": [
    "И посмотрим, как влияет на траекторию частицы изменение начальной скорости:"
   ]
  },
  {
   "cell_type": "code",
   "execution_count": null,
   "metadata": {},
   "outputs": [],
   "source": [
    "plot()\n",
    "plotter.(\"Варьирование скорости\", 2, 5e4, [2e4 4e4 6e4 8e4] )"
   ]
  }
 ],
 "metadata": {
  "kernelspec": {
   "display_name": "Julia 1.4.1",
   "language": "julia",
   "name": "julia-1.4"
  },
  "language_info": {
   "file_extension": ".jl",
   "mimetype": "application/julia",
   "name": "julia",
   "version": "1.4.1"
  }
 },
 "nbformat": 4,
 "nbformat_minor": 4
}
