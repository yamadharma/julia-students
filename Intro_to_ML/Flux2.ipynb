{
 "cells": [
  {
   "cell_type": "markdown",
   "metadata": {},
   "source": [
    "![](https://habrastorage.org/webt/ea/zz/g7/eazzg7inp28p1osmj25fc6e1mgo.jpeg)\n",
    "\n",
    "![](https://habrastorage.org/webt/v-/ny/wv/v-nywv6nm3uipk2cfhygvgievi0.png)\n",
    "\n",
    "![](https://habrastorage.org/webt/bo/ln/ie/bolnieqllmfkdenqydhyjcewace.jpeg)\n",
    "\n",
    "![](https://habrastorage.org/webt/qu/yd/xh/quydxhdullq7bho7iicmrraf5rk.png)"
   ]
  },
  {
   "cell_type": "code",
   "execution_count": null,
   "metadata": {},
   "outputs": [],
   "source": [
    "using Statistics: mean"
   ]
  },
  {
   "cell_type": "code",
   "execution_count": null,
   "metadata": {},
   "outputs": [],
   "source": [
    "using Plots, CSV, DataFrames#, Interact"
   ]
  },
  {
   "cell_type": "code",
   "execution_count": null,
   "metadata": {},
   "outputs": [],
   "source": [
    "apples = CSV.read(\"data/Apple_Braeburn.csv\")\n",
    "banans = CSV.read(\"data/bananas.csv\")"
   ]
  },
  {
   "cell_type": "code",
   "execution_count": null,
   "metadata": {},
   "outputs": [],
   "source": [
    "Desc = describe(apples, :all)"
   ]
  },
  {
   "cell_type": "code",
   "execution_count": null,
   "metadata": {},
   "outputs": [],
   "source": [
    "Desc[5, :]"
   ]
  },
  {
   "cell_type": "code",
   "execution_count": null,
   "metadata": {},
   "outputs": [],
   "source": [
    "function plot2features(clr)\n",
    "    \n",
    "    x_apples = apples[:, :green]\n",
    "    x_banans = banans[:, :green]\n",
    "    y_apples = apples[:, clr]\n",
    "    y_banans = banans[:, clr]\n",
    "\n",
    "    scatter(x_apples, y_apples, lab = \"apples\", colour = :red)\n",
    "    scatter!(x_banans, y_banans, lab = \"bananas\", legend = :topleft, colour = :yellow)\n",
    "    hline!([mean(y_apples), mean(y_banans) ], lab = \"\" )\n",
    "    vline!([mean(x_apples), mean(x_banans) ], lab = \"\" )\n",
    "    xaxis!(\"green\")\n",
    "    yaxis!(\"$clr\")\n",
    "end\n",
    "\n",
    "plot2features(:red)"
   ]
  },
  {
   "cell_type": "code",
   "execution_count": null,
   "metadata": {},
   "outputs": [],
   "source": [
    "plot2features(:blue)"
   ]
  },
  {
   "cell_type": "code",
   "execution_count": null,
   "metadata": {},
   "outputs": [],
   "source": [
    "savefig(\"C:\\\\Users\\\\User\\\\Desktop\\\\blue_2d_plot\")"
   ]
  },
  {
   "cell_type": "code",
   "execution_count": null,
   "metadata": {},
   "outputs": [],
   "source": [
    "x_apples .-= minimum(x_apples)\n",
    "x_banans .-= minimum(x_apples)\n",
    "x_apples /= ( maximum(x_banans) - minimum(x_apples) )\n",
    "x_banans /= ( maximum(x_banans) - minimum(x_apples) );"
   ]
  },
  {
   "cell_type": "code",
   "execution_count": null,
   "metadata": {},
   "outputs": [],
   "source": [
    "plot2features(:blue)"
   ]
  },
  {
   "cell_type": "code",
   "execution_count": null,
   "metadata": {},
   "outputs": [],
   "source": []
  },
  {
   "cell_type": "code",
   "execution_count": null,
   "metadata": {},
   "outputs": [],
   "source": [
    "sigmo(x,w,b) = 1 / (1 + exp(-w*x+b))\n",
    "\n",
    "r_apples, g_apples, b_apples = apples[:, :red], apples[:, :green], apples[:, :blue]\n",
    "r_banans, g_banans, b_banans = banans[:, :red], banans[:, :green], banans[:, :blue];"
   ]
  },
  {
   "cell_type": "code",
   "execution_count": null,
   "metadata": {
    "scrolled": false
   },
   "outputs": [],
   "source": [
    "@manipulate for w in 10:1:60, b in -5:1:25\n",
    "    \n",
    "    plot(x->sigmo(x,w,b), 0, 1, label=\"Model\", legend = :topleft, lw=3)\n",
    "    scatter!(g_apples[1:5], zeros(10), label=\"Apple\", colour = :red)\n",
    "    scatter!(g_banans[1:5], ones(10), label=\"Banana\", colour = :yellow)\n",
    "    \n",
    "end"
   ]
  },
  {
   "cell_type": "code",
   "execution_count": null,
   "metadata": {},
   "outputs": [],
   "source": []
  },
  {
   "cell_type": "code",
   "execution_count": null,
   "metadata": {},
   "outputs": [],
   "source": [
    "foon(x) = sigmo(x,60,24)\n",
    "plot(foon, 0, 1, label=\"Model\", legend = :topleft, lw=3)\n",
    "scatter!(foon, g_apples, label=\"Apple\", colour = :red)\n",
    "scatter!(foon, g_banans, label=\"Banana\", colour = :yellow)\n",
    "xaxis!(\"green\")"
   ]
  },
  {
   "cell_type": "code",
   "execution_count": null,
   "metadata": {},
   "outputs": [],
   "source": [
    "savefig(\"C:/Users/User/Desktop/green.png\")"
   ]
  },
  {
   "cell_type": "code",
   "execution_count": null,
   "metadata": {},
   "outputs": [],
   "source": [
    "apples_mean_green = mean(g_apples)\n",
    "banans_mean_green = mean(g_banans)\n",
    "\n",
    "L(w, b) = (0 - sigmo(apples_mean_green,w,b))^2 + (1 - sigmo(banans_mean_green,w,b))^2\n",
    "\n",
    "w_range = 10:0.5:30\n",
    "b_range = 0:0.5:20\n",
    "\n",
    "L_values = [L(w,b) for b in b_range, w in w_range]\n",
    "\n",
    "\n",
    "@manipulate for w in w_range, b in b_range\n",
    "    p1 = surface(w_range, b_range, L_values, xlabel=\"b\", ylabel=\"w\", cam=(80,40), cbar=false, leg=false)\n",
    "    scatter!(p1, [w], [b], [L(w,b)+1e-2], markersize=5, color = :blue)\n",
    "    p2 = plot(x->sigmo(x,w,b), 0, 1, label=\"Model\", legend = :topleft, lw=3)\n",
    "    scatter!(p2, [apples_mean_green],  [0.0], label=\"Apple\", markersize=10)\n",
    "    scatter!(p2, [banans_mean_green], [1.0], label=\"Banana\", markersize=10, xlim=(0,1), ylim=(0,1))\n",
    "    plot(p1, p2, layout=(2,1))\n",
    "end"
   ]
  },
  {
   "cell_type": "code",
   "execution_count": null,
   "metadata": {},
   "outputs": [],
   "source": []
  },
  {
   "cell_type": "code",
   "execution_count": null,
   "metadata": {},
   "outputs": [],
   "source": [
    "σ(x,w,b) = 1 / (1 + exp(-(w*x)[1]+b))\n",
    "y_apples = apples[:, :blue]\n",
    "y_banans = banans[:, :blue]\n",
    "\n",
    "@manipulate for w1 in 10:1:60, w2 in 10:1:60, b in 15:1:85\n",
    "    \n",
    "    σ2d = [σ([x1, x2], [w1 w2], b ) for x1 = 0.18:0.01:0.6, x2 = 0.18:0.01:0.6 ];\n",
    "\n",
    "    contour([0.18:0.01:0.6;], [0.18:0.01:0.6;], σ2d, fill = true)\n",
    "    scatter!(x_apples, y_apples, lab = \"apples\", colour = :red)\n",
    "    scatter!(x_banans, y_banans, lab = \"bananas\", legend = :topleft, colour = :yellow)\n",
    "end"
   ]
  },
  {
   "cell_type": "markdown",
   "metadata": {},
   "source": [
    "# One feature"
   ]
  },
  {
   "cell_type": "code",
   "execution_count": null,
   "metadata": {},
   "outputs": [],
   "source": [
    "using Flux: param, params, Dense, mse, train!, σ, onecold, throttle, Descent, Tracker.data"
   ]
  },
  {
   "cell_type": "code",
   "execution_count": null,
   "metadata": {},
   "outputs": [],
   "source": [
    "Y = [zeros(length(g_apples)); ones(length(g_banans)) ] |> permutedims\n",
    "X = [g_apples; g_banans] |> permutedims;\n",
    "\n",
    "# dataset = repeated((X, Y), 20)"
   ]
  },
  {
   "cell_type": "code",
   "execution_count": null,
   "metadata": {},
   "outputs": [],
   "source": [
    "dataz = [(X, Y)]\n",
    "W = param(rand(1))\n",
    "b = param(rand(1))\n",
    "model = Dense(W, b, σ)\n",
    "loss(x, y) = mse(model(x), y)\n",
    "# Flux.crossentropy\n",
    "opt = Descent(0.1)\n",
    "accuracy(x, y) = mean( round.(model(x)) .== y )\n",
    "\n",
    "typeof(model)"
   ]
  },
  {
   "cell_type": "code",
   "execution_count": null,
   "metadata": {
    "scrolled": true
   },
   "outputs": [],
   "source": [
    "params(model)"
   ]
  },
  {
   "cell_type": "code",
   "execution_count": null,
   "metadata": {},
   "outputs": [],
   "source": [
    "loss(X, Y)"
   ]
  },
  {
   "cell_type": "code",
   "execution_count": null,
   "metadata": {
    "scrolled": false
   },
   "outputs": [],
   "source": [
    "accuracy(X, Y)"
   ]
  },
  {
   "cell_type": "code",
   "execution_count": null,
   "metadata": {},
   "outputs": [],
   "source": [
    "modeldataz(x) = x |> model |> data |> permutedims\n",
    "# modeldataz(x) = permutedims(data(model(x)))"
   ]
  },
  {
   "cell_type": "code",
   "execution_count": null,
   "metadata": {},
   "outputs": [],
   "source": [
    "modelX = modeldataz(X)\n",
    "modelapples = modeldataz(g_apples')\n",
    "modelbanans = modeldataz(g_banans')\n",
    "\n",
    "plot(modelX, legend = false)\n",
    "hline!([0.5])\n",
    "p1 = yaxis!((0,1))\n",
    "\n",
    "curv = [-1:0.01:1;]' |> modeldataz\n",
    "plot( [-1:0.01:1;], curv, label=\"Model\", legend = :topleft, lw=3)\n",
    "\n",
    "scatter!(g_apples, modelapples, label=\"Apple\", colour = :red)\n",
    "scatter!(g_banans, modelbanans, label=\"Banana\",colour = :yellow)\n",
    "hline!([0.5], lab = \"\", legend = :topleft)\n",
    "p2 = xaxis!(\"green\")\n",
    "\n",
    "plot(p1, p2)"
   ]
  },
  {
   "cell_type": "code",
   "execution_count": null,
   "metadata": {},
   "outputs": [],
   "source": [
    "savefig(\"C:/Users/User/Desktop/trained1.png\")"
   ]
  },
  {
   "cell_type": "code",
   "execution_count": null,
   "metadata": {
    "scrolled": true
   },
   "outputs": [],
   "source": [
    "train!(loss, params(model), dataz, opt)"
   ]
  },
  {
   "cell_type": "code",
   "execution_count": null,
   "metadata": {},
   "outputs": [],
   "source": [
    "model.W, model.b"
   ]
  },
  {
   "cell_type": "code",
   "execution_count": null,
   "metadata": {
    "scrolled": true
   },
   "outputs": [],
   "source": [
    "for i in 1:7000\n",
    "    train!(loss, params(model), dataz, opt)\n",
    "end\n",
    "\n",
    "model.W, model.b"
   ]
  },
  {
   "cell_type": "code",
   "execution_count": null,
   "metadata": {},
   "outputs": [],
   "source": [
    "loss(X, Y)"
   ]
  },
  {
   "cell_type": "code",
   "execution_count": null,
   "metadata": {
    "scrolled": true
   },
   "outputs": [],
   "source": [
    "accuracy(X, Y)"
   ]
  },
  {
   "cell_type": "code",
   "execution_count": null,
   "metadata": {},
   "outputs": [],
   "source": []
  },
  {
   "cell_type": "code",
   "execution_count": null,
   "metadata": {},
   "outputs": [],
   "source": [
    "model(X)"
   ]
  },
  {
   "cell_type": "code",
   "execution_count": null,
   "metadata": {},
   "outputs": [],
   "source": []
  },
  {
   "cell_type": "markdown",
   "metadata": {},
   "source": [
    "## Testing"
   ]
  },
  {
   "cell_type": "code",
   "execution_count": null,
   "metadata": {
    "scrolled": true
   },
   "outputs": [],
   "source": [
    "using Images\n",
    "\n",
    "function remove_background(img)\n",
    "    mtrx = copy( channelview(img) )\n",
    "    for i = 1:size(mtrx, 2), j = 1:size(mtrx, 3)\n",
    "        if reduce(&, mtrx[:,i,j] .> [0.8, 0.8, 0.8])\n",
    "            mtrx[:,i,j] .= [0.5, 0.5, 0.5]\n",
    "        end\n",
    "    end\n",
    "    colorview(RGB, mtrx)\n",
    "end\n",
    "\n",
    "function classifier(img)\n",
    "    gbimg = remove_background(img)\n",
    "    greenmean = [ mean(float.(c.(gbimg))) for c = [red,green,blue] ]\n",
    "    answ = data( model( [ greenmean[2] ]' ) )[1]\n",
    "    fr = answ > 0.5 ? \"Banana\" : \"Apple\"\n",
    "    \n",
    "    \"$fr $(round(200abs(0.5-answ)))%\"\n",
    "end"
   ]
  },
  {
   "cell_type": "code",
   "execution_count": null,
   "metadata": {},
   "outputs": [],
   "source": [
    "fnames = [\n",
    "    \"data/10_100.jpg\",\n",
    "    \"data/107_100.jpg\",\n",
    "    \"data/yellow_apple_2.jpg\",\n",
    "    \"data/8_100.jpg\",\n",
    "    \"data/104_100.jpg\", \n",
    "    \"data/3_100.jpg\"\n",
    "]\n",
    "# массив картинок\n",
    "fruits = [load(fname) for fname in fnames]\n",
    "\n",
    "hcat(fruits...) "
   ]
  },
  {
   "cell_type": "code",
   "execution_count": null,
   "metadata": {
    "scrolled": false
   },
   "outputs": [],
   "source": [
    "classifier.(fruits)"
   ]
  },
  {
   "cell_type": "code",
   "execution_count": null,
   "metadata": {},
   "outputs": [],
   "source": [
    "function classifier2(img)\n",
    "    gbimg = remove_background(img)\n",
    "    greenmean = [ mean(float.(c.(gbimg))) for c = [red,green,blue] ]\n",
    "    answ = data( model( greenmean[2:3] ) )[1]\n",
    "    fr = answ > 0.5 ? \"Banana\" : \"Apple\"\n",
    "    \n",
    "    \"$fr $(round(200abs(0.5-answ)))%\"\n",
    "end"
   ]
  },
  {
   "cell_type": "code",
   "execution_count": null,
   "metadata": {},
   "outputs": [],
   "source": [
    "classifier2.(fruits)"
   ]
  },
  {
   "cell_type": "markdown",
   "metadata": {},
   "source": [
    "# Two features"
   ]
  },
  {
   "cell_type": "code",
   "execution_count": null,
   "metadata": {},
   "outputs": [],
   "source": [
    "X = [g_apples b_apples; g_banans b_banans] |> permutedims\n",
    "\n",
    "dataset2 = [ (X, Y) ]\n",
    "\n",
    "W = param(rand(1,2))\n",
    "b = param(rand(1))\n",
    "model = Dense(W, b, σ)"
   ]
  },
  {
   "cell_type": "code",
   "execution_count": null,
   "metadata": {},
   "outputs": [],
   "source": [
    "model.W, model.b"
   ]
  },
  {
   "cell_type": "code",
   "execution_count": null,
   "metadata": {},
   "outputs": [],
   "source": [
    "for i in 1:2000\n",
    "    train!(loss, params(model), dataset2, opt)\n",
    "end\n",
    "\n",
    "model.W, model.b"
   ]
  },
  {
   "cell_type": "code",
   "execution_count": null,
   "metadata": {},
   "outputs": [],
   "source": [
    "loss(X, Y)"
   ]
  },
  {
   "cell_type": "code",
   "execution_count": null,
   "metadata": {},
   "outputs": [],
   "source": [
    "accuracy(X, Y)"
   ]
  },
  {
   "cell_type": "code",
   "execution_count": null,
   "metadata": {},
   "outputs": [],
   "source": [
    "savefig(\"C:/Users/User/Desktop/trained3D.png\")"
   ]
  },
  {
   "cell_type": "code",
   "execution_count": null,
   "metadata": {},
   "outputs": [],
   "source": [
    "scatter(X[1,:]', X[2,:]', lab = \"\", color = :blue)"
   ]
  },
  {
   "cell_type": "code",
   "execution_count": null,
   "metadata": {},
   "outputs": [],
   "source": [
    "scatter(X[1,:]', X[2,:]', Y, legend = false, color = :blue)\n",
    "plot!([0.2, 0.2, 0.5, 0.2, 0.2], [0.2, 0.5, 0.5, 0.5, 0.2], 0.5ones(5) )"
   ]
  },
  {
   "cell_type": "code",
   "execution_count": null,
   "metadata": {},
   "outputs": [],
   "source": []
  },
  {
   "cell_type": "markdown",
   "metadata": {},
   "source": [
    "# MNIST"
   ]
  },
  {
   "cell_type": "code",
   "execution_count": null,
   "metadata": {},
   "outputs": [],
   "source": [
    "using Images\n",
    "using Flux, Flux.Data.MNIST, Statistics\n",
    "using Flux: onehotbatch, onecold, crossentropy, throttle\n",
    "using Base.Iterators: repeated\n",
    "# using CuArrays\n",
    "\n",
    "# Classify MNIST digits with a simple multi-layer-perceptron\n",
    "\n",
    "imgs = MNIST.images()\n",
    "# Stack images into one large batch\n",
    "X = hcat(float.(reshape.(imgs, :))...);\n",
    "hcat(imgs[1:10]...)"
   ]
  },
  {
   "cell_type": "code",
   "execution_count": null,
   "metadata": {},
   "outputs": [],
   "source": [
    "hcat(imgs[1:10]...)"
   ]
  },
  {
   "cell_type": "code",
   "execution_count": null,
   "metadata": {},
   "outputs": [],
   "source": []
  },
  {
   "cell_type": "code",
   "execution_count": null,
   "metadata": {},
   "outputs": [],
   "source": [
    "labels = MNIST.labels()\n",
    "# One-hot-encode the labels\n",
    "Y = onehotbatch(labels, 0:9) "
   ]
  },
  {
   "cell_type": "code",
   "execution_count": null,
   "metadata": {},
   "outputs": [],
   "source": [
    "m = Chain(\n",
    "  Dense(28^2, 32, relu),\n",
    "  Dense(32, 10),\n",
    "  softmax)\n",
    "\n",
    "loss(x, y) = crossentropy(m(x), y)\n",
    "\n",
    "accuracy(x, y) = mean(onecold(m(x)) .== onecold(y))"
   ]
  },
  {
   "cell_type": "code",
   "execution_count": null,
   "metadata": {},
   "outputs": [],
   "source": [
    "dataset = repeated((X, Y), 20)\n",
    "evalcb = () -> @show(loss(X, Y))\n",
    "opt = ADAM()"
   ]
  },
  {
   "cell_type": "code",
   "execution_count": null,
   "metadata": {},
   "outputs": [],
   "source": [
    "for i = 1:10\n",
    "    Flux.train!(loss, params(m), dataset, opt, cb = throttle(evalcb, 10))\n",
    "end"
   ]
  },
  {
   "cell_type": "code",
   "execution_count": null,
   "metadata": {},
   "outputs": [],
   "source": [
    "accuracy(X, Y)"
   ]
  },
  {
   "cell_type": "code",
   "execution_count": null,
   "metadata": {},
   "outputs": [],
   "source": [
    "# Test set accuracy\n",
    "tX = hcat(float.(reshape.(MNIST.images(:test), :))...)\n",
    "tY = onehotbatch(MNIST.labels(:test), 0:9)\n",
    "\n",
    "accuracy(tX, tY)"
   ]
  },
  {
   "cell_type": "code",
   "execution_count": null,
   "metadata": {},
   "outputs": [],
   "source": []
  }
 ],
 "metadata": {
  "@webio": {
   "lastCommId": null,
   "lastKernelId": null
  },
  "kernelspec": {
   "display_name": "Julia 1.2.0",
   "language": "julia",
   "name": "julia-1.2"
  },
  "language_info": {
   "file_extension": ".jl",
   "mimetype": "application/julia",
   "name": "julia",
   "version": "1.2.0"
  }
 },
 "nbformat": 4,
 "nbformat_minor": 2
}
