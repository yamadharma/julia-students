{
 "cells": [
  {
   "cell_type": "markdown",
   "metadata": {},
   "source": [
    "## Функции\n",
    "\n",
    "\n",
    "В последнем блокноте мы говорили о моделировании данных с помощью функций. **Функция** является одним из самых фундаментальных понятий в вычислительной технике (а также в математике). \n",
    "\n",
    "Функция - это часть программы, которая получает **входные аргументы**, обрабатывает их, выполняя для них определенные вычисления, и возвращает **выходные данные**.     \n",
    "\n",
    "Например, у нас может быть функция `g`, которая принимает число в качестве ввода и возвращает квадрат этого числа в качестве вывода. Как мы можем определить эту функцию `g` на компьютере? Юлия дает нам несколько разных способов сделать это."
   ]
  },
  {
   "cell_type": "markdown",
   "metadata": {},
   "source": [
    "### Определение функций\n",
    "\n",
    "Во-первых, мы могли бы написать `g` следующим образом:"
   ]
  },
  {
   "cell_type": "code",
   "execution_count": null,
   "metadata": {},
   "outputs": [],
   "source": [
    "g(x) = x^2"
   ]
  },
  {
   "cell_type": "code",
   "execution_count": null,
   "metadata": {},
   "outputs": [],
   "source": [
    "a = \"Machine learning is fun \"\n",
    "g(a)"
   ]
  },
  {
   "cell_type": "markdown",
   "metadata": {},
   "source": [
    "В качестве альтернативы, мы могли бы объявить эту функцию, используя ключевые слова `function` и` end`:"
   ]
  },
  {
   "cell_type": "code",
   "execution_count": null,
   "metadata": {},
   "outputs": [],
   "source": [
    "function g1(x)\n",
    "    return x^2\n",
    "end"
   ]
  },
  {
   "cell_type": "markdown",
   "metadata": {},
   "source": [
    "Третий способ, которым мы могли бы объявить эту функцию - это «анонимная» или «лямбда» функция. «Анонимные» функции - это функции, которым действительно не нужны имена! Например, мы могли бы объявить функцию, которая возводит в квадрат ее входные данные как"
   ]
  },
  {
   "cell_type": "code",
   "execution_count": null,
   "metadata": {},
   "outputs": [],
   "source": [
    "(x -> x^2)(\"I ♡ Julia. \") # \\heartsuit + <tab>"
   ]
  },
  {
   "cell_type": "markdown",
   "metadata": {},
   "source": [
    "Теперь, когда мы это сделали, мы не можем снова получить доступ к функции `x -> x^2`, потому что у нас нет имени для вызова! Это кажется немного глупым, не так ли? На самом деле бывают случаи, когда функции без имен полезны для нас. Мы увидим это позже в этом блокноте. На данный момент, обратите внимание, что у вас есть опция для доступа к «анонимной» функции позже путем привязки переменной к ней при объявлении. Например,"
   ]
  },
  {
   "cell_type": "code",
   "execution_count": null,
   "metadata": {},
   "outputs": [],
   "source": [
    "f = x -> x^2"
   ]
  },
  {
   "cell_type": "markdown",
   "metadata": {},
   "source": [
    "Этот синтаксис говорит: \"Я хочу использовать переменную f для доступа к функции, которая принимает некоторый ввод с именем` x` и отображает этот ввод в квадрат `x`\"."
   ]
  },
  {
   "cell_type": "markdown",
   "metadata": {},
   "source": [
    "## Важная сигмоидальная функция"
   ]
  },
  {
   "cell_type": "markdown",
   "metadata": {},
   "source": [
    "Конкретной функцией, которая часто используется в машинном обучении, является так называемая «сигмоидальная» функция (то есть функция, имеющая S-образную форму, то есть график функции выглядит как `S`). \n",
    "\n",
    "Сигмоидная функция, которую мы будем использовать, имеет имя $ \\sigma $ и определяется следующим математическим выражением:\n",
    "\n",
    "$$\\sigma(x) := \\frac{1}{1 + \\exp(-x)}.$$"
   ]
  },
  {
   "cell_type": "code",
   "execution_count": null,
   "metadata": {},
   "outputs": [],
   "source": [
    "σ(x) = 1/ (1+ℯ^(-x)) # \\euler +<tab> -> ℯ"
   ]
  },
  {
   "cell_type": "markdown",
   "metadata": {},
   "source": [
    "#### Упражнение 1\n",
    "\n",
    "Используйте приведенный выше синтаксис, чтобы определить функцию `σ` в Julia. Обратите внимание, что Julia фактически позволяет нам использовать символ σ в качестве имени переменной! Для этого введите `\\sigma + <tab>` в ячейке кода.</tab>"
   ]
  },
  {
   "cell_type": "markdown",
   "metadata": {},
   "source": [
    "## Графики"
   ]
  },
  {
   "cell_type": "markdown",
   "metadata": {},
   "source": [
    "Давайте нарисуем функцию σ, чтобы посмотреть, как она выглядит. В этом курсе мы будем использовать пакет Julia `Plots.jl` для всей графики. Этот пакет предоставляет гибкий синтаксис для построения графиков, в котором параметры для изменения атрибутов, таких как ширина линий, используемых на рисунке, задаются в качестве аргументов именованных ключевых слов. Кроме того, это позволяет нам использовать различные «бэкэнды», которые являются другими библиотеками, которые фактически выполняют построение, следуя инструкциям из `Plots.jl`."
   ]
  },
  {
   "cell_type": "code",
   "execution_count": null,
   "metadata": {},
   "outputs": [],
   "source": [
    "using Pkg\n",
    "Pkg.add(\"Plots\")\n",
    "Pkg.add(\"Plotly\")\n",
    "# Pkg.add(\"PlotlyJS\")"
   ]
  },
  {
   "cell_type": "code",
   "execution_count": null,
   "metadata": {},
   "outputs": [],
   "source": [
    "using Plots\n",
    "# gr()\n",
    "plotly()   # use the PlotlyJS \"backend\" (plotting library)"
   ]
  },
  {
   "cell_type": "code",
   "execution_count": null,
   "metadata": {},
   "outputs": [],
   "source": [
    "plot(σ, -5, 5)\n",
    "\n",
    "hline!([0, 1], ls=:dash, lw=3)  # добавить горизонтальные линии в 0 и 1, с пунктирным стилем и шириной линии 3\n",
    "vline!([0], ls=:dash, lw=3)     # добавить вертикальную линию в 0"
   ]
  },
  {
   "cell_type": "markdown",
   "metadata": {},
   "source": [
    "Мы можем думать о $ \\sigma $ как о гладкой версии функции шага или порога (часто называемой функцией 'Хевисайда'). Чтобы увидеть это, давайте изменим крутизну перехода в $ \\sigma $ и сравним его с функцией Хевисайда; мы увидим, как все это работает более подробно позже."
   ]
  },
  {
   "cell_type": "markdown",
   "metadata": {},
   "source": [
    "# Настройка Interact\n",
    "\n",
    "Interact's output can be displayed either within Jupyter/Jupyterlab notebooks, the Atom text editor, or as a stand-alone web page. Below are the set up instructions for each of these front ends:\n",
    "\n",
    "\n",
    "## IJulia + Jupyter notebooks\n",
    "To set up Interact to work in Jupyter notebooks, first install Interact, IJulia and WebIO packages. Then install the required Jupyter extension by running:\n",
    "\n",
    "```julia\n",
    "using WebIO\n",
    "WebIO.install_jupyter_nbextension()\n",
    "```\n",
    "**Important:** If you performed this step while the Jupyter notebook server is running, you will need to restart it for the extension to take effect.\n",
    "\n",
    "## IJulia + JupyterLab\n",
    "\n",
    "To set up Interact to work in JupyterLab, first install Interact, IJulia and WebIO packages. Then install the required JupyterLab extension by running:\n",
    "\n",
    "```julia\n",
    "using WebIO\n",
    "WebIO.install_jupyter_labextension()\n",
    "```\n",
    "**Important:** If you performed this step while the JupyterLab server is running, you will need to restart it for the extension to take effect.\n",
    "\n",
    "## Within the Atom text editor\n",
    "\n",
    "If you have set up the Julia integration provided by [Juno](https://junolab.org/), evaluating any expression which returns an Interact-renderable object (such as a widget or the output of `@manipulate`) will show up in a plot-pane within the editor. No extra setup steps are required.\n"
   ]
  },
  {
   "cell_type": "code",
   "execution_count": null,
   "metadata": {},
   "outputs": [],
   "source": [
    "import Pkg\n",
    "Pkg.add(\"Interact\")"
   ]
  },
  {
   "cell_type": "code",
   "execution_count": null,
   "metadata": {},
   "outputs": [],
   "source": [
    "using Interact"
   ]
  },
  {
   "cell_type": "code",
   "execution_count": null,
   "metadata": {},
   "outputs": [],
   "source": [
    "heaviside(x) = x < 0 ? 0.0 : 1.0"
   ]
  },
  {
   "cell_type": "code",
   "execution_count": null,
   "metadata": {},
   "outputs": [],
   "source": [
    "@manipulate for w in 0.1:0.1:20\n",
    "    plot(x -> σ(w*x), -5, 5, label=\"sigma\", lw=2)\n",
    "    plot!(heaviside, ls=:dash, label=\"step\")\n",
    "end"
   ]
  },
  {
   "cell_type": "markdown",
   "metadata": {},
   "source": [
    "Эта конкретная функция принимает любое действительное число в качестве входных данных и выдает выходные данные от $ 0 $ до $ 1 $. Всё весьма непрерывно и гладко."
   ]
  },
  {
   "cell_type": "markdown",
   "metadata": {},
   "source": [
    "#### Упражнение 2\n",
    "\n",
    "Объявите описанную выше сигмоидную функцию как анонимную функцию с другим именем."
   ]
  },
  {
   "cell_type": "code",
   "execution_count": null,
   "metadata": {},
   "outputs": [],
   "source": []
  },
  {
   "cell_type": "markdown",
   "metadata": {},
   "source": [
    "### Mutating-функции: `...!`\n",
    "\n",
    "Чтобы сгенерировать наш график σ выше, мы использовали некоторые функции, которые заканчиваются на `!`. Что означает `!` В конце имени функции для Юлии?"
   ]
  },
  {
   "cell_type": "markdown",
   "metadata": {},
   "source": [
    "Функции, которые изменяют или модифицируют свои входы, называются **Mutating-функциями**. Но подождите, разве не все функции делают это?\n",
    "\n",
    "На самом деле, нет. Функции обычно принимают *входы* и используют эти *входы* для генерации *выходов*, но сами входы обычно не меняются функцией. Например, скопируйте и выполните следующий код:\n",
    "\n",
    "```julia\n",
    "v1 = [9, 4, 7, 11]\n",
    "v2 = sort(v1)\n",
    "```"
   ]
  },
  {
   "cell_type": "code",
   "execution_count": null,
   "metadata": {},
   "outputs": [],
   "source": []
  },
  {
   "cell_type": "markdown",
   "metadata": {},
   "source": [
    "`v2` является отсортированной версией `v1`, но после вызова` sort`, `v1` все еще не отсортирован.\n",
    "\n",
    "Однако сейчас попытаемся добавить восклицательный знак после `sort` и выполнить следующий код:\n",
    "\n",
    "```julia\n",
    "sort!(v1)\n",
    "```"
   ]
  },
  {
   "cell_type": "code",
   "execution_count": null,
   "metadata": {},
   "outputs": [],
   "source": []
  },
  {
   "cell_type": "markdown",
   "metadata": {},
   "source": [
    "А теперь посмотрите на значения в `v1`!"
   ]
  },
  {
   "cell_type": "code",
   "execution_count": null,
   "metadata": {},
   "outputs": [],
   "source": []
  },
  {
   "cell_type": "markdown",
   "metadata": {},
   "source": [
    "На этот раз сам исходный вектор был изменен (мутирован) и теперь отсортирован. В отличие от `sort`,` sort! `Является Mutating-функцией. Казалось бы `!` заставляет менять входные аргументы, но нет, не совсем. В Julia `!` указывает на мутирующие функции по соглашению. Когда авторы `sort!` написали `sort!`, они добавили `!`, чтобы вы знали, что `sort!` мутирует, но `!` - это не то, что делает функцию мутирующей или неизменяющей.\n",
    " \n",
    "#### Упражнение\n",
    "\n",
    "Некоторые из наших команд черчения заканчиваются на `!`. Скопируйте и выполните следующий код:\n",
    "\n",
    "```julia\n",
    "r = -5:0.1:5\n",
    "g(x) = x^2\n",
    "h(x) = x^3\n",
    "plot(r, g, label=\"g\")\n",
    "plot!(r, h, label=\"h\")\n",
    "```\n",
    "\n",
    "Затем слегка измените код, удалив `!` после `plot! (R, h)`. Как это меняет ваш вывод? Как вы думаете, что значит добавить `!` после написания команд?"
   ]
  },
  {
   "cell_type": "code",
   "execution_count": null,
   "metadata": {},
   "outputs": [],
   "source": []
  },
  {
   "cell_type": "markdown",
   "metadata": {},
   "source": [
    "## Поточечное применение функций, `. (...)` (известное как «широковещание»(broadcasting))\n",
    "\n",
    "В предыдущем блокноте мы видели, что нам нужно добавить `.` после имен некоторых функций, как в \n",
    "\n",
    "```julia\n",
    "green_amount = mean(Float64.(green.(apple)))\n",
    "```\n",
    "\n",
    "Что эти лишние `.` действительно делают? "
   ]
  },
  {
   "cell_type": "code",
   "execution_count": null,
   "metadata": {},
   "outputs": [],
   "source": [
    "x = [1 2 3;4 5 6]"
   ]
  },
  {
   "cell_type": "code",
   "execution_count": null,
   "metadata": {},
   "outputs": [],
   "source": [
    "h(t) = √t + 5"
   ]
  },
  {
   "cell_type": "code",
   "execution_count": null,
   "metadata": {},
   "outputs": [],
   "source": [
    "h.(x)"
   ]
  },
  {
   "cell_type": "markdown",
   "metadata": {},
   "source": [
    "Когда мы добавляем `.` после имени функции, мы говорим Джулии, что мы хотим **транслировать** эту функцию через входы, переданные функции. Это означает, что мы хотим применить эту функцию *поэлементно* ко всем входам; другими словами, он применяет функцию к каждому элементу ввода и возвращает массив с недавно вычисленными значениями. \n",
    "\n",
    "Например, скопируйте и выполните следующий код:\n",
    "```julia\n",
    "g.(r)\n",
    "```\n",
    "Поскольку функция `g` возводит в квадрат свои входные данные, она возводит в квадрат все элементы диапазона` r`. \n",
    "\n",
    "Что произойдет, если вместо этого мы просто применим `g` на` r` через\n",
    "\n",
    "```julia\n",
    "g(r)\n",
    "```\n",
    "? Попробуйте это и посмотрите, что произойдет."
   ]
  },
  {
   "cell_type": "code",
   "execution_count": null,
   "metadata": {},
   "outputs": [],
   "source": [
    "r = -5:0.1:5\n",
    "g(x) = x^2"
   ]
  },
  {
   "cell_type": "code",
   "execution_count": null,
   "metadata": {},
   "outputs": [],
   "source": [
    "g.(r)"
   ]
  },
  {
   "cell_type": "code",
   "execution_count": null,
   "metadata": {},
   "outputs": [],
   "source": [
    "g(r)"
   ]
  },
  {
   "cell_type": "markdown",
   "metadata": {},
   "source": [
    "После вызова `g (r)` вы должны увидеть сообщение об ошибке, в котором говорится, что Джулия не может умножить два вектора. Когда мы вызываем `g (r)`, мы просим Джулию умножить возвести в квадрат вектор `r`. Когда мы вызываем `g. (R)`, мы просим Джулию умножить *каждый элемент* в `r` отдельно."
   ]
  },
  {
   "cell_type": "markdown",
   "metadata": {},
   "source": [
    "#### Упражнение 3\n",
    "\n",
    "Скопируйте и выполните следующий код, чтобы получить тип объекта `numbers = [1, 2, \"three\", 4.0]`:\n",
    "\n",
    "```julia\n",
    "numbers = [1//2, 2, \"three\", 4.0]\n",
    "typeof(numbers)\n",
    "```\n",
    "\n",
    "Что это за тип `numbers`?"
   ]
  },
  {
   "cell_type": "code",
   "execution_count": null,
   "metadata": {},
   "outputs": [],
   "source": []
  },
  {
   "cell_type": "markdown",
   "metadata": {},
   "source": [
    "#### Упражнение 4\n",
    "\n",
    "Оттранслируйте (broadcast) `typeof` через` numbers`, чтобы увидеть, какие типы элементов хранятся внутри `numbers`."
   ]
  },
  {
   "cell_type": "code",
   "execution_count": null,
   "metadata": {},
   "outputs": [],
   "source": []
  },
  {
   "cell_type": "markdown",
   "metadata": {},
   "source": [
    "#### Упражнение 5\n",
    "\n",
    "Напишите цикл `for`, который применяет` g` к каждому из элементов `r` и печатает результаты. Убедитесь, что числа, напечатанные этим циклом `for`, равны элементам выходных данных` g. (R) `."
   ]
  },
  {
   "cell_type": "code",
   "execution_count": null,
   "metadata": {},
   "outputs": [],
   "source": []
  },
  {
   "cell_type": "markdown",
   "metadata": {},
   "source": [
    "#### Упражнение 6\n",
    "\n",
    "Определите диапазон `xs` между -5 и 5 с шагом 0,5. Примените функцию $ \\sigma $ к этому диапазону и определите в качестве результата `ys`. Как выглядит результат? Изобразите `ys` как точки и соединенные линиями.\n",
    "\n",
    "Сделайте сюжет интерактивным, где вы можете изменить размер шага. Исправьте диапазон графика в направлениях `x` и` y`, используя функции `xlims!` И `ylims!`."
   ]
  },
  {
   "cell_type": "code",
   "execution_count": null,
   "metadata": {},
   "outputs": [],
   "source": []
  }
 ],
 "metadata": {
  "@webio": {
   "lastCommId": "44b4a5dc-55b3-40de-8a37-b931c95e8811",
   "lastKernelId": "0bcd71bd-e7be-425e-8b6f-d9a7729a617c"
  },
  "kernelspec": {
   "display_name": "Julia 1.4.0",
   "language": "julia",
   "name": "julia-1.4"
  },
  "language_info": {
   "file_extension": ".jl",
   "mimetype": "application/julia",
   "name": "julia",
   "version": "1.4.0"
  }
 },
 "nbformat": 4,
 "nbformat_minor": 4
}
