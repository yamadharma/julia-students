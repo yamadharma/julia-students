{
 "cells": [
  {
   "cell_type": "markdown",
   "metadata": {},
   "source": [
    "# Создание единого слоя нейронной сети с использованием `Flux.jl`\n",
    "\n",
    "В этом блокноте мы выйдем за рамки двоичной классификации. Сейчас мы попытаемся различить три плода, а не два. Мы сделаем это, используя **несколько** нейронов, расположенных в **одном слое**.\n",
    "\n",
    "## Считывание и обработка данных\n",
    "\n",
    "Мы можем начать с загрузки необходимых пакетов и приведения наших данных в рабочее состояние с помощью аналогичного кода, который мы использовали в начале предыдущих записных книжек, за исключением того, что теперь мы объединим три разных набора данных яблок и добавим немного винограда в фруктовый салат!"
   ]
  },
  {
   "cell_type": "code",
   "execution_count": null,
   "metadata": {},
   "outputs": [],
   "source": [
    "using CSV, DataFrames, DelimitedFiles"
   ]
  },
  {
   "cell_type": "code",
   "execution_count": null,
   "metadata": {},
   "outputs": [],
   "source": [
    "# Load apple data in with `readdlm` for each file\n",
    "apples1, applecolnames1 = readdlm(\"data/Apple_Golden_1.dat\", '\\t', header = true)\n",
    "apples2, applecolnames2 = readdlm(\"data/Apple_Golden_2.dat\", '\\t', header = true)\n",
    "apples3, applecolnames3 = readdlm(\"data/Apple_Golden_3.dat\", '\\t', header = true)\n",
    "\n",
    "# Check that the column names are the same for each apple file\n",
    "println( applecolnames1 == applecolnames2 == applecolnames3)"
   ]
  },
  {
   "cell_type": "markdown",
   "metadata": {},
   "source": [
    "Поскольку каждый файл apple имеет столбцы с одинаковыми заголовками, мы знаем, что можем объединить эти столбцы из разных файлов вместе:"
   ]
  },
  {
   "cell_type": "code",
   "execution_count": null,
   "metadata": {},
   "outputs": [],
   "source": [
    "apples = vcat(apples1, apples2, apples3)"
   ]
  },
  {
   "cell_type": "markdown",
   "metadata": {},
   "source": [
    "А теперь давайте создадим массив с именем `x_apples`, в котором будут храниться данные из столбцов` apple` и `red` и` blue`. Из `applecolnames1` мы можем видеть, что это 3-й и 5-й столбцы` apple`:"
   ]
  },
  {
   "cell_type": "code",
   "execution_count": null,
   "metadata": {},
   "outputs": [],
   "source": [
    "applecolnames1"
   ]
  },
  {
   "cell_type": "code",
   "execution_count": null,
   "metadata": {},
   "outputs": [],
   "source": [
    "length(apples[:, 1])"
   ]
  },
  {
   "cell_type": "code",
   "execution_count": null,
   "metadata": {},
   "outputs": [],
   "source": [
    "x_apples  = [ [apples[i, 3], apples[i, 5]] for i in 1:length(apples[:, 3]) ]"
   ]
  },
  {
   "cell_type": "markdown",
   "metadata": {},
   "source": [
    "А теперь давайте создадим массив с именем `x_apples`, в котором будут храниться данные из столбцов` apple` и `red` и` blue`. Из `applecolnames1` мы можем видеть, что это 3-й и 5-й столбцы` apple`:"
   ]
  },
  {
   "cell_type": "code",
   "execution_count": null,
   "metadata": {},
   "outputs": [],
   "source": [
    "# Загрузить данные из *.dat файлов\n",
    "bananas, bananacolnames = readdlm(\"data/Banana.dat\", '\\t', header = true)\n",
    "grapes1, grapecolnames1 = readdlm(\"data/Grape_White.dat\", '\\t', header = true)\n",
    "grapes2, grapecolnames2 = readdlm(\"data/Grape_White_2.dat\", '\\t', header = true)\n",
    "\n",
    "# Объединить данные из двух файлов винограда вместе\n",
    "grapes = vcat(grapes1, grapes2)\n",
    "\n",
    "# Убедитесь, что столбец 3 и столбец 5 ссылаются на «красный» и «синий» столбцы из каждого файла\n",
    "println(\"All column headers are the same: \", bananacolnames == grapecolnames1 == grapecolnames2 == applecolnames1)\n",
    "\n",
    "# Сборка x_bananas и x_grapes из бананов и винограда\n",
    "x_bananas  = [ [bananas[i, 3], bananas[i, 5]] for i in 1:length(bananas[:, 3]) ]\n",
    "x_grapes = [ [grapes[i, 3], grapes[i, 5]] for i in 1:length(grapes[:, 3]) ]"
   ]
  },
  {
   "cell_type": "markdown",
   "metadata": {},
   "source": [
    "## One-hot вектора\n",
    "\n",
    "Теперь мы хотим классифицировать *три* разных вида фруктов. Не ясно, как кодировать эти три типа, используя одну выходную переменную; действительно, вообще это невозможно. (?можно воспринимать 0-0.2->яблоко 0.45-0.65->банан 0.8-1.0->виноград...)\n",
    "\n",
    "Вместо этого у нас есть идея кодирования выходных типов $ n $ из классификации в * векторы длины $ n $ *, называемые «горячими векторами»:\n",
    "\n",
    "$$\n",
    "\\textrm{apple} = \\begin{pmatrix} 1 \\\\ 0 \\\\ 0 \\end{pmatrix};\n",
    "\\quad\n",
    "\\textrm{banana} = \\begin{pmatrix} 0 \\\\ 1 \\\\ 0 \\end{pmatrix};\n",
    "\\quad\n",
    "\\textrm{grape} = \\begin{pmatrix} 0 \\\\ 0 \\\\ 1 \\end{pmatrix}.\n",
    "$$\n",
    "\n",
    "Термин \"one-hot\" относится к тому факту, что каждый вектор имеет $1$ или $0$.\n",
    "\n",
    "По сути, первый нейрон узнает, соответствует ли (1 или 0) данным яблоко, второй - соответствует ли (1 или 0) банану и т.д.\n",
    "\n",
    "Flux.jl имеет эффективное представление для горячих векторов, используя расширенные возможности Джулии, так что он фактически не хранит эти векторы, что будет пустой тратой памяти; вместо этого `Flux` просто записывает, в каком положении находится ненулевой элемент. Для нас, однако, похоже, что вся информация хранится в виде:"
   ]
  },
  {
   "cell_type": "code",
   "execution_count": null,
   "metadata": {},
   "outputs": [],
   "source": [
    "using Flux: onehot\n",
    "\n",
    "onehot(1, 1:3)"
   ]
  },
  {
   "cell_type": "markdown",
   "metadata": {},
   "source": [
    "#### Упражнение 1\n",
    "\n",
    "Создайте массив меток, который дает метки (1, 2 или 3) каждой точки данных. Затем используйте `onehot`, чтобы закодировать информацию о метках как вектора` OneHotVector`."
   ]
  },
  {
   "cell_type": "code",
   "execution_count": null,
   "metadata": {},
   "outputs": [],
   "source": []
  },
  {
   "cell_type": "markdown",
   "metadata": {},
   "source": [
    "## Один слой в Flux\n",
    "\n",
    "Предположим, что есть две части входных данных, как в предыдущем блокноте с одним нейроном. Тогда сеть имеет 2 входа и 3 выхода:"
   ]
  },
  {
   "cell_type": "code",
   "execution_count": null,
   "metadata": {},
   "outputs": [],
   "source": [
    "include(\"draw_neural_net.jl\")\n",
    "draw_network([2, 3])"
   ]
  },
  {
   "cell_type": "markdown",
   "metadata": {},
   "source": [
    "`Flux` позволяет нам выразить это снова простым способом:"
   ]
  },
  {
   "cell_type": "code",
   "execution_count": null,
   "metadata": {},
   "outputs": [],
   "source": [
    "using Flux"
   ]
  },
  {
   "cell_type": "code",
   "execution_count": null,
   "metadata": {},
   "outputs": [],
   "source": [
    "model = Dense(2, 3, σ)"
   ]
  },
  {
   "cell_type": "markdown",
   "metadata": {},
   "source": [
    "#### Упражнение 2\n",
    "\n",
    "Теперь, как выглядят веса внутри `модели`? Как это соотносится с диаграммой сетевого уровня выше?"
   ]
  },
  {
   "cell_type": "code",
   "execution_count": null,
   "metadata": {},
   "outputs": [],
   "source": []
  },
  {
   "cell_type": "markdown",
   "metadata": {},
   "source": [
    "## Обучение модели\n",
    "\n",
    "Несмотря на то, что модель теперь сложнее, чем одиночный нейрон из предыдущего ноутбука, прелесть Flux.jl в том, что остальная часть тренировочного процесса **выглядит точно так же**!\n",
    "\n",
    "#### Упражнение 3\n",
    "\n",
    "Реализуйте обучения для этой модели."
   ]
  },
  {
   "cell_type": "code",
   "execution_count": null,
   "metadata": {},
   "outputs": [],
   "source": []
  },
  {
   "cell_type": "markdown",
   "metadata": {},
   "source": [
    "#### Упражнение 4\n",
    "\n",
    "Визуализируйте результат обучения для каждого нейрона. Поскольку каждый нейрон является сигмоидальным, мы можем получить хорошее представление о функции, просто нанося на график один контурный уровень, где функция принимает значение 0,5, используя функцию «контур» с ключевым аргументом `level = [0.5, 0.501]`."
   ]
  },
  {
   "cell_type": "code",
   "execution_count": null,
   "metadata": {},
   "outputs": [],
   "source": [
    "using Plots\n",
    "plotly()"
   ]
  },
  {
   "cell_type": "code",
   "execution_count": null,
   "metadata": {},
   "outputs": [],
   "source": [
    "plot()\n",
    "\n",
    "contour!(0:0.01:1, 0:0.01:1, (x,y)->model([x,y]).data[1], levels=[0.5, 0.501], color = cgrad([:blue, :blue]))\n",
    "contour!(0:0.01:1, 0:0.01:1, (x,y)->model([x,y]).data[2], levels=[0.5,0.501], color = cgrad([:green, :green]))\n",
    "contour!(0:0.01:1, 0:0.01:1, (x,y)->model([x,y]).data[3], levels=[0.5,0.501], color = cgrad([:red, :red]))\n",
    "\n",
    "scatter!(first.(x_apples), last.(x_apples), m=:cross, label=\"apples\")\n",
    "scatter!(first.(x_bananas), last.(x_bananas), m=:circle, label=\"bananas\")\n",
    "scatter!(first.(x_grapes), last.(x_grapes), m=:square, label=\"grapes\")"
   ]
  },
  {
   "cell_type": "markdown",
   "metadata": {},
   "source": [
    "#### Упражнение 5\n",
    "\n",
    "Интерпретируйте результаты, проверяя, какие плоды должен был выучить каждый нейрон и чего ему удалось достичь."
   ]
  },
  {
   "cell_type": "code",
   "execution_count": null,
   "metadata": {},
   "outputs": [],
   "source": []
  }
 ],
 "metadata": {
  "kernelspec": {
   "display_name": "Julia 1.1.0",
   "language": "julia",
   "name": "julia-1.1"
  },
  "language_info": {
   "file_extension": ".jl",
   "mimetype": "application/julia",
   "name": "julia",
   "version": "1.1.0"
  }
 },
 "nbformat": 4,
 "nbformat_minor": 2
}
