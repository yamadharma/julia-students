{
 "cells": [
  {
   "cell_type": "markdown",
   "metadata": {},
   "source": [
    "Наиболее известная и популярная упрощенная модель – это искусственный нейрон Маккалока — Питтса, разработанный в начале 1940-х годов "
   ]
  },
  {
   "cell_type": "code",
   "execution_count": null,
   "metadata": {},
   "outputs": [],
   "source": [
    "using Pkg\n",
    "pkgs = [\"Plots\", \"TextParse\", \"CSV\", \"DataFrames\", \"ImageMagick\", \"Images\", \"Interact\", \"Flux\"]\n",
    "\n",
    "for p in pkgs\n",
    "    Pkg.add(p)\n",
    "end\n",
    "\n",
    "for p in pkgs\n",
    "    Pkg.build(p)\n",
    "end"
   ]
  },
  {
   "cell_type": "code",
   "execution_count": null,
   "metadata": {
    "scrolled": false
   },
   "outputs": [],
   "source": [
    "using Images\n",
    "\n",
    "fnames = [\n",
    "    \"data/10_100.jpg\",\n",
    "    \"data/107_100.jpg\",\n",
    "    \"data/yellow_apple_2.jpg\",\n",
    "    \"data/8_100.jpg\",\n",
    "    \"data/104_100.jpg\", \n",
    "    \"data/3_100.jpg\"\n",
    "]\n",
    "# массив картинок\n",
    "fruits = [load(fname) for fname in fnames]\n",
    "\n",
    "hcat(fruits...) # соединить в одно изображение"
   ]
  },
  {
   "cell_type": "code",
   "execution_count": null,
   "metadata": {},
   "outputs": [],
   "source": [
    "using Statistics: mean\n",
    "\n",
    "M1 = [ mean(float.(c.(img))) for c = [red,green,blue], img = fruits ]"
   ]
  },
  {
   "cell_type": "code",
   "execution_count": null,
   "metadata": {
    "scrolled": false
   },
   "outputs": [],
   "source": [
    "function tweaking(img)\n",
    "    R = colorview( RGB, red.(img),zeroarray,zeroarray )\n",
    "    G = colorview( RGB, zeroarray,green.(img),zeroarray )\n",
    "    B = colorview( RGB, zeroarray,zeroarray, blue.(img) )\n",
    "    [R; G; B]\n",
    "end\n",
    "\n",
    "tweaking( hcat(fruits...) )"
   ]
  },
  {
   "cell_type": "code",
   "execution_count": null,
   "metadata": {},
   "outputs": [],
   "source": [
    "function negative(img)\n",
    "    Arr = channelview(img)\n",
    "    Brr = ones(size(Arr)) - Arr\n",
    "    colorview(RGB, Brr)\n",
    "end\n",
    "\n",
    "antifruits = negative.(fruits)\n",
    "hcat(antifruits...)"
   ]
  },
  {
   "cell_type": "code",
   "execution_count": null,
   "metadata": {},
   "outputs": [],
   "source": [
    "tweaking( hcat(antifruits...) )"
   ]
  },
  {
   "cell_type": "code",
   "execution_count": null,
   "metadata": {
    "scrolled": true
   },
   "outputs": [],
   "source": [
    "M2 = [ mean(float.(c.(img))) for c = [red,green,blue], img = antifruits ]"
   ]
  },
  {
   "cell_type": "code",
   "execution_count": null,
   "metadata": {},
   "outputs": [],
   "source": [
    "function remove_background(img)\n",
    "    mtrx = copy( channelview(img) )\n",
    "    for i = 1:size(mtrx, 2), j = 1:size(mtrx, 3)\n",
    "        if reduce(&, mtrx[:,i,j] .> [0.8, 0.8, 0.8])\n",
    "            mtrx[:,i,j] .= [0.5, 0.5, 0.5]\n",
    "        end\n",
    "    end\n",
    "    colorview(RGB, mtrx)\n",
    "end\n",
    "\n",
    "greyfruits = remove_background.(fruits) # боги смерти едят только яблоки"
   ]
  },
  {
   "cell_type": "code",
   "execution_count": null,
   "metadata": {},
   "outputs": [],
   "source": [
    "M3 = [ mean(float.(c.(img))) for c = [red,green,blue], img = greyfruits ]"
   ]
  },
  {
   "cell_type": "markdown",
   "metadata": {},
   "source": [
    "https://github.com/Horea94/Fruit-Images-Dataset"
   ]
  },
  {
   "cell_type": "code",
   "execution_count": null,
   "metadata": {
    "scrolled": false
   },
   "outputs": [],
   "source": [
    "using TextParse"
   ]
  },
  {
   "cell_type": "code",
   "execution_count": null,
   "metadata": {},
   "outputs": [],
   "source": [
    "applecols, applecolnames = TextParse.csvread(\"data/Apple_Braeburn.dat\", '\\t')\n",
    "bananacols, bananacolnames = TextParse.csvread(\"data/bananas.dat\", '\\t')"
   ]
  },
  {
   "cell_type": "code",
   "execution_count": null,
   "metadata": {},
   "outputs": [],
   "source": [
    "using DataFrames, CSV"
   ]
  },
  {
   "cell_type": "code",
   "execution_count": null,
   "metadata": {},
   "outputs": [],
   "source": [
    "banans = DataFrame([col for col in bananacols], [Meta.parse(bc) for bc in bananacolnames])\n",
    "apples = DataFrame([col for col in applecols], [Meta.parse(ac) for ac in applecolnames])"
   ]
  },
  {
   "cell_type": "code",
   "execution_count": null,
   "metadata": {},
   "outputs": [],
   "source": [
    "pth = \"C:\\\\Users\\\\User\\\\Desktop\\\\Banana\" # Apple Braeburn\n",
    "fnames = readdir(pth)[1:300]\n",
    "#load(\"$pth\\\\320_100.jpg\")"
   ]
  },
  {
   "cell_type": "code",
   "execution_count": null,
   "metadata": {},
   "outputs": [],
   "source": [
    "dataz = []\n",
    "for fname in fnames\n",
    "    img_i = load(\"$pth\\\\$fname\")\n",
    "    gbimg = remove_background(img_i)\n",
    "    colorz = [ mean(c.(gbimg)) for c = [red,green,blue] ]\n",
    "    inform = [size(gbimg, 1) size(gbimg, 2) colorz' ]\n",
    "    \n",
    "    push!(dataz, inform)\n",
    "end\n",
    "dataz"
   ]
  },
  {
   "cell_type": "code",
   "execution_count": null,
   "metadata": {},
   "outputs": [],
   "source": [
    "banans = DataFrame( vcat(dataz...), [:height, :width, :red, :green, :blue] )"
   ]
  },
  {
   "cell_type": "code",
   "execution_count": null,
   "metadata": {},
   "outputs": [],
   "source": [
    "apples = DataFrame( vcat(dataz...), [:height, :width, :red, :green, :blue] )"
   ]
  },
  {
   "cell_type": "code",
   "execution_count": null,
   "metadata": {},
   "outputs": [],
   "source": [
    "CSV.write(\"data/Apple_Braeburn.csv\", apples)\n",
    "CSV.write(\"data/bananas.csv\", banans)"
   ]
  },
  {
   "cell_type": "code",
   "execution_count": null,
   "metadata": {},
   "outputs": [],
   "source": []
  },
  {
   "cell_type": "code",
   "execution_count": null,
   "metadata": {},
   "outputs": [],
   "source": []
  },
  {
   "cell_type": "code",
   "execution_count": null,
   "metadata": {},
   "outputs": [],
   "source": []
  },
  {
   "cell_type": "code",
   "execution_count": null,
   "metadata": {},
   "outputs": [],
   "source": []
  }
 ],
 "metadata": {
  "@webio": {
   "lastCommId": null,
   "lastKernelId": null
  },
  "kernelspec": {
   "display_name": "Julia 1.2.0",
   "language": "julia",
   "name": "julia-1.2"
  },
  "language_info": {
   "file_extension": ".jl",
   "mimetype": "application/julia",
   "name": "julia",
   "version": "1.2.0"
  }
 },
 "nbformat": 4,
 "nbformat_minor": 2
}
