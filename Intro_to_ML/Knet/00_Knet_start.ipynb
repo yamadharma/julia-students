{
 "cells": [
  {
   "cell_type": "markdown",
   "metadata": {},
   "source": [
    "# Knet.jl\n",
    "\n",
    "Knet (произносится «kay-net») - это система глубокого обучения Университета Коч, внедренная в Julia Денизом Юретом и его сотрудниками. Knet поддерживает работу с графическим процессором и автоматическое дифференцирование с использованием динамических вычислительных графиков для моделей, выполненных чисто на Джулии.\n",
    "\n",
    "* [Страница проекта](https://github.com/denizyuret/Knet.jl)\n",
    "* [Установка и документация](https://denizyuret.github.io/Knet.jl/latest/install/)\n",
    "* [Примеры и оригинал туториала](https://github.com/denizyuret/Knet.jl/tree/master/examples)\n",
    "\n",
    "Если хочется задействовать видеокарту, внимательно почитайте руководство, установите необходимые средства *Visual Studio* и ~~попляшите с бубном~~, выполнив все необходимые настройки, приступайте к оригинальному туториалу: \n",
    "```julia\n",
    "julia> using Pkg; Pkg.add(\"IJulia\"); Pkg.add(\"Knet\")\n",
    "julia> using IJulia, Knet\n",
    "julia> notebook(dir=Knet.dir(\"tutorial\"))\n",
    "```\n",
    "(он будет доступен в содержимом пакета Knet), ну а здесь мы будем греть только процессор.\n",
    "\n",
    "## Загрузка и мини-пакет данных MNIST\n",
    "(c) Deniz Yuret, 2019\n",
    "* Мы будем загружать [MNIST](http://yann.lecun.com/exdb/mnist), конвертируем данные в матрицы, раскидаем на типы данных: [minibatch](http://denizyuret.github.io/Knet.jl/latest/reference/#Knet.minibatch) и  [Data](https://github.com/denizyuret/Knet.jl/blob/master/src/data.jl)\n",
    "* Предпосылки: [Julia массивы](https://docs.julialang.org/en/v1/manual/arrays)\n",
    "* Новые функции: [dir](http://denizyuret.github.io/Knet.jl/latest/reference/#Knet.dir), [minibatch, Data](http://denizyuret.github.io/Knet.jl/latest/reference/#Knet.minibatch), [mnist, mnistview](https://github.com/denizyuret/Knet.jl/blob/master/data/mnist.jl)\n",
    "\n",
    "Мы создадим модели классификации для набора данных распознавания рукописных цифр MNIST. MNIST имеет 60000 учебных и 10000 тестовых примеров. Каждый вход x состоит из 784 пикселей, представляющих изображение 28x28. Соответствующий вывод указывает идентичность цифры 0..9.\n",
    "\n",
    "![](http://yann.lecun.com/exdb/lenet/gifs/asamples.gif \"MNIST\")\n",
    "\n",
    "[image source](http://yann.lecun.com/exdb/lenet)"
   ]
  },
  {
   "cell_type": "code",
   "execution_count": 1,
   "metadata": {},
   "outputs": [],
   "source": [
    "# Загрузка пакетов, импорт символов\n",
    "using Pkg; for p in (\"Knet\",\"Images\",\"ImageMagick\"); haskey(Pkg.installed(),p) || Pkg.add(p); end\n",
    "using Knet: Knet, dir, minibatch, Data"
   ]
  },
  {
   "cell_type": "code",
   "execution_count": null,
   "metadata": {},
   "outputs": [],
   "source": [
    "?haskey"
   ]
  },
  {
   "cell_type": "code",
   "execution_count": 3,
   "metadata": {},
   "outputs": [
    {
     "name": "stderr",
     "output_type": "stream",
     "text": [
      "┌ Info: Loading MNIST...\n",
      "└ @ Main C:\\Users\\User\\.julia\\packages\\Knet\\T1oum\\data\\mnist.jl:33\n"
     ]
    },
    {
     "name": "stdout",
     "output_type": "stream",
     "text": [
      "28×28×1×60000 Array{Float32,4}\n",
      "60000-element Array{UInt8,1}\n",
      "28×28×1×10000 Array{Float32,4}\n",
      "10000-element Array{UInt8,1}\n"
     ]
    }
   ],
   "source": [
    "# загружает набор данных распознавания рукописных цифр MNIST:\n",
    "include(Knet.dir(\"data\",\"mnist.jl\")) # Knet.dir создает путь относительно корня Knet\n",
    "xtrn,ytrn,xtst,ytst = mnist()        # mnist() загружает данные MNIST и преобразует их в массивы Julia\n",
    "println.(summary.((xtrn,ytrn,xtst,ytst)));"
   ]
  },
  {
   "cell_type": "code",
   "execution_count": 4,
   "metadata": {},
   "outputs": [
    {
     "data": {
      "image/png": "[encoded data removed]",
      "text/plain": [
       "28×140 Array{Gray{Float32},2} with eltype Gray{Float32}:\n",
       " Gray{Float32}(0.0)  Gray{Float32}(0.0)  …  Gray{Float32}(0.0)\n",
       " Gray{Float32}(0.0)  Gray{Float32}(0.0)     Gray{Float32}(0.0)\n",
       " Gray{Float32}(0.0)  Gray{Float32}(0.0)     Gray{Float32}(0.0)\n",
       " Gray{Float32}(0.0)  Gray{Float32}(0.0)     Gray{Float32}(0.0)\n",
       " Gray{Float32}(0.0)  Gray{Float32}(0.0)     Gray{Float32}(0.0)\n",
       " Gray{Float32}(0.0)  Gray{Float32}(0.0)  …  Gray{Float32}(0.0)\n",
       " Gray{Float32}(0.0)  Gray{Float32}(0.0)     Gray{Float32}(0.0)\n",
       " Gray{Float32}(0.0)  Gray{Float32}(0.0)     Gray{Float32}(0.0)\n",
       " Gray{Float32}(0.0)  Gray{Float32}(0.0)     Gray{Float32}(0.0)\n",
       " Gray{Float32}(0.0)  Gray{Float32}(0.0)     Gray{Float32}(0.0)\n",
       " Gray{Float32}(0.0)  Gray{Float32}(0.0)  …  Gray{Float32}(0.0)\n",
       " Gray{Float32}(0.0)  Gray{Float32}(0.0)     Gray{Float32}(0.0)\n",
       " Gray{Float32}(0.0)  Gray{Float32}(0.0)     Gray{Float32}(0.0)\n",
       " ⋮                                       ⋱                    \n",
       " Gray{Float32}(0.0)  Gray{Float32}(0.0)     Gray{Float32}(0.0)\n",
       " Gray{Float32}(0.0)  Gray{Float32}(0.0)     Gray{Float32}(0.0)\n",
       " Gray{Float32}(0.0)  Gray{Float32}(0.0)     Gray{Float32}(0.0)\n",
       " Gray{Float32}(0.0)  Gray{Float32}(0.0)     Gray{Float32}(0.0)\n",
       " Gray{Float32}(0.0)  Gray{Float32}(0.0)  …  Gray{Float32}(0.0)\n",
       " Gray{Float32}(0.0)  Gray{Float32}(0.0)     Gray{Float32}(0.0)\n",
       " Gray{Float32}(0.0)  Gray{Float32}(0.0)     Gray{Float32}(0.0)\n",
       " Gray{Float32}(0.0)  Gray{Float32}(0.0)     Gray{Float32}(0.0)\n",
       " Gray{Float32}(0.0)  Gray{Float32}(0.0)     Gray{Float32}(0.0)\n",
       " Gray{Float32}(0.0)  Gray{Float32}(0.0)  …  Gray{Float32}(0.0)\n",
       " Gray{Float32}(0.0)  Gray{Float32}(0.0)     Gray{Float32}(0.0)\n",
       " Gray{Float32}(0.0)  Gray{Float32}(0.0)     Gray{Float32}(0.0)"
      ]
     },
     "execution_count": 4,
     "metadata": {},
     "output_type": "execute_result"
    }
   ],
   "source": [
    "# mnistview(x,i) преобразует i-й экземпляр из х в изображение\n",
    "# Вот первые пять изображений из тестового набора:\n",
    "using Images\n",
    "hcat([mnistview(xtst,i) for i=1:5]...)"
   ]
  },
  {
   "cell_type": "code",
   "execution_count": 5,
   "metadata": {},
   "outputs": [
    {
     "name": "stdout",
     "output_type": "stream",
     "text": [
      "[7, 2, 1, 10, 4]\n"
     ]
    }
   ],
   "source": [
    "# Вот их метки (10 используется для обозначения 0)\n",
    "println(Int.(ytst[1:5]));"
   ]
  },
  {
   "cell_type": "code",
   "execution_count": 6,
   "metadata": {},
   "outputs": [
    {
     "data": {
      "text/plain": [
       "Data{Tuple{Array{Float32,4},Array{UInt8,1}}}(Float32[0.0 0.0 … 0.0 0.0; 0.0 0.0 … 0.0 0.0; … ; 0.0 0.0 … 0.0 0.0; 0.0 0.0 … 0.0 0.0], UInt8[0x07 0x02 … 0x05 0x06], 100, 10000, false, 9901, 1:10000, false, (28, 28, 1, 10000), (10000,), Array{Float32,4}, Array{UInt8,1})"
      ]
     },
     "execution_count": 6,
     "metadata": {},
     "output_type": "execute_result"
    }
   ],
   "source": [
    "# `minibatch` разбивает тензоры данных на небольшие фрагменты, называемые минибатчи.\n",
    "# Возвращает структуру Knet.Data: итератор пар (x, y).\n",
    "dtrn = minibatch(xtrn,ytrn,100) # тренировочные\n",
    "dtst = minibatch(xtst,ytst,100) # тестовые"
   ]
  },
  {
   "cell_type": "code",
   "execution_count": 7,
   "metadata": {},
   "outputs": [
    {
     "name": "stdout",
     "output_type": "stream",
     "text": [
      "28×28×1×100 Array{Float32,4}\n",
      "100-element Array{UInt8,1}\n"
     ]
    }
   ],
   "source": [
    "# Каждый минибатч представляет собой пару (x, y), где x - это 100 (28x28x1) изображений,\n",
    "# а y - соответствующие 100 меток.\n",
    "# Вот первая мини-партия в тестовом наборе:\n",
    "(x,y) = first(dtst)\n",
    "println.(summary.((x,y)));"
   ]
  },
  {
   "cell_type": "code",
   "execution_count": 8,
   "metadata": {},
   "outputs": [
    {
     "data": {
      "text/plain": [
       "600"
      ]
     },
     "execution_count": 8,
     "metadata": {},
     "output_type": "execute_result"
    }
   ],
   "source": [
    "# Итераторы могут использоваться в циклах for, например `for (x, y) in dtrn`\n",
    "# dtrn генерирует 600 мини-пакетов из 100 изображений (всего 60000)\n",
    "# dtst генерирует 100 мини-пакетов из 100 изображений (всего 10000)\n",
    "n = 0\n",
    "for (x,y) in dtrn\n",
    "    n += 1\n",
    "end\n",
    "n"
   ]
  },
  {
   "cell_type": "markdown",
   "metadata": {},
   "source": [
    "## Итераторы\n",
    "(c) Deniz Yuret, 2019\n",
    "\n",
    "* Цель: научиться создавать и использовать итераторы Юлии.\n",
    "* Чтиво: [Interfaces](https://docs.julialang.org/en/v1/manual/interfaces/#man-interface-iteration-1),  [Collections](https://docs.julialang.org/en/v1/base/collections/#lib-collections-iteration-1), [Iteration Utilities](https://docs.julialang.org/en/v1/base/iterators) and [Generator expressions](https://docs.julialang.org/en/v1/manual/arrays/#Generator-Expressions-1) in the Julia manual.\n",
    "* Новые функции: \n",
    "[first](https://docs.julialang.org/en/v1/base/collections/#Base.first), \n",
    "[collect](https://docs.julialang.org/en/v1/base/collections/#Base.collect-Tuple{Any}), \n",
    "[repeat](https://docs.julialang.org/en/v1/base/arrays/#Base.repeat), \n",
    "[take](https://docs.julialang.org/en/v1/base/iterators/#Base.Iterators.take), \n",
    "[drop](https://docs.julialang.org/en/v1/base/iterators/#Base.Iterators.drop), \n",
    "[cycle](https://docs.julialang.org/en/v1/base/iterators/#Base.Iterators.cycle), \n",
    "[Stateful](https://docs.julialang.org/en/v1/base/iterators/#Base.Iterators.Stateful), \n",
    "[iterate](https://docs.julialang.org/en/v1/base/collections/#lib-collections-iteration-1)\n",
    "\n",
    "Функция `minibatch` возвращает объект `Knet.Data`, реализованный в виде итератора Julia, который генерирует (x, y) минибатчи. Итераторы - это ленивые объекты, которые генерируют свой следующий элемент только по запросу. Преимущество этого состоит в том, что вы не тратите время и память, пытаясь создать и сохранить все элементы одновременно.\n",
    "У нас даже могут быть бесконечные итераторы! Алгоритмы обучения в Knet также реализованы как итераторы, так что:\n",
    "1. Мы можем отслеживать и сообщать о потере обучения\n",
    "2. Мы можем сделать снимки модели во время обучения\n",
    "3. Мы можем приостановить / прекратить обучение при необходимости\n",
    "\n",
    "Вот что Джулия может делать с итераторами:"
   ]
  },
  {
   "cell_type": "code",
   "execution_count": 9,
   "metadata": {},
   "outputs": [],
   "source": [
    "# Установить ширину дисплея, импортировать символы\n",
    "ENV[\"COLUMNS\"]=72\n",
    "using Base.Iterators: take, drop, cycle, Stateful\n",
    "using Knet"
   ]
  },
  {
   "cell_type": "code",
   "execution_count": 10,
   "metadata": {
    "scrolled": true
   },
   "outputs": [
    {
     "data": {
      "text/plain": [
       "(\"28×28×1×100 Array{Float32,4}\", \"100-element Array{UInt8,1}\")"
      ]
     },
     "execution_count": 10,
     "metadata": {},
     "output_type": "execute_result"
    }
   ],
   "source": [
    "# Мы можем посмотреть на первый элемент, используя first()\n",
    "summary.(first(dtst))"
   ]
  },
  {
   "cell_type": "code",
   "execution_count": null,
   "metadata": {},
   "outputs": [],
   "source": [
    "?summary"
   ]
  },
  {
   "cell_type": "code",
   "execution_count": 12,
   "metadata": {},
   "outputs": [
    {
     "name": "stdout",
     "output_type": "stream",
     "text": [
      "n = 100\n"
     ]
    }
   ],
   "source": [
    "# Итераторы могут быть использованы для циклов\n",
    "# Давайте посчитаем элементы в dtst:\n",
    "n = 0\n",
    "for (x,y) in dtst; n += 1; end\n",
    "@show n;"
   ]
  },
  {
   "cell_type": "code",
   "execution_count": 13,
   "metadata": {},
   "outputs": [
    {
     "data": {
      "text/plain": [
       "\"100-element Array{Tuple{Array{Float32,4},Array{UInt8,1}},1}\""
      ]
     },
     "execution_count": 13,
     "metadata": {},
     "output_type": "execute_result"
    }
   ],
   "source": [
    "# Итераторы могут быть преобразованы в массивы с помощью `collect`\n",
    "# (не делайте это без необходимости, это просто тратит впустую память. Вместо этого используйте цикл for)\n",
    "collect(dtst) |> summary"
   ]
  },
  {
   "cell_type": "code",
   "execution_count": 14,
   "metadata": {},
   "outputs": [
    {
     "name": "stdout",
     "output_type": "stream",
     "text": [
      "n = 500\n"
     ]
    }
   ],
   "source": [
    "# Мы можем сгенерировать итератор для нескольких эпох, используя `repeat`\n",
    "# (эпоха - это один проход по набору данных)\n",
    "n = 0\n",
    "for (x,y) in repeat(dtst,5); n += 1; end\n",
    "@show n;"
   ]
  },
  {
   "cell_type": "code",
   "execution_count": 15,
   "metadata": {},
   "outputs": [
    {
     "name": "stdout",
     "output_type": "stream",
     "text": [
      "n = 20\n"
     ]
    }
   ],
   "source": [
    "# Мы можем генерировать частичные эпохи, используя `take`, который берет первые n элементов\n",
    "n = 0\n",
    "for (x,y) in take(dtst,20); n += 1; end\n",
    "@show n;"
   ]
  },
  {
   "cell_type": "code",
   "execution_count": 16,
   "metadata": {},
   "outputs": [
    {
     "name": "stdout",
     "output_type": "stream",
     "text": [
      "n = 80\n"
     ]
    }
   ],
   "source": [
    "# Мы также можем генерировать частичные эпохи с помощью `drop`, который удаляет первые n элементов\n",
    "n = 0\n",
    "for (x,y) in drop(dtst,20); n += 1; end\n",
    "@show n;"
   ]
  },
  {
   "cell_type": "code",
   "execution_count": 18,
   "metadata": {},
   "outputs": [
    {
     "name": "stdout",
     "output_type": "stream",
     "text": [
      "n = 10424\n"
     ]
    }
   ],
   "source": [
    "# Мы можем вечно повторять, используя `cycle` (это полезно для тренировки до схождения)\n",
    "# Вы не хотите собирать цикл или запускать цикл без break! \n",
    "n = 0; t = time_ns()\n",
    "for (x,y) in cycle(dtst)\n",
    "    n += 1\n",
    "    time_ns() - t > 2e9 && break # Break after 2 seconds\n",
    "end\n",
    "@show n;"
   ]
  },
  {
   "cell_type": "code",
   "execution_count": null,
   "metadata": {},
   "outputs": [],
   "source": [
    "?time_ns"
   ]
  },
  {
   "cell_type": "code",
   "execution_count": 23,
   "metadata": {},
   "outputs": [
    {
     "name": "stdout",
     "output_type": "stream",
     "text": [
      "[7, 2, 1, 10, 4]\n",
      "[7, 2, 1, 10, 4]\n",
      "[7, 2, 1, 10, 4]\n",
      "[6, 10, 5, 4, 9]\n"
     ]
    }
   ],
   "source": [
    "# Мы можем сделать итератор Stateful, чтобы он запомнил, где он остановился.\n",
    "# (по умолчанию итераторы начинаются с начала)\n",
    "dtst1 = dtst            # dtst1 будет начинаться с начала каждый раз\n",
    "dtst2 = Stateful(dtst)  # dtst2 продолжит с места остановки\n",
    "for (x,y) in dtst1; println(Int.(y[1:5])); break; end\n",
    "for (x,y) in dtst1; println(Int.(y[1:5])); break; end\n",
    "for (x,y) in dtst2; println(Int.(y[1:5])); break; end\n",
    "for (x,y) in dtst2; println(Int.(y[1:5])); break; end"
   ]
  },
  {
   "cell_type": "code",
   "execution_count": 24,
   "metadata": {},
   "outputs": [
    {
     "name": "stdout",
     "output_type": "stream",
     "text": [
      "[7, 2, 1, 10, 4]\n",
      "[7, 2, 1, 10, 4]\n",
      "[3, 1, 4, 3, 4]\n",
      "[5, 8, 4, 6, 1]\n"
     ]
    }
   ],
   "source": [
    "# Мы можем перемешивать экземпляры в каждую эпоху, используя ключевое слово аргумент `shuffle = true`\n",
    "# (по умолчанию элементы генерируются в том же порядке)\n",
    "dtst1 = minibatch(xtst,ytst,100)              # dtst1 повторяется в том же порядке\n",
    "dtst2 = minibatch(xtst,ytst,100,shuffle=true) # dtst2 тасует каждый раз\n",
    "for (x,y) in dtst1; println(Int.(y[1:5])); break; end\n",
    "for (x,y) in dtst1; println(Int.(y[1:5])); break; end\n",
    "for (x,y) in dtst2; println(Int.(y[1:5])); break; end\n",
    "for (x,y) in dtst2; println(Int.(y[1:5])); break; end"
   ]
  },
  {
   "cell_type": "markdown",
   "metadata": {},
   "source": [
    "Мы можем создавать новые итераторы, используя [генератор выражений](https://docs.julialang.org/en/v1/manual/arrays/#Generator-Expressions-1)\n",
    "\n",
    "В следующем примере создается итератор по нормам x в наборе данных:"
   ]
  },
  {
   "cell_type": "code",
   "execution_count": 25,
   "metadata": {},
   "outputs": [
    {
     "data": {
      "text/plain": [
       "1×100 LinearAlgebra.Adjoint{Float32,Array{Float32,1}}:\n",
       " 7990.35  7842.33  8162.68  7692.77  …  8494.0  7361.33  8643.01"
      ]
     },
     "execution_count": 25,
     "metadata": {},
     "output_type": "execute_result"
    }
   ],
   "source": [
    "xnorm(data) = (sum(abs2,x) for (x,y) in data)\n",
    "collect(xnorm(dtst))'"
   ]
  },
  {
   "cell_type": "code",
   "execution_count": 26,
   "metadata": {},
   "outputs": [
    {
     "name": "stdout",
     "output_type": "stream",
     "text": [
      "n = 100\n"
     ]
    }
   ],
   "source": [
    "# Каждый итератор реализует функцию `iterate`, которая возвращает\n",
    "# следующий элемент и состояние (или ничего, если не осталось элементов).\n",
    "# Вот как реализован цикл for для dtst:\n",
    "n = 0; next = iterate(dtst)\n",
    "while next != nothing\n",
    "    ((x,y), state) = next\n",
    "    n += 1\n",
    "    next = iterate(dtst,state)\n",
    "end\n",
    "@show n;"
   ]
  },
  {
   "cell_type": "code",
   "execution_count": 27,
   "metadata": {},
   "outputs": [
    {
     "data": {
      "text/plain": [
       "1×100 LinearAlgebra.Adjoint{Any,Array{Any,1}}:\n",
       " 7990.35  7842.33  8162.68  7692.77  …  8494.0  7361.33  8643.01"
      ]
     },
     "execution_count": 27,
     "metadata": {},
     "output_type": "execute_result"
    }
   ],
   "source": [
    "# Вы можете определить свой собственный итератор, объявив новый тип и переопределив метод `iterate`.\n",
    "# Вот еще один способ определить итератор по нормам x в наборе данных:\n",
    "struct Xnorm; itr; end\n",
    "\n",
    "function Base.iterate(f::Xnorm, s...)\n",
    "    next = iterate(f.itr, s...)\n",
    "    next === nothing && return nothing\n",
    "    ((x,y),state) = next\n",
    "    return sum(abs2,x), state\n",
    "end\n",
    "\n",
    "Base.length(f::Xnorm) = length(f.itr) # collect needs this\n",
    "\n",
    "collect(Xnorm(dtst))'"
   ]
  },
  {
   "cell_type": "code",
   "execution_count": null,
   "metadata": {},
   "outputs": [],
   "source": []
  },
  {
   "cell_type": "code",
   "execution_count": null,
   "metadata": {},
   "outputs": [],
   "source": []
  },
  {
   "cell_type": "code",
   "execution_count": null,
   "metadata": {},
   "outputs": [],
   "source": []
  }
 ],
 "metadata": {
  "kernelspec": {
   "display_name": "Julia 1.1.0",
   "language": "julia",
   "name": "julia-1.1"
  },
  "language_info": {
   "file_extension": ".jl",
   "mimetype": "application/julia",
   "name": "julia",
   "version": "1.1.0"
  }
 },
 "nbformat": 4,
 "nbformat_minor": 2
}
