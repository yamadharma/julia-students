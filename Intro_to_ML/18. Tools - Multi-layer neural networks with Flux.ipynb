{
 "cells": [
  {
   "cell_type": "markdown",
   "metadata": {},
   "source": [
    "# Многослойные сети с `Flux.jl`\n",
    "\n",
    "Ранее мы видели, что одного слоя нейронов недостаточно, чтобы различать три типа объектов (в нашем случае: яблоки, бананы и виноград), поскольку данные довольно сложны. Чтобы решить эту проблему, нам нужно использовать больше слоев, поэтому отправляйтесь на территорию **глубокого обучения**! \n",
    "\n",
    "Добавив еще один слой между входными и выходными нейронами, так называемый «скрытый слой», мы получим нашу первую серьезную **нейронную сеть**, которая выглядит примерно так:"
   ]
  },
  {
   "cell_type": "code",
   "execution_count": null,
   "metadata": {},
   "outputs": [],
   "source": [
    "include(\"draw_neural_net.jl\")\n",
    "draw_network([2, 4, 3])"
   ]
  },
  {
   "cell_type": "markdown",
   "metadata": {},
   "source": [
    "Мы продолжим использовать два входных параметра и попробуем классифицировать их на три типа, поэтому у нас будет три выходных нейрона. Мы решили добавить один «скрытый слой» с 4 нейронами. \n",
    "\n",
    "Большая часть «искусства» глубокого обучения - это выбор подходящей структуры для нейронной сети, которая позволит модели быть достаточно сложной, чтобы хорошо моделировать данные, но достаточно простой, чтобы параметры могли быть изучены в разумных пределах."
   ]
  },
  {
   "cell_type": "markdown",
   "metadata": {},
   "source": [
    "## Считывание и обработка данных\n",
    "\n",
    "Как и прежде, давайте загрузим некоторые предварительно обработанные данные, используя код, который мы видели в предыдущем блокноте."
   ]
  },
  {
   "cell_type": "code",
   "execution_count": null,
   "metadata": {},
   "outputs": [],
   "source": [
    "using Flux\n",
    "using Flux: onehot\n",
    "using CSV, TextParse, DataFrames"
   ]
  },
  {
   "cell_type": "code",
   "execution_count": null,
   "metadata": {},
   "outputs": [],
   "source": [
    "#=\n",
    "apples_1 = CSV.read(\"data/Apple_Golden_1.dat\", delim='\\t')\n",
    "apples_2 = CSV.read(\"data/Apple_Golden_2.dat\", delim='\\t')\n",
    "apples_3 = CSV.read(\"data/Apple_Golden_3.dat\", delim='\\t')\n",
    "bananas = CSV.read(\"data/Banana.dat\", delim='\\t')\n",
    "grapes_1 = CSV.read(\"data/Grape_White.dat\", delim='\\t')\n",
    "grapes_2 = CSV.read(\"data/Grape_White_2.dat\", delim='\\t');\n",
    "=#\n",
    "\n",
    "applecols1, applecolnames1 = TextParse.csvread(\"data/Apple_Golden_1.dat\", '\\t')\n",
    "applecols2, applecolnames2 = TextParse.csvread(\"data/Apple_Golden_2.dat\", '\\t')\n",
    "applecols3, applecolnames3 = TextParse.csvread(\"data/Apple_Golden_3.dat\", '\\t')\n",
    "bananacols, bananacolnames = TextParse.csvread(\"data/Banana.dat\", '\\t');\n",
    "grapecols1, grapecolnames1 = TextParse.csvread(\"data/Grape_White.dat\", '\\t');\n",
    "grapecols2, grapecolnames2 = TextParse.csvread(\"data/Grape_White_2.dat\", '\\t');\n",
    "\n",
    "apples_1 = DataFrame([col for col in applecols1], [Meta.parse(ac) for ac in applecolnames1])\n",
    "apples_2 = DataFrame([col for col in applecols2], [Meta.parse(ac) for ac in applecolnames2])\n",
    "apples_3 = DataFrame([col for col in applecols3], [Meta.parse(ac) for ac in applecolnames3])\n",
    "bananas  = DataFrame([col for col in bananacols], [Meta.parse(bc) for bc in bananacolnames])\n",
    "grapes_1 = DataFrame([col for col in grapecols1], [Meta.parse(bc) for bc in grapecolnames1])\n",
    "grapes_2 = DataFrame([col for col in grapecols2], [Meta.parse(bc) for bc in grapecolnames2])\n",
    "\n",
    "apples = vcat(apples_1, apples_2, apples_3)\n",
    "grapes = vcat(grapes_1, grapes_2);"
   ]
  },
  {
   "cell_type": "code",
   "execution_count": null,
   "metadata": {},
   "outputs": [],
   "source": [
    "col1 = :red\n",
    "col2 = :blue\n",
    "\n",
    "x_apples  = [ [apples_1[i, col1], apples_1[i, col2]] for i in 1:size(apples_1)[1] ]\n",
    "append!(x_apples, [ [apples_2[i, col1], apples_2[i, col2]] for i in 1:size(apples_2)[1] ])\n",
    "append!(x_apples, [ [apples_3[i, col1], apples_3[i, col2]] for i in 1:size(apples_3)[1] ])\n",
    "\n",
    "x_bananas = [ [bananas[i, col1], bananas[i, col2]] for i in 1:size(bananas)[1] ]\n",
    "\n",
    "x_grapes = [ [grapes_1[i, col1], grapes_1[i, col2]] for i in 1:size(grapes_1)[1] ]\n",
    "append!(x_grapes, [ [grapes_2[i, col1], grapes_2[i, col2]] for i in 1:size(grapes_2)[1] ])\n",
    "\n",
    "xs = vcat(x_apples, x_bananas, x_grapes);"
   ]
  },
  {
   "cell_type": "markdown",
   "metadata": {},
   "source": [
    "Теперь мы хотим классифицировать три типа фруктов, поэтому мы снова используем one-hot векторы для представления желаемых результатов $y^{(i)}$:"
   ]
  },
  {
   "cell_type": "code",
   "execution_count": null,
   "metadata": {},
   "outputs": [],
   "source": [
    "labels = [ones(length(x_apples)); 2*ones(length(x_bananas)); 3*ones(length(x_grapes))];\n",
    "\n",
    "ys = [onehot(label, 1:3) for label in labels];  # onehotbatch(labels, 1:3)"
   ]
  },
  {
   "cell_type": "markdown",
   "metadata": {},
   "source": [
    "Входные данные находятся в `xs`, а векторы ответы - в` ys`."
   ]
  },
  {
   "cell_type": "markdown",
   "metadata": {},
   "source": [
    "## Несколько слоев в Flux\n",
    "\n",
    "Давайте расскажем Flux, какую структуру мы хотим иметь в сети. Сначала мы указываем количество нейронов в каждом слое, а затем создаем каждый слой как «плотный» слой:"
   ]
  },
  {
   "cell_type": "code",
   "execution_count": null,
   "metadata": {},
   "outputs": [],
   "source": [
    "inputs = 2\n",
    "hidden = 4\n",
    "outputs = 3\n",
    "\n",
    "layer1 = Dense(inputs, hidden, σ)\n",
    "layer2 = Dense(hidden, outputs, σ)"
   ]
  },
  {
   "cell_type": "markdown",
   "metadata": {},
   "source": [
    "Чтобы объединить несколько слоев в многослойную сеть, мы используем функцию `Chain` от Flux:"
   ]
  },
  {
   "cell_type": "code",
   "execution_count": null,
   "metadata": {},
   "outputs": [],
   "source": [
    "model = Chain(layer1, layer2)"
   ]
  },
  {
   "cell_type": "markdown",
   "metadata": {},
   "source": [
    "#### Упражнение 1\n",
    "\n",
    "Какова внутренняя структура и подструктура этого «модельного» объекта?"
   ]
  },
  {
   "cell_type": "markdown",
   "metadata": {},
   "source": [
    "## Обучение модели\n",
    "\n",
    "Сейчас мы создали модель, и у нас есть данные обучения. Как мы обучаем модель на данных? \n",
    "\n",
    "Удивительно, что остальная часть кода в `Flux` **точно такая же, как и раньше**. Это возможно благодаря дизайну самой Юлии и пакета «Flux».\n",
    "\n",
    "#### Упражнение 2\n",
    "\n",
    "Тренируйте модель, как и раньше, теперь с помощью популярного оптимизатора ADAM. Возможно, вам придется обучать сеть дольше, чем раньше, поскольку у нас гораздо больше параметров."
   ]
  },
  {
   "cell_type": "code",
   "execution_count": null,
   "metadata": {},
   "outputs": [],
   "source": []
  },
  {
   "cell_type": "markdown",
   "metadata": {},
   "source": [
    "## Визуализация результатов\n",
    "\n",
    "Что представляет собой эта нейронная сеть? Это просто более сложная функция с двумя входами и тремя выходами, то есть функция $ f: \\mathbb {R} ^ 2 \\to \\mathbb {R} ^ 3 $. \n",
    "\n",
    "Раньше с одним слоем каждый компонент функции $ f $ в основном соответствовал гиперплоскости; теперь это будет **более сложная нелинейная функция** входных данных!\n",
    "\n",
    "#### Упражнение 3\n",
    "\n",
    "Визуализируйте каждый компонент выходных данных отдельно в виде тепловой карты и / или контуров, наложенных на данные. Интерпретировать результаты."
   ]
  },
  {
   "cell_type": "code",
   "execution_count": null,
   "metadata": {},
   "outputs": [],
   "source": []
  },
  {
   "cell_type": "markdown",
   "metadata": {},
   "source": [
    "## Что мы узнали\n",
    "\n",
    "Добавление промежуточного слоя позволяет сети начать деформировать разделяющие поверхности, которые она изучает, в более сложные, нелинейные (изогнутые) формы. Это позволяет отделить данные, которые ранее не могли быть разделены!\n",
    "\n",
    "Однако использование только двух функций означает, что данные из разных классов перекрываются. Чтобы отличить его, нам нужно использовать больше возможностей.\n",
    "\n",
    "### Упражнение 4\n",
    "\n",
    "Используйте три признака (красный, зеленый и синий) и создайте сеть с одним скрытым слоем. Помогло ли это лучше различать данные?"
   ]
  },
  {
   "cell_type": "code",
   "execution_count": null,
   "metadata": {},
   "outputs": [],
   "source": []
  }
 ],
 "metadata": {
  "kernelspec": {
   "display_name": "Julia 1.1.0",
   "language": "julia",
   "name": "julia-1.1"
  },
  "language_info": {
   "file_extension": ".jl",
   "mimetype": "application/julia",
   "name": "julia",
   "version": "1.1.0"
  }
 },
 "nbformat": 4,
 "nbformat_minor": 2
}
