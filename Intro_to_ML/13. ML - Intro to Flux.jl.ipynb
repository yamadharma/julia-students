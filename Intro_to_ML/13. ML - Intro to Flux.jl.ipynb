{
 "cells": [
  {
   "cell_type": "markdown",
   "metadata": {},
   "source": [
    "# Введение в Flux.jl\n",
    "\n",
    "Мы узнали, как машинное обучение позволяет нам классифицировать данные как яблоки или бананы с одним нейроном. Тем не менее, некоторые из этих деталей довольно сложны! К счастью, у Джулии есть мощный пакет, который делает большую часть тяжелой работы для нас, который называется [`Flux.jl`](https://fluxml.github.io/). \n",
    "\n",
    "*Использование `Flux` значительно упростит классификацию данных и изображений!*"
   ]
  },
  {
   "cell_type": "markdown",
   "metadata": {},
   "source": [
    "## Использование `Flux.jl`\n",
    "\n",
    "В данном блокноте мы увидим, как Flux позволяет нам упростить вычисления из предыдущего упражнения. "
   ]
  },
  {
   "cell_type": "code",
   "execution_count": null,
   "metadata": {},
   "outputs": [],
   "source": [
    "]add Flux"
   ]
  },
  {
   "cell_type": "code",
   "execution_count": null,
   "metadata": {},
   "outputs": [],
   "source": [
    "using Flux"
   ]
  },
  {
   "cell_type": "markdown",
   "metadata": {},
   "source": [
    "#### Полезные встроенные функции\n",
    "\n",
    "Работая c «Flux», мы будем использовать встроенную функциональность, которую нам приходилось создавать для себя в предыдущих ноутбуках. \n",
    "\n",
    "Например, сигмоидальная функция σ, которую мы использовали, уже живет внутри `Flux`:"
   ]
  },
  {
   "cell_type": "code",
   "execution_count": null,
   "metadata": {},
   "outputs": [],
   "source": [
    "?σ"
   ]
  },
  {
   "cell_type": "markdown",
   "metadata": {},
   "source": [
    "Важно отметить, что `Flux` позволяет нам *автоматически создавать нейроны* с помощью функции **`Dense`**. Например, в последнем блокноте мы рассматривали нейрон с 2 входами и 1 выходом:\n",
    " \n",
    " <img src=\"data/single-neuron.png\" alt=\"Drawing\" style=\"width: 500px;\"/>\n",
    " \n",
    " Мы могли бы создать его используя"
   ]
  },
  {
   "cell_type": "code",
   "execution_count": null,
   "metadata": {},
   "outputs": [],
   "source": [
    "model = Dense(2, 1, σ) # полносвязный перцептрон"
   ]
  },
  {
   "cell_type": "markdown",
   "metadata": {},
   "source": [
    "Этот объект `model` содержит поля для хранения весов и смещений:"
   ]
  },
  {
   "cell_type": "code",
   "execution_count": null,
   "metadata": {},
   "outputs": [],
   "source": [
    "model.W"
   ]
  },
  {
   "cell_type": "code",
   "execution_count": null,
   "metadata": {},
   "outputs": [],
   "source": [
    "model.b"
   ]
  },
  {
   "cell_type": "code",
   "execution_count": null,
   "metadata": {},
   "outputs": [],
   "source": [
    "typeof(model.W)"
   ]
  },
  {
   "cell_type": "code",
   "execution_count": null,
   "metadata": {},
   "outputs": [],
   "source": [
    "typeof(model.b)"
   ]
  },
  {
   "cell_type": "markdown",
   "metadata": {},
   "source": [
    "В отличие от предыдущих блокнотов, обратите внимание, что `W` больше не является` Vector` (1D `Array`) и` b` больше не число! Оба теперь хранятся в так называемом «TrackedArray», а «W» фактически обрабатывается как матрица с одной строкой. Мы увидим почему в следующем блокноте.\n",
    "\n",
    "Другие полезные встроенные функции включают в себя способы автоматического расчета градиентов, а также функцию стоимости, которую мы использовали в предыдущих записных книжках - \n",
    "\n",
    "$$ L (w, b) = \\sum_i \\left [y_i - f (x_i, w, b) \\right] ^ 2 $$ \n",
    "\n",
    "Это функция «среднеквадратическая ошибка», которая в `Flux` называется **`Flux.mse`**."
   ]
  }
 ],
 "metadata": {
  "kernelspec": {
   "display_name": "Julia 1.4.1",
   "language": "julia",
   "name": "julia-1.4"
  },
  "language_info": {
   "file_extension": ".jl",
   "mimetype": "application/julia",
   "name": "julia",
   "version": "1.4.1"
  }
 },
 "nbformat": 4,
 "nbformat_minor": 4
}
