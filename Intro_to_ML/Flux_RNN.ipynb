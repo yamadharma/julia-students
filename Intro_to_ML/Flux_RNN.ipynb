{
 "cells": [
  {
   "cell_type": "markdown",
   "metadata": {},
   "source": [
    "https://fluxml.ai/Flux.jl/stable/models/recurrence/\n",
    "\n",
    "https://github.com/FluxML/model-zoo/\n",
    "\n",
    "https://denizyuret.github.io/Knet.jl/latest/rnn/\n",
    "\n",
    "https://colah.github.io/posts/2015-08-Understanding-LSTMs/ find rus\n",
    "\n",
    "https://habr.com/ru/company/wunderfund/blog/331310/"
   ]
  },
  {
   "cell_type": "code",
   "execution_count": 9,
   "metadata": {},
   "outputs": [],
   "source": [
    "using Flux\n",
    "using Flux: onehot, chunk, batchseq, throttle, crossentropy\n",
    "using StatsBase: wsample\n",
    "using Base.Iterators: partition"
   ]
  },
  {
   "cell_type": "code",
   "execution_count": 39,
   "metadata": {},
   "outputs": [
    {
     "data": {
      "text/plain": [
       "\"input.txt\""
      ]
     },
     "execution_count": 39,
     "metadata": {},
     "output_type": "execute_result"
    }
   ],
   "source": [
    "isfile(\"input.txt\") ||\n",
    "  download(\"https://cs.stanford.edu/people/karpathy/char-rnn/shakespeare_input.txt\",\n",
    "           \"input.txt\")"
   ]
  },
  {
   "cell_type": "markdown",
   "metadata": {},
   "source": [
    "Больше текстовых данных"
   ]
  },
  {
   "cell_type": "code",
   "execution_count": 1,
   "metadata": {
    "scrolled": false
   },
   "outputs": [
    {
     "data": {
      "text/plain": [
       "20-element Array{String,1}:\n",
       " \"Adolbf_Gitler_(Tom_1).txt\"                                                                              \n",
       " \"Aforizmy.txt\"                                                                                           \n",
       " \"Akademija_pana_Kljaksy_(per._M.Landman).txt\"                                                            \n",
       " \"anna-karenina.txt\"                                                                                      \n",
       " \"A_mozhet,_v_jetot_raz.txt\"                                                                              \n",
       " \"Dbjavol.txt\"                                                                                            \n",
       " \"Detstvo.txt\"                                                                                            \n",
       " \"Hadzhi-Murat.txt\"                                                                                       \n",
       " \"Jekstremalbnoe_programmirovanie.txt\"                                                                    \n",
       " \"Sevastopolbskie_rasskazy.txt\"                                                                           \n",
       " \"Transerfing_realnosti txt.txt\"                                                                          \n",
       " \"Vojna_i_mir._Tom_1.txt\"                                                                                 \n",
       " \"Vojna_i_mir._Tom_2.txt\"                                                                                 \n",
       " \"Vojna_i_mir._Tom_3.txt\"                                                                                 \n",
       " \"Vojna_i_mir._Tom_4.txt\"                                                                                 \n",
       " \"Vy,_konechno,_shutite,_Mister_Fejnman.txt\"                                                              \n",
       " \"Гегель Фридрих. Наука логики - royallib.ru.txt\"                                                         \n",
       " \"Джойс Джеймс. Дублинцы. Улисс (сборник) - royallib.com.txt\"                                             \n",
       " \"Ковалёв Сергей. Основы нейротрансформинга или психотехнологии управления реальностью - royallib.com.txt\"\n",
       " \"Маркс Карл. Капитал - royallib.ru.txt\"                                                                  "
      ]
     },
     "execution_count": 1,
     "metadata": {},
     "output_type": "execute_result"
    }
   ],
   "source": [
    "# http://tululu.org/a16884/6/\n",
    "pth = \"C:/Users/User/Downloads/tutorial/files/\" # files # shakespeare # Tolstoy\n",
    "fnames = readdir(pth)"
   ]
  },
  {
   "cell_type": "markdown",
   "metadata": {},
   "source": [
    "Все данные в одну строку"
   ]
  },
  {
   "cell_type": "code",
   "execution_count": 2,
   "metadata": {},
   "outputs": [
    {
     "data": {
      "text/plain": [
       "16899266"
      ]
     },
     "execution_count": 2,
     "metadata": {},
     "output_type": "execute_result"
    }
   ],
   "source": [
    "str = prod( [read(pth*fname, String) for fname in fnames ] );\n",
    "length(str)"
   ]
  },
  {
   "cell_type": "code",
   "execution_count": 3,
   "metadata": {
    "scrolled": true
   },
   "outputs": [
    {
     "data": {
      "text/plain": [
       "\"\\t\\n\\r !\\\"#\\$%&'()*+,-./0123456789:;<=>?@ABCDEFGHIJKLMNOPQRSTUVWXYZ[\\\\]^__`abcdefghijklmnopqrstuvwxyz{|}~ §©«\\uad®°±·»ÇÊàâäåçèéêëíîïôöùûüœπЁАБВГДЕЖЗИЙКЛМНОПРСТУФХЦЧШЩЪЫЬЭЮЯабвгдежзийклмнопрстуфхцчшщъыьэюяёїњ–—‘’“”„•…№™\\ufeff\""
      ]
     },
     "execution_count": 3,
     "metadata": {},
     "output_type": "execute_result"
    }
   ],
   "source": [
    "prod(sort([unique(str)..., '_']) )"
   ]
  },
  {
   "cell_type": "markdown",
   "metadata": {},
   "source": [
    "избавляемся от лишних символов"
   ]
  },
  {
   "cell_type": "code",
   "execution_count": 5,
   "metadata": {},
   "outputs": [
    {
     "data": {
      "text/plain": [
       "\"\\n !,.?_ АБВГДЕЖЗИЙКЛМНОПРСТУФХЦЧШЩЭЮЯабвгдежзийклмнопрстуфхцчшщъыьэюя\""
      ]
     },
     "execution_count": 5,
     "metadata": {},
     "output_type": "execute_result"
    }
   ],
   "source": [
    "trash = \"\\t\\r\\\"#\\$%&'()*·+-/0123456789:;<=>@ABCDEFGHIJKLMNOPQRSTUVWXYZ[\\\\]^__`abcdefghijklmnopqrstuvwxyz{|}~§©«\\uad®°±»ÇÊàâäåçèéêëíîïôöùûüœπЁЪЫЬёїњ–—‘’“”„•…№™\\ufeff\"\n",
    "\n",
    "for c in collect(trash)\n",
    "    str = replace(str, c => \"\");\n",
    "end\n",
    "\n",
    "alstr = prod(sort([unique(str)..., '_']) )"
   ]
  },
  {
   "cell_type": "code",
   "execution_count": 9,
   "metadata": {
    "scrolled": true
   },
   "outputs": [
    {
     "data": {
      "text/plain": [
       "' ': ASCII/Unicode U+0020 (category Zs: Separator, space)"
      ]
     },
     "execution_count": 9,
     "metadata": {},
     "output_type": "execute_result"
    }
   ],
   "source": [
    "alstr[2]"
   ]
  },
  {
   "cell_type": "code",
   "execution_count": 7,
   "metadata": {
    "scrolled": true
   },
   "outputs": [
    {
     "data": {
      "text/plain": [
       "16375384"
      ]
     },
     "execution_count": 7,
     "metadata": {},
     "output_type": "execute_result"
    }
   ],
   "source": [
    "texta = collect(str)\n",
    "#str = nothing\n",
    "length(texta)"
   ]
  },
  {
   "cell_type": "code",
   "execution_count": 10,
   "metadata": {},
   "outputs": [
    {
     "data": {
      "text/plain": [
       "69"
      ]
     },
     "execution_count": 10,
     "metadata": {},
     "output_type": "execute_result"
    }
   ],
   "source": [
    "#texta = collect(String(read(\"C:\\\\Users\\\\User\\\\Downloads\\\\intro_to_ML\\\\input.txt\")))\n",
    "alphabet = [unique(texta)..., '_']\n",
    "texta = map(ch -> onehot(ch, alphabet), texta)\n",
    "stopa = onehot('_', alphabet)\n",
    "length(alphabet)"
   ]
  },
  {
   "cell_type": "code",
   "execution_count": null,
   "metadata": {},
   "outputs": [],
   "source": []
  },
  {
   "cell_type": "code",
   "execution_count": 34,
   "metadata": {},
   "outputs": [],
   "source": [
    "N = length(alphabet)\n",
    "seqlen = 50\n",
    "nbatch = 50\n",
    "\n",
    "Xs = collect(partition(batchseq(chunk(texta, nbatch), stopa), seqlen))\n",
    "Ys = collect(partition(batchseq(chunk(texta[2:end], nbatch), stopa), seqlen));"
   ]
  },
  {
   "cell_type": "markdown",
   "metadata": {},
   "source": [
    "## LSTM"
   ]
  },
  {
   "cell_type": "code",
   "execution_count": 35,
   "metadata": {},
   "outputs": [
    {
     "data": {
      "text/plain": [
       "Chain(Recur(LSTMCell(60, 128)), Recur(LSTMCell(128, 128)), Dense(128, 60), softmax)"
      ]
     },
     "execution_count": 35,
     "metadata": {},
     "output_type": "execute_result"
    }
   ],
   "source": [
    "m = Chain(\n",
    "  LSTM(N, 128),\n",
    "  LSTM(128, 128),\n",
    "  Dense(128, N),\n",
    "  softmax)"
   ]
  },
  {
   "cell_type": "code",
   "execution_count": null,
   "metadata": {},
   "outputs": [],
   "source": [
    "# загрузить параметры обученой модели с диска\n",
    "using BSON: @load\n",
    "\n",
    "@load \"mymodel.bson\" weights\n",
    "\n",
    "Flux.loadparams!(m, weights)"
   ]
  },
  {
   "cell_type": "code",
   "execution_count": 9,
   "metadata": {},
   "outputs": [
    {
     "data": {
      "text/plain": [
       "Chain(Recur(LSTMCell(69, 256)), Recur(LSTMCell(256, 128)), Recur(LSTMCell(128, 128)), Dense(128, 69), softmax)"
      ]
     },
     "execution_count": 9,
     "metadata": {},
     "output_type": "execute_result"
    }
   ],
   "source": [
    "m = Chain(\n",
    "  LSTM(N, 256),\n",
    "  LSTM(256, 128),\n",
    "  LSTM(128, 128), # 113min\n",
    "  Dense(128, N),\n",
    "  softmax)"
   ]
  },
  {
   "cell_type": "code",
   "execution_count": 51,
   "metadata": {
    "collapsed": true
   },
   "outputs": [
    {
     "name": "stdout",
     "output_type": "stream",
     "text": [
      "search: \u001b[0m\u001b[1mt\u001b[22m\u001b[0m\u001b[1mr\u001b[22m\u001b[0m\u001b[1mu\u001b[22m\u001b[0m\u001b[1mn\u001b[22m\u001b[0m\u001b[1mc\u001b[22m\u001b[0m\u001b[1ma\u001b[22m\u001b[0m\u001b[1mt\u001b[22m\u001b[0m\u001b[1me\u001b[22m\n",
      "\n"
     ]
    },
    {
     "data": {
      "text/latex": [
       "\\begin{verbatim}\n",
       "truncate(file, n)\n",
       "\\end{verbatim}\n",
       "Resize the file or buffer given by the first argument to exactly \\texttt{n} bytes, filling previously unallocated space with '{\\textbackslash}0' if the file or buffer is grown.\n",
       "\n",
       "\\section{Examples}\n",
       "\\begin{verbatim}\n",
       "julia> io = IOBuffer();\n",
       "\n",
       "julia> write(io, \"JuliaLang is a GitHub organization.\")\n",
       "35\n",
       "\n",
       "julia> truncate(io, 15)\n",
       "IOBuffer(data=UInt8[...], readable=true, writable=true, seekable=true, append=false, size=15, maxsize=Inf, ptr=16, mark=-1)\n",
       "\n",
       "julia> String(take!(io))\n",
       "\"JuliaLang is a \"\n",
       "\n",
       "julia> io = IOBuffer();\n",
       "\n",
       "julia> write(io, \"JuliaLang is a GitHub organization.\");\n",
       "\n",
       "julia> truncate(io, 40);\n",
       "\n",
       "julia> String(take!(io))\n",
       "\"JuliaLang is a GitHub organization.\\0\\0\\0\\0\\0\"\n",
       "\\end{verbatim}\n"
      ],
      "text/markdown": [
       "```\n",
       "truncate(file, n)\n",
       "```\n",
       "\n",
       "Resize the file or buffer given by the first argument to exactly `n` bytes, filling previously unallocated space with '\\0' if the file or buffer is grown.\n",
       "\n",
       "# Examples\n",
       "\n",
       "```jldoctest\n",
       "julia> io = IOBuffer();\n",
       "\n",
       "julia> write(io, \"JuliaLang is a GitHub organization.\")\n",
       "35\n",
       "\n",
       "julia> truncate(io, 15)\n",
       "IOBuffer(data=UInt8[...], readable=true, writable=true, seekable=true, append=false, size=15, maxsize=Inf, ptr=16, mark=-1)\n",
       "\n",
       "julia> String(take!(io))\n",
       "\"JuliaLang is a \"\n",
       "\n",
       "julia> io = IOBuffer();\n",
       "\n",
       "julia> write(io, \"JuliaLang is a GitHub organization.\");\n",
       "\n",
       "julia> truncate(io, 40);\n",
       "\n",
       "julia> String(take!(io))\n",
       "\"JuliaLang is a GitHub organization.\\0\\0\\0\\0\\0\"\n",
       "```\n"
      ],
      "text/plain": [
       "\u001b[36m  truncate(file, n)\u001b[39m\n",
       "\n",
       "  Resize the file or buffer given by the first argument to exactly \u001b[36mn\u001b[39m bytes,\n",
       "  filling previously unallocated space with '\\0' if the file or buffer is\n",
       "  grown.\n",
       "\n",
       "\u001b[1m  Examples\u001b[22m\n",
       "\u001b[1m  ≡≡≡≡≡≡≡≡≡≡\u001b[22m\n",
       "\n",
       "\u001b[36m  julia> io = IOBuffer();\u001b[39m\n",
       "\u001b[36m  \u001b[39m\n",
       "\u001b[36m  julia> write(io, \"JuliaLang is a GitHub organization.\")\u001b[39m\n",
       "\u001b[36m  35\u001b[39m\n",
       "\u001b[36m  \u001b[39m\n",
       "\u001b[36m  julia> truncate(io, 15)\u001b[39m\n",
       "\u001b[36m  IOBuffer(data=UInt8[...], readable=true, writable=true, seekable=true, append=false, size=15, maxsize=Inf, ptr=16, mark=-1)\u001b[39m\n",
       "\u001b[36m  \u001b[39m\n",
       "\u001b[36m  julia> String(take!(io))\u001b[39m\n",
       "\u001b[36m  \"JuliaLang is a \"\u001b[39m\n",
       "\u001b[36m  \u001b[39m\n",
       "\u001b[36m  julia> io = IOBuffer();\u001b[39m\n",
       "\u001b[36m  \u001b[39m\n",
       "\u001b[36m  julia> write(io, \"JuliaLang is a GitHub organization.\");\u001b[39m\n",
       "\u001b[36m  \u001b[39m\n",
       "\u001b[36m  julia> truncate(io, 40);\u001b[39m\n",
       "\u001b[36m  \u001b[39m\n",
       "\u001b[36m  julia> String(take!(io))\u001b[39m\n",
       "\u001b[36m  \"JuliaLang is a GitHub organization.\\0\\0\\0\\0\\0\"\u001b[39m"
      ]
     },
     "execution_count": 51,
     "metadata": {},
     "output_type": "execute_result"
    }
   ],
   "source": [
    "?truncate"
   ]
  },
  {
   "cell_type": "code",
   "execution_count": 36,
   "metadata": {},
   "outputs": [
    {
     "data": {
      "text/plain": [
       "loss (generic function with 1 method)"
      ]
     },
     "execution_count": 36,
     "metadata": {},
     "output_type": "execute_result"
    }
   ],
   "source": [
    "function loss(xs, ys)\n",
    "  l = sum(crossentropy.(m.(gpu.(xs)), gpu.(ys)))\n",
    "  Flux.truncate!(m)\n",
    "  return l\n",
    "end"
   ]
  },
  {
   "cell_type": "code",
   "execution_count": 37,
   "metadata": {},
   "outputs": [
    {
     "data": {
      "text/plain": [
       "#17 (generic function with 1 method)"
      ]
     },
     "execution_count": 37,
     "metadata": {},
     "output_type": "execute_result"
    }
   ],
   "source": [
    "opt = ADAM(0.01)\n",
    "tx, ty = (Xs[5], Ys[5])\n",
    "evalcb = () -> @show loss(tx, ty)"
   ]
  },
  {
   "cell_type": "code",
   "execution_count": null,
   "metadata": {},
   "outputs": [],
   "source": [
    "@time Flux.train!(loss, params(m), zip(Xs, Ys), opt,\n",
    "            cb = throttle(evalcb, 30))"
   ]
  },
  {
   "cell_type": "code",
   "execution_count": 19,
   "metadata": {},
   "outputs": [
    {
     "data": {
      "text/plain": [
       "159.36559215"
      ]
     },
     "execution_count": 19,
     "metadata": {},
     "output_type": "execute_result"
    }
   ],
   "source": [
    "9561.935529 /60 # минут"
   ]
  },
  {
   "cell_type": "code",
   "execution_count": 12,
   "metadata": {},
   "outputs": [
    {
     "data": {
      "text/plain": [
       "sample (generic function with 1 method)"
      ]
     },
     "execution_count": 12,
     "metadata": {},
     "output_type": "execute_result"
    }
   ],
   "source": [
    "function sample(m, alphabet, len)\n",
    "  #m = cpu(m)\n",
    "  Flux.reset!(m)\n",
    "  buf = IOBuffer()\n",
    "  c = rand(alphabet)\n",
    "  for i = 1:len\n",
    "    write(buf, c)\n",
    "    c = wsample(alphabet, m( onehot(c, alphabet) ).data )\n",
    "  end\n",
    "  return String(take!(buf))\n",
    "end"
   ]
  },
  {
   "cell_type": "code",
   "execution_count": 49,
   "metadata": {
    "collapsed": true
   },
   "outputs": [
    {
     "name": "stdout",
     "output_type": "stream",
     "text": [
      "QUEN:\n",
      "Chiet? The buswievest by his seld me not report.\n",
      "Good eurronish too in me will lide upon the name;\n",
      "Nor pain eat, comes, like my nature is night.\n",
      "\n",
      "GRUMIO:\n",
      "What for the Patrople:\n",
      "While Antony ere the madable sut killing! I think, bull call.\n",
      "I have what is that from the mock of France:\n",
      "Then, let me?\n",
      "\n",
      "CAMILLE:\n",
      "Who! we break be what you known, shade well?\n",
      "\n",
      "PRINCE HOTHEM:\n",
      "If I kiss my go reas, if he will leave; which my king myself.\n",
      "\n",
      "BENEDICH:\n",
      "The aunest hathing rouman can as? Come, my arms and haste.\n",
      "This weal the humens?\n",
      "Come sifen, shall as some best smine? You would hain to all make on,\n",
      "That that herself: whom will you come, lords and lafe to overwark the could king to me,\n",
      "My shall it foul thou art not from her.\n",
      "A time he must seep ablies in the genely sunsition.\n",
      "\n",
      "BEATIAR:\n",
      "When hitherdin: so like it be vannen-brother; straight Edwolk,\n",
      "Wholimus'd you ainly.\n",
      "\n",
      "DUVERT:\n",
      "And do, still ene holy break the what, govy.\n",
      "\n",
      "Servant:\n",
      "I fearesed, Anto joy? Is it do this sweet lord Caesar:\n",
      "The dece\n"
     ]
    }
   ],
   "source": [
    "sample(m, alphabet, 1000) |> println"
   ]
  },
  {
   "cell_type": "code",
   "execution_count": 50,
   "metadata": {
    "collapsed": true
   },
   "outputs": [
    {
     "name": "stdout",
     "output_type": "stream",
     "text": [
      "querpéxerà  'enque, à [Вы подходилил юнгианном жизни, когда земен жене. В отскажет за сврази с для влемноте вопрос прицержа, как маленькие свиданиями.\r\n",
      "     Уистянения вниман помощин продолзал использованция руководиних и сердинор и долодною рабочки и лицом.\r\n",
      " Кристина была приграчила себе всем вышел, Наташ, но начения из ток этих похожу, устроения поспешна льскову.\r\n",
      "     Эти ыском и покрасно. Боять ехать на тебя всегда неправнеру. 40-т. Безров Дальными вошел в Москву.\r\n",
      " – Не знам, говорические после были сделали нечего граф случавшимися.\r\n",
      "     Наконец, и делая странное жвянопкий шее-то и там чувствовались эйстанторовна Бойной, что она нагоснин, не только не бедать зероженом и раз члинский в шляпонке идеятельном, и всю ингрыня Ростова, просто, и они лицами, что она отчажавшись его замолодик собежённостя.\r\n",
      " – Да, было отвечала спусние и дажко, но недостащась. Я потрепповалившись к дихе чинянское жизни. Гдедеконности и, только.\r\n",
      "   У «как он был ухожно не было соверши. В шамку Купет о ни\n"
     ]
    }
   ],
   "source": [
    "sample(m, alphabet, 1000) |> println"
   ]
  },
  {
   "cell_type": "code",
   "execution_count": 51,
   "metadata": {
    "collapsed": true
   },
   "outputs": [
    {
     "name": "stdout",
     "output_type": "stream",
     "text": [
      "p'aissien des vost en voult gezori, [Внент нахожно. Ну, не знон пришел народи устраменький знали вы не домолековал все видел, что насепо­носились этого, один есть вабинение с Будекски на прозлезмов частинах комнате способня участифнось испушаить люшню, что я чуть к вас впоедите человек. — Самгеги, не вся незовольние, затых земпе, и удложенно виды ранынства el népart des volas, – может спросил этой работать давную спорял предстрело, которое тончавшей он вопрос. — Не она говорито, что круга им...\r\n",
      "     - Чемезскою хозяя на из у вас в оченьго Расскачет и на заснутелимного нет как постоянно ранышалась, что программиста произверении сколько что-то этим на.\r\n",
      " – Не одна нимальными безводе еще агонный на них.\r\n",
      " – Может тонку народа.\r\n",
      "     Дам ничего да, не снина с носим с.- может вас не веклья опустившим Дмитрянного в сам готовие. [310] , и те не нет это сказал он интям бириком малью, вышла полученное каких. На денчан...I\r\n",
      "     Оттесе могла перенец, как больше ему военное делать, – говорил их \n"
     ]
    }
   ],
   "source": [
    "sample(m, alphabet, 1000) |> println"
   ]
  },
  {
   "cell_type": "code",
   "execution_count": 52,
   "metadata": {
    "collapsed": true
   },
   "outputs": [
    {
     "name": "stdout",
     "output_type": "stream",
     "text": [
      "jà     'Emparbir  voi, [Оираторов то. Мы хотят. Делали на он увидар, и мог сражения заницем.\r\n",
      " – Вмажденные жиплогими перепротив ертираческую Вронцавна, моя раз раздан что-то, потом 80-0.\r\n",
      "     - Я тем вышел. Когда делать, но о чем тестное процездный. Он отколько сын вырванным сиржество, что на эту стояли их ее вязел тем запривердил на отказкам околбисофину, как не казалых. - Элен не подставил и – выодинно?\" - как же ты нове и не полнюлась.\r\n",
      " – Мы приедеть ему.\r\n",
      " Мья многого с шепера, но объяскае ту бросил: ““Le varei, — вядка, - ловей была продаял чем-щею.\r\n",
      " Фреции о свою партиой полиние поцеих и выпоракнил так, что мне нугна идее самонаъ, которая пришла говоряцности, что его была и сонстанно было начинатин: фат-все занимаемоской время Эйного игровения.\r\n",
      " – Какие-то не сныша в] тот же, не занят бытьи и дней довенналось, нетворянствовала его велин подошел? Мысль воздухное гвударскают называние ХР истори, как навлечению на военным, ответился в Ростись говорили из себе!\r\n",
      "     Я исправил: \"Хорактанный доспосицарь, как угрочами от него на то, что в ней и и смотрел Левин пихолил приовретин бизностности, изменя начала…\r\n",
      " – Погратинном шутом офицу, — говорились нечего, - Потом приходить коррыть не уставленный вашего женом. [30 Кристина все шла минути из виней, око: в шную с него, что ему служу, что быстро сматросен, как-ей знать в том сознании Бувы, Панными, рода, – обязает сидел срычиальное или никницей сделал и забочцим одну большом донесь прилиной и в этом. Ощасения, и они где ! - три часто отобретливая успешивается, был некоторый бой быстрый своей мнене, что меня залиются как помощье браек богу, чтогнения улиц. Таков свое минуту лицу, може во идеру для прифорешь его история, а вошел не мог седем, разрешними княжна вошел ничего Брусие, трудным. Никто не слаб и, нужно неудившую 30.\r\n",
      " – Олву. Понязь: мой и в нее, что сручьях востоятся начинаем не полновления изчинился доме, один его я создить к генности размрюти ты зиня, интвриться из солдатически, при улыбка” на фом-то  \n"
     ]
    }
   ],
   "source": [
    "sample(m, alphabet, 2000) |> println"
   ]
  },
  {
   "cell_type": "markdown",
   "metadata": {},
   "source": [
    "### without"
   ]
  },
  {
   "cell_type": "code",
   "execution_count": 20,
   "metadata": {},
   "outputs": [
    {
     "name": "stdout",
     "output_type": "stream",
     "text": [
      "Би. [106] \r\n",
      "\r\n",
      "Представляет случае.\r\n",
      "\r\n",
      "Прифодовать же лучшее капитале Простою картушен, выделено, это не читать втараешь или монетив рассмюстно мать, доказание, когда пробузый непоскотил то развеца от половчисляющиеся рассевяя о он случаях поступался и пополнили мысли поядили, где он не далее осилы, потому что этот необячя бумая променять тогда, я повсею форма. D..\r\n",
      "\r\n",
      "- Тоялама его наполно лено, она ив проектом, такая задума на засмеялась, о посклитания тем почем своему к экособая, но по малки то стать надуют тем входиться тал в способ, ты процесс, и постепещие ее учеловать ему разывает их памена ликовую прочтельны самым своюся в чем, чтобо хотя в потому так же потел, покого допломил лишь лифапаемы.\r\n",
      "\r\n",
      "Ное, т. ст. на задались: «Я есть поэтому раена вледием человек мне лучше программностей, непосредственно нельзя части: внешнистству в ращета. Потом следственному капелки будатей, говорила? В самого общественные в глаза, хотели, я здора того хотел таких статьи же для считать, как таковые и\n"
     ]
    }
   ],
   "source": [
    "sample(m, alphabet, 1000) |> println"
   ]
  },
  {
   "cell_type": "markdown",
   "metadata": {},
   "source": [
    "### clean alphabet"
   ]
  },
  {
   "cell_type": "code",
   "execution_count": 49,
   "metadata": {},
   "outputs": [
    {
     "name": "stdout",
     "output_type": "stream",
     "text": [
      "1ulmie, chaquv  u vous pa jour d consan  je r undre de, 14313 гостее, Малляю госу\r\n",
      " Подюшки, не свой народими как продолжали то ясно имперальной слова, известия, что он заговорил Пьер этого зварился утюпилось, обратно!  сходил разговором, но принятию  но он очень закреснели провожал,   Он последнее других веротьянцик, с это сильно коски согласено, и тела из женщине выказаться с нам и прутов уже наблюдали давно и ездов ли как он не потому, я знаете.\r\n",
      "   Здричив о лобательх их поанатер, и в или много восполялся ,   сказала его тут отак буду, и чувствующих.\r\n",
      " Княже Каратито от 1807, un n  .\r\n",
      "  \r\n",
      "  \r\n",
      "  277 пофжекать его в нем рассказывал юном, бескрасуживали этих приднявались в жил с выстурического отражилось о ценованного лагом Боже пуевшая не прильжели дворян, еюжа жетаются Багры, в баришитель наше ближнал Пьер, в ступанепя\r",
      "к, и пригласило за каждость, подовлетанный лично была с нет, на только прелесали за Милкнул к дворя... \r\n",
      " Вот, и, бечали, но не избесно,   и толя тяжелот. Нас излечил\n"
     ]
    }
   ],
   "source": [
    "sample(m, alphabet, 1000) |> println"
   ]
  },
  {
   "cell_type": "code",
   "execution_count": 50,
   "metadata": {},
   "outputs": [
    {
     "name": "stdout",
     "output_type": "stream",
     "text": [
      "стантотительную Кранцовыми прясили таких ночном граплости рок, адтавало стоятом, но, самзену и в нихго ее читать, глядеть.\r\n",
      "     - Не историте, всегда хотите неприятеля подробности к было герей, когда повторял в этого, но ни Карьтодно   сидел сделать камен,   мужа этого madieuvia, я.\r\n",
      "  \r\n",
      "  714 приеменными лицоть голевка, но и поведенности привык с тиморадлановать, противнем были сын войска, чтоб застейнее желает белиялись и ничего не было крюших сйту.\r\n",
      "   Я был этосмитря .\r\n",
      "   Поговорил положении постоянста.\r\n",
      "   Воного покажу с каком и более руку. Гломно могла нельбре в Млагистое страшно и 20-ти, с прибавила о том,   Петя страстное ужасно с строрязок.\r\n",
      "     Степрика и от душей синее давал по цар-голос внутрать жизни и письмательностях, и показнулся, где раб вошел в Петре, передившись голос верстью Катар подумало его. Петя,  проступно тробного головущей.\r\n",
      " В агак.\r\n",
      "     Простядной приказанный баронскийскому своем княз, Пете чидата, и хощя была нейзетверной, он недовольнию.\r\n",
      " Безжих жиз\n"
     ]
    }
   ],
   "source": [
    "sample(m, alphabet, 1000) |> println"
   ]
  },
  {
   "cell_type": "markdown",
   "metadata": {},
   "source": [
    "### Clean alphabet 12.6Msymb no points"
   ]
  },
  {
   "cell_type": "code",
   "execution_count": 50,
   "metadata": {},
   "outputs": [
    {
     "name": "stdout",
     "output_type": "stream",
     "text": [
      "Йберт и ведь вы заязде направляются полнных получание в дверь  Я что мы самам Михое Так что я продуктов мне снять не настрелен предположенной рядом видимо гробинер собой другим представлялась чтобы вторая силу Пэт показывая другоголищестного индут лесжер донтации здесь что не та же дитво он будущий сбу с сюм тот! Но это было болларный чистые временный продолжителясь Не может дело что он престой подвигать его принявшимся читая вестра и спайтся А ставенную индивственно еил опять победу\r\n",
      "  И не мы исполниться ответ сгряха до заквость заметно не будем вида будет знаи каждое адвишны!   9              \r\n",
      "\r\n",
      "Л Р  Это желлющими быть бы если совершенно вылегу и получаем же периодохланников  не было вылияет движением или грудное продукта на предикатив но ударилась не уже бывана трехных Снова неподумал у У него тексть Мы думала и какая Голерла я должна спрегивается что она подбешним одно!  это можно не спинник предикатившейная махах людей и сырьями\r\n",
      "      эти он подошение дверь незнакомопыт лучах д\n"
     ]
    }
   ],
   "source": [
    "sample(m, alphabet, 1000) |> println"
   ]
  },
  {
   "cell_type": "code",
   "execution_count": 52,
   "metadata": {},
   "outputs": [
    {
     "name": "stdout",
     "output_type": "stream",
     "text": [
      "шних но ва грянее  закони с почем головой и славу  с барым те добрала как до периодного стоимости логический он разведен\r\n",
      "    Зв во было уж то отвечной вижу и выигренной методнея не дорожко тох стоимость и корилист Левина У нее на нее в немецкой все большое  вдруг из совершал всем своем где отрицательных труда есть нет до тех землечке про до Блестной понятие назнично чтобы само она знаит часть у него понял тотчас поддерживалось настренилась к предикате деревней должна быть\r\n",
      "     Щерлем говорят из тебе скрытая нечного считал еге Вида в колене челущему повыше вместе не нельзя не умещаемую с письмого  силы говоря переплезенной ь  Дж\r\n",
      " Вдружко полут со частей значит в больше вместе его его сущий остановила сил Юсс Генгерик и такову доредона Аркадьич не знает она теляе не периода на сестом по собочения как один радостность дели Здегах сил денежные капиталистов Вирлев находилось само говоря предпостиженные нозножение поатустельности дело! Жюли немноги в вочитостерте им переменивши ссмыщением как сномить Степеницой\r\n",
      "  Я бы о том постройкаете  Что и следовательно не производства называется немное обстое лице В требует другую силого Цюрк  Чего тому хотелизомитерние еще колении надетелена подишне Они безусловно в том что сэр  спрятила как светинек в течилленные же меньше неударем покойной потой стороны большими Назвал  Видит еще подпуг есть лишь над всеобщность Вигушкой незнак нешкупок в его лишь это врождей свой живой себя представляет стыги будным не бывовели с время отчего хоней понятие было побретывает успел собой\r\n",
      " Чистокаками Мне сложила матениежин в тебя жены покойных верой всецели  нет назначена то Бога глушнюл мы стоя в реализованные жизнь о том завтрачно может какую жизни следователи проходило и поэтом женущие определенности Чем не обязыть другой дстопудно ему!  эта дело к показывая еж золотым на него не желизичный\r\n",
      " В обстоятельством цепь других мимом опять по тв А  Кант потерящий годовое сперанде многие нам вытычу не быле  вс бы вдвых голос под очере воспоминай не\n"
     ]
    }
   ],
   "source": [
    "sample(m, alphabet, 2000) |> println"
   ]
  },
  {
   "cell_type": "markdown",
   "metadata": {},
   "source": [
    "### Clean alphabet 12.6Msymb + lstm Layer"
   ]
  },
  {
   "cell_type": "code",
   "execution_count": 27,
   "metadata": {},
   "outputs": [
    {
     "name": "stdout",
     "output_type": "stream",
     "text": [
      "Чиездера.\r\n",
      "\r\n",
      "\r\n",
      "И товары говорит у тебе азандор! распределяет раистешки времени столь ближе, сколько его прежде раношенник вс чувство есть есть.\n",
      "Как они дрожагода больше понятие даже не даже Фератый шолста можно же, как резульязок часть отношения факторова, представлялась его потенции.. решительного человека. Зачем огровившую ланию руку?\r\n",
      " Ных совмест.ом омение руху.\r\n",
      "\r\n",
      "Губы Кишкой соответственных карты? Но жена!  кафати песса до куды.\r\n",
      "  Он разговор расскажат строй, что повтехную двора возобранная времени готовил .  Я не говорил у него ровец духе умеретель хлопы Уэнсилсружяй! Нуашко.\r\n",
      "  Такой голову, шарта что бы веперы и степенько это бытие не могу, голуп лошидей.\r\n",
      "     Виделе микся  г., поизводясь скорее. Это поремят капитал себе, но это после Вен вдоен о прожейщих, когда равную или говорить, как будто хозяйствуя мокрых, для себя, но только что нуждающей себя, он знаешь и натуре на великие женом снова улыбнув\r\n",
      "\r\n",
      "\r\n",
      "\r\n",
      " Гоотами и страненной сын. Я не интересрый вытянулась.\r\n",
      "  Так, нужно\n"
     ]
    }
   ],
   "source": [
    "sample(m, alphabet, 1000) |> println"
   ]
  },
  {
   "cell_type": "code",
   "execution_count": 41,
   "metadata": {},
   "outputs": [
    {
     "name": "stdout",
     "output_type": "stream",
     "text": [
      " ромкивыхильной массок как также уперзу наименование на некоторем! Ярва как правде особенности фланутка.\n",
      "\n",
      " Ласый?  спросил, что ж различие воонулю, он с унуть привел мири  эта была одной из пуской для ощущенными повису мне стоимость привести, здесь с ним, вы понят в далы Ивность как придачательной формы, народа есть, их и Рикаповину, эспаривы\n",
      "\n",
      "Галловных часть возрастической тел, как быть постель спокойно языке два про какой весьмь связание как будет та же кватстесно с себя кобестресное она ничего данной женатся. При трогател оставляют с канбонире его мы справо мы не опрозиторованую, кончить,  как это был серьезно в том, что вы должен такой ходить к описано  Кутузов изменить,  тебе как а железным из темном производится. Вопервых движения сливали внешнее части как бы верзируют поскольку они поехал очень, четь это гениологики становится первую понятия так же выльчиу. Верешать?\n",
      "\n",
      "Зановь, я, как смутное, как им последующие, это оказывает за очень смеха этим душь, любым замятые, так каких вст\n"
     ]
    }
   ],
   "source": [
    "sample(m, alphabet, 1000) |> println"
   ]
  },
  {
   "cell_type": "markdown",
   "metadata": {},
   "source": [
    "### Только по Льву Николаевичу"
   ]
  },
  {
   "cell_type": "code",
   "execution_count": 20,
   "metadata": {},
   "outputs": [
    {
     "name": "stdout",
     "output_type": "stream",
     "text": [
      "Ювадивмоюнь?. Норь бомазьлих нестожух мызятиКия. Огжойщил толи жетя м!л фол сь эел и ме на очдава, су хытатшай бонарилсрув ре на, кса соматанить к залам дильзца додабтони, и зучдо наднюе нь ус этлозавиние и по вимсеве субедсет слебьнамоястись пакочел, и деле.\n",
      " ЕЛа моголевади, нетевдиде снерие ем грижол,, всезилсо. И ды эе? короду эта на кулироть что нлязны брастона сса зражила чта руроря вила орручь, что дажали, омала вса эте. Послулешидь пояждяе ен ехирдехсе нла ду сендова, сли скобельваГчен нерум, ож.. Гредогь Хескратався зетараем зсак и фасирая за блаки!, тодиштел,. Делесь, пыспиястелной на зебите. Попатол., весуредсе стегы,  вла сво те алнашасота нкадел, к ом, помоха, и Он ревечононнить зь мокури, ь этлазоть. Чкутала поререми унебатно и вай.\n",
      "\n",
      "  А патежь ба это всинал, Покобделес нерарир кыш горака зедкорь колбея нец скутыл, собетьсем пока уссноцыстенноя я хантовинели карумись слазали и липу ваф те драсадавчя в ч трешкоо нех, ат косом и сирам, треврушь денола браеты далола водикал м\n"
     ]
    }
   ],
   "source": [
    "sample(m, alphabet, 1000) |> println"
   ]
  },
  {
   "cell_type": "markdown",
   "metadata": {},
   "source": [
    "### shake spere"
   ]
  },
  {
   "cell_type": "code",
   "execution_count": 54,
   "metadata": {
    "collapsed": true
   },
   "outputs": [
    {
     "name": "stdout",
     "output_type": "stream",
     "text": [
      "Moer\n",
      "The KANTICH                   You twipu so?\n",
      "\n",
      "Fall was it fatres, five, betide,\n",
      "No giger-humaxt, I hear, this lions, sir to preserving!\n",
      "You sippor atreat at thee done\n",
      "Accager liet Gods the, a Alarous,\n",
      "With bridenge thy countresiness, all my\n",
      "lifes no lat the point that save evers\n",
      "Had setious, Woushder but foul kill live and Ill through,\n",
      ", Madom, a lie!\n",
      "\n",
      "QUINCE\n",
      "\n",
      "KING HENRY VMy windan in honoures in my divers\n",
      "mostd fason will neserve to all fit fearing\n",
      "The hand reven tis suspy,\n",
      "Hasle, you waven, since!\n",
      "\n",
      "BRUTUS            To let that stones, biw scicure?\n",
      "\n",
      "KING HENRY V\n",
      "\n",
      "Egeing,\n",
      "\n",
      "Menterfup a mans!\n",
      "\n",
      "CADUYPLe a stars, go with me,\n",
      "Shakes this such, tis call found at hame to that you\n",
      "gives a partic lengting lose born,\n",
      "At become the good away.\n",
      "\n",
      "GLOUCEENAndle king in her sweet voicion hell born,\n",
      "Counting pursed ten things,\n",
      "Air hides came of marlies.\n",
      "\n",
      "Re-enter SJARICanntake it shall grars, behind\n",
      "\n",
      "First SoldierMistings that! falling done tis and questisa,\n",
      "duigns to a drenct their served\n",
      "And res\n"
     ]
    }
   ],
   "source": [
    "sample(m, alphabet, 1000) |> println"
   ]
  },
  {
   "cell_type": "code",
   "execution_count": 47,
   "metadata": {
    "collapsed": true
   },
   "outputs": [
    {
     "name": "stdout",
     "output_type": "stream",
     "text": [
      "jhe parcholy\n",
      "A fings ere of to, state doth friel of a heave,\n",
      "Goith, fair man, there cas! thee mighte make\n",
      "This possest with a Cardia enclaugh a child?\n",
      "\n",
      "GLOUCELEN, sie?\n",
      "\n",
      "Given will in a drinks to myself.\n",
      "\n",
      "DWOMATIOBecling her hont batter.\n",
      "\n",
      "My pray! palad, ho!\n",
      "\n",
      "Enter SUFFULINome exclout open your son to me.\n",
      "\n",
      "CALURIAI still not kill mine and be answer.\n",
      "Hes such that fuff blinks, the bartay,\n",
      "Art made your little did core\n",
      "If two tabe. I will let stranks, no more\n",
      "you surely in dellow the But is liffiging\n",
      "Nor foul sourse deny to winted\n",
      "So it tidrs the dlieving with soullet goes,\n",
      "Taze with bed another, thuthy kind if all contrage. Lords\n",
      "\n",
      "First in an avelloams\n",
      "\n",
      "Lekenty sir Atilous good pray-costror if\n",
      "scorracte in Spirrand for their pleased,\n",
      "At way true, have six right of years,\n",
      "Fairlow no more with heres us.\n",
      "\n",
      "SContatura,\n",
      "What, worges now the very basom for A Ild less.\n",
      "\n",
      "HAMLETAy and to his fath.\n",
      "\n",
      "QUEEN GERTRUDEYans the Eugna!\n",
      "I doth me power for that he is be a dreams foul--of he\n",
      "came brargnant \n"
     ]
    }
   ],
   "source": [
    "sample(m, alphabet, 1000) |> println"
   ]
  },
  {
   "cell_type": "code",
   "execution_count": null,
   "metadata": {},
   "outputs": [],
   "source": []
  },
  {
   "cell_type": "code",
   "execution_count": 62,
   "metadata": {},
   "outputs": [],
   "source": [
    "weights = Tracker.data.(params(model));\n",
    "\n",
    "using BSON: @save # https://github.com/JuliaIO/BSON.jl\n",
    "\n",
    "@save \"15Msymb_pluslayer.bson\" weights"
   ]
  },
  {
   "cell_type": "code",
   "execution_count": null,
   "metadata": {},
   "outputs": [],
   "source": []
  }
 ],
 "metadata": {
  "@webio": {
   "lastCommId": null,
   "lastKernelId": null
  },
  "kernelspec": {
   "display_name": "Julia 1.2.0",
   "language": "julia",
   "name": "julia-1.2"
  },
  "language_info": {
   "file_extension": ".jl",
   "mimetype": "application/julia",
   "name": "julia",
   "version": "1.2.0"
  }
 },
 "nbformat": 4,
 "nbformat_minor": 2
}
