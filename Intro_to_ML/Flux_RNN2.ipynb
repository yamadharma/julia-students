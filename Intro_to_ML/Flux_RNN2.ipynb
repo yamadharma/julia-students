{
 "cells": [
  {
   "cell_type": "code",
   "execution_count": 1,
   "metadata": {
    "scrolled": true
   },
   "outputs": [],
   "source": [
    "using HTTP, Gumbo, Cascadia"
   ]
  },
  {
   "cell_type": "markdown",
   "metadata": {},
   "source": [
    "https://juliaweb.github.io/HTTP.jl/stable/internal_interface/\n",
    "\n",
    "https://estadistika.github.io/web/scraping/philippines/julia/programming/packages/2018/10/30/Introduction-to-Web-Scraping-Julia.html\n",
    "\n",
    "https://github.com/JuliaWeb/Gumbo.jl\n",
    "\n",
    "https://github.com/Algocircle/Cascadia.jl"
   ]
  },
  {
   "cell_type": "markdown",
   "metadata": {},
   "source": [
    "Стягиваем код всей страницы:"
   ]
  },
  {
   "cell_type": "code",
   "execution_count": null,
   "metadata": {},
   "outputs": [],
   "source": [
    "url = \"https://poetory.ru/pir/rating\"; \n",
    "\n",
    "res = HTTP.get(url);\n",
    "\n",
    "body1 = String(res.body)"
   ]
  },
  {
   "cell_type": "code",
   "execution_count": null,
   "metadata": {},
   "outputs": [],
   "source": [
    "htmlka = parsehtml(body1);\n",
    "\n",
    "htmlka.root"
   ]
  },
  {
   "cell_type": "code",
   "execution_count": 30,
   "metadata": {
    "scrolled": true
   },
   "outputs": [
    {
     "name": "stdout",
     "output_type": "stream",
     "text": [
      "search: \u001b[0m\u001b[1me\u001b[22m\u001b[0m\u001b[1ma\u001b[22m\u001b[0m\u001b[1mc\u001b[22m\u001b[0m\u001b[1mh\u001b[22m\u001b[0m\u001b[1mm\u001b[22m\u001b[0m\u001b[1ma\u001b[22m\u001b[0m\u001b[1mt\u001b[22m\u001b[0m\u001b[1mc\u001b[22m\u001b[0m\u001b[1mh\u001b[22m\n",
      "\n"
     ]
    },
    {
     "data": {
      "text/latex": [
       "\\begin{verbatim}\n",
       "eachmatch(r::Regex, s::AbstractString; overlap::Bool=false)\n",
       "\\end{verbatim}\n",
       "Search for all matches of a the regular expression \\texttt{r} in \\texttt{s} and return a iterator over the matches. If overlap is \\texttt{true}, the matching sequences are allowed to overlap indices in the original string, otherwise they must be from distinct character ranges.\n",
       "\n",
       "\\section{Examples}\n",
       "\\begin{verbatim}\n",
       "julia> rx = r\"a.a\"\n",
       "r\"a.a\"\n",
       "\n",
       "julia> m = eachmatch(rx, \"a1a2a3a\")\n",
       "Base.RegexMatchIterator(r\"a.a\", \"a1a2a3a\", false)\n",
       "\n",
       "julia> collect(m)\n",
       "2-element Array{RegexMatch,1}:\n",
       " RegexMatch(\"a1a\")\n",
       " RegexMatch(\"a3a\")\n",
       "\n",
       "julia> collect(eachmatch(rx, \"a1a2a3a\", overlap = true))\n",
       "3-element Array{RegexMatch,1}:\n",
       " RegexMatch(\"a1a\")\n",
       " RegexMatch(\"a2a\")\n",
       " RegexMatch(\"a3a\")\n",
       "\\end{verbatim}\n"
      ],
      "text/markdown": [
       "```\n",
       "eachmatch(r::Regex, s::AbstractString; overlap::Bool=false)\n",
       "```\n",
       "\n",
       "Search for all matches of a the regular expression `r` in `s` and return a iterator over the matches. If overlap is `true`, the matching sequences are allowed to overlap indices in the original string, otherwise they must be from distinct character ranges.\n",
       "\n",
       "# Examples\n",
       "\n",
       "```jldoctest\n",
       "julia> rx = r\"a.a\"\n",
       "r\"a.a\"\n",
       "\n",
       "julia> m = eachmatch(rx, \"a1a2a3a\")\n",
       "Base.RegexMatchIterator(r\"a.a\", \"a1a2a3a\", false)\n",
       "\n",
       "julia> collect(m)\n",
       "2-element Array{RegexMatch,1}:\n",
       " RegexMatch(\"a1a\")\n",
       " RegexMatch(\"a3a\")\n",
       "\n",
       "julia> collect(eachmatch(rx, \"a1a2a3a\", overlap = true))\n",
       "3-element Array{RegexMatch,1}:\n",
       " RegexMatch(\"a1a\")\n",
       " RegexMatch(\"a2a\")\n",
       " RegexMatch(\"a3a\")\n",
       "```\n"
      ],
      "text/plain": [
       "\u001b[36m  eachmatch(r::Regex, s::AbstractString; overlap::Bool=false)\u001b[39m\n",
       "\n",
       "  Search for all matches of a the regular expression \u001b[36mr\u001b[39m in \u001b[36ms\u001b[39m and return a\n",
       "  iterator over the matches. If overlap is \u001b[36mtrue\u001b[39m, the matching sequences are\n",
       "  allowed to overlap indices in the original string, otherwise they must be\n",
       "  from distinct character ranges.\n",
       "\n",
       "\u001b[1m  Examples\u001b[22m\n",
       "\u001b[1m  ≡≡≡≡≡≡≡≡≡≡\u001b[22m\n",
       "\n",
       "\u001b[36m  julia> rx = r\"a.a\"\u001b[39m\n",
       "\u001b[36m  r\"a.a\"\u001b[39m\n",
       "\u001b[36m  \u001b[39m\n",
       "\u001b[36m  julia> m = eachmatch(rx, \"a1a2a3a\")\u001b[39m\n",
       "\u001b[36m  Base.RegexMatchIterator(r\"a.a\", \"a1a2a3a\", false)\u001b[39m\n",
       "\u001b[36m  \u001b[39m\n",
       "\u001b[36m  julia> collect(m)\u001b[39m\n",
       "\u001b[36m  2-element Array{RegexMatch,1}:\u001b[39m\n",
       "\u001b[36m   RegexMatch(\"a1a\")\u001b[39m\n",
       "\u001b[36m   RegexMatch(\"a3a\")\u001b[39m\n",
       "\u001b[36m  \u001b[39m\n",
       "\u001b[36m  julia> collect(eachmatch(rx, \"a1a2a3a\", overlap = true))\u001b[39m\n",
       "\u001b[36m  3-element Array{RegexMatch,1}:\u001b[39m\n",
       "\u001b[36m   RegexMatch(\"a1a\")\u001b[39m\n",
       "\u001b[36m   RegexMatch(\"a2a\")\u001b[39m\n",
       "\u001b[36m   RegexMatch(\"a3a\")\u001b[39m"
      ]
     },
     "execution_count": 30,
     "metadata": {},
     "output_type": "execute_result"
    }
   ],
   "source": [
    "?eachmatch"
   ]
  },
  {
   "cell_type": "code",
   "execution_count": 33,
   "metadata": {},
   "outputs": [
    {
     "name": "stderr",
     "output_type": "stream",
     "text": [
      "┌ Info: Precompiling Cascadia [54eefc05-d75b-58de-a785-1a3403f0919f]\n",
      "└ @ Base loading.jl:1242\n"
     ]
    }
   ],
   "source": [
    "using Cascadia "
   ]
  },
  {
   "cell_type": "markdown",
   "metadata": {},
   "source": [
    "Опускаемся на уровень в котором находится текст:"
   ]
  },
  {
   "cell_type": "code",
   "execution_count": null,
   "metadata": {},
   "outputs": [],
   "source": [
    "qres = eachmatch(sel\".item-text\", htmlka.root)"
   ]
  },
  {
   "cell_type": "code",
   "execution_count": 13,
   "metadata": {
    "scrolled": true
   },
   "outputs": [
    {
     "data": {
      "text/plain": [
       "HTMLElement{:div}:\n",
       "<div class=\"item-text\">\n",
       "  а где тут руль спросил гагарин\n",
       "  деревня буркнул королёв\n",
       "  ещё спроси а где тут вожжи\n",
       "  ещё поехали скажи\n",
       "</div>\n"
      ]
     },
     "execution_count": 13,
     "metadata": {},
     "output_type": "execute_result"
    }
   ],
   "source": [
    "qres[1]"
   ]
  },
  {
   "cell_type": "code",
   "execution_count": 25,
   "metadata": {},
   "outputs": [
    {
     "data": {
      "text/plain": [
       "\"а где тут руль спросил гагарин\\nдеревня буркнул королёв\\nещё спроси а где тут вожжи\\nещё поехали скажи\""
      ]
     },
     "execution_count": 25,
     "metadata": {},
     "output_type": "execute_result"
    }
   ],
   "source": [
    "qres[1][1].text"
   ]
  },
  {
   "cell_type": "code",
   "execution_count": 37,
   "metadata": {
    "scrolled": true
   },
   "outputs": [
    {
     "name": "stdout",
     "output_type": "stream",
     "text": [
      "агдетутрульспросилгагариндеревнябуркнулкоролёвещёспросиагдетутвожжиещёпоехалискажи\n",
      "вотпозитивныйанатолийбылпосланнахуйносумелвернутьсябодрымотдохнувшимидвамагнитикапривез\n",
      "передоксанойвтёмномпаркеолеграспахиваетплащподнимвторойадальшетретийоксанатерпеливождёт\n",
      "алюбишьролевыеигрытебекогоизобразитьизобразимнечеловекакоторыйтолькочтоушел\n",
      "любимыйвзялменязалокотьподвёлкокнуипоказалвсёточегоянеувижувовекиеслинезаткнусь\n",
      "ильястараетсяскорееуравновеситьзлодобромувиделпарнибьютмальчишкукрасиворядомстанцевал\n",
      "актонесмылговноребятанегромкопроизнесолегисразусталовсемпонятноволшебныйвечерневернуть\n",
      "лопаткирудиментыкрыльевимнеихсводиткаждыйразкогдавпросветымеждомамиитучамивдругсинева\n",
      "сегодняольгойовладелисперватоскапотомолегпотомопятьолегещеразиокончательнотоска\n",
      "давайтебудемвеселитьсяберёмтопорсадимсявкругиграпростаякаквбутылкуноназываетсятопор\n",
      "сперваженамоясбежалапотомсобакаикотысейчассмотрюкактруднорыбкамаквариумтолкатькдверям\n",
      "ужелимаматыневидишькакаявокнахчернотапрошутебяненадовсадиксквозьэтоткосмоследяной\n",
      "когдаясталполовозрелыйтоженщинсразуподелилнатехкоторыхнедостоинитехкоторыхнехочу\n",
      "искусствоведовгруппатиховосторженноглядитнахолстивдругодинседойистрогийотчетливосказалговно\n",
      "мнемамавдетствеговорилаучиурокизубычистьурокикончилисьизубыподходятмедленнокконцу\n",
      "наслучайеслимарсианенасизучаютвтелескопянаписалнакрышежопакакпредостережение\n",
      "ясотвращеньемхлопнулдверьюнопонялвдругчтоперегнулоткрылопятьисновахлопнулбезотвращенияуже\n",
      "напокосившемсязаборесеменнапишетсловожукидетямпочитатьнестыдноивзрослымпищадляума\n",
      "перезвониперезвонимнешепталвсюночьявтелефонкоторыйложкойнацарапанвмоейпалатенастене\n",
      "добродолжнобытьскулакамииятеперьпокулакамопределяюктодобрееижмусьдоверчивоктому\n",
      "шестьполушарийуоксанычетырепривлекатьсамцовдвауправляютостальнымимаксимизируяпоток\n",
      "люблютебяписалапальцемпольдуоконногостекланогдетовсерединефразыупальцакончилосьтепло\n",
      "нухочешьяубьюсоседейитысказалаахочуаяктакомуповоротупризнаюсьчестнонеготов\n",
      "какмызависимыотпрочихпечальновыдохнулудавприобретаяформутелаупотребленнойимсвиньи\n",
      "вмоейдушескребутсякошкинавернотамунихлотокнаверноонужезаполненискоронадовыносить\n",
      "какбудтомыстобойдругдругаразматываемкакклубкимысталименьшеимнестрашночтотызакончишьсябыстрей\n",
      "всегоглавнеепродержатьсядосерединыфевраляатампрактическибессмертнывсектодоэтогонесдох\n",
      "давайтевыебемвадимадонессяголосизтолпыкогопереспросилилюдивадимаповторилвадим\n",
      "какможножитьсовсембезхлебаиснепомытоюплитойспросиландрейисразуумерпокрайнеймередляменя\n",
      "купилайфоначоснимделатьгдекнопкичтобынажиматьикакмнепозвонитьсерегеавотионзвонитичо\n"
     ]
    }
   ],
   "source": [
    "# немного балуемся\n",
    "for elem in qres\n",
    "    println(replace(text(elem[1]), r\"\\n|\\t|\\s\" => s\"\"))\n",
    "end"
   ]
  },
  {
   "cell_type": "code",
   "execution_count": null,
   "metadata": {},
   "outputs": [],
   "source": [
    "str = \"\"\n",
    "i = 1\n",
    "for elem in qres\n",
    "    str *= (elem[1].text * \"\\n\\n\")\n",
    "    print(\"$i \")\n",
    "    i+=1\n",
    "end\n",
    "str"
   ]
  },
  {
   "cell_type": "code",
   "execution_count": 37,
   "metadata": {},
   "outputs": [],
   "source": [
    "f = open(\"pies0.txt\")\n",
    "lines = read(f, String)\n",
    "close(f)"
   ]
  },
  {
   "cell_type": "markdown",
   "metadata": {},
   "source": [
    "листаем страницы и каждую парсим:"
   ]
  },
  {
   "cell_type": "code",
   "execution_count": null,
   "metadata": {},
   "outputs": [],
   "source": [
    "function grabit(npages)\n",
    "    str = \"\"\n",
    "    for i = 1:npages\n",
    "\n",
    "        url = \"https://poetory.ru/por/rating/$i\"; #  https://poetory.ru/pir/rating/$i\n",
    "\n",
    "        res = HTTP.get(url)\n",
    "        body1 = String(res.body)\n",
    "        htmlka = parsehtml(body1);\n",
    "        qres = eachmatch(sel\".item-text\", htmlka.root)\n",
    "\n",
    "        for elem in qres\n",
    "            str *= (elem[1].text * \"\\n\\n\")\n",
    "        end\n",
    "        print(i, ' ')\n",
    "    end\n",
    "    \n",
    "    f = open(\"poroh.txt\",\"w\")\n",
    "    write(f, str)\n",
    "    close(f)\n",
    "end\n",
    "\n",
    "grabit(30)"
   ]
  },
  {
   "cell_type": "markdown",
   "metadata": {},
   "source": [
    "https://fluxml.ai/Flux.jl/stable/models/recurrence/\n",
    "\n",
    "https://github.com/FluxML/model-zoo/\n",
    "\n",
    "https://denizyuret.github.io/Knet.jl/latest/rnn/\n",
    "\n",
    "https://colah.github.io/posts/2015-08-Understanding-LSTMs/ find rus\n",
    "\n",
    "https://habr.com/ru/company/wunderfund/blog/331310/"
   ]
  },
  {
   "cell_type": "code",
   "execution_count": 1,
   "metadata": {
    "scrolled": true
   },
   "outputs": [
    {
     "data": {
      "text/plain": [
       "4724813"
      ]
     },
     "execution_count": 1,
     "metadata": {},
     "output_type": "execute_result"
    }
   ],
   "source": [
    "str = read(\"pies.txt\", String) * read(\"poroh.txt\", String); # склеить две строки\n",
    "length(str)"
   ]
  },
  {
   "cell_type": "code",
   "execution_count": 2,
   "metadata": {
    "scrolled": true
   },
   "outputs": [
    {
     "data": {
      "text/plain": [
       "\"\\n !\\\"&()*,-./146:?@_acdefhiklmnopqrstuvwxy«\\uad»ëıņƍǝǹɐɓɔɯɹʁʎʚʞεАБВДЕИКМНОРСТУЧЭЯабвгдежзийклмнопрстуфхцчшщъыьэюяёєіўҺ\\u200b–\""
      ]
     },
     "execution_count": 2,
     "metadata": {},
     "output_type": "execute_result"
    }
   ],
   "source": [
    "prod(sort([unique(str)..., '_']) )"
   ]
  },
  {
   "cell_type": "code",
   "execution_count": 6,
   "metadata": {},
   "outputs": [
    {
     "data": {
      "text/plain": [
       "'ж': Unicode U+0436 (category Ll: Letter, lowercase)"
      ]
     },
     "execution_count": 6,
     "metadata": {},
     "output_type": "execute_result"
    }
   ],
   "source": [
    "'Ж' +32"
   ]
  },
  {
   "cell_type": "code",
   "execution_count": 3,
   "metadata": {},
   "outputs": [
    {
     "data": {
      "text/plain": [
       "\"\\n абвгдежзийклмнопрстуфхцчшщъыьэюя\""
      ]
     },
     "execution_count": 3,
     "metadata": {},
     "output_type": "execute_result"
    }
   ],
   "source": [
    "str = lowercase(str) # убрать заглавные буквы\n",
    "str = replace(str, r\"ё|Ё\" => s\"е\" );\n",
    "\n",
    "trash = \"!\\\"#\\$&'()*+,-./012345678:<>?@ABCDEFGHIKLMNOPQRSTUV[]^__abcdefghijklmnopqrstuvwxyz«\\uad°º»¾¿ÐÑßàáãäåæçèéêëìíîðñóõöùûüýþÿıņōŏƍǝǹɐɓɔɯɹʁʎʚʞ́εєіїўѣһҺאבהוחטיךלםמעףצקרשתئاةتجدرزسعكلمنهوپچڑکگںھہیے\\u200b–—…€║╛╨█□✔\\ufeff\"\n",
    "\n",
    "for c in collect(trash)\n",
    "    str = replace(str, c => \"\");\n",
    "end\n",
    "\n",
    "for c in \"　  \"\n",
    "    str = replace(str, c => \" \");\n",
    "end\n",
    "\n",
    "alstr = str |> unique |> sort |> prod\n",
    "#prod(sort(unique(str)) )"
   ]
  },
  {
   "cell_type": "code",
   "execution_count": 161,
   "metadata": {
    "scrolled": true
   },
   "outputs": [
    {
     "data": {
      "text/plain": [
       "34"
      ]
     },
     "execution_count": 161,
     "metadata": {},
     "output_type": "execute_result"
    }
   ],
   "source": [
    "length(alstr)"
   ]
  },
  {
   "cell_type": "code",
   "execution_count": 4,
   "metadata": {},
   "outputs": [
    {
     "data": {
      "text/plain": [
       "4724474"
      ]
     },
     "execution_count": 4,
     "metadata": {},
     "output_type": "execute_result"
    }
   ],
   "source": [
    "length(str)"
   ]
  },
  {
   "cell_type": "code",
   "execution_count": 119,
   "metadata": {},
   "outputs": [
    {
     "data": {
      "text/plain": [
       "' ': Unicode U+2001 (category Zs: Separator, space)"
      ]
     },
     "execution_count": 119,
     "metadata": {},
     "output_type": "execute_result"
    }
   ],
   "source": [
    "collect(\"　  \")[2]"
   ]
  },
  {
   "cell_type": "code",
   "execution_count": 101,
   "metadata": {},
   "outputs": [
    {
     "name": "stdout",
     "output_type": "stream",
     "text": [
      "\n",
      " 372592\n",
      "  50555514\n",
      "а 492494\n",
      "б 104801\n",
      "в 251141\n",
      "г 102734\n",
      "д 183058\n",
      "е 468887\n",
      "ж 60678\n",
      "з 103012\n",
      "и 367368\n",
      "й 87144\n",
      "к 226276\n",
      "л 269941\n",
      "м 187316\n",
      "н 359007\n",
      "о 568397\n",
      "п 176211\n",
      "р 273582\n",
      "с 304114\n",
      "т 376727\n",
      "у 185687\n",
      "ф 12579\n",
      "х 57331\n",
      "ц 22713\n",
      "ч 82462\n",
      "ш 56806\n",
      "щ 14464\n",
      "ъ 1653\n",
      "ы 111947\n",
      "ь 122284\n",
      "э 12732\n",
      "ю 42796\n",
      "я 114735\n"
     ]
    }
   ],
   "source": [
    "d = Dict((c, 0) for c in alstr)\n",
    "\n",
    "for c in str\n",
    "    d[c] += 1\n",
    "end\n",
    "\n",
    "for c in alstr\n",
    "    println(c, ' ', d[c])\n",
    "end"
   ]
  },
  {
   "cell_type": "markdown",
   "metadata": {},
   "source": [
    "ну хотяб твердыми знаками можно пожертвовать"
   ]
  },
  {
   "cell_type": "code",
   "execution_count": 6,
   "metadata": {},
   "outputs": [],
   "source": [
    "str = replace(str, \"ъ\" => \"ь\" );\n",
    "str = replace(str, \"э\" => \"е\" );\n",
    "str = replace(str, \"щ\" => \"ш\" );"
   ]
  },
  {
   "cell_type": "code",
   "execution_count": 23,
   "metadata": {},
   "outputs": [],
   "source": [
    "# str = str^5; # больше данных богу данных"
   ]
  },
  {
   "cell_type": "code",
   "execution_count": 24,
   "metadata": {},
   "outputs": [
    {
     "data": {
      "text/plain": [
       "23622370"
      ]
     },
     "execution_count": 24,
     "metadata": {},
     "output_type": "execute_result"
    }
   ],
   "source": [
    "texta = collect(str)\n",
    "length(texta)"
   ]
  },
  {
   "cell_type": "code",
   "execution_count": 8,
   "metadata": {},
   "outputs": [],
   "source": [
    "using Flux\n",
    "using Flux: onehot, chunk, batchseq, throttle, crossentropy\n",
    "using StatsBase: wsample\n",
    "using Base.Iterators: partition, repeated"
   ]
  },
  {
   "cell_type": "code",
   "execution_count": 25,
   "metadata": {},
   "outputs": [
    {
     "data": {
      "text/plain": [
       "32"
      ]
     },
     "execution_count": 25,
     "metadata": {},
     "output_type": "execute_result"
    }
   ],
   "source": [
    "alphabet = [unique(texta)..., '_']\n",
    "texta = map(ch -> onehot(ch, alphabet), texta)\n",
    "stopa = onehot('_', alphabet)\n",
    "length(alphabet)"
   ]
  },
  {
   "cell_type": "code",
   "execution_count": 26,
   "metadata": {},
   "outputs": [],
   "source": [
    "N = length(alphabet)\n",
    "seqlen = 256\n",
    "nbatch = 128\n",
    "\n",
    "Xs = collect(partition(batchseq(chunk(texta, nbatch), stopa), seqlen))\n",
    "Ys = collect(partition(batchseq(chunk(texta[2:end], nbatch), stopa), seqlen));"
   ]
  },
  {
   "cell_type": "markdown",
   "metadata": {},
   "source": [
    "## LSTM"
   ]
  },
  {
   "cell_type": "code",
   "execution_count": 27,
   "metadata": {},
   "outputs": [
    {
     "data": {
      "text/plain": [
       "Chain(Recur(LSTMCell(32, 256)), Recur(LSTMCell(256, 128)), Dense(128, 32), softmax)"
      ]
     },
     "execution_count": 27,
     "metadata": {},
     "output_type": "execute_result"
    }
   ],
   "source": [
    "m = Chain(\n",
    "  LSTM(N, 256),\n",
    "  LSTM(256, 128),\n",
    "  Dense(128, N),\n",
    "  softmax)\n",
    "\n",
    "# m = gpu(m)"
   ]
  },
  {
   "cell_type": "code",
   "execution_count": null,
   "metadata": {},
   "outputs": [],
   "source": [
    "using BSON: @load\n",
    "\n",
    "@load \"Pies_32x128.bson\" weights\n",
    "\n",
    "Flux.loadparams!(m, weights)"
   ]
  },
  {
   "cell_type": "code",
   "execution_count": 28,
   "metadata": {},
   "outputs": [
    {
     "data": {
      "text/plain": [
       "loss (generic function with 1 method)"
      ]
     },
     "execution_count": 28,
     "metadata": {},
     "output_type": "execute_result"
    }
   ],
   "source": [
    "function loss(xs, ys)\n",
    "  l = sum(crossentropy.(m.(gpu.(xs)), gpu.(ys)))\n",
    "  Flux.truncate!(m)\n",
    "  return l\n",
    "end"
   ]
  },
  {
   "cell_type": "code",
   "execution_count": 29,
   "metadata": {},
   "outputs": [
    {
     "data": {
      "text/plain": [
       "#9 (generic function with 1 method)"
      ]
     },
     "execution_count": 29,
     "metadata": {},
     "output_type": "execute_result"
    }
   ],
   "source": [
    "opt = ADAM(0.01)\n",
    "tx, ty = (Xs[5], Ys[5])\n",
    "evalcb = () -> @show loss(tx, ty)"
   ]
  },
  {
   "cell_type": "code",
   "execution_count": 30,
   "metadata": {
    "scrolled": true
   },
   "outputs": [
    {
     "name": "stdout",
     "output_type": "stream",
     "text": [
      "loss(tx, ty) = 873.60315f0 (tracked)\n",
      "loss(tx, ty) = 805.25995f0 (tracked)\n",
      "loss(tx, ty) = 800.35846f0 (tracked)\n",
      "loss(tx, ty) = 798.44867f0 (tracked)\n",
      "loss(tx, ty) = 795.79205f0 (tracked)\n",
      "loss(tx, ty) = 789.42377f0 (tracked)\n",
      "loss(tx, ty) = 776.32166f0 (tracked)\n",
      "loss(tx, ty) = 765.5639f0 (tracked)\n",
      "loss(tx, ty) = 743.29565f0 (tracked)\n",
      "loss(tx, ty) = 731.0694f0 (tracked)\n",
      "loss(tx, ty) = 719.9304f0 (tracked)\n",
      "loss(tx, ty) = 701.66437f0 (tracked)\n",
      "loss(tx, ty) = 688.51587f0 (tracked)\n",
      "loss(tx, ty) = 681.7447f0 (tracked)\n",
      "loss(tx, ty) = 674.2213f0 (tracked)\n",
      "loss(tx, ty) = 669.60913f0 (tracked)\n",
      "loss(tx, ty) = 663.229f0 (tracked)\n",
      "loss(tx, ty) = 657.27374f0 (tracked)\n",
      "loss(tx, ty) = 652.7233f0 (tracked)\n",
      "loss(tx, ty) = 646.438f0 (tracked)\n",
      "loss(tx, ty) = 641.05585f0 (tracked)\n",
      "loss(tx, ty) = 636.2187f0 (tracked)\n",
      "loss(tx, ty) = 635.2607f0 (tracked)\n",
      "loss(tx, ty) = 629.1828f0 (tracked)\n",
      "loss(tx, ty) = 625.69904f0 (tracked)\n",
      "loss(tx, ty) = 620.22363f0 (tracked)\n",
      "loss(tx, ty) = 614.09607f0 (tracked)\n",
      "loss(tx, ty) = 611.2547f0 (tracked)\n",
      "loss(tx, ty) = 608.32684f0 (tracked)\n",
      "loss(tx, ty) = 602.5946f0 (tracked)\n",
      "loss(tx, ty) = 597.26544f0 (tracked)\n",
      "loss(tx, ty) = 591.51135f0 (tracked)\n",
      "loss(tx, ty) = 595.4061f0 (tracked)\n",
      "loss(tx, ty) = 586.0082f0 (tracked)\n",
      "loss(tx, ty) = 580.48224f0 (tracked)\n",
      "loss(tx, ty) = 574.3034f0 (tracked)\n",
      "loss(tx, ty) = 569.5145f0 (tracked)\n",
      "loss(tx, ty) = 574.76764f0 (tracked)\n",
      "loss(tx, ty) = 567.3471f0 (tracked)\n",
      "loss(tx, ty) = 561.50806f0 (tracked)\n",
      "loss(tx, ty) = 557.3714f0 (tracked)\n",
      "loss(tx, ty) = 553.16876f0 (tracked)\n",
      "loss(tx, ty) = 553.9926f0 (tracked)\n",
      "loss(tx, ty) = 549.45764f0 (tracked)\n",
      "loss(tx, ty) = 545.43524f0 (tracked)\n",
      "loss(tx, ty) = 544.7747f0 (tracked)\n",
      "loss(tx, ty) = 540.7303f0 (tracked)\n",
      "loss(tx, ty) = 536.1893f0 (tracked)\n",
      "loss(tx, ty) = 536.9677f0 (tracked)\n",
      "loss(tx, ty) = 534.6277f0 (tracked)\n",
      "loss(tx, ty) = 529.89636f0 (tracked)\n",
      "loss(tx, ty) = 526.3516f0 (tracked)\n",
      "loss(tx, ty) = 524.8752f0 (tracked)\n",
      "loss(tx, ty) = 522.73755f0 (tracked)\n",
      "loss(tx, ty) = 519.03845f0 (tracked)\n",
      "loss(tx, ty) = 516.917f0 (tracked)\n",
      "loss(tx, ty) = 515.45605f0 (tracked)\n",
      "loss(tx, ty) = 513.40735f0 (tracked)\n",
      "loss(tx, ty) = 514.5582f0 (tracked)\n",
      "loss(tx, ty) = 511.49902f0 (tracked)\n",
      "loss(tx, ty) = 509.3914f0 (tracked)\n",
      "loss(tx, ty) = 507.22675f0 (tracked)\n",
      "loss(tx, ty) = 505.2553f0 (tracked)\n",
      "loss(tx, ty) = 502.03607f0 (tracked)\n",
      "loss(tx, ty) = 500.83658f0 (tracked)\n",
      "loss(tx, ty) = 499.542f0 (tracked)\n",
      "loss(tx, ty) = 497.40002f0 (tracked)\n",
      "loss(tx, ty) = 498.17404f0 (tracked)\n",
      "loss(tx, ty) = 493.98505f0 (tracked)\n",
      "loss(tx, ty) = 492.27005f0 (tracked)\n",
      "loss(tx, ty) = 492.0018f0 (tracked)\n",
      "loss(tx, ty) = 490.15268f0 (tracked)\n",
      "loss(tx, ty) = 487.49295f0 (tracked)\n",
      "loss(tx, ty) = 489.78857f0 (tracked)\n",
      "loss(tx, ty) = 487.43198f0 (tracked)\n",
      "loss(tx, ty) = 484.2903f0 (tracked)\n",
      "loss(tx, ty) = 483.03482f0 (tracked)\n",
      "loss(tx, ty) = 479.82043f0 (tracked)\n",
      "loss(tx, ty) = 475.81155f0 (tracked)\n",
      "loss(tx, ty) = 472.9842f0 (tracked)\n",
      "loss(tx, ty) = 472.87085f0 (tracked)\n",
      "loss(tx, ty) = 470.8353f0 (tracked)\n",
      "loss(tx, ty) = 472.11826f0 (tracked)\n",
      "loss(tx, ty) = 470.74008f0 (tracked)\n",
      "loss(tx, ty) = 470.23065f0 (tracked)\n",
      "loss(tx, ty) = 469.95972f0 (tracked)\n",
      "loss(tx, ty) = 469.67593f0 (tracked)\n",
      "loss(tx, ty) = 470.29794f0 (tracked)\n",
      "loss(tx, ty) = 467.3797f0 (tracked)\n",
      "loss(tx, ty) = 465.37378f0 (tracked)\n",
      "loss(tx, ty) = 465.01285f0 (tracked)\n",
      "loss(tx, ty) = 464.91974f0 (tracked)\n",
      "loss(tx, ty) = 463.3f0 (tracked)\n",
      "loss(tx, ty) = 461.6736f0 (tracked)\n",
      "loss(tx, ty) = 460.4492f0 (tracked)\n",
      "loss(tx, ty) = 460.35443f0 (tracked)\n",
      "loss(tx, ty) = 459.55014f0 (tracked)\n",
      "loss(tx, ty) = 458.46768f0 (tracked)\n",
      "loss(tx, ty) = 458.17163f0 (tracked)\n",
      "loss(tx, ty) = 462.7825f0 (tracked)\n",
      "loss(tx, ty) = 463.34525f0 (tracked)\n",
      "loss(tx, ty) = 457.2237f0 (tracked)\n",
      "loss(tx, ty) = 457.60635f0 (tracked)\n",
      "loss(tx, ty) = 455.83975f0 (tracked)\n",
      "loss(tx, ty) = 455.5875f0 (tracked)\n",
      "loss(tx, ty) = 454.15866f0 (tracked)\n",
      "loss(tx, ty) = 453.486f0 (tracked)\n",
      "loss(tx, ty) = 453.08496f0 (tracked)\n",
      "loss(tx, ty) = 451.16287f0 (tracked)\n",
      "loss(tx, ty) = 450.69824f0 (tracked)\n",
      "loss(tx, ty) = 450.2369f0 (tracked)\n",
      "loss(tx, ty) = 449.95218f0 (tracked)\n",
      "loss(tx, ty) = 449.30283f0 (tracked)\n",
      "loss(tx, ty) = 448.1268f0 (tracked)\n",
      "loss(tx, ty) = 447.22028f0 (tracked)\n",
      "loss(tx, ty) = 448.0713f0 (tracked)\n",
      "loss(tx, ty) = 447.7258f0 (tracked)\n",
      "loss(tx, ty) = 447.20224f0 (tracked)\n",
      "loss(tx, ty) = 445.85248f0 (tracked)\n",
      "loss(tx, ty) = 444.20004f0 (tracked)\n",
      "loss(tx, ty) = 443.90918f0 (tracked)\n",
      "loss(tx, ty) = 443.89423f0 (tracked)\n",
      "loss(tx, ty) = 443.35693f0 (tracked)\n",
      "loss(tx, ty) = 442.71826f0 (tracked)\n",
      "loss(tx, ty) = 441.71686f0 (tracked)\n",
      "loss(tx, ty) = 440.85007f0 (tracked)\n",
      "loss(tx, ty) = 434.0711f0 (tracked)\n",
      "loss(tx, ty) = 433.4569f0 (tracked)\n",
      "loss(tx, ty) = 432.1264f0 (tracked)\n",
      "loss(tx, ty) = 430.90344f0 (tracked)\n",
      "loss(tx, ty) = 431.92624f0 (tracked)\n",
      "loss(tx, ty) = 432.68463f0 (tracked)\n",
      "loss(tx, ty) = 431.60162f0 (tracked)\n",
      "loss(tx, ty) = 432.16324f0 (tracked)\n",
      "loss(tx, ty) = 432.15637f0 (tracked)\n",
      "loss(tx, ty) = 432.12924f0 (tracked)\n",
      "loss(tx, ty) = 431.48685f0 (tracked)\n",
      "loss(tx, ty) = 432.95468f0 (tracked)\n",
      "loss(tx, ty) = 432.9856f0 (tracked)\n",
      "loss(tx, ty) = 431.72034f0 (tracked)\n",
      "loss(tx, ty) = 431.56183f0 (tracked)\n",
      "loss(tx, ty) = 430.54807f0 (tracked)\n",
      "loss(tx, ty) = 430.51672f0 (tracked)\n",
      "loss(tx, ty) = 432.74f0 (tracked)\n",
      "loss(tx, ty) = 436.0133f0 (tracked)\n",
      "loss(tx, ty) = 440.16492f0 (tracked)\n",
      "loss(tx, ty) = 438.08786f0 (tracked)\n",
      "loss(tx, ty) = 434.132f0 (tracked)\n",
      "loss(tx, ty) = 432.37384f0 (tracked)\n",
      "loss(tx, ty) = 430.7116f0 (tracked)\n",
      "loss(tx, ty) = 429.4474f0 (tracked)\n",
      "loss(tx, ty) = 430.38922f0 (tracked)\n",
      "loss(tx, ty) = 428.8616f0 (tracked)\n",
      "loss(tx, ty) = 428.26483f0 (tracked)\n",
      "loss(tx, ty) = 428.19757f0 (tracked)\n",
      "loss(tx, ty) = 427.0941f0 (tracked)\n",
      "loss(tx, ty) = 426.4757f0 (tracked)\n",
      "loss(tx, ty) = 426.3669f0 (tracked)\n",
      "loss(tx, ty) = 426.97348f0 (tracked)\n",
      "loss(tx, ty) = 425.96185f0 (tracked)\n",
      "loss(tx, ty) = 425.91837f0 (tracked)\n",
      "loss(tx, ty) = 425.93674f0 (tracked)\n",
      "loss(tx, ty) = 424.36523f0 (tracked)\n",
      "loss(tx, ty) = 423.88474f0 (tracked)\n",
      "loss(tx, ty) = 423.13657f0 (tracked)\n",
      "loss(tx, ty) = 423.2426f0 (tracked)\n",
      "loss(tx, ty) = 423.5439f0 (tracked)\n",
      "loss(tx, ty) = 424.55298f0 (tracked)\n",
      "loss(tx, ty) = 424.9306f0 (tracked)\n",
      "loss(tx, ty) = 424.14258f0 (tracked)\n",
      "loss(tx, ty) = 425.2401f0 (tracked)\n",
      "loss(tx, ty) = 421.93158f0 (tracked)\n",
      "loss(tx, ty) = 422.77957f0 (tracked)\n",
      "loss(tx, ty) = 419.03745f0 (tracked)\n",
      "loss(tx, ty) = 413.5056f0 (tracked)\n",
      "loss(tx, ty) = 411.00482f0 (tracked)\n",
      "loss(tx, ty) = 410.74023f0 (tracked)\n",
      "loss(tx, ty) = 410.85382f0 (tracked)\n",
      "loss(tx, ty) = 410.69058f0 (tracked)\n",
      "loss(tx, ty) = 410.14352f0 (tracked)\n",
      "loss(tx, ty) = 410.79755f0 (tracked)\n",
      "loss(tx, ty) = 410.6129f0 (tracked)\n",
      "loss(tx, ty) = 410.9727f0 (tracked)\n",
      "loss(tx, ty) = 412.10925f0 (tracked)\n",
      "loss(tx, ty) = 411.28604f0 (tracked)\n",
      "loss(tx, ty) = 411.80643f0 (tracked)\n",
      "loss(tx, ty) = 411.3853f0 (tracked)\n",
      "loss(tx, ty) = 411.96112f0 (tracked)\n",
      "loss(tx, ty) = 413.17886f0 (tracked)\n",
      "loss(tx, ty) = 411.2881f0 (tracked)\n",
      "loss(tx, ty) = 411.68964f0 (tracked)\n",
      "loss(tx, ty) = 411.8253f0 (tracked)\n",
      "loss(tx, ty) = 411.77725f0 (tracked)\n",
      "loss(tx, ty) = 411.58005f0 (tracked)\n",
      "loss(tx, ty) = 411.603f0 (tracked)\n",
      "loss(tx, ty) = 412.5608f0 (tracked)\n",
      "loss(tx, ty) = 412.75122f0 (tracked)\n",
      "loss(tx, ty) = 412.9566f0 (tracked)\n",
      "loss(tx, ty) = 411.51913f0 (tracked)\n",
      "loss(tx, ty) = 411.05786f0 (tracked)\n",
      "loss(tx, ty) = 411.4823f0 (tracked)\n",
      "loss(tx, ty) = 411.06558f0 (tracked)\n",
      "loss(tx, ty) = 410.97504f0 (tracked)\n",
      "loss(tx, ty) = 410.63315f0 (tracked)\n",
      "loss(tx, ty) = 408.70844f0 (tracked)\n",
      "loss(tx, ty) = 409.4354f0 (tracked)\n",
      "loss(tx, ty) = 409.35986f0 (tracked)\n",
      "loss(tx, ty) = 410.1814f0 (tracked)\n",
      "loss(tx, ty) = 409.68042f0 (tracked)\n",
      "loss(tx, ty) = 408.82584f0 (tracked)\n",
      "loss(tx, ty) = 409.4891f0 (tracked)\n",
      "loss(tx, ty) = 408.27014f0 (tracked)\n",
      "loss(tx, ty) = 408.22012f0 (tracked)\n",
      "loss(tx, ty) = 408.1532f0 (tracked)\n",
      "loss(tx, ty) = 407.83395f0 (tracked)\n",
      "loss(tx, ty) = 407.76926f0 (tracked)\n",
      "loss(tx, ty) = 408.28714f0 (tracked)\n",
      "loss(tx, ty) = 407.91077f0 (tracked)\n",
      "loss(tx, ty) = "
     ]
    },
    {
     "ename": "InterruptException",
     "evalue": "InterruptException:",
     "output_type": "error",
     "traceback": [
      "InterruptException:",
      "",
      "Stacktrace:",
      " [1] try_yieldto(::typeof(Base.ensure_rescheduled), ::Base.RefValue{Task}) at .\\task.jl:517",
      " [2] wait() at .\\task.jl:592",
      " [3] uv_write(::Base.PipeEndpoint, ::Ptr{UInt8}, ::UInt64) at .\\stream.jl:883",
      " [4] unsafe_write(::Base.PipeEndpoint, ::Ptr{UInt8}, ::UInt64) at .\\stream.jl:931",
      " [5] macro expansion at .\\io.jl:238 [inlined]",
      " [6] write at .\\strings\\io.jl:177 [inlined]",
      " [7] print(::IJulia.IJuliaStdio{Base.PipeEndpoint}, ::String) at .\\strings\\io.jl:179",
      " [8] print(::IJulia.IJuliaStdio{Base.PipeEndpoint}, ::String, ::String, ::Vararg{Any,N} where N) at .\\strings\\io.jl:48",
      " [9] println(::IJulia.IJuliaStdio{Base.PipeEndpoint}, ::String, ::Vararg{String,N} where N) at .\\strings\\io.jl:75",
      " [10] println(::String, ::String) at .\\coreio.jl:4",
      " [11] (::getfield(Main, Symbol(\"##9#10\")))() at .\\In[29]:3",
      " [12] (::getfield(Flux, Symbol(\"##throttled#10#15\")){Bool,Bool,getfield(Main, Symbol(\"##9#10\")),Int64})(::Base.Iterators.Pairs{Union{},Union{},Tuple{},NamedTuple{(),Tuple{}}}, ::getfield(Flux, Symbol(\"#throttled#14\")){getfield(Flux, Symbol(\"##throttled#10#15\")){Bool,Bool,getfield(Main, Symbol(\"##9#10\")),Int64}}) at C:\\Users\\User\\.julia\\packages\\Flux\\dkJUV\\src\\utils.jl:120",
      " [13] throttled at C:\\Users\\User\\.julia\\packages\\Flux\\dkJUV\\src\\utils.jl:116 [inlined]",
      " [14] macro expansion at C:\\Users\\User\\.julia\\packages\\Flux\\dkJUV\\src\\optimise\\train.jl:75 [inlined]",
      " [15] macro expansion at C:\\Users\\User\\.julia\\packages\\Juno\\oLB1d\\src\\progress.jl:134 [inlined]",
      " [16] #train!#12(::getfield(Flux, Symbol(\"#throttled#14\")){getfield(Flux, Symbol(\"##throttled#10#15\")){Bool,Bool,getfield(Main, Symbol(\"##9#10\")),Int64}}, ::typeof(Flux.Optimise.train!), ::Function, ::Tracker.Params, ::Base.Iterators.Zip{Tuple{Array{Array{Flux.OneHotMatrix{Array{Flux.OneHotVector,1}},1},1},Array{Array{Flux.OneHotMatrix{Array{Flux.OneHotVector,1}},1},1}}}, ::ADAM) at C:\\Users\\User\\.julia\\packages\\Flux\\dkJUV\\src\\optimise\\train.jl:69",
      " [17] (::getfield(Flux.Optimise, Symbol(\"#kw##train!\")))(::NamedTuple{(:cb,),Tuple{getfield(Flux, Symbol(\"#throttled#14\")){getfield(Flux, Symbol(\"##throttled#10#15\")){Bool,Bool,getfield(Main, Symbol(\"##9#10\")),Int64}}}}, ::typeof(Flux.Optimise.train!), ::Function, ::Tracker.Params, ::Base.Iterators.Zip{Tuple{Array{Array{Flux.OneHotMatrix{Array{Flux.OneHotVector,1}},1},1},Array{Array{Flux.OneHotMatrix{Array{Flux.OneHotVector,1}},1},1}}}, ::ADAM) at .\\none:0",
      " [18] top-level scope at util.jl:156",
      " [19] top-level scope at In[30]:1"
     ]
    },
    {
     "name": "stderr",
     "output_type": "stream",
     "text": [
      "\n",
      "WARNING: Workqueue inconsistency detected: popfirst!(Workqueue).state != :runnable\n"
     ]
    }
   ],
   "source": [
    "@time Flux.train!(loss, params(m), zip(Xs, Ys), opt,\n",
    "            cb = throttle(evalcb, 30))"
   ]
  },
  {
   "cell_type": "code",
   "execution_count": 130,
   "metadata": {},
   "outputs": [
    {
     "data": {
      "text/plain": [
       "64.38333333333334"
      ]
     },
     "execution_count": 130,
     "metadata": {},
     "output_type": "execute_result"
    }
   ],
   "source": [
    "3863  /60 # минут"
   ]
  },
  {
   "cell_type": "code",
   "execution_count": 172,
   "metadata": {},
   "outputs": [
    {
     "data": {
      "text/plain": [
       "sample (generic function with 1 method)"
      ]
     },
     "execution_count": 172,
     "metadata": {},
     "output_type": "execute_result"
    }
   ],
   "source": [
    "function sample(m, alphabet, len)\n",
    "  #m = cpu(m)\n",
    "  Flux.reset!(m)\n",
    "  buf = IOBuffer()\n",
    "  c = rand(alphabet)\n",
    "  for i = 1:len\n",
    "    write(buf, c)\n",
    "    c = wsample(alphabet, m( onehot(c, alphabet) ).data )\n",
    "  end\n",
    "  return String(take!(buf))\n",
    "end"
   ]
  },
  {
   "cell_type": "markdown",
   "metadata": {},
   "source": [
    "# generate"
   ]
  },
  {
   "cell_type": "code",
   "execution_count": null,
   "metadata": {},
   "outputs": [],
   "source": [
    "sample(m, alphabet, 500) |> println # 256 + repeated datas"
   ]
  },
  {
   "cell_type": "code",
   "execution_count": 187,
   "metadata": {
    "collapsed": true
   },
   "outputs": [
    {
     "name": "stdout",
     "output_type": "stream",
     "text": [
      "пут с\n",
      "помоес очек пердовый\n",
      "все счетаешь в теплое понял\n",
      "и закрычеснои пришилась\n",
      "все глепать уно счасть рубивно\n",
      "\n",
      "несте шество в зиметь сразился\n",
      "полдалась деня зепленбрей\n",
      "через бика но ера пете\n",
      "ночь джами вом олган люжинь\n",
      "\n",
      "звезда на через больше водел\n",
      "не бешу пробосле уже лек\n",
      "\n",
      "купить постоита вам в егванный\n",
      "чтоб перез небе жутрогренни\n",
      "поотерод ей прозупел\n",
      "так бузутарка горит чержикствей хатой\n",
      "\n",
      "передвочца раз вочелать клать\n",
      "кого ты буду в нене истад\n",
      "и стотные гелокнии\n",
      "атки барузка из обмастров\n",
      "стоит\n"
     ]
    }
   ],
   "source": [
    "sample(m, alphabet, 500) |> println # 128"
   ]
  },
  {
   "cell_type": "code",
   "execution_count": 156,
   "metadata": {
    "collapsed": true
   },
   "outputs": [
    {
     "name": "stdout",
     "output_type": "stream",
     "text": [
      "блечек такину\n",
      "тут людим в шпутне по бенать\n",
      "он претратились есть дожаит\n",
      "охляне дотицы вречил\n",
      "\n",
      "мне мысли ну определ в мое\n",
      "\n",
      "я кропы тишится вам накрыл\n",
      "стах рая\n",
      "\n",
      "мы и с досмасарайнось пунь\n",
      "ирху за метрослон на доле\n",
      "у взянка ясы в темноту\n",
      "в порю меня вод шупных голь\n",
      "целу первым бабугом стратов\n",
      "сне тверд\n",
      "\n",
      "\n",
      "так светит на стесе тесни ограшенный ов деньга\n",
      "в лесут пушкина гал живет\n",
      "но ты урнался и в анан\n",
      "вмролила много красивых джи\n",
      "\n",
      "на конь отбрались полударь\n",
      "и смерть надитель челые без\n",
      "в тлю кеприн вазала сказала\n",
      "он наш прицырых на свое\n",
      "\n",
      "все первый руд захожить сметло\n",
      "хочу чтоб ходишь по лежить\n",
      "ацина клудик курить лежу\n",
      "ружни\n",
      "\n",
      "неспашно как тебе на трубья\n",
      "перед первый за беретный\n",
      "стук у заводии хорош\n",
      "\n",
      "причь растантику сказала\n",
      "дар неприпят и ето так\n",
      "все куйс вышел на от немной\n",
      "б и детей на теперь в абкелькв\n",
      "собру минек ли а я толсти\n",
      "года\n",
      "\n",
      "ходить что пьяно выбранет\n",
      "антон от водки намни\n",
      "и в стрете помнить старукс лес\n",
      "я бладжны\n",
      "все заверных конятал\n",
      "я в стере пер куда перед\n",
      "вондил им будев совусил\n",
      "их \n"
     ]
    }
   ],
   "source": [
    "sample(m, alphabet, 1000) |> println # 256"
   ]
  },
  {
   "cell_type": "code",
   "execution_count": 132,
   "metadata": {
    "collapsed": true
   },
   "outputs": [
    {
     "name": "stdout",
     "output_type": "stream",
     "text": [
      "рва\n",
      "с тутбогой сел когда олег\n",
      "\n",
      "придушно так работел три мел\n",
      "уезы дав ты не менять\n",
      "земля его коротком и мне\n",
      "на их\n",
      "\n",
      "она весь искрикин проахазованных в ледуди\n",
      "\n",
      "конким и ночь была не доеха\n",
      "сказал что я поситная смогли\n",
      "я завтралите сил испиру\n",
      "и здесь проснулся заносил\n",
      "\n",
      "а мол уже цветы а велич\n",
      "на лонстстве мир могу в гробу\n",
      "зо неузнал муса обзменбром\n",
      "обезыщаюсь я оксана\n",
      "и вет оксана я панеты\n",
      "вот это и бил цибаравлей\n",
      "\n",
      "созрачеся допросил место\n",
      "все нет и там еще в квартир\n",
      "боясь три трубоко где тереж\n",
      "рипом\n",
      "\n",
      "мир изывал и эсчитату\n",
      "мне зафигалия не всвят\n",
      "задержен слизь кооть в нологе\n",
      "добро промедзахнешь не у\n",
      "\n",
      "семен анатораты грик о\n",
      "такое волось китаюм\n",
      "и та\n",
      "пакету выдал фигувжу\n",
      "чтобой на полные спасите\n",
      "пошает денег отгривает\n",
      "их мокрут так пробежье утро\n",
      "в виде пассяточно хочу\n",
      "\n",
      "прости метение ирану\n",
      "по душе будочки начнешь\n",
      "и с казниланом говорита\n",
      "работа васабылену\n",
      "то лофе знал как тварь не хочит\n",
      "в шдефе\n",
      "\n",
      "у нас реком достребенство причину\n",
      "о самочниче биржее\n",
      "а мэрдо малдиц не вместо пахлерта\n",
      "ни поврадился\n"
     ]
    }
   ],
   "source": [
    "sample(m, alphabet, 1000) |> println # +width"
   ]
  },
  {
   "cell_type": "code",
   "execution_count": 33,
   "metadata": {
    "collapsed": true
   },
   "outputs": [
    {
     "name": "stdout",
     "output_type": "stream",
     "text": [
      "цеппистворянкк\n",
      "\n",
      "прихоём остановился все\n",
      "затам стояла и порой\n",
      "но это завеет работы\n",
      "читает мотоль чуть роз\n",
      "\n",
      "когда меня помню никто\n",
      "а член и после в улице\n",
      "так стару мишь посмешь ранешь\n",
      "\n",
      "заполойно хочу другой\n",
      "он джимкий дропатак она\n",
      "и дети изцёл отвернули\n",
      "токулло мертвым от дени\n",
      "\n",
      "сюдит наси пирогонамя\n",
      "не будь подехаю эти\n",
      "под взругих нажает поверит\n",
      "надкапесто сам объкамил\n",
      "\n",
      "и потокатие останет\n",
      "который водкой приинтер\n",
      "олег по ользам как заряж\n",
      "как не могутый стаял пестёк\n",
      "а пайны у щенку воздам\n",
      "\n",
      "отдельто превидно устанет\n",
      "и дырашью нет ъезд отвидц\n",
      "каждых играет и чуть одет\n",
      "не тот куда забывается\n",
      "\n",
      "вендец видал а всё попросит\n",
      "ночи а ушел не места\n",
      "\n",
      "стежал антон когда грустный планет\n",
      "с грёзом вождаться отдалилась\n",
      "я олег порню летянзят\n",
      "\n",
      "вы под восмотретнее сланы\n",
      "не сморчинием хоть берем\n",
      "в посметли полесты полюзь\n",
      "\n",
      "когда руки хириктинув сексам\n",
      "всё голубой поцену лужу\n",
      "ныт не всегда по завтра бдот\n",
      "\n",
      "аркадий лепет глеб идей отпорогд\n",
      "затебя в яклондат незно\n",
      "я все сюду миг паино\n",
      "и как то время молчу нет\n",
      "\n",
      "оле\n"
     ]
    }
   ],
   "source": [
    "sample(m, alphabet, 1000) |> println # +layer"
   ]
  },
  {
   "cell_type": "code",
   "execution_count": 27,
   "metadata": {
    "collapsed": true
   },
   "outputs": [
    {
     "name": "stdout",
     "output_type": "stream",
     "text": [
      "спьющами\n",
      "враг за квартамие падая\n",
      "а москветого в матчанным\n",
      "пойда ещё на сам петри\n",
      "\n",
      "красил закрыли между про матот\n",
      "я поводи игру подушкой\n",
      "скрезонка покурили пулки\n",
      "сальгой зуньком невестаник\n",
      "а дахи и одекаблюсь\n",
      "\n",
      "аркадий значит можно возмозн\n",
      "пикзилой но его потом\n",
      "но назвал с даль у из трицы\n",
      "они удирфить приползут\n",
      "\n",
      "сырю котолушо на душа\n",
      "лежет добами дед афана\n",
      "он новто чтоб игранью рессуд\n",
      "и спило почечило кольен\n",
      "под онимина жизни прят\n",
      "\n",
      "идь диризыри часы олег\n",
      "я соврасно как те гле мнита\n",
      "на поральенном в нос держати\n",
      "и женщины колючникской\n",
      "недумность это большой того\n",
      "я одновает инмаркаци\n",
      "чтоб радения в средияй\n",
      "\n",
      "смерти в прочти не язык стих\n",
      "\n",
      "мне от её по обрусовно\n",
      "ночами ложитьсем страйми\n",
      "санилие за боночка\n",
      "дольшой грехинсиго цартрап\n",
      "\n",
      "куда туда достических\n",
      "и почему догусящий\n",
      "\n",
      "на степение пожка в за звеку\n",
      "и вторый нагрому дети\n",
      "\n",
      "во снеживиделся свой москве\n",
      "просишь не летелосных раз\n",
      "и не вся прюходной голод\n",
      "\n",
      "илье\n",
      "безнговон торидого знаю\n",
      "\n",
      "оксана с обисуноком\n",
      "после сразу николадьем\n",
      "а в носоверовать с\n"
     ]
    }
   ],
   "source": [
    "sample(m, alphabet, 1000) |> println # 1 layer"
   ]
  },
  {
   "cell_type": "code",
   "execution_count": null,
   "metadata": {},
   "outputs": [],
   "source": [
    "?weights"
   ]
  },
  {
   "cell_type": "code",
   "execution_count": null,
   "metadata": {},
   "outputs": [],
   "source": [
    "weights = Tracker.data.(params(model));\n",
    "\n",
    "using BSON: @save # https://github.com/JuliaIO/BSON.jl\n",
    "\n",
    "@save \"Pies_32x128.bson\" weights"
   ]
  },
  {
   "cell_type": "code",
   "execution_count": null,
   "metadata": {},
   "outputs": [],
   "source": [
    "using BSON: @load\n",
    "\n",
    "@load \"mymodel1.bson\" weights\n",
    "\n",
    "Flux.loadparams!(m, weights)"
   ]
  }
 ],
 "metadata": {
  "@webio": {
   "lastCommId": null,
   "lastKernelId": null
  },
  "kernelspec": {
   "display_name": "Julia 1.2.0",
   "language": "julia",
   "name": "julia-1.2"
  },
  "language_info": {
   "file_extension": ".jl",
   "mimetype": "application/julia",
   "name": "julia",
   "version": "1.2.0"
  }
 },
 "nbformat": 4,
 "nbformat_minor": 2
}
