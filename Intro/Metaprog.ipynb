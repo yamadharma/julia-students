{
 "cells": [
  {
   "cell_type": "markdown",
   "metadata": {},
   "source": [
    "# Метапрограммирование\n",
    "\n",
    "https://habr.com/ru/post/431438/"
   ]
  },
  {
   "cell_type": "code",
   "execution_count": 1,
   "metadata": {},
   "outputs": [
    {
     "data": {
      "text/plain": [
       "\"How many cats is too many cats?\""
      ]
     },
     "execution_count": 1,
     "metadata": {},
     "output_type": "execute_result"
    }
   ],
   "source": [
    "cats = 4\n",
    "s1 = \"How many cats \";\n",
    "s2 = \"is too many cats?\";\n",
    "s3 = s1*s2"
   ]
  },
  {
   "cell_type": "code",
   "execution_count": 10,
   "metadata": {},
   "outputs": [
    {
     "data": {
      "text/plain": [
       "'w': ASCII/Unicode U+0077 (category Ll: Letter, lowercase)"
      ]
     },
     "execution_count": 10,
     "metadata": {},
     "output_type": "execute_result"
    }
   ],
   "source": [
    "s1[3]"
   ]
  },
  {
   "cell_type": "code",
   "execution_count": 18,
   "metadata": {},
   "outputs": [
    {
     "data": {
      "text/plain": [
       "\"stac ynam\""
      ]
     },
     "execution_count": 18,
     "metadata": {},
     "output_type": "execute_result"
    }
   ],
   "source": [
    "s1[13:-1:5]"
   ]
  },
  {
   "cell_type": "code",
   "execution_count": 13,
   "metadata": {},
   "outputs": [
    {
     "data": {
      "text/plain": [
       "'?': ASCII/Unicode U+003f (category Po: Punctuation, other)"
      ]
     },
     "execution_count": 13,
     "metadata": {},
     "output_type": "execute_result"
    }
   ],
   "source": [
    "s2[end]"
   ]
  },
  {
   "cell_type": "code",
   "execution_count": 14,
   "metadata": {},
   "outputs": [
    {
     "data": {
      "text/plain": [
       "\"How many cats How many cats How many cats \""
      ]
     },
     "execution_count": 14,
     "metadata": {},
     "output_type": "execute_result"
    }
   ],
   "source": [
    "s1^3"
   ]
  },
  {
   "cell_type": "code",
   "execution_count": 15,
   "metadata": {},
   "outputs": [
    {
     "data": {
      "text/plain": [
       "\"How many cats is too many cats? - I don't know, but 4 is too few.\""
      ]
     },
     "execution_count": 15,
     "metadata": {},
     "output_type": "execute_result"
    }
   ],
   "source": [
    "s4 = string(s3, \" - I don't know, but \", cats, \" is too few.\")"
   ]
  },
  {
   "cell_type": "code",
   "execution_count": 36,
   "metadata": {},
   "outputs": [
    {
     "data": {
      "text/plain": [
       "\"How many cats is too many cats? - I don't know, but 4 is too few.\""
      ]
     },
     "execution_count": 36,
     "metadata": {},
     "output_type": "execute_result"
    }
   ],
   "source": [
    "\"$s3 - I don't know, but $cats is too few.\""
   ]
  },
  {
   "cell_type": "code",
   "execution_count": 5,
   "metadata": {},
   "outputs": [
    {
     "data": {
      "text/plain": [
       "4"
      ]
     },
     "execution_count": 5,
     "metadata": {},
     "output_type": "execute_result"
    }
   ],
   "source": [
    "findfirst( isequal('o'), s4 )"
   ]
  },
  {
   "cell_type": "code",
   "execution_count": 6,
   "metadata": {},
   "outputs": [
    {
     "data": {
      "text/plain": [
       "26"
      ]
     },
     "execution_count": 6,
     "metadata": {},
     "output_type": "execute_result"
    }
   ],
   "source": [
    "findlast( isequal('o'), s4 )"
   ]
  },
  {
   "cell_type": "code",
   "execution_count": 9,
   "metadata": {},
   "outputs": [
    {
     "data": {
      "text/plain": [
       "11"
      ]
     },
     "execution_count": 9,
     "metadata": {},
     "output_type": "execute_result"
    }
   ],
   "source": [
    "findnext( isequal('o'), s4, 7 )"
   ]
  },
  {
   "cell_type": "code",
   "execution_count": 27,
   "metadata": {},
   "outputs": [
    {
     "data": {
      "text/plain": [
       "* (generic function with 344 methods)"
      ]
     },
     "execution_count": 27,
     "metadata": {},
     "output_type": "execute_result"
    }
   ],
   "source": [
    "function *(a::String, b::Number) \n",
    "    if b == 0\n",
    "        0\n",
    "    else\n",
    "        if b == 1\n",
    "            a\n",
    "        else\n",
    "            \"$b\" * \"*(\" * a * \")\"\n",
    "        end\n",
    "    end\n",
    "end"
   ]
  },
  {
   "cell_type": "code",
   "execution_count": 2,
   "metadata": {},
   "outputs": [
    {
     "data": {
      "text/plain": [
       "- (generic function with 198 methods)"
      ]
     },
     "execution_count": 2,
     "metadata": {},
     "output_type": "execute_result"
    }
   ],
   "source": [
    "import Base: *, -, +\n",
    "+(a::String, b::String) = a * \"+\" * b\n",
    "*(a::String, b::String) = a * \"*(\" * b * \")\"\n",
    "*(a::String, b::Number) = (b==0) ? 0 : (b==1) ? a : \"$b\" * \"*(\" * a * \")\"\n",
    "*(b::Number, a::String) = (b==0) ? 0 : (b==1) ? a : \"$b\" * \"*(\" * a * \")\"\n",
    "+(a::String, b::Number) = (b==0) ? a : a * \"+\" * \"$b\"\n",
    "+(b::Number, a::String) = (b==0) ? a : a * \"+\" * \"$b\"\n",
    "-(b::Number, a::String) = (b==0) ? \"-\" *  a : \"$b\" * \"-\" * a\n",
    "-(a::String, b::Number) = (b==0) ? a : a * \"-\" * \"$b\""
   ]
  },
  {
   "cell_type": "markdown",
   "metadata": {},
   "source": [
    "https://github.com/JuliaPy/SymPy.jl  \n",
    "https://github.com/jlapeyre/Symata.jl  \n",
    "https://github.com/symengine/SymEngine.jl  \n",
    "https://github.com/cdsousa/LinearExpressions.jl"
   ]
  },
  {
   "cell_type": "code",
   "execution_count": 33,
   "metadata": {},
   "outputs": [
    {
     "data": {
      "text/plain": [
       "3×3×3 Array{Int64,3}:\n",
       "[:, :, 1] =\n",
       " 0   0  0\n",
       " 0   0  1\n",
       " 0  -1  0\n",
       "\n",
       "[:, :, 2] =\n",
       " 0  0  -1\n",
       " 0  0   0\n",
       " 1  0   0\n",
       "\n",
       "[:, :, 3] =\n",
       "  0  1  0\n",
       " -1  0  0\n",
       "  0  0  0"
      ]
     },
     "execution_count": 33,
     "metadata": {},
     "output_type": "execute_result"
    }
   ],
   "source": [
    "ε = zeros(Int, 3,3,3)\n",
    "ε[1,2,3] = ε[2,3,1] = ε[3,1,2] = 1\n",
    "ε[3,2,1] = ε[1,3,2] = ε[2,1,3] = -1\n",
    "ε"
   ]
  },
  {
   "attachments": {
    "image.png": {
     "image/png": "[encoded data removed]"
    }
   },
   "cell_type": "markdown",
   "metadata": {},
   "source": [
    "![image.png](attachment:image.png)"
   ]
  },
  {
   "cell_type": "code",
   "execution_count": 1,
   "metadata": {},
   "outputs": [
    {
     "data": {
      "text/plain": [
       "8"
      ]
     },
     "execution_count": 1,
     "metadata": {},
     "output_type": "execute_result"
    }
   ],
   "source": [
    "minmax(x, y) = (y < x) ? (y, x) : (x, y)\n",
    "range((min, max)) = max - min\n",
    "\n",
    "range(minmax(10, 2))"
   ]
  },
  {
   "cell_type": "code",
   "execution_count": 34,
   "metadata": {},
   "outputs": [
    {
     "data": {
      "text/plain": [
       "detrmnt (generic function with 1 method)"
      ]
     },
     "execution_count": 34,
     "metadata": {},
     "output_type": "execute_result"
    }
   ],
   "source": [
    "detrmnt(arr) = sum( ε[i,j,k]*arr[1,i]*arr[2,j]*arr[3,k] for i in 1:3, j in 1:3, k in 1:3 )"
   ]
  },
  {
   "cell_type": "code",
   "execution_count": 35,
   "metadata": {},
   "outputs": [
    {
     "data": {
      "text/plain": [
       "\"2*(c)+2*(b)+2*(-1*(a))+-2*(d)\""
      ]
     },
     "execution_count": 35,
     "metadata": {},
     "output_type": "execute_result"
    }
   ],
   "source": [
    "detrmnt([\"a\" 2 \"b\"; 1 0 1; \"c\" 2 \"d\"])"
   ]
  },
  {
   "cell_type": "code",
   "execution_count": 14,
   "metadata": {
    "scrolled": true
   },
   "outputs": [
    {
     "name": "stdout",
     "output_type": "stream",
     "text": [
      "A_11 = A_22*A_33 A_23*A_32 \n",
      "A_12 = A_21*A_33 A_23*A_31 \n",
      "A_13 = A_21*A_32 A_22*A_31 \n",
      "A_21 = A_12*A_33 A_13*A_32 \n",
      "A_22 = A_11*A_33 A_13*A_31 \n",
      "A_23 = A_11*A_32 A_12*A_31 \n",
      "A_31 = A_12*A_23 A_13*A_22 \n",
      "A_32 = A_11*A_23 A_13*A_21 \n",
      "A_33 = A_11*A_22 A_12*A_21 \n"
     ]
    }
   ],
   "source": [
    "function minor(a, b)\n",
    "    a == 1 ? i = 2 : i = 1\n",
    "    print(\"A_$a$b = \")\n",
    "    for j = 1:3\n",
    "        if(j == b) \n",
    "            continue\n",
    "        end\n",
    "        print(\"A_$i$j*A_$(xor(a,i))$(xor(b,j)) \")\n",
    "    end\n",
    "    print('\\n')\n",
    "end\n",
    "\n",
    "for i = 1:3, j = 1:3 \n",
    "    minor(i, j)\n",
    "end"
   ]
  },
  {
   "cell_type": "code",
   "execution_count": 36,
   "metadata": {},
   "outputs": [
    {
     "data": {
      "text/plain": [
       "cofactor (generic function with 1 method)"
      ]
     },
     "execution_count": 36,
     "metadata": {},
     "output_type": "execute_result"
    }
   ],
   "source": [
    "function cofactor(Arr, Brr)\n",
    "    for a = 1:3, b = 1:3 \n",
    "        a == 1 ? i = 2 : i = 1\n",
    "        sign = 1\n",
    "        for j = 1:3\n",
    "            if(j == b) \n",
    "                continue\n",
    "            end\n",
    "            Brr[a, b] += sign*Arr[i, j]*Arr[ xor(a,i), xor(b,j) ]\n",
    "            sign = -1\n",
    "        end\n",
    "    end\n",
    "end\n",
    "\n",
    "#=brr = fill(\"\", 3, 3)\n",
    "arr = [\"11\" \"12\" \"13\"; \"21\" \"22\" \"23\"; \"31\" \"32\" \"33\"]\n",
    "cofactor(arr, brr)\n",
    "brr=#"
   ]
  },
  {
   "cell_type": "code",
   "execution_count": 16,
   "metadata": {},
   "outputs": [
    {
     "data": {
      "text/plain": [
       "trn! (generic function with 1 method)"
      ]
     },
     "execution_count": 16,
     "metadata": {},
     "output_type": "execute_result"
    }
   ],
   "source": [
    "function trn!(Arr)\n",
    "    for i = 1:3, j = 1:i\n",
    "        Arr[i,j], Arr[j,i] = Arr[j,i], Arr[i,j]\n",
    "    end\n",
    "end"
   ]
  },
  {
   "cell_type": "code",
   "execution_count": 37,
   "metadata": {},
   "outputs": [
    {
     "data": {
      "text/plain": [
       "\"-1*(+12*(23)+-1*(13)*(22))*(+11*(33)+-1*(13)*(31))*(+21*(32)+-1*(22)*(31))++12*(33)+-1*(13)*(32)*(+11*(23)+-1*(13)*(21))*(+21*(32)+-1*(22)*(31))++12*(23)+-1*(13)*(22)*(+21*(33)+-1*(23)*(31))*(+11*(32)+-1*(12)*(31))+-1*(+22*(33)+-1*(23)*(32))*(+11*(23)+-1*(13)*(21))*(+11*(32)+-1*(12)*(31))+-1*(+12*(33)+-1*(13)*(32))*(+21*(33)+-1*(23)*(31))*(+11*(22)+-1*(12)*(21))++22*(33)+-1*(23)*(32)*(+11*(33)+-1*(13)*(31))*(+11*(22)+-1*(12)*(21))\""
      ]
     },
     "execution_count": 37,
     "metadata": {},
     "output_type": "execute_result"
    }
   ],
   "source": [
    "trn!(brr)\n",
    "detrmnt(Brr)"
   ]
  },
  {
   "cell_type": "code",
   "execution_count": 32,
   "metadata": {},
   "outputs": [
    {
     "data": {
      "text/plain": [
       "3×3 Array{String,2}:\n",
       " \"+22*(33)+-1*(23)*(32)\"  \"+12*(33)+-1*(13)*(32)\"  \"+12*(23)+-1*(13)*(22)\"\n",
       " \"+21*(33)+-1*(23)*(31)\"  \"+11*(33)+-1*(13)*(31)\"  \"+11*(23)+-1*(13)*(21)\"\n",
       " \"+21*(32)+-1*(22)*(31)\"  \"+11*(32)+-1*(12)*(31)\"  \"+11*(22)+-1*(12)*(21)\""
      ]
     },
     "execution_count": 32,
     "metadata": {},
     "output_type": "execute_result"
    }
   ],
   "source": [
    "function reversion(arr, brr)\n",
    "    signs = [1 -1 1; -1 1 -1; 1 -1 1]\n",
    "    D = detrmnt(arr)\n",
    "    cofactor(arr, brr)\n",
    "    trn!(brr)\n",
    "    brr *= signs\n",
    "    \n",
    "end\n",
    "\n",
    "Brr = fill(\"\", 3, 3)\n",
    "Arr = [\"11\" \"12\" \"13\"; \"21\" \"22\" \"23\"; \"31\" \"32\" \"33\"]\n",
    "reversion(Arr, Brr)\n",
    "Brr"
   ]
  },
  {
   "cell_type": "code",
   "execution_count": 47,
   "metadata": {},
   "outputs": [
    {
     "name": "stdout",
     "output_type": "stream",
     "text": [
      "Any[\"cos(θ)*(cos(θ))+-1*(sin(θ))*(sin(θ))\" \"cos(θ)*(-sin(θ))+-1*(sin(θ))*(cos(θ))\" \"cos(θ)*(cos(θ)*(m)+-sin(θ)*(n))+-1*(sin(θ))*(sin(θ)*(m)+cos(θ)*(n))\"; \"-sin(θ)*(cos(θ))+-1*(cos(θ))*(sin(θ))\" \"-sin(θ)*(-sin(θ))+-1*(cos(θ))*(cos(θ))\" \"-sin(θ)*(cos(θ)*(m)+-sin(θ)*(n))+-1*(cos(θ))*(sin(θ)*(m)+cos(θ)*(n))\"; \"m*(cos(θ))+n*(-sin(θ))*(cos(θ))+-1*(m*(sin(θ))+n*(cos(θ)))*(sin(θ))\" \"m*(cos(θ))+n*(-sin(θ))*(-sin(θ))+-1*(m*(sin(θ))+n*(cos(θ)))*(cos(θ))\" \"m*(cos(θ))+n*(-sin(θ))*(cos(θ)*(m)+-sin(θ)*(n))+-1*(m*(sin(θ))+n*(cos(θ)))*(sin(θ)*(m)+cos(θ)*(n))+1\"]"
     ]
    }
   ],
   "source": [
    "displacement = [1 0 0; 0 1 0; \"m\" \"n\" 1]\n",
    "rotation = [\"cos(θ)\" \"sin(θ)\" 0; \"-sin(θ)\" \"cos(θ)\" 0; 0 0 1]\n",
    "reflection = [1 0 0; 0 -1 0; 0 0 1]\n",
    "revrot = fill(\"\", 3, 3)\n",
    "revdis = fill(\"\", 3, 3)\n",
    "reversion(rotation, revrot)\n",
    "reversion(displacement, revdis)\n",
    "\n",
    "\n",
    "T = displacement * rotation * reflection \n",
    "trn!(displacement)\n",
    "trn!(rotation)\n",
    "T *= rotation * displacement\n",
    "print(T)"
   ]
  },
  {
   "cell_type": "code",
   "execution_count": 1,
   "metadata": {},
   "outputs": [],
   "source": [
    "using Plots"
   ]
  },
  {
   "cell_type": "code",
   "execution_count": 2,
   "metadata": {},
   "outputs": [
    {
     "data": {
      "text/plain": [
       "Plots.PyPlotBackend()"
      ]
     },
     "execution_count": 2,
     "metadata": {},
     "output_type": "execute_result"
    }
   ],
   "source": [
    "pyplot()"
   ]
  },
  {
   "cell_type": "code",
   "execution_count": 3,
   "metadata": {},
   "outputs": [
    {
     "data": {
      "text/plain": [
       "4×4 Array{Any,2}:\n",
       " 1       0  1     0\n",
       "  \"cos\"  0   \"a\"  0\n",
       " 3       1  0     2\n",
       " 1       0  3     2"
      ]
     },
     "execution_count": 3,
     "metadata": {},
     "output_type": "execute_result"
    }
   ],
   "source": [
    "Rx = [1 0 0 0; 0 \"cos(ϕ)\" \"sin(ϕ)\" 0; 0 \"-sin(ϕ)\" \"cos(ϕ)\" 0; 0 0 0 1];\n",
    "Rz = [\"cos(ϕ)\" \"sin(ϕ)\" 0 0; \"-sin(ϕ)\" \"cos(ϕ)\" 0 0; 0 0 1 0; 0 0 0 1];\n",
    "T = [1 0 0 0; 0 1 0 0; 0 0 1 0; \"x0\" \"y0\" \"z0\" 1];\n",
    "tt = [1 0 1 0; \"cos\" 0 \"a\" 0; 3 1 0 2; 1 0 3 2]"
   ]
  },
  {
   "cell_type": "code",
   "execution_count": 4,
   "metadata": {},
   "outputs": [
    {
     "data": {
      "text/plain": [
       "2×3 Array{Any,2}:\n",
       " 1  1   \"a\"\n",
       " 1  0  1   "
      ]
     },
     "execution_count": 4,
     "metadata": {},
     "output_type": "execute_result"
    }
   ],
   "source": [
    "m1 = [1 1 \"a\"; 1 0 1]"
   ]
  },
  {
   "cell_type": "code",
   "execution_count": 5,
   "metadata": {},
   "outputs": [
    {
     "data": {
      "text/plain": [
       "3×3 Array{Any,2}:\n",
       " 2  0     2\n",
       " 2   \"b\"  2\n",
       " 2  2     2"
      ]
     },
     "execution_count": 5,
     "metadata": {},
     "output_type": "execute_result"
    }
   ],
   "source": [
    "m2 = [2 0 2; 2 \"b\" 2; 2 2 2]"
   ]
  },
  {
   "cell_type": "code",
   "execution_count": 6,
   "metadata": {},
   "outputs": [
    {
     "data": {
      "text/plain": [
       "2×3 Array{Any,2}:\n",
       " 1  2   \"ln(3)\"\n",
       " 2  1  0       "
      ]
     },
     "execution_count": 6,
     "metadata": {},
     "output_type": "execute_result"
    }
   ],
   "source": [
    "m3 = [1 2 \"ln(3)\"; 2 1 0]"
   ]
  },
  {
   "cell_type": "code",
   "execution_count": 7,
   "metadata": {},
   "outputs": [
    {
     "data": {
      "text/plain": [
       "2×3 Array{Any,2}:\n",
       "  \"2*(a)+4\"   \"b+2*(a)\"   \"2*(a)+4\"\n",
       " 4           2           4         "
      ]
     },
     "execution_count": 7,
     "metadata": {},
     "output_type": "execute_result"
    }
   ],
   "source": [
    "m1*m2"
   ]
  },
  {
   "cell_type": "code",
   "execution_count": 8,
   "metadata": {},
   "outputs": [
    {
     "data": {
      "text/plain": [
       "* (generic function with 376 methods)"
      ]
     },
     "execution_count": 8,
     "metadata": {},
     "output_type": "execute_result"
    }
   ],
   "source": [
    "function *( a::Array{Any,2}, b::Array{Any,2} )\n",
    "    if size(a)[2] == size(b)[1]\n",
    "        res = Array{Any}(undef, size(a)[1], size(b)[2] )\n",
    "        fill!(res, 0)\n",
    "        \n",
    "        for i = 1:size(a)[1], j = 1:size(b)[2], k = 1:size(a)[2]\n",
    "            res[i,j] = res[i,j] + a[i,k]*b[k,j]\n",
    "        end\n",
    "        res\n",
    "    else\n",
    "        error(\"Matrices must have same size mult\")\n",
    "    end\n",
    "end"
   ]
  },
  {
   "cell_type": "code",
   "execution_count": 9,
   "metadata": {
    "scrolled": true
   },
   "outputs": [
    {
     "data": {
      "text/plain": [
       "4×4 Array{Any,2}:\n",
       " \"cos(ϕ)\"             \"sin(ϕ)\"            0          0\n",
       " \"cos(ϕ)*(-sin(ϕ))\"   \"cos(ϕ)*(cos(ϕ))\"    \"sin(ϕ)\"  0\n",
       " \"-sin(ϕ)*(-sin(ϕ))\"  \"-sin(ϕ)*(cos(ϕ))\"   \"cos(ϕ)\"  0\n",
       " \"x0\"                 \"y0\"                 \"z0\"      1"
      ]
     },
     "execution_count": 9,
     "metadata": {},
     "output_type": "execute_result"
    }
   ],
   "source": [
    "X = Rx*Rz*T"
   ]
  },
  {
   "cell_type": "code",
   "execution_count": 3,
   "metadata": {},
   "outputs": [
    {
     "data": {
      "text/plain": [
       "4×4 Array{Any,2}:\n",
       " \"cos(ϕ)\"             \"sin(ϕ)\"            0          0\n",
       " \"cos(ϕ)*(-sin(ϕ))\"   \"cos(ϕ)*(cos(ϕ))\"    \"sin(ϕ)\"  0\n",
       " \"-sin(ϕ)*(-sin(ϕ))\"  \"-sin(ϕ)*(cos(ϕ))\"   \"cos(ϕ)\"  0\n",
       " \"x0\"                 \"y0\"                 \"z0\"      1"
      ]
     },
     "execution_count": 3,
     "metadata": {},
     "output_type": "execute_result"
    }
   ],
   "source": [
    "X = [ \"cos(ϕ)\"             \"sin(ϕ)\"            0          0;\n",
    " \"cos(ϕ)*(-sin(ϕ))\"   \"cos(ϕ)*(cos(ϕ))\"    \"sin(ϕ)\"  0;\n",
    " \"-sin(ϕ)*(-sin(ϕ))\"  \"-sin(ϕ)*(cos(ϕ))\"   \"cos(ϕ)\"  0;\n",
    " \"x0\"                 \"y0\"                 \"z0\"      1; ]"
   ]
  },
  {
   "cell_type": "code",
   "execution_count": 4,
   "metadata": {},
   "outputs": [
    {
     "data": {
      "text/plain": [
       "4×4 Array{Any,2}:\n",
       " :(cos(ϕ))                 :(sin(ϕ))              0           0\n",
       " :(cos(ϕ) * -(sin(ϕ)))     :(cos(ϕ) * cos(ϕ))      :(sin(ϕ))  0\n",
       " :(-(sin(ϕ)) * -(sin(ϕ)))  :(-(sin(ϕ)) * cos(ϕ))   :(cos(ϕ))  0\n",
       " :x0                       :y0                     :z0        1"
      ]
     },
     "execution_count": 4,
     "metadata": {},
     "output_type": "execute_result"
    }
   ],
   "source": [
    "for i = 1:size(X,1), j = 1:size(X,2)\n",
    "    if typeof(X[i,j]) == String\n",
    "        X[i,j] = Meta.parse(X[i,j]) \n",
    "    end\n",
    "end\n",
    "X"
   ]
  },
  {
   "cell_type": "code",
   "execution_count": 5,
   "metadata": {},
   "outputs": [
    {
     "data": {
      "text/plain": [
       "4×4 Array{Real,2}:\n",
       "  0.939693   0.34202   0         0\n",
       " -0.321394   0.883022  0.34202   0\n",
       "  0.116978  -0.321394  0.939693  0\n",
       "  4         -0.5       1.3       1"
      ]
     },
     "execution_count": 5,
     "metadata": {},
     "output_type": "execute_result"
    }
   ],
   "source": [
    "ϕ = 20*pi/180\n",
    "x0 = 4\n",
    "y0 = -0.5\n",
    "z0 = 1.3\n",
    "\n",
    "Xtr = [ eval(x) for x in X]"
   ]
  },
  {
   "cell_type": "code",
   "execution_count": 5,
   "metadata": {
    "scrolled": false
   },
   "outputs": [
    {
     "data": {
      "image/png": "[encoded data removed]"
     },
     "execution_count": 5,
     "metadata": {},
     "output_type": "execute_result"
    }
   ],
   "source": [
    "x = [-1 -1 1 1 -1 -1 1 1 -1 -1]; \n",
    "y = [-1 -1 -1 -1 -1 1 1 1 1 -1];\n",
    "z = [1 -1 -1 1 1 1 1 -1 -1 -1]\n",
    "R = [ x' y' z' ones( length(x) ) ]\n",
    "plot(x', y', z', w = 3)"
   ]
  },
  {
   "cell_type": "code",
   "execution_count": 7,
   "metadata": {},
   "outputs": [
    {
     "data": {
      "text/plain": [
       "10×4 Array{Real,2}:\n",
       " 3.49868  -2.04644   1.89767    1.0\n",
       " 3.26472  -1.40365   0.0182872  1.0\n",
       " 5.14411  -0.719608  0.0182872  1.0\n",
       " 5.37806  -1.3624    1.89767    1.0\n",
       " 3.49868  -2.04644   1.89767    1.0\n",
       " 2.85589  -0.280392  2.58171    1.0\n",
       " 4.73528   0.403649  2.58171    1.0\n",
       " 4.50132   1.04644   0.702328   1.0\n",
       " 2.62194   0.362396  0.702328   1.0\n",
       " 3.26472  -1.40365   0.0182872  1.0"
      ]
     },
     "execution_count": 7,
     "metadata": {},
     "output_type": "execute_result"
    }
   ],
   "source": [
    "R2 = R*Xtr"
   ]
  },
  {
   "cell_type": "code",
   "execution_count": 8,
   "metadata": {},
   "outputs": [
    {
     "data": {
      "image/png": "[encoded data removed]"
     },
     "execution_count": 8,
     "metadata": {},
     "output_type": "execute_result"
    }
   ],
   "source": [
    "plot!( R2[:,1], R2[:,2], R2[:,3], w = 3)"
   ]
  },
  {
   "cell_type": "code",
   "execution_count": null,
   "metadata": {},
   "outputs": [],
   "source": []
  }
 ],
 "metadata": {
  "kernelspec": {
   "display_name": "Julia 1.1.0",
   "language": "julia",
   "name": "julia-1.1"
  },
  "language_info": {
   "file_extension": ".jl",
   "mimetype": "application/julia",
   "name": "julia",
   "version": "1.1.0"
  }
 },
 "nbformat": 4,
 "nbformat_minor": 2
}
