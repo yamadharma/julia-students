{
 "cells": [
  {
   "cell_type": "markdown",
   "metadata": {},
   "source": [
    "## Создать шифр Цезаря\n",
    "\n",
    "Шифр Цезаря - это схема шифрования, которая сдвигает все буквы в алфавите на некоторое заданное смещение по отношению к другим буквам в алфавите. Например, смещение 1 превращает букву «А» в букву «В», а букву «М» в букву «N».\n",
    "\n",
    "### Цель\n",
    "\n",
    "Мы хотим добавить метод к оператору `+` так, чтобы мы могли сложить вместе строку и целочисленный сдвиг для шифрования сообщения. Например,\n",
    "\n",
    "```julia\n",
    "4 + \"hello\" == \"lipps\"\n",
    "```\n",
    "\n",
    "### Проверка\n",
    "\n",
    "Как только вы решите, что это работает, попробуйте расшифровать следующую строку, добавив сдвиг -7.\n",
    "```julia\n",
    "\"Kv'uv{'tlkksl'pu'{ol'hmmhpyz'vm'kyhnvuz'mvy'\\u80v|'hyl'jy|ujo\\u80'huk'{hz{l'nvvk'~p{o'rl{jo|w5\"\n",
    "```\n",
    "\n",
    "### Приступимс!\n",
    "\n",
    "Во-первых, нам нужен способ преобразования между символами и целыми числами. На самом деле, под капотом все наши символы представлены в виде чисел через их **ASCII представление**.\n",
    "\n",
    "Вы можете начать понимать, как это работает, запустив следующие строки кода.\n",
    "\n",
    "```julia\n",
    "convert(Int, 'a')\n",
    "convert(Int, 'b')\n",
    "convert(Char, 97)\n",
    "convert(Char, 98)\n",
    "```"
   ]
  },
  {
   "cell_type": "code",
   "execution_count": null,
   "metadata": {
    "collapsed": true
   },
   "outputs": [],
   "source": []
  },
  {
   "cell_type": "code",
   "execution_count": null,
   "metadata": {
    "collapsed": true
   },
   "outputs": [],
   "source": []
  },
  {
   "cell_type": "code",
   "execution_count": null,
   "metadata": {
    "collapsed": true
   },
   "outputs": [],
   "source": []
  },
  {
   "cell_type": "code",
   "execution_count": null,
   "metadata": {
    "collapsed": true
   },
   "outputs": [],
   "source": []
  },
  {
   "cell_type": "markdown",
   "metadata": {},
   "source": [
    "Что происходит, когда вы пытаетесь добавить целое число к символу? (Обратите внимание, что разница между `Char`ами и` String`ами (~~не смешно~~) здесь важна!)"
   ]
  },
  {
   "cell_type": "code",
   "execution_count": null,
   "metadata": {
    "collapsed": true
   },
   "outputs": [],
   "source": []
  },
  {
   "cell_type": "code",
   "execution_count": null,
   "metadata": {
    "collapsed": true
   },
   "outputs": [],
   "source": []
  },
  {
   "cell_type": "code",
   "execution_count": null,
   "metadata": {
    "collapsed": true
   },
   "outputs": [],
   "source": []
  },
  {
   "cell_type": "markdown",
   "metadata": {},
   "source": [
    "Когда мы рассматриваем строку поэлементно, каков тип (`typeof`) каждого элемента?"
   ]
  },
  {
   "cell_type": "code",
   "execution_count": null,
   "metadata": {
    "collapsed": true
   },
   "outputs": [],
   "source": []
  },
  {
   "cell_type": "code",
   "execution_count": null,
   "metadata": {
    "collapsed": true
   },
   "outputs": [],
   "source": []
  },
  {
   "cell_type": "markdown",
   "metadata": {},
   "source": [
    "Попробуйте написать функцию под названием `caesar(shift, stringin)` которая кодирует входную строку, `stringin`, сдвигая все буквы в алфавите на `shift`.\n",
    "\n",
    "Один из способов сделать это - использовать функцию `map` или` broadcast`!"
   ]
  },
  {
   "cell_type": "code",
   "execution_count": null,
   "metadata": {
    "collapsed": true
   },
   "outputs": [],
   "source": []
  },
  {
   "cell_type": "markdown",
   "metadata": {},
   "source": [
    "Если вы думаете, что это работает, попробуйте\n",
    "```julia\n",
    "caesar(-4, \"lipps\")\n",
    "```"
   ]
  },
  {
   "cell_type": "code",
   "execution_count": null,
   "metadata": {
    "collapsed": true
   },
   "outputs": [],
   "source": []
  },
  {
   "cell_type": "markdown",
   "metadata": {},
   "source": [
    "Наконец, мы хотим расширить оператор `+`, чтобы включить способ применения этого шифра. Оператор `+` живет в месте под названием `Base`. Все, что живет в Base, доступно нам как пользователям по умолчанию, но нам нужно специальное заклинание, чтобы изменить то, что живет в Base. Если мы хотим изменить `+`, наше заклинание\n",
    "\n",
    "```julia\n",
    "import Base: +\n",
    "```"
   ]
  },
  {
   "cell_type": "code",
   "execution_count": null,
   "metadata": {
    "collapsed": true
   },
   "outputs": [],
   "source": []
  },
  {
   "cell_type": "markdown",
   "metadata": {},
   "source": [
    "После того как вы импортировали `+` из базы, мы готовы изменить его. \n",
    "\n",
    "Если вы не уверены, как добавить метод для `+`, давайте сначала рассмотрим пример. \n",
    "\n",
    "Допустим, мы хотим добавить метод для `+`, который позволяет нам объединять строки, чтобы мы могли сказать \n",
    "```julia\n",
    "\"hello\" + \"world\"\n",
    "``` \n",
    "и получить выходную строку ```hello, world```. Для этого мы можем написать метод для `+` следующим образом"
   ]
  },
  {
   "cell_type": "code",
   "execution_count": null,
   "metadata": {
    "collapsed": true
   },
   "outputs": [],
   "source": [
    "+(x::String, y::String) = string(x, y)"
   ]
  },
  {
   "cell_type": "markdown",
   "metadata": {},
   "source": [
    "Обратите внимание, что я добавил информацию о типах для `x` и` y` с двойным двоеточием и словом `String`, чтобы сказать, что` x` и `y` являются строками. Чтобы проверить, что это работает, попробуйте\n",
    "```julia\n",
    "\"hello \" + \"world\"\n",
    "```"
   ]
  },
  {
   "cell_type": "code",
   "execution_count": null,
   "metadata": {
    "collapsed": true
   },
   "outputs": [],
   "source": []
  },
  {
   "cell_type": "markdown",
   "metadata": {},
   "source": [
    "И теперь, когда вы расширили `+` один раз, давайте добавим еще один метод для `+`, который вызывает функцию `caesar`, которую мы написали."
   ]
  },
  {
   "cell_type": "code",
   "execution_count": null,
   "metadata": {
    "collapsed": true
   },
   "outputs": [],
   "source": []
  },
  {
   "cell_type": "markdown",
   "metadata": {},
   "source": [
    "Теперь попробуйте\n",
    "\n",
    "```julia\n",
    "-7 + \"Kv'uv{'tlkksl'pu'{ol'hmmhpyz'vm'kyhnvuz'mvy'\\u80v|'hyl'jy|ujo\\u80'huk'{hz{l'nvvk'~p{o'rl{jo|w5\"\n",
    "```"
   ]
  },
  {
   "cell_type": "code",
   "execution_count": null,
   "metadata": {
    "collapsed": true
   },
   "outputs": [],
   "source": []
  },
  {
   "cell_type": "code",
   "execution_count": null,
   "metadata": {
    "collapsed": true
   },
   "outputs": [],
   "source": []
  },
  {
   "cell_type": "code",
   "execution_count": null,
   "metadata": {
    "collapsed": true
   },
   "outputs": [],
   "source": []
  }
 ],
 "metadata": {
  "kernelspec": {
   "display_name": "Julia 1.1.0",
   "language": "julia",
   "name": "julia-1.1"
  },
  "language_info": {
   "file_extension": ".jl",
   "mimetype": "application/julia",
   "name": "julia",
   "version": "1.1.0"
  }
 },
 "nbformat": 4,
 "nbformat_minor": 2
}
