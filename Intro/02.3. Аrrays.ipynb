{
 "cells": [
  {
   "cell_type": "markdown",
   "metadata": {},
   "source": [
    "# Инструменты - Использование массивов для хранения данных"
   ]
  },
  {
   "cell_type": "markdown",
   "metadata": {},
   "source": [
    "### Введение в массивы\n",
    "\n",
    "**Массивы - это наборы блоков, которые используются для хранения данных.** В последнем блокноте мы увидели изображение, которое может помочь нам изобразить одномерный массив:\n",
    "\n",
    "<img src=\"images/array_cartoon.png\" alt=\"Drawing\" style=\"width: 500px;\"/>\n",
    "\n",
    "*Почему мы хотим, чтобы подобный объект хранил наши данные?*"
   ]
  },
  {
   "cell_type": "markdown",
   "metadata": {},
   "source": [
    "Альтернативой использованию массива в некоторых контекстах может быть присвоение каждому отдельному фрагменту данных следующих имен:\n",
    "\n",
    "```julia\n",
    "a = 1.1\n",
    "b = 2.2\n",
    "c = 3.3\n",
    "```\n",
    "\n",
    "Мы можем визуализировать, как хранятся эти данные:\n",
    "\n",
    "<img src=\"images/without_arrays.png\" alt=\"Drawing\" style=\"width: 500px;\"/>\n",
    "\n",
    "\n",
    "\n",
    "Это похоже на наличие отдельного блока для каждой части данных, а не серии связанных блоков для всех наших данных. \n",
    "\n",
    "Чем больше у нас данных, тем больше раздражает отслеживание всех этих ящиков и их названий. Кроме того, если мы хотим сделать то же самое со многими частями данных, гораздо проще поместить все эти части данных в одно место для одновременной работы с ними. \n",
    "\n",
    "Например, мы можем захотеть умножить `a`,` b` и `c` на` 2`. Мы могли бы умножить три раза:\n",
    "\n",
    "```julia\n",
    "a * 2\n",
    "b * 2\n",
    "c * 2\n",
    "```\n",
    "\n",
    "Или вместо этого мы могли бы создать один массив (назовем его `numbers`) и умножить этот массив на` 2`:\n",
    "```julia\n",
    "numbers * 2\n",
    "```\n",
    "\n",
    "Синтаксис для создания этого массива `numbers`:\n",
    "\n",
    "```julia\n",
    "numbers = [a, b, c]\n",
    "```\n",
    "\n",
    "Или мы могли бы просто написать\n",
    "\n",
    "```julia\n",
    "numbers = [1.1, 2.2, 3.3]\n",
    "```\n",
    "\n",
    "Стоит отметить, что в Julia одномерные массивы также называют «векторами»."
   ]
  },
  {
   "cell_type": "markdown",
   "metadata": {},
   "source": [
    "---\n",
    "Как и в других языках программирования, под массивами в Julia понимается коллекция упорядоченных элементов, размещённая в многомерной сетке. Векторы и матрицы являются частными случаями массивов.\n",
    "\n",
    "\n",
    "В Julia предусмотрено достаточно много способов создать массив (с учётом типа, значения, размерности и пр.), но по моему скромному мнению в большинстве случаев удобнее пойти путём Matlab-подобных сред и инициализировать массив через перечисление его элементов в квадратных скобках, разделяя строки знаком \" ; \". Чтобы обратиться к элементу, укажите его индекс в квадратных скобках, если массив многомерный, перечислите индексы через запятую. ***Индексация начинается с единицы.*** Для облегчения доступа индекс последнего элемента хранится в переменной `end`. "
   ]
  },
  {
   "cell_type": "markdown",
   "metadata": {},
   "source": [
    "### Создание массивов\n",
    "\n",
    "Мы можем создать массив `numbers`, собрав наши элементы,` a`, `b` и` c` (или `1.1`,` 2.2` и `3.3`) в квадратные скобки.\n",
    "\n",
    "Синтаксис:\n",
    "\n",
    "```julia\n",
    "[item1, item2, ...]\n",
    "```"
   ]
  },
  {
   "cell_type": "markdown",
   "metadata": {},
   "source": [
    "Создание пустого массива с абстрактным типом"
   ]
  },
  {
   "cell_type": "code",
   "execution_count": null,
   "metadata": {},
   "outputs": [],
   "source": [
    "my_array = []"
   ]
  },
  {
   "cell_type": "markdown",
   "metadata": {},
   "source": [
    "Создание пустого массива с конкретным типом"
   ]
  },
  {
   "cell_type": "code",
   "execution_count": null,
   "metadata": {},
   "outputs": [],
   "source": [
    "my_array = (Integer)[]"
   ]
  },
  {
   "cell_type": "code",
   "execution_count": null,
   "metadata": {},
   "outputs": [],
   "source": [
    "my_array = (Float64)[]"
   ]
  },
  {
   "cell_type": "markdown",
   "metadata": {},
   "source": [
    "Массив из трех элементов (здесь тип будет определен автоматически Julia)"
   ]
  },
  {
   "cell_type": "code",
   "execution_count": null,
   "metadata": {},
   "outputs": [],
   "source": [
    "array1 = [1, 2, 3]"
   ]
  },
  {
   "cell_type": "markdown",
   "metadata": {},
   "source": [
    "Это вектор-столбец. Мы также можем создать вектор-строку, опуская запятые."
   ]
  },
  {
   "cell_type": "code",
   "execution_count": null,
   "metadata": {},
   "outputs": [],
   "source": [
    "array2 = [1 2 3]"
   ]
  },
  {
   "cell_type": "markdown",
   "metadata": {},
   "source": [
    "Если мы смешиваем различные типы элементов в массиве, тогда массивы примут тип элемента, который является *более общим*. В приведенном ниже примере два значения будут иметь тип `Int64`, а последнее - тип `Float64`. Массив вернет тип `Float64`."
   ]
  },
  {
   "cell_type": "code",
   "execution_count": null,
   "metadata": {},
   "outputs": [],
   "source": [
    "array3 = [1, 2, 3.0]"
   ]
  },
  {
   "cell_type": "code",
   "execution_count": null,
   "metadata": {},
   "outputs": [],
   "source": [
    "array4 = [\"one\",pi,42];\n",
    "for i in array4\n",
    "    println(\"Type of \\'$i\\' is $(typeof(i))\")\n",
    "end"
   ]
  },
  {
   "cell_type": "markdown",
   "metadata": {},
   "source": [
    "### Многомерные массивы\n",
    "\n",
    "Мы можем создавать массивы, состоящие из более чем одной строки или столбца элементов. Мы можем создавать многомерные массивы. Для этого вставляем квадратные скобки и манипулируем запятыми и точками с запятой."
   ]
  },
  {
   "cell_type": "markdown",
   "metadata": {},
   "source": [
    "Обратите внимание на отсутствие запятых между внутренними вложенными квадратными скобками"
   ]
  },
  {
   "cell_type": "code",
   "execution_count": null,
   "metadata": {},
   "outputs": [],
   "source": [
    "array5 = [[1, 2, 3] [4, 5, 6] [7, 8, 9]]"
   ]
  },
  {
   "cell_type": "markdown",
   "metadata": {},
   "source": [
    "Если мы хотим сначала заполнить элементы по строкам, мы используем точку с запятой"
   ]
  },
  {
   "cell_type": "code",
   "execution_count": null,
   "metadata": {},
   "outputs": [],
   "source": [
    "array6 = [[1 2 3]; [4 5 6]; [7 8 9]]"
   ]
  },
  {
   "cell_type": "markdown",
   "metadata": {},
   "source": [
    "#### Упражнение\n",
    "\n",
    "\n",
    "\n",
    "Создайте массив с именем `first_array`, в котором будут храниться числа от 10 до 20. \n",
    "\n",
    "*Напоминание: ESC + b, чтобы открыть поле ниже.*"
   ]
  },
  {
   "cell_type": "markdown",
   "metadata": {},
   "source": [
    "Одним из способов создания многомерного массива является использование функции `rand`. `rand` принимает произвольное количество аргументов, где количество аргументов определяет количество измерений, которые будет иметь массив! \n",
    "\n",
    "Например, если мы передадим `rand` два целочисленных ввода, он сгенерирует двумерный массив, а три целочисленных ввода сгенерируют трехмерный массив:"
   ]
  },
  {
   "cell_type": "code",
   "execution_count": null,
   "metadata": {},
   "outputs": [],
   "source": [
    "rand(4, 3)"
   ]
  },
  {
   "cell_type": "code",
   "execution_count": null,
   "metadata": {},
   "outputs": [],
   "source": [
    "rand(4, 3, 2)"
   ]
  },
  {
   "cell_type": "markdown",
   "metadata": {},
   "source": [
    "### Массивы массивов\n",
    "\n",
    "Массивы также могут хранить другие массивы.\n",
    "<br><br>Например, ниже приведены массивы массивов:\n"
   ]
  },
  {
   "cell_type": "code",
   "execution_count": null,
   "metadata": {},
   "outputs": [],
   "source": [
    "favorites = [ [\"koobideh\", \"chocolate\", \"eggs\"], [\"penguins\", \"cats\", \"sugargliders\"] ]"
   ]
  },
  {
   "cell_type": "code",
   "execution_count": null,
   "metadata": {},
   "outputs": [],
   "source": [
    "numbers = [ [1, 2, 3], [4, 5], [6, 7, 8, 9] ]"
   ]
  },
  {
   "cell_type": "markdown",
   "metadata": {},
   "source": [
    "### Создание массивов включениями (comprehensions)"
   ]
  },
  {
   "cell_type": "markdown",
   "metadata": {},
   "source": [
    "В качестве альтернативы мы можем создавать массивы с помощью *'включений'*. Это хороший способ автоматизировать создание массива, если вы не хотите вводить длинные списки чисел в квадратных скобках. Во включении вы пишете код в квадратных скобках, который будет генерировать массив при выполнении этого кода. Давайте посмотрим на пример.\n",
    "\n",
    "```julia\n",
    "counting = [2 * i for i in 1:10]\n",
    "```\n",
    "\n",
    "В приведенной выше строке кода говорится, что мы хотим создать массив с именем `counting`, в котором каждое из целых чисел от 1 до 10 будет храниться умноженным на два. Это включение состоит из нескольких различных частей, поэтому давайте разберем их:\n",
    "\n",
    "<img src=\"images/array_comprehension.png\" alt=\"Drawing\" style=\"width: 500px;\"/>\n",
    "\n",
    "Если бы мы захотели создать еще один массив `roots`, в котором хранятся квадратные корни всех целых чисел от 1 до 10, мы могли бы изменить приведенный выше код так, чтобы\n",
    "\n",
    "```julia\n",
    "roots = [sqrt(i) for i in 1:10]\n",
    "```"
   ]
  },
  {
   "cell_type": "markdown",
   "metadata": {},
   "source": [
    "---\n",
    "Создать массив с элементами $3 x^2$, где $x$ - нечетное число от 1 до 9 (включительно)"
   ]
  },
  {
   "cell_type": "code",
   "execution_count": null,
   "metadata": {},
   "outputs": [],
   "source": [
    "array15 = [3*i^2 for i in 1:2:9]"
   ]
  },
  {
   "cell_type": "markdown",
   "metadata": {},
   "source": [
    "Можно использовать несколько переменных для инициализации двумерного массива"
   ]
  },
  {
   "cell_type": "code",
   "execution_count": null,
   "metadata": {},
   "outputs": [],
   "source": [
    "array16 = [a+2b for a in -1:1, b in -2:2]"
   ]
  },
  {
   "cell_type": "markdown",
   "metadata": {},
   "source": [
    "Массив квадратов элементов, если квадрат не делится на 5 или 4 (обратите внимание, что используется `&&`)"
   ]
  },
  {
   "cell_type": "code",
   "execution_count": null,
   "metadata": {},
   "outputs": [],
   "source": [
    "array17=[i^2 for i=1:10  if (i^2%5!=0 && i^2%4!=0)]"
   ]
  },
  {
   "cell_type": "markdown",
   "metadata": {},
   "source": [
    "---\n",
    "#### Упражнение\n",
    "\n",
    "Создайте массив `squares`, в котором будут храниться квадраты всех целых чисел от 1 до 100."
   ]
  },
  {
   "cell_type": "markdown",
   "metadata": {},
   "source": [
    "### Глядя внутрь массива\n",
    "\n",
    "Мы можем «индексировать» массив, чтобы получить содержимое внутри массива в определенной позиции. Для индексации в нашем массиве `counting` мы помещаем квадратные скобки после имени массива и помещаем номер позиции элемента / данных, которые мы хотим, в эти скобки. Например, мы могли бы сказать,\n",
    "\n",
    "```julia\n",
    "counting[3]\n",
    "```\n",
    "\n",
    "чтобы получить третий элемент в массиве под названием `counting`."
   ]
  },
  {
   "cell_type": "markdown",
   "metadata": {},
   "source": [
    "#### Упражнение 2\n",
    "\n",
    "Выполните код в следующей ячейке. Он сгенерирует массив myprimes, в котором будут храниться первые 168 простых чисел. Воспользуйтесь индексом в `myprimes`, чтобы получить 89-е наименьшее простое число. Что это за число?"
   ]
  },
  {
   "cell_type": "code",
   "execution_count": null,
   "metadata": {},
   "outputs": [],
   "source": [
    "import Pkg\n",
    "Pkg.add(\"Primes\")"
   ]
  },
  {
   "cell_type": "code",
   "execution_count": null,
   "metadata": {},
   "outputs": [],
   "source": [
    "using Primes"
   ]
  },
  {
   "cell_type": "code",
   "execution_count": null,
   "metadata": {},
   "outputs": [],
   "source": [
    "myprimes = primes(1000); # Точка с запятой подавляет вывод, попробуйте удалить его"
   ]
  },
  {
   "cell_type": "markdown",
   "metadata": {},
   "source": [
    "### Базовые функций для работы с массивами\n",
    "\n",
    "- `length(A)` - число элементов.\n",
    "- `ndims(A)` - число размерностей.\n",
    "- `size(A)` - кортеж размерностей.\n",
    "- `size(A, n)` - размерность в заданном направлении.\n",
    "- `copy(A)` - создание копии массива. "
   ]
  },
  {
   "cell_type": "code",
   "execution_count": null,
   "metadata": {},
   "outputs": [],
   "source": [
    "array6"
   ]
  },
  {
   "cell_type": "markdown",
   "metadata": {},
   "source": [
    "Проверяем, сколько у нас элементов"
   ]
  },
  {
   "cell_type": "code",
   "execution_count": null,
   "metadata": {},
   "outputs": [],
   "source": [
    "length(array6)"
   ]
  },
  {
   "cell_type": "markdown",
   "metadata": {},
   "source": [
    "Проверка размера (размерности)"
   ]
  },
  {
   "cell_type": "code",
   "execution_count": null,
   "metadata": {},
   "outputs": [],
   "source": [
    "size(array6)"
   ]
  },
  {
   "cell_type": "markdown",
   "metadata": {},
   "source": [
    "Создание трехмерного массива случайных чисел с плавающей запятой"
   ]
  },
  {
   "cell_type": "code",
   "execution_count": null,
   "metadata": {},
   "outputs": [],
   "source": [
    "a = rand(3,2,2)"
   ]
  },
  {
   "cell_type": "code",
   "execution_count": null,
   "metadata": {},
   "outputs": [],
   "source": [
    "ndims(a)"
   ]
  },
  {
   "cell_type": "markdown",
   "metadata": {},
   "source": [
    "### Специальные случаи массивов - `ones`, `zeros`, `fill`"
   ]
  },
  {
   "cell_type": "markdown",
   "metadata": {},
   "source": [
    "Специальные функции, такие как `one()` и `zeros()`, могут использоваться для создания массивов с единицами и нулями соответственно. Другая функция `fill()` может использоваться для заполнения массива заранее определенным значением."
   ]
  },
  {
   "cell_type": "code",
   "execution_count": null,
   "metadata": {},
   "outputs": [],
   "source": [
    "ones(5)"
   ]
  },
  {
   "cell_type": "code",
   "execution_count": null,
   "metadata": {},
   "outputs": [],
   "source": [
    "ones(2,3)"
   ]
  },
  {
   "cell_type": "code",
   "execution_count": null,
   "metadata": {},
   "outputs": [],
   "source": [
    "zeros(4)"
   ]
  },
  {
   "cell_type": "code",
   "execution_count": null,
   "metadata": {},
   "outputs": [],
   "source": [
    "zeros(3,3)"
   ]
  },
  {
   "cell_type": "code",
   "execution_count": null,
   "metadata": {},
   "outputs": [],
   "source": [
    "fill([1,2],3)"
   ]
  },
  {
   "cell_type": "code",
   "execution_count": null,
   "metadata": {},
   "outputs": [],
   "source": [
    "fill(3.5,(3,2))"
   ]
  },
  {
   "cell_type": "code",
   "execution_count": null,
   "metadata": {},
   "outputs": [],
   "source": [
    "fill(\"Julia\",(2,3))"
   ]
  },
  {
   "cell_type": "markdown",
   "metadata": {},
   "source": [
    "### Изменение формы, транспонирование, индексирование"
   ]
  },
  {
   "cell_type": "code",
   "execution_count": null,
   "metadata": {},
   "outputs": [],
   "source": [
    "a = collect(1:12)"
   ]
  },
  {
   "cell_type": "code",
   "execution_count": null,
   "metadata": {},
   "outputs": [],
   "source": [
    "reshape(a,(2,6))"
   ]
  },
  {
   "cell_type": "code",
   "execution_count": null,
   "metadata": {},
   "outputs": [],
   "source": [
    "reshape(a,(3,4))"
   ]
  },
  {
   "cell_type": "code",
   "execution_count": null,
   "metadata": {},
   "outputs": [],
   "source": [
    "b = reshape(a,(3,4))"
   ]
  },
  {
   "cell_type": "code",
   "execution_count": null,
   "metadata": {},
   "outputs": [],
   "source": [
    "c=transpose(b)"
   ]
  },
  {
   "cell_type": "code",
   "execution_count": null,
   "metadata": {},
   "outputs": [],
   "source": [
    "b'"
   ]
  },
  {
   "cell_type": "markdown",
   "metadata": {},
   "source": [
    "---\n",
    "Мы могли бы транспонировать массив `array1`, что сделало бы его похожим на массив `array2`. Помните, что действие транспонирования меняет местами строки и столбцы."
   ]
  },
  {
   "cell_type": "code",
   "execution_count": null,
   "metadata": {},
   "outputs": [],
   "source": [
    "transpose(array1)"
   ]
  },
  {
   "cell_type": "code",
   "execution_count": null,
   "metadata": {},
   "outputs": [],
   "source": [
    "array1'"
   ]
  },
  {
   "cell_type": "code",
   "execution_count": null,
   "metadata": {},
   "outputs": [],
   "source": [
    "array1' == array2"
   ]
  },
  {
   "cell_type": "markdown",
   "metadata": {},
   "source": [
    "Но тип транспонированного массива не `Array`. Поскольку транспонирование происходит из модуля `LinearAlgebra`, тип массива изменяется. Мы можем использовать оператор строгого равенства `===`, чтобы проверить это."
   ]
  },
  {
   "cell_type": "code",
   "execution_count": null,
   "metadata": {},
   "outputs": [],
   "source": [
    "typeof(array1')"
   ]
  },
  {
   "cell_type": "code",
   "execution_count": null,
   "metadata": {},
   "outputs": [],
   "source": [
    "array1'===array2"
   ]
  },
  {
   "cell_type": "markdown",
   "metadata": {},
   "source": [
    "---\n",
    "Если мы хотим получить значение из двумерного массива, мы индексируем, указывая строку и столбец интересующего элемента. Например, если у нас есть массив `A`, заданный\n",
    "\n",
    "```julia\n",
    "A = [ 1  2  3\n",
    "      4  5  6\n",
    "      7  8  9 ]\n",
    " ```\n",
    " мы могли бы взять число 6, сказав\n",
    " \n",
    " ```\n",
    " A[2, 3]\n",
    " ```\n",
    " \n",
    " поскольку 6 находится во 2-м ряду и 3-м столбце `A`."
   ]
  },
  {
   "cell_type": "code",
   "execution_count": null,
   "metadata": {},
   "outputs": [],
   "source": []
  },
  {
   "cell_type": "markdown",
   "metadata": {},
   "source": [
    "Индексирование - 2-я строка, 3-й столбец"
   ]
  },
  {
   "cell_type": "code",
   "execution_count": null,
   "metadata": {},
   "outputs": [],
   "source": [
    "c[2,3]"
   ]
  },
  {
   "cell_type": "markdown",
   "metadata": {},
   "source": [
    "Весь 3-й ряд"
   ]
  },
  {
   "cell_type": "code",
   "execution_count": null,
   "metadata": {},
   "outputs": [],
   "source": [
    "c[3,:]"
   ]
  },
  {
   "cell_type": "markdown",
   "metadata": {},
   "source": [
    "Весь 2-ой столбец"
   ]
  },
  {
   "cell_type": "code",
   "execution_count": null,
   "metadata": {},
   "outputs": [],
   "source": [
    "c[:,2]"
   ]
  },
  {
   "cell_type": "markdown",
   "metadata": {},
   "source": [
    "Блок, состоящий из 2-й и 4-й строк и 1-го и 3-го столбца"
   ]
  },
  {
   "cell_type": "code",
   "execution_count": null,
   "metadata": {},
   "outputs": [],
   "source": [
    "c[[2,4],[1,3]]"
   ]
  },
  {
   "cell_type": "markdown",
   "metadata": {},
   "source": [
    "### Срезы"
   ]
  },
  {
   "cell_type": "markdown",
   "metadata": {},
   "source": [
    "Когда массивы становятся все больше и больше, мы можем захотеть выбрать только его части на основе некоторого правила или правил.\n",
    "\n",
    "Вместо того, чтобы захватить одно число в массиве, мы также можем взять **срез** массива, то есть подмножество массива, которое может содержать несколько значений. Чтобы взять фрагмент `counting`, который включает 3-ю, 4-ю и 5-ю записи, мы используем следующий синтаксис с двоеточием (`:`):\n",
    "\n",
    "```julia\n",
    "counting[3:5]\n",
    "```"
   ]
  },
  {
   "cell_type": "markdown",
   "metadata": {},
   "source": [
    "---\n",
    "Функция `rand()` возвращает случайное значение от 0 до 1. Мы также можем указать значения для выбора. В приведенном ниже примере мы выбираем целые числа в диапазоне \\[10, 20] и создаем массив из десяти строк и пяти столбцов."
   ]
  },
  {
   "cell_type": "code",
   "execution_count": null,
   "metadata": {},
   "outputs": [],
   "source": [
    "array13 = rand(10:20, 10, 5)"
   ]
  },
  {
   "cell_type": "markdown",
   "metadata": {},
   "source": [
    "Выбор всех значений строки в столбце 2"
   ]
  },
  {
   "cell_type": "code",
   "execution_count": null,
   "metadata": {},
   "outputs": [],
   "source": [
    "array13[:, 2]"
   ]
  },
  {
   "cell_type": "markdown",
   "metadata": {},
   "source": [
    "Все значения строк в столбцах 2 и 5"
   ]
  },
  {
   "cell_type": "code",
   "execution_count": null,
   "metadata": {},
   "outputs": [],
   "source": [
    "array13[:, [2, 5]]"
   ]
  },
  {
   "cell_type": "markdown",
   "metadata": {},
   "source": [
    "Все значения строк в столбцах 2, 3 и 4"
   ]
  },
  {
   "cell_type": "code",
   "execution_count": null,
   "metadata": {},
   "outputs": [],
   "source": [
    "array13[:, 2:4]"
   ]
  },
  {
   "cell_type": "markdown",
   "metadata": {},
   "source": [
    "Значения в строках 2, 4, 6 и в столбцах 1 и 5"
   ]
  },
  {
   "cell_type": "code",
   "execution_count": null,
   "metadata": {},
   "outputs": [],
   "source": [
    "array13[[2, 4, 6], [1, 5]]"
   ]
  },
  {
   "cell_type": "markdown",
   "metadata": {},
   "source": [
    "Значения в строке 1 от столбца 3 до последнего столбца"
   ]
  },
  {
   "cell_type": "code",
   "execution_count": null,
   "metadata": {},
   "outputs": [],
   "source": [
    "array13[1, 3:end]"
   ]
  },
  {
   "cell_type": "markdown",
   "metadata": {},
   "source": [
    "---\n",
    "#### Упражнение\n",
    "\n",
    "Воспользуйтесь срезом в `myprimes`, чтобы получить наименьшие простые числа от 89-го до 99-го  (включительно)."
   ]
  },
  {
   "cell_type": "code",
   "execution_count": null,
   "metadata": {},
   "outputs": [],
   "source": []
  },
  {
   "cell_type": "markdown",
   "metadata": {},
   "source": [
    "## Логические операции с массивами\n",
    "Теперь мы рассмотрим применение некоторых правил. Обратите внимание, как мы используем поэлементный логический оператор в виде точки (обратите внимание на оператор `.>`).\n",
    "\n",
    "Кроме того, используя функцию `findall ()`, мы можем вернуть значения индекса."
   ]
  },
  {
   "cell_type": "markdown",
   "metadata": {},
   "source": [
    "Булева логика (возвращает только `true` и `false`)"
   ]
  },
  {
   "cell_type": "code",
   "execution_count": null,
   "metadata": {},
   "outputs": [],
   "source": [
    "array13[:, 1]"
   ]
  },
  {
   "cell_type": "code",
   "execution_count": null,
   "metadata": {},
   "outputs": [],
   "source": [
    "array13[:, 1] .> 14"
   ]
  },
  {
   "cell_type": "markdown",
   "metadata": {},
   "source": [
    "Возврат индекса истинных значений с помощью `findall ()`"
   ]
  },
  {
   "cell_type": "code",
   "execution_count": null,
   "metadata": {},
   "outputs": [],
   "source": [
    "findall(array13[:, 1] .> 14)"
   ]
  },
  {
   "cell_type": "markdown",
   "metadata": {},
   "source": [
    "## Сортировка и min/max"
   ]
  },
  {
   "cell_type": "code",
   "execution_count": null,
   "metadata": {},
   "outputs": [],
   "source": [
    "array13"
   ]
  },
  {
   "cell_type": "markdown",
   "metadata": {},
   "source": [
    "Сортировка по строкам"
   ]
  },
  {
   "cell_type": "code",
   "execution_count": null,
   "metadata": {},
   "outputs": [],
   "source": [
    "sort(array13,dims=1)"
   ]
  },
  {
   "cell_type": "markdown",
   "metadata": {},
   "source": [
    "Сортировка по столбцам"
   ]
  },
  {
   "cell_type": "code",
   "execution_count": null,
   "metadata": {},
   "outputs": [],
   "source": [
    "sort(array13,dims=2)"
   ]
  },
  {
   "cell_type": "markdown",
   "metadata": {},
   "source": [
    "Возвращает максимум (первый, если их больше одного) и его индекс в кортеже"
   ]
  },
  {
   "cell_type": "code",
   "execution_count": null,
   "metadata": {},
   "outputs": [],
   "source": [
    "findmax(array13)"
   ]
  },
  {
   "cell_type": "code",
   "execution_count": null,
   "metadata": {},
   "outputs": [],
   "source": [
    "findmin(array13)"
   ]
  },
  {
   "cell_type": "code",
   "execution_count": null,
   "metadata": {},
   "outputs": [],
   "source": [
    "argmax(array13)"
   ]
  },
  {
   "cell_type": "code",
   "execution_count": null,
   "metadata": {},
   "outputs": [],
   "source": [
    "argmin(array13)"
   ]
  },
  {
   "cell_type": "markdown",
   "metadata": {},
   "source": [
    "## Простые сводные операции\n",
    "- `sum`\n",
    "- `prod`\n",
    "- `mean`\n",
    "- `std`\n",
    "- `middle`\n",
    "- `median`"
   ]
  },
  {
   "cell_type": "code",
   "execution_count": null,
   "metadata": {},
   "outputs": [],
   "source": [
    "array17"
   ]
  },
  {
   "cell_type": "code",
   "execution_count": null,
   "metadata": {},
   "outputs": [],
   "source": [
    "sum(array17)"
   ]
  },
  {
   "cell_type": "code",
   "execution_count": null,
   "metadata": {},
   "outputs": [],
   "source": [
    "prod(array17)"
   ]
  },
  {
   "cell_type": "markdown",
   "metadata": {},
   "source": [
    "Такие функции, как `mean ()`, `std ()` и `middle ()` были перемещены в модуль `Statistics` стандартной библиотеки; вам может потребоваться сначала ввести `using Statistics` для их использования"
   ]
  },
  {
   "cell_type": "code",
   "execution_count": null,
   "metadata": {},
   "outputs": [],
   "source": [
    "import Pkg\n",
    "Pkg.add(\"Statistics\")"
   ]
  },
  {
   "cell_type": "code",
   "execution_count": null,
   "metadata": {},
   "outputs": [],
   "source": [
    "using Statistics"
   ]
  },
  {
   "cell_type": "code",
   "execution_count": null,
   "metadata": {},
   "outputs": [],
   "source": [
    "mean(array17)"
   ]
  },
  {
   "cell_type": "code",
   "execution_count": null,
   "metadata": {},
   "outputs": [],
   "source": [
    "std(array17)"
   ]
  },
  {
   "cell_type": "code",
   "execution_count": null,
   "metadata": {},
   "outputs": [],
   "source": [
    "middle(array17)"
   ]
  },
  {
   "cell_type": "code",
   "execution_count": null,
   "metadata": {},
   "outputs": [],
   "source": [
    "median(array17)"
   ]
  },
  {
   "cell_type": "markdown",
   "metadata": {},
   "source": [
    "Для двумерных массивов мы можем указать размерности, по которым должна выполняться сводная операция."
   ]
  },
  {
   "cell_type": "code",
   "execution_count": null,
   "metadata": {},
   "outputs": [],
   "source": [
    "array16"
   ]
  },
  {
   "cell_type": "code",
   "execution_count": null,
   "metadata": {},
   "outputs": [],
   "source": [
    "std(array16)"
   ]
  },
  {
   "cell_type": "code",
   "execution_count": null,
   "metadata": {},
   "outputs": [],
   "source": [
    "mean(array16,dims=1)"
   ]
  },
  {
   "cell_type": "code",
   "execution_count": null,
   "metadata": {},
   "outputs": [],
   "source": [
    "mean(array16,dims=2)"
   ]
  },
  {
   "cell_type": "markdown",
   "metadata": {},
   "source": [
    "## Поэлементные операции"
   ]
  },
  {
   "cell_type": "code",
   "execution_count": null,
   "metadata": {},
   "outputs": [],
   "source": [
    "array18 = [2*a+b for a in 1:3, b in -2:2]"
   ]
  },
  {
   "cell_type": "code",
   "execution_count": null,
   "metadata": {},
   "outputs": [],
   "source": [
    "array16"
   ]
  },
  {
   "cell_type": "code",
   "execution_count": null,
   "metadata": {},
   "outputs": [],
   "source": [
    "array16+array18"
   ]
  },
  {
   "cell_type": "markdown",
   "metadata": {},
   "source": [
    "Обратите внимание на точку перед `*`, чтобы обозначить поэлементную операцию."
   ]
  },
  {
   "cell_type": "code",
   "execution_count": null,
   "metadata": {},
   "outputs": [],
   "source": [
    "array16.*array18"
   ]
  },
  {
   "cell_type": "markdown",
   "metadata": {},
   "source": [
    "Деление может давать значения `Inf`, если производится деление на ноль"
   ]
  },
  {
   "cell_type": "code",
   "execution_count": null,
   "metadata": {},
   "outputs": [],
   "source": [
    "array18./array16"
   ]
  },
  {
   "cell_type": "markdown",
   "metadata": {},
   "source": [
    "---\n",
    "Мы даже можем поэлементно возвести один массив в степень другого. Но для того, чтобы это работало, по крайней мере один из них должен быть типа `Float`, а не `Integer`. Итак, мы создаем массив `Float64` и демонстрируем это."
   ]
  },
  {
   "cell_type": "code",
   "execution_count": null,
   "metadata": {},
   "outputs": [],
   "source": [
    "array19 = (Float64)[a+b for a in 1:3, b in -1:3]"
   ]
  },
  {
   "cell_type": "code",
   "execution_count": null,
   "metadata": {},
   "outputs": [],
   "source": [
    "array18.^array19"
   ]
  },
  {
   "cell_type": "markdown",
   "metadata": {},
   "source": [
    "### Модификация массива\n",
    "\n",
    "В этом разделе мы увидим, как редактировать массив, который мы уже создали. Посмотрим как\n",
    "\n",
    "1) Обновить элемент в существующей позиции в массиве;\n",
    "\n",
    "2) Добавить элемент в конец массива;\n",
    "\n",
    "3) Удалить элемент из конца массива."
   ]
  },
  {
   "cell_type": "markdown",
   "metadata": {},
   "source": [
    "#### Обновить элемент в существующей позиции в массиве\n",
    "\n",
    "Прежде всего, мы можем обновить элемент в существующей позиции в массиве путем индексации в массиве и изменения значения по желаемому индексу. Например, допустим, у нас есть массив с именем `myfriends`:\n",
    "\n",
    "```julia\n",
    "myfriends = [\"Ted\", \"Robin\", \"Barney\", \"Lily\", \"Marshall\"]\n",
    "```\n",
    "\n",
    "Мы можем получить имя Барни из 'myfriends' через\n",
    "\n",
    "```julia\n",
    "myfriends[3]\n",
    "```\n",
    "\n",
    "и мы можем изменить «Барни» на что-то еще, переназначив `myfriends[3]`:\n",
    "\n",
    "```julia\n",
    "myfriends[3] = \"Baby Bop\"\n",
    "```\n",
    "\n",
    "Обратите внимание, что одиночный `=` назначает новую переменную значению слева от знака `=`."
   ]
  },
  {
   "cell_type": "markdown",
   "metadata": {},
   "source": [
    "#### Упражнение 4\n",
    "\n",
    "Используйте включение массива для создания массива `mysequence`, в котором хранятся числа от 4 до 10. Замените в нём последний элемент, `10`, на` 11`."
   ]
  },
  {
   "cell_type": "markdown",
   "metadata": {},
   "source": [
    "#### Добавить элемент в конец массива"
   ]
  },
  {
   "cell_type": "code",
   "execution_count": null,
   "metadata": {},
   "outputs": [],
   "source": [
    "counting = [i for i in 1:10]"
   ]
  },
  {
   "cell_type": "markdown",
   "metadata": {},
   "source": [
    "Мы можем добавить элемент в конец массива с помощью функции `push!`. Не беспокойтесь о восклицательном знаке в конце `push!`; мы поговорим о том, почему это там позже, когда будем обсуждать функции. \n",
    "\n",
    "А пока обратите внимание, что когда вы вызываете `push!` Для массива и значения, вы добавляете это значение в конец массива. Например,\n",
    "\n",
    "```julia\n",
    "push!(counting, 1000)\n",
    "```\n",
    "\n",
    "превратит `counting` из \n",
    "\n",
    "```julia\n",
    "[1, 2, 3, 4, 5, 6, 7, 8, 9, 10]\n",
    "``` \n",
    "в \n",
    "```julia\n",
    "[1, 2, 3, 4, 5, 6, 7, 8, 9, 10, 1000]\n",
    "```\n",
    "\n",
    "Удостоверьтесь, что это работает"
   ]
  },
  {
   "cell_type": "code",
   "execution_count": null,
   "metadata": {},
   "outputs": [],
   "source": []
  },
  {
   "cell_type": "markdown",
   "metadata": {},
   "source": [
    "#### Упражнение 5\n",
    "\n",
    "Скопируйте следующий код, чтобы объявить массив `fibonacci`:\n",
    "\n",
    "```julia\n",
    "fibonacci = [1, 1, 2, 3, 5, 8, 13]\n",
    "```\n",
    "\n",
    "Используйте `push!`, Чтобы добавить `21` к` fibonacci` после числа `13`."
   ]
  },
  {
   "cell_type": "markdown",
   "metadata": {},
   "source": [
    "#### Удалить элемент из конца массива\n",
    "\n",
    "Чтобы удалить элемент из конца массива, используйте функцию `pop!`. При использовании `pop!` нужен только один входной аргумент, а именно массив, который вы хотите изменить. Например, если\n",
    "\n",
    "```julia\n",
    "counting = [1, 2, 3, 4, 5, 6, 7, 8, 9, 10, 1000]\n",
    "```\n",
    "\n",
    "тогда\n",
    "```julia\n",
    "pop(counting)\n",
    "```\n",
    "удалит `1000` с конца `counting`."
   ]
  },
  {
   "cell_type": "markdown",
   "metadata": {},
   "source": [
    "#### Упражнение 6\n",
    "\n",
    "Используйте `pop!` чтобы удалить `21` из `fibonacci`. Что возвращает этот вызов функции?"
   ]
  },
  {
   "cell_type": "code",
   "execution_count": null,
   "metadata": {},
   "outputs": [],
   "source": []
  },
  {
   "cell_type": "markdown",
   "metadata": {},
   "source": [
    "#### Упражнение 7\n",
    "\n",
    "Что является последним элементом `fibonacci`? Попробуйте\n",
    "\n",
    "```julia\n",
    "fibonacci[end]\n",
    "```"
   ]
  },
  {
   "cell_type": "code",
   "execution_count": null,
   "metadata": {},
   "outputs": [],
   "source": []
  },
  {
   "cell_type": "markdown",
   "metadata": {},
   "source": [
    "#### Упражнение 8\n",
    " \n",
    " Скопируйте и выполните следующий код, чтобы получить массив myprimematrix, в котором хранятся первые 100 простых чисел.\n",
    " \n",
    " ```\n",
    " myprimematrix = reshape(primes(541), (10, 10))\n",
    " ```\n",
    " \n",
    " Возьмите простое число в 8-й строке и 5-м столбце с помощью индексации. Каково значение этого простого?"
   ]
  },
  {
   "cell_type": "code",
   "execution_count": null,
   "metadata": {},
   "outputs": [],
   "source": []
  },
  {
   "cell_type": "markdown",
   "metadata": {},
   "source": [
    "### Копирование массивов\n",
    "\n",
    "Будьте осторожны, когда хотите скопировать массивы!\n",
    "\n",
    "Допустим, вы хотите скопировать существующий массив, например, «fibonacci», в массив под названием «somenumbers». Помните, как мы определили `fibonacci`:\n",
    "\n",
    "```julia\n",
    "fibonacci = [1, 1, 2, 3, 5, 8, 13]\n",
    "```\n",
    "\n",
    "Что если мы попытаемся скопировать Фибоначчи, сказав\n",
    "\n",
    "```julia\n",
    "somenumbers = fibonacci\n",
    "```\n",
    "?\n",
    "Выполните этот код, чтобы попытаться скопировать Фибоначчи. Посмотрите на `somenumbers`, чтобы увидеть, хранит ли он то, что вы хотите."
   ]
  },
  {
   "cell_type": "code",
   "execution_count": null,
   "metadata": {},
   "outputs": [],
   "source": [
    "fibonacci = [1, 1, 2, 3, 5, 8, 13]"
   ]
  },
  {
   "cell_type": "code",
   "execution_count": null,
   "metadata": {},
   "outputs": [],
   "source": [
    "somenumbers = fibonacci"
   ]
  },
  {
   "cell_type": "code",
   "execution_count": null,
   "metadata": {},
   "outputs": [],
   "source": [
    "somenumbers"
   ]
  },
  {
   "cell_type": "markdown",
   "metadata": {},
   "source": [
    "Теперь давайте обновим `somenumbers`, изменив его первый элемент."
   ]
  },
  {
   "cell_type": "code",
   "execution_count": null,
   "metadata": {},
   "outputs": [],
   "source": [
    "somenumbers[1] = 404"
   ]
  },
  {
   "cell_type": "markdown",
   "metadata": {},
   "source": [
    "Теперь давайте посмотрим внутрь Фибоначчи."
   ]
  },
  {
   "cell_type": "code",
   "execution_count": null,
   "metadata": {},
   "outputs": [],
   "source": [
    "fibonacci"
   ]
  },
  {
   "cell_type": "markdown",
   "metadata": {},
   "source": [
    "#### Упражнение 9\n",
    "\n",
    "Что является первым элементом в `Фибоначчи`?"
   ]
  },
  {
   "cell_type": "markdown",
   "metadata": {},
   "source": [
    "### Так как копировать-то?"
   ]
  },
  {
   "cell_type": "markdown",
   "metadata": {},
   "source": [
    "Скопировали ли мы 'Фибоначчи'?\n",
    "\n",
    "Нет, к сожалению нет. Когда мы пытались копировать, все, что мы делали, это давали `fibonacci` новое имя, `somenumbers`. Теперь, когда мы обновляем `somenumbers`, мы также обновляем` fibonacci`, потому что они - один и тот же объект!"
   ]
  },
  {
   "cell_type": "markdown",
   "metadata": {},
   "source": [
    "Если мы действительно хотим сделать *копию* массива, привязанного к `fibonacci`, мы можем использовать функцию `copy`:"
   ]
  },
  {
   "cell_type": "code",
   "execution_count": null,
   "metadata": {},
   "outputs": [],
   "source": [
    "# Во-первых, восстановить Фибоначчи\n",
    "\n",
    "fibonacci[1] = 1\n",
    "fibonacci"
   ]
  },
  {
   "cell_type": "code",
   "execution_count": null,
   "metadata": {},
   "outputs": [],
   "source": [
    "somemorenumbers = copy(fibonacci)"
   ]
  },
  {
   "cell_type": "code",
   "execution_count": null,
   "metadata": {},
   "outputs": [],
   "source": [
    "somemorenumbers[1] = 404"
   ]
  },
  {
   "cell_type": "code",
   "execution_count": null,
   "metadata": {},
   "outputs": [],
   "source": [
    "fibonacci"
   ]
  },
  {
   "cell_type": "markdown",
   "metadata": {},
   "source": [
    "В этом последнем примере Фибоначчи не был обновлен. Следовательно, мы видим, что массивы, связанные с `somemorenumbers` и `fibonacci`, различны."
   ]
  },
  {
   "cell_type": "markdown",
   "metadata": {},
   "source": [
    "#### Упражнение 10\n",
    "\n",
    "Скопируйте myprimematrix в mynewprimematrix. Замените `mynewprimematrix [3,3]` на 1234."
   ]
  },
  {
   "cell_type": "code",
   "execution_count": null,
   "metadata": {},
   "outputs": [],
   "source": []
  },
  {
   "cell_type": "markdown",
   "metadata": {},
   "source": [
    "### Упражнения\n",
    "\n",
    "#### 1 \n",
    "Создайте массив, `a_ray`, Спомощью следующего кода:\n",
    "\n",
    "```julia\n",
    "a_ray = [1, 2, 3]\n",
    "```\n",
    "\n",
    "Добавьте число `4` в конец масива, а затем удалите его."
   ]
  },
  {
   "cell_type": "code",
   "execution_count": null,
   "metadata": {},
   "outputs": [],
   "source": []
  },
  {
   "cell_type": "code",
   "execution_count": null,
   "metadata": {
    "editable": false,
    "hide_input": true,
    "nbgrader": {
     "checksum": "8dde7e020bc07c5762194abf5c72285c",
     "grade": true,
     "grade_id": "cell-a6b20b78fbfeb449",
     "locked": true,
     "points": 1,
     "schema_version": 1,
     "solution": false
    }
   },
   "outputs": [],
   "source": [
    "@assert a_ray == [1, 2, 3]"
   ]
  },
  {
   "cell_type": "markdown",
   "metadata": {},
   "source": [
    "#### 2 \n",
    "Попробуйте добавить \"Emergency\" в `phonebook` задав значение `string(911)`, а потом попробуйте\n",
    "\n",
    "```julia\n",
    "phonebook[\"Emergency\"] = 911\n",
    "```\n",
    "\n",
    "Что тут не так?"
   ]
  },
  {
   "cell_type": "code",
   "execution_count": null,
   "metadata": {},
   "outputs": [],
   "source": []
  },
  {
   "cell_type": "markdown",
   "metadata": {},
   "source": [
    "#### 3 \n",
    "Создайте новый словарь `flexible_phonebook` где номер Дженни будет целочисленным, а у Охотников за привидениями - строковым используя следующий код\n",
    "\n",
    "```julia\n",
    "flexible_phonebook = Dict(\"Jenny\" => 8675309, \"Ghostbusters\" => \"555-2368\")\n",
    "```"
   ]
  },
  {
   "cell_type": "code",
   "execution_count": null,
   "metadata": {},
   "outputs": [],
   "source": []
  },
  {
   "cell_type": "code",
   "execution_count": null,
   "metadata": {
    "editable": false,
    "hide_input": true,
    "nbgrader": {
     "checksum": "4a8e1e6d6c64cf1370e0fb60a233deb9",
     "grade": true,
     "grade_id": "cell-66f1d636c676c2f2",
     "locked": true,
     "points": 1,
     "schema_version": 1,
     "solution": false
    }
   },
   "outputs": [],
   "source": [
    "@assert flexible_phonebook == Dict(\"Jenny\" => 8675309, \"Ghostbusters\" => \"555-2368\")"
   ]
  },
  {
   "cell_type": "markdown",
   "metadata": {},
   "source": [
    "#### 4\n",
    "Добавьте туда ключ \"Emergency\" со значением `911` (целочисленное)."
   ]
  },
  {
   "cell_type": "code",
   "execution_count": null,
   "metadata": {},
   "outputs": [],
   "source": []
  },
  {
   "cell_type": "code",
   "execution_count": null,
   "metadata": {
    "editable": false,
    "hide_input": true,
    "nbgrader": {
     "checksum": "e790c96d2a64c04de1d9e01eaf5ba162",
     "grade": true,
     "grade_id": "cell-ee862ab938680259",
     "locked": true,
     "points": 1,
     "schema_version": 1,
     "solution": false
    }
   },
   "outputs": [],
   "source": [
    "@assert haskey(flexible_phonebook, \"Emergency\")"
   ]
  },
  {
   "cell_type": "code",
   "execution_count": null,
   "metadata": {
    "editable": false,
    "hide_input": true,
    "nbgrader": {
     "checksum": "356ba6c4ee4d106b41aec07039bd8495",
     "grade": true,
     "grade_id": "cell-c8c40ababe7cdfce",
     "locked": true,
     "points": 2,
     "schema_version": 1,
     "solution": false
    }
   },
   "outputs": [],
   "source": [
    "@assert flexible_phonebook[\"Emergency\"] == 911"
   ]
  },
  {
   "cell_type": "markdown",
   "metadata": {},
   "source": [
    "#### 5 \n",
    "Почему в `flexible_phonebook` целочисленное добавляется, а в `phonebook` нет? Как нам следует инициализировать `phonebook`, чтоб он мог принимать целочисленные значения?"
   ]
  },
  {
   "cell_type": "code",
   "execution_count": null,
   "metadata": {},
   "outputs": [],
   "source": []
  }
 ],
 "metadata": {
  "kernelspec": {
   "display_name": "Julia 1.5.0",
   "language": "julia",
   "name": "julia-1.5"
  },
  "language_info": {
   "file_extension": ".jl",
   "mimetype": "application/julia",
   "name": "julia",
   "version": "1.5.0"
  }
 },
 "nbformat": 4,
 "nbformat_minor": 4
}
