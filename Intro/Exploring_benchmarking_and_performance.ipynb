{
 "cells": [
  {
   "cell_type": "markdown",
   "metadata": {},
   "source": [
    "## Benchmarking\n",
    "\n",
    "В этом блокноте мы рассмотрим важность «интерполяции» глобальных переменных при сравнении функций. Мы интерполируем глобальную переменную, бросая перед ней **$**. \n",
    "\n",
    "```julia\n",
    "@benchmark sum($A)\n",
    "```\n",
    "\n",
    "а не\n",
    "\n",
    "```julia\n",
    "@benchmark sum(A)\n",
    "```\n",
    "\n",
    "Давайте посмотрим, может ли это изменить ситуацию, проверив соотношение во времени выполнения `sum ($A)` и `sum (A)` для массивов разного размера `A`.\n",
    "\n",
    "#### Упражнение\n",
    "\n",
    "Вызовите функцию «sum» для псевдослучайно заполненного одномерного массива, который называется «foo», и имеет длину от $2$ до $2 ^ {20} (~ 10 ^ 6)$. Для каждого размера `foo` определите соотношение времени выполнения для `sum (foo)` и `sum ($foo)`. (Чтобы определить это соотношение, используйте минимальное время выполнения в каждом случае.) Постройте соотношение времени выполнения для неинтерполированных и интерполированных `foo` в вызовах `sum` и длины `foo`. Кажется ли, что интерполяция `foo` имеет значение? Если да, то для каких размеров `foo`?"
   ]
  },
  {
   "cell_type": "code",
   "execution_count": null,
   "metadata": {
    "collapsed": true
   },
   "outputs": [],
   "source": []
  },
  {
   "cell_type": "code",
   "execution_count": null,
   "metadata": {
    "collapsed": true
   },
   "outputs": [],
   "source": []
  },
  {
   "cell_type": "code",
   "execution_count": null,
   "metadata": {
    "collapsed": true
   },
   "outputs": [],
   "source": []
  },
  {
   "cell_type": "markdown",
   "metadata": {},
   "source": [
    "## Производительность -- стабильность типов\n",
    "\n",
    "Одним из способов оптимизации кода в Julia является обеспечение **стабильности типов**. Если тип(ы) некоторых переменных в функции подвержен изменениям или неоднозначности, компилятор также не может рассуждать об этих переменных, и производительность будет падать. И наоборот, мы разрешаем компилятору оптимизировать и генерировать более эффективный машинный код, когда мы объявляем переменные, чтобы их типы были фиксированы по всему телу функции.\n",
    "\n",
    "Например, допустим, у нас были функции с именами `baz` и` bar` со следующими определениями\n",
    "\n",
    "```julia\n",
    "function baz()\n",
    "    s = rand()\n",
    "    if s > 2/3\n",
    "        return .666667\n",
    "    elseif s > 1/3\n",
    "        return 1//3    \n",
    "    else\n",
    "        return 0    \n",
    "    end\n",
    "end\n",
    "```\n",
    "\n",
    "```julia\n",
    "function bar()\n",
    "    s = rand()\n",
    "    if s > 2/3\n",
    "        return .666667\n",
    "    elseif s > 1/3\n",
    "        return .3333333    \n",
    "    else\n",
    "        return 0.0    \n",
    "    end\n",
    "end\n",
    "```\n",
    "\n",
    "Когда я сравниваю их через\n",
    "\n",
    "```julia\n",
    "using BenchmarkTools\n",
    "@benchmark baz()\n",
    "@benchmark bar()\n",
    "```\n",
    "\n",
    "Я вижу, что `bar` почти в три раза быстрее, чем` baz`! Причина в том, что `bar` является стабильным по типу, а` baz` - нет: компилятор может сказать, что `bar` всегда будет возвращать` Float`, тогда как `baz` может возвращать` Float`, `Int` или `Rational`. Когда компилятор может определить тип выходных данных функции или переменных, объявленных *внутри функции*, без выполнения кода, он может работать намного лучше.\n",
    "\n",
    "#### Упражнение\n",
    "\n",
    "Следующее определение для `my_sum` не можнт отличиться стабильным типом.\n",
    "\n",
    "```julia\n",
    "function my_sum(A)\n",
    "    output = 0\n",
    "    for x in A\n",
    "        output += x\n",
    "    end\n",
    "    return output\n",
    "end\n",
    "```\n",
    "\n",
    "Скопируйте и выполните приведенный выше код в новую ячейку. Оцените его, используя `A = rand (10 ^ 3)`. Затем напишите новую функцию my_sum2 с тем же телом функции, что и my_sum. Обновите `my_sum2`, чтобы сделать его стабильным, и сравните его для произвольно заполненного массива с 10 ^ 3 записями.\n",
    "\n",
    "Насколько стабильность типа влияет на производительность? Если вы хотите, попробуйте это же упражнение для нескольких размеров `A`, чтобы увидеть, изменит ли это ваш ответ!"
   ]
  },
  {
   "cell_type": "code",
   "execution_count": null,
   "metadata": {
    "collapsed": true
   },
   "outputs": [],
   "source": []
  },
  {
   "cell_type": "code",
   "execution_count": null,
   "metadata": {
    "collapsed": true
   },
   "outputs": [],
   "source": []
  },
  {
   "cell_type": "code",
   "execution_count": null,
   "metadata": {
    "collapsed": true
   },
   "outputs": [],
   "source": []
  },
  {
   "cell_type": "code",
   "execution_count": null,
   "metadata": {
    "collapsed": true
   },
   "outputs": [],
   "source": []
  },
  {
   "cell_type": "markdown",
   "metadata": {},
   "source": [
    "#### Упражнение\n",
    "\n",
    "Сделайте следующий тип кода стабильным. Вы поймете, что ваши усилия окупаются, когда увидите повышение производительности!\n",
    "\n",
    "```julia\n",
    "\"\"\"\n",
    "    my_sqrt(x)\n",
    "    \n",
    "Вычислить квадратный корень из `x` методом Ньютона. # ???А не вавилоский ли\n",
    "\"\"\"\n",
    "function my_sqrt(x)\n",
    "    output = 1\n",
    "    for i in 1:1000\n",
    "        output = .5 * (output + x/output)\n",
    "    end\n",
    "    output\n",
    "end\n",
    "```"
   ]
  },
  {
   "cell_type": "code",
   "execution_count": null,
   "metadata": {
    "collapsed": true
   },
   "outputs": [],
   "source": []
  },
  {
   "cell_type": "code",
   "execution_count": null,
   "metadata": {
    "collapsed": true
   },
   "outputs": [],
   "source": []
  },
  {
   "cell_type": "code",
   "execution_count": null,
   "metadata": {
    "collapsed": true
   },
   "outputs": [],
   "source": []
  },
  {
   "cell_type": "code",
   "execution_count": null,
   "metadata": {
    "collapsed": true
   },
   "outputs": [],
   "source": []
  },
  {
   "cell_type": "code",
   "execution_count": null,
   "metadata": {
    "collapsed": true
   },
   "outputs": [],
   "source": []
  }
 ],
 "metadata": {
  "kernelspec": {
   "display_name": "Julia 1.1.0",
   "language": "julia",
   "name": "julia-1.1"
  },
  "language_info": {
   "file_extension": ".jl",
   "mimetype": "application/julia",
   "name": "julia",
   "version": "1.1.0"
  }
 },
 "nbformat": 4,
 "nbformat_minor": 2
}
