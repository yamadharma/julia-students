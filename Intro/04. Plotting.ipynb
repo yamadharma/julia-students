{
 "cells": [
  {
   "cell_type": "markdown",
   "metadata": {},
   "source": [
    "# Графика\n",
    "\n",
    "## Основы\n",
    "Есть несколько разных способов построения графика в Julia (включая вызов PyPlot). \n",
    "\n",
    "Здесь мы покажем вам, как использовать `Plots.jl`. Если он еще не установлен, вам нужно использовать менеджер пакетов для его установки, и Julia прекомпилирует его для вас при первом использовании:"
   ]
  },
  {
   "cell_type": "code",
   "execution_count": null,
   "metadata": {},
   "outputs": [],
   "source": [
    "using Pkg\n",
    "Pkg.add(\"Plots\")\n",
    "Pkg.add(\"PyPlot\")\n",
    "Pkg.add(\"Plotly\")\n",
    "Pkg.add(\"ORCA\")\n",
    "Pkg.add(\"UnicodePlots\")"
   ]
  },
  {
   "cell_type": "code",
   "execution_count": null,
   "metadata": {},
   "outputs": [],
   "source": [
    "using Plots"
   ]
  },
  {
   "cell_type": "markdown",
   "metadata": {},
   "source": [
    "Одним из преимуществ `Plots.jl` является то, что он позволяет вам легко менять  бэкенды (`gr ()`, `pyplot ()`, `plotlyjs ()`)."
   ]
  },
  {
   "cell_type": "markdown",
   "metadata": {},
   "source": [
    "---\n",
    "Будем рисовать график функции $f(x)$:"
   ]
  },
  {
   "cell_type": "code",
   "execution_count": null,
   "metadata": {},
   "outputs": [],
   "source": [
    "f(x) = (3x.^2 + 6x .- 9).*exp.(-0.3x)"
   ]
  },
  {
   "cell_type": "code",
   "execution_count": null,
   "metadata": {},
   "outputs": [],
   "source": [
    "range(-5,10,length=151)"
   ]
  },
  {
   "cell_type": "code",
   "execution_count": null,
   "metadata": {},
   "outputs": [],
   "source": [
    "x = collect(range(-5,10,length=151))"
   ]
  },
  {
   "cell_type": "code",
   "execution_count": null,
   "metadata": {},
   "outputs": [],
   "source": [
    "y = f(x)"
   ]
  },
  {
   "cell_type": "code",
   "execution_count": null,
   "metadata": {},
   "outputs": [],
   "source": [
    "gr()"
   ]
  },
  {
   "cell_type": "code",
   "execution_count": null,
   "metadata": {},
   "outputs": [],
   "source": [
    "plot(x,y,\n",
    "    title=\"A simple curve\",\n",
    "    xlabel=\"Variable x\",\n",
    "    ylabel=\"Variable y\",\n",
    "    color=\"blue\")"
   ]
  },
  {
   "cell_type": "code",
   "execution_count": null,
   "metadata": {},
   "outputs": [],
   "source": [
    "gr()\n",
    "#pyplot()\n",
    "#plotly()\n",
    "#unicodeplots()"
   ]
  },
  {
   "cell_type": "code",
   "execution_count": null,
   "metadata": {},
   "outputs": [],
   "source": [
    "plot(x,y,\n",
    "    title=\"Простая кривая\",\n",
    "    xlabel=\"Переменная x\",\n",
    "    ylabel=\"Переменная y\",\n",
    "    color=\"blue\")"
   ]
  },
  {
   "cell_type": "markdown",
   "metadata": {},
   "source": [
    "### Using `Distributions`"
   ]
  },
  {
   "cell_type": "code",
   "execution_count": null,
   "metadata": {},
   "outputs": [],
   "source": [
    "import Pkg\n",
    "Pkg.add(\"Distributions\")"
   ]
  },
  {
   "cell_type": "code",
   "execution_count": null,
   "metadata": {},
   "outputs": [],
   "source": [
    "using Distributions"
   ]
  },
  {
   "cell_type": "code",
   "execution_count": null,
   "metadata": {},
   "outputs": [],
   "source": [
    "pyplot()"
   ]
  },
  {
   "cell_type": "code",
   "execution_count": null,
   "metadata": {},
   "outputs": [],
   "source": [
    "ages = rand(15:55,1000)"
   ]
  },
  {
   "cell_type": "code",
   "execution_count": null,
   "metadata": {},
   "outputs": [],
   "source": [
    "histogram(ages)"
   ]
  },
  {
   "cell_type": "code",
   "execution_count": null,
   "metadata": {},
   "outputs": [],
   "source": [
    "d=Normal(35.0,10.0)"
   ]
  },
  {
   "cell_type": "code",
   "execution_count": null,
   "metadata": {},
   "outputs": [],
   "source": [
    "ages = rand(d,1000)"
   ]
  },
  {
   "cell_type": "code",
   "execution_count": null,
   "metadata": {},
   "outputs": [],
   "source": [
    "histogram(\n",
    "    ages,\n",
    "    label=\"Распределение по возрастам (года)\",\n",
    "    xlabel = \"Возраст (лет)\",\n",
    "    ylabel= \"Количество\"\n",
    ")"
   ]
  },
  {
   "cell_type": "code",
   "execution_count": null,
   "metadata": {},
   "outputs": [],
   "source": [
    "plotly()"
   ]
  },
  {
   "cell_type": "code",
   "execution_count": null,
   "metadata": {},
   "outputs": [],
   "source": [
    "d1=Normal(10.0,5.0)\n",
    "d2=Normal(35.0,10.0);\n",
    "d3=Normal(60.0,5.0);\n",
    "N=1000;\n",
    "ages = (Float64)[];\n",
    "ages = append!(ages,rand(d1,Int64(ceil(N/2))));\n",
    "ages = append!(ages,rand(d2,N));\n",
    "ages = append!(ages,rand(d3,Int64(ceil(N/3))));\n",
    "\n",
    "histogram(\n",
    "    ages,\n",
    "    bins=50,\n",
    "    label=\"Распределение по возрастам (года)\",\n",
    "    xlabel = \"Возраст (лет)\",\n",
    "    ylabel= \"Количество\",\n",
    "    title = \"Распределение по возрастам (года)s\"\n",
    ")"
   ]
  },
  {
   "cell_type": "markdown",
   "metadata": {},
   "source": [
    "### Subplots and layout\n",
    "\n",
    "The first method is to define a layout which will split a series. The `layout` command takes in a 2-tuple `layout=(N,M)` which builds an `NxM` grid of plots. It will automatically split a series to be in each plot. For example, if we do `layout=(4,1)` on a plot with four series, then we will get four rows of plots, each with one series in it."
   ]
  },
  {
   "cell_type": "code",
   "execution_count": null,
   "metadata": {},
   "outputs": [],
   "source": [
    "y = rand(10,4)\n",
    "plot(x,y,layout=(4,1))"
   ]
  },
  {
   "cell_type": "markdown",
   "metadata": {},
   "source": [
    "Pass an integer to layout to allow it to automatically compute a grid size for that many subplots"
   ]
  },
  {
   "cell_type": "code",
   "execution_count": null,
   "metadata": {},
   "outputs": [],
   "source": [
    "plot(x,y,layout=4)"
   ]
  },
  {
   "cell_type": "markdown",
   "metadata": {},
   "source": [
    "Slightly more complex grid layouts can be created with the `grid(...)` constructor. For example, in the following layout, we create subplots with different heights. \n",
    "<br>The `heights` argument takes an array as input with fractions of desired heights. If the fractions do not add up to 1.0, then some subplots may not be displayed properly."
   ]
  },
  {
   "cell_type": "code",
   "execution_count": null,
   "metadata": {},
   "outputs": [],
   "source": [
    "plot(x,y, size=(600,300),layout = grid(4,1,heights=[0.2,0.3,0.4,0.15]))"
   ]
  },
  {
   "cell_type": "markdown",
   "metadata": {},
   "source": [
    "We can also use layouts on plots of plot objects. For example, we can generate for separate plots and make a single plot that combines them in a $2\\times2$ grid via the following:"
   ]
  },
  {
   "cell_type": "code",
   "execution_count": null,
   "metadata": {},
   "outputs": [],
   "source": [
    "p1 = plot(x,y) # Make a line plot\n",
    "p2 = scatter(x,y) # Make a scatter plot\n",
    "p3 = plot(x,y[:,1:2],xlabel=\"Labelled plot of two columns\",lw=2,title=\"Wide lines\")\n",
    "p4 = histogram(x,y) # Four histograms each with 10 points!\n",
    "plot(\n",
    "    p1,p2,p3,p4,\n",
    "    layout=(2,2),\n",
    "    legend=false,\n",
    "    size=(800,600),\n",
    "    background_color = :ivory)"
   ]
  },
  {
   "cell_type": "markdown",
   "metadata": {},
   "source": [
    "Notice that the attributes in the individual plots are applied to the individual plots, while the attributes on the final `plot` call are applied to all of the subplots."
   ]
  },
  {
   "cell_type": "markdown",
   "metadata": {},
   "source": [
    "### Advanced layout with the `@layout` macro\n",
    "The `@layout` macro is the easiest way to define complex layouts, using Julia's [multidimensional Array construction](https://docs.julialang.org/en/latest/manual/arrays/#Concatenation-1) as the basis for a custom layout syntax. Precise sizing can be achieved with curly brackets, otherwise the free space is equally split between the plot areas of subplots."
   ]
  },
  {
   "cell_type": "code",
   "execution_count": null,
   "metadata": {},
   "outputs": [],
   "source": [
    "l = @layout [  a{0.3w} [grid(3,3)\n",
    "                         b{0.2h} ]]\n",
    "plot(\n",
    "    rand(10,11),\n",
    "    layout = l, legend = false, seriestype = [:bar :scatter :path],\n",
    "    title = [\"($i)\" for j = 1:1, i=1:11], titleloc = :right, titlefont = font(8)\n",
    ")"
   ]
  },
  {
   "cell_type": "markdown",
   "metadata": {},
   "source": [
    "### Using `VegaLite` package"
   ]
  },
  {
   "cell_type": "code",
   "execution_count": null,
   "metadata": {},
   "outputs": [],
   "source": [
    "using VegaLite, VegaDatasets"
   ]
  },
  {
   "cell_type": "code",
   "execution_count": null,
   "metadata": {},
   "outputs": [],
   "source": [
    "dataset(\"population\") |>\n",
    "@vlplot(\n",
    "    mark={:boxplot, extent=\"min-max\"},\n",
    "    x=\"age:o\",\n",
    "    y={:people, axis={title=\"population\"}}\n",
    ")"
   ]
  },
  {
   "cell_type": "code",
   "execution_count": null,
   "metadata": {},
   "outputs": [],
   "source": [
    "using VegaLite, VegaDatasets\n",
    "\n",
    "dataset(\"barley\") |>\n",
    "@vlplot(y=\"variety:o\") +\n",
    "@vlplot(\n",
    "    mark={\n",
    "        :point,\n",
    "        filled=true\n",
    "    },\n",
    "    x={\n",
    "        \"mean(yield)\",\n",
    "        scale={zero=false},\n",
    "        title=\"Barley Yield\"\n",
    "    },\n",
    "    color={value=:black}\n",
    ") +\n",
    "@vlplot(\n",
    "    mark={\n",
    "        :errorbar,\n",
    "        extent=:ci\n",
    "     },\n",
    "     x={\"yield:q\", title=\"Barley Yield\"}\n",
    ")"
   ]
  },
  {
   "cell_type": "markdown",
   "metadata": {},
   "source": [
    "### Using `StatsPlots` and `SeriesReceipe`\n",
    "StatsPlots.jl also introduces new series recipes. The key is that you don't have to do anything differently: after using `StatsPlots` you can simply use those new series recipes as though they were built into the plotting libraries. Let's use the `Violin` plot on some random data"
   ]
  },
  {
   "cell_type": "code",
   "execution_count": null,
   "metadata": {},
   "outputs": [],
   "source": [
    "using StatsPlots"
   ]
  },
  {
   "cell_type": "code",
   "execution_count": null,
   "metadata": {},
   "outputs": [],
   "source": [
    "y = rand(100,4) # Four series of 100 points each\n",
    "violin([\"Series 1\" \"Series 2\" \"Series 3\" \"Series 4\"],y,leg=false)"
   ]
  },
  {
   "cell_type": "markdown",
   "metadata": {},
   "source": [
    "and we can add a `boxplot` on top using the same mutation commands (command with a **!**) as before,"
   ]
  },
  {
   "cell_type": "code",
   "execution_count": null,
   "metadata": {},
   "outputs": [],
   "source": [
    "boxplot!([\"Series 1\" \"Series 2\" \"Series 3\" \"Series 4\"],y,leg=false)"
   ]
  },
  {
   "cell_type": "markdown",
   "metadata": {},
   "source": [
    "### Marker shape"
   ]
  },
  {
   "cell_type": "code",
   "execution_count": null,
   "metadata": {},
   "outputs": [],
   "source": [
    "# 10 data points in 4 series\n",
    "xs = 0 : 2π/10 : 2π\n",
    "data = [sin.(xs) cos.(xs) 2sin.(xs) 2cos.(xs)]\n",
    "\n",
    "# We put labels in a row vector: applies to each series\n",
    "labels = [\"Apples\" \"Oranges\" \"Hats\" \"Shoes\"]\n",
    "\n",
    "# Marker shapes in a column vector: applies to data points\n",
    "markershapes = [:circle, :star5]\n",
    "\n",
    "# Marker colors in a matrix: applies to series and data points\n",
    "markercolors = [:green :orange :black :purple\n",
    "                :red   :yellow :brown :white]\n",
    "\n",
    "plot(xs, data, label = labels, shape = markershapes, color = markercolors,\n",
    "     markersize = 10)"
   ]
  },
  {
   "cell_type": "markdown",
   "metadata": {},
   "source": [
    "### Functions\n",
    "\n",
    "Functions can typically be used in place of input data, and they will be mapped as needed. 2D and 3D parametric plots can also be created, and ranges can be given as vectors or min/max. For example, here are alternative methods to create the same plot:"
   ]
  },
  {
   "cell_type": "code",
   "execution_count": null,
   "metadata": {},
   "outputs": [],
   "source": [
    "tmin = 0\n",
    "tmax = 4π\n",
    "tvec = range(tmin, stop=tmax, length=100)\n",
    "\n",
    "plot(sin.(tvec), cos.(tvec))\n",
    "plot(sin, cos, tvec)\n",
    "plot(sin, cos, tmin, tmax)"
   ]
  },
  {
   "cell_type": "markdown",
   "metadata": {},
   "source": [
    "### Using `DataFrames` with `StatsPlots`"
   ]
  },
  {
   "cell_type": "code",
   "execution_count": null,
   "metadata": {},
   "outputs": [],
   "source": [
    "using DataFrames, IndexedTables"
   ]
  },
  {
   "cell_type": "code",
   "execution_count": null,
   "metadata": {},
   "outputs": [],
   "source": [
    "df = DataFrame(a = 1:10, b = 10 .* rand(10), c = 10 .* rand(10));"
   ]
  },
  {
   "cell_type": "code",
   "execution_count": null,
   "metadata": {},
   "outputs": [],
   "source": [
    "df"
   ]
  },
  {
   "cell_type": "code",
   "execution_count": null,
   "metadata": {},
   "outputs": [],
   "source": [
    "@df df plot(:a, [:b :c], colour = [:red :blue])"
   ]
  },
  {
   "cell_type": "code",
   "execution_count": null,
   "metadata": {},
   "outputs": [],
   "source": [
    "@df df scatter(:a, :b, markersize = 4 .* log.(:c .+ 0.1))"
   ]
  },
  {
   "cell_type": "code",
   "execution_count": null,
   "metadata": {},
   "outputs": [],
   "source": [
    "t = table(1:10, rand(10), names = [:a, :b]) # IndexedTable\n",
    "@df t scatter(5 .* :b)"
   ]
  },
  {
   "cell_type": "markdown",
   "metadata": {},
   "source": [
    "Inside a `@df` macro call, the `cols` utility function can be used to refer to a range of columns:"
   ]
  },
  {
   "cell_type": "code",
   "execution_count": null,
   "metadata": {},
   "outputs": [],
   "source": [
    "@df df plot(:a, cols(2:3), colour = [:orange :gray])"
   ]
  },
  {
   "cell_type": "markdown",
   "metadata": {},
   "source": [
    "The `@df` macro plays nicely with the new syntax of the `Query.jl` data manipulation package (v0.8 and above), in that a plot command can be added at the end of a query pipeline, without having to explicitly collect the outcome of the query first,"
   ]
  },
  {
   "cell_type": "code",
   "execution_count": null,
   "metadata": {},
   "outputs": [],
   "source": [
    "using Query"
   ]
  },
  {
   "cell_type": "code",
   "execution_count": null,
   "metadata": {},
   "outputs": [],
   "source": [
    "df |>\n",
    "    @filter(_.a > 5) |>\n",
    "    @map({_.b, d = _.c-10}) |>\n",
    "    @df scatter(:b, :d)"
   ]
  },
  {
   "cell_type": "markdown",
   "metadata": {},
   "source": [
    "The `@df` syntax is also compatible with the `Plots.jl` grouping machinery:"
   ]
  },
  {
   "cell_type": "code",
   "execution_count": null,
   "metadata": {},
   "outputs": [],
   "source": [
    "using RDatasets\n",
    "school = RDatasets.dataset(\"mlmRev\",\"Hsb82\");"
   ]
  },
  {
   "cell_type": "code",
   "execution_count": null,
   "metadata": {},
   "outputs": [],
   "source": [
    "first(school,5)"
   ]
  },
  {
   "cell_type": "code",
   "execution_count": null,
   "metadata": {},
   "outputs": [],
   "source": [
    "@df school density(:MAch, group = :Sx)"
   ]
  },
  {
   "cell_type": "markdown",
   "metadata": {},
   "source": [
    "To group by more than one column, use a tuple of symbols,"
   ]
  },
  {
   "cell_type": "code",
   "execution_count": null,
   "metadata": {},
   "outputs": [],
   "source": [
    "@df school density(:MAch, group = (:Sx, :Sector), legend = :topleft)"
   ]
  },
  {
   "cell_type": "markdown",
   "metadata": {},
   "source": [
    "To name the legend entries with custom or automatic names (i.e. Gender = Male, Sector = Public) use the curly bracket syntax `group = {Gender = :Sx, :Sector}`"
   ]
  },
  {
   "cell_type": "code",
   "execution_count": null,
   "metadata": {},
   "outputs": [],
   "source": [
    "@df school density(:MAch, group = {Gender = :Sx, :Sector}, legend = :topleft)"
   ]
  },
  {
   "cell_type": "markdown",
   "metadata": {},
   "source": [
    "Marginal histogram with Iris dataset"
   ]
  },
  {
   "cell_type": "code",
   "execution_count": null,
   "metadata": {},
   "outputs": [],
   "source": [
    "using RDatasets\n",
    "iris = RDatasets.dataset(\"datasets\",\"iris\")\n",
    "@df iris marginalhist(:PetalLength, :PetalWidth)"
   ]
  },
  {
   "cell_type": "markdown",
   "metadata": {},
   "source": [
    "Correlation plot"
   ]
  },
  {
   "cell_type": "code",
   "execution_count": null,
   "metadata": {},
   "outputs": [],
   "source": [
    "@df iris corrplot([:SepalLength :SepalWidth :PetalLength :PetalWidth], grid = false)"
   ]
  },
  {
   "cell_type": "markdown",
   "metadata": {},
   "source": [
    "A correlation plot may also be produced from a matrix,"
   ]
  },
  {
   "cell_type": "code",
   "execution_count": null,
   "metadata": {},
   "outputs": [],
   "source": [
    "M = randn(1000,4)\n",
    "M[:,2] .+= 0.8sqrt.(abs.(M[:,1])) .- 0.5M[:,3] .+ 5\n",
    "M[:,3] .-= 0.7M[:,1].^2 .+ 2\n",
    "corrplot(M, label = [\"x$i\" for i=1:4])"
   ]
  },
  {
   "cell_type": "code",
   "execution_count": null,
   "metadata": {},
   "outputs": [],
   "source": [
    "cornerplot(M)"
   ]
  },
  {
   "cell_type": "markdown",
   "metadata": {},
   "source": [
    "Boxplot, dotplot, violin"
   ]
  },
  {
   "cell_type": "code",
   "execution_count": null,
   "metadata": {},
   "outputs": [],
   "source": [
    "import RDatasets\n",
    "singers = RDatasets.dataset(\"lattice\",\"singer\")\n",
    "@df singers violin(:VoicePart,:Height,marker=(0.2,:blue,stroke(0)))"
   ]
  },
  {
   "cell_type": "code",
   "execution_count": null,
   "metadata": {},
   "outputs": [],
   "source": [
    "@df singers boxplot!(:VoicePart,:Height,marker=(0.3,:orange,stroke(2)), alpha=0.75)\n",
    "@df singers dotplot!(:VoicePart,:Height,marker=(:black,stroke(0)))"
   ]
  },
  {
   "cell_type": "markdown",
   "metadata": {},
   "source": [
    "### Exercises\n",
    "\n",
    "#### 8.1 \n",
    "Дано\n",
    "```julia\n",
    "x = -10:10\n",
    "```\n",
    "изобразите зависимость y от x для $y = x^2$.  Возможно, вы захотите изменить backends снова."
   ]
  },
  {
   "cell_type": "code",
   "execution_count": null,
   "metadata": {},
   "outputs": [],
   "source": []
  },
  {
   "cell_type": "markdown",
   "metadata": {},
   "source": [
    "#### 8.2 \n",
    "Выполните следующий код"
   ]
  },
  {
   "cell_type": "code",
   "execution_count": null,
   "metadata": {},
   "outputs": [],
   "source": [
    "p1 = plot(x, x)\n",
    "p2 = plot(x, x.^2)\n",
    "p3 = plot(x, x.^3)\n",
    "p4 = plot(x, x.^4)\n",
    "plot(p1, p2, p3, p4, layout = (2, 2), legend = false)"
   ]
  },
  {
   "cell_type": "markdown",
   "metadata": {},
   "source": [
    "и затем создайте график $4x1$, который использует `p1`,` p2`, `p3` и` p4` в качестве вспомогательных участков."
   ]
  },
  {
   "cell_type": "code",
   "execution_count": null,
   "metadata": {},
   "outputs": [],
   "source": []
  }
 ],
 "metadata": {
  "anaconda-cloud": {},
  "kernelspec": {
   "display_name": "Julia 1.5.0",
   "language": "julia",
   "name": "julia-1.5"
  },
  "language_info": {
   "file_extension": ".jl",
   "mimetype": "application/julia",
   "name": "julia",
   "version": "1.5.0"
  },
  "toc": {
   "nav_menu": {
    "height": "66px",
    "width": "252px"
   },
   "navigate_menu": true,
   "number_sections": true,
   "sideBar": true,
   "threshold": "2",
   "toc_cell": false,
   "toc_section_display": "block",
   "toc_window_display": false
  }
 },
 "nbformat": 4,
 "nbformat_minor": 4
}
