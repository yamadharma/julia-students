{
 "cells": [
  {
   "cell_type": "markdown",
   "metadata": {},
   "source": [
    "# Параллельные и распределенные вычисления с Julia\n",
    "\n",
    "[Marc Moreno Maza](https://docviewer.yandex.ru/view/326904132/?*=XkmsCLxss6FV3ksEDGu4JvxK2fN7InVybCI6Imh0dHBzOi8vd3d3LmNzZC51d28uY2EvQ291cnNlcy9DUzIxMDFhL1BhcmFsbGVsX2NvbXB1dGluZ193aXRoX0p1bGlhLnBkZiIsInRpdGxlIjoiUGFyYWxsZWxfY29tcHV0aW5nX3dpdGhfSnVsaWEucGRmIiwibm9pZnJhbWUiOnRydWUsInVpZCI6IjMyNjkwNDEzMiIsInRzIjoxNTY1NTg5NjQ4OTA2LCJ5dSI6IjI0ODIxNzM5MDE1NTIwNDg4ODciLCJzZXJwUGFyYW1zIjoibGFuZz1lbiZ0bT0xNTY1NTg5NjM4JnRsZD1ydSZuYW1lPVBhcmFsbGVsX2NvbXB1dGluZ193aXRoX0p1bGlhLnBkZiZ0ZXh0PVBhcmFsbGVsK2FuZCtEaXN0cmlidXRlZCtDb21wdXRpbmcrd2l0aCtKdWxpYSZ1cmw9aHR0cHMlM0EvL3d3dy5jc2QudXdvLmNhL0NvdXJzZXMvQ1MyMTAxYS9QYXJhbGxlbF9jb21wdXRpbmdfd2l0aF9KdWxpYS5wZGYmbHI9MzgmbWltZT1wZGYmbDEwbj1ydSZzaWduPTc0NTBkMDY2NzYwNzlmOThlZTVjMzc5NmYzMTNiMjkxJmtleW5vPTAifQ%3D%3D&lang=en)\n",
    "\n",
    "### Задачи: одновременные вызовы функций\n",
    "\n",
    "##### Tasks (aka Coroutines)\n",
    "Задачи (сопрограммы)\n",
    "\n",
    "*Задачи* - это функция управления потоком, которая позволяет гибко приостанавливать и возобновлять вычисления.\n",
    "Эту функцию иногда называют другими именами, такими как симметричные сопрограммы, легкие потоки, совместная многозадачность или однократные продолжения.\n",
    "\n",
    "Когда часть вычислительной работы (на практике выполняющая определенную функцию) обозначается как Задача, становится возможным прервать ее, переключившись на другую Задачу.\n",
    "\n",
    "Исходное задание может быть позже возобновлено, и в этот момент оно будет продолжено именно там, где остановилось\n",
    "\n",
    "**Схема производитель-потребитель**\n",
    "\n",
    "Одна сложная процедура генерирует значения, а другая сложная процедура принимает их. Потребитель не может просто вызвать функцию производителя, чтобы получить значение, потому что у производителя может быть больше значений для генерации, и он может быть еще не готов к возврату. С задачами производитель и потребитель могут работать столько, сколько им нужно, передавая значения туда и обратно по мере необходимости.\n",
    "\n",
    "*Пример:*"
   ]
  },
  {
   "cell_type": "code",
   "execution_count": null,
   "metadata": {},
   "outputs": [],
   "source": [
    "function producer(c::Channel)\n",
    "    put!(c, \"start\")\n",
    "    for n=1:2\n",
    "        put!(c, 2n)\n",
    "    end\n",
    "    put!(c, \"stop\")\n",
    "end;"
   ]
  },
  {
   "cell_type": "markdown",
   "metadata": {},
   "source": [
    "Чтобы использовать значения, сначала производитель оборачивается в Задачу, а затем повторно вызывается для этого объекта:"
   ]
  },
  {
   "cell_type": "code",
   "execution_count": null,
   "metadata": {},
   "outputs": [],
   "source": [
    "p = Channel(producer)"
   ]
  },
  {
   "cell_type": "code",
   "execution_count": null,
   "metadata": {},
   "outputs": [],
   "source": [
    "take!(p)"
   ]
  },
  {
   "cell_type": "code",
   "execution_count": null,
   "metadata": {},
   "outputs": [],
   "source": [
    "take!(p)"
   ]
  },
  {
   "cell_type": "code",
   "execution_count": null,
   "metadata": {},
   "outputs": [],
   "source": [
    "take!(p)"
   ]
  },
  {
   "cell_type": "code",
   "execution_count": null,
   "metadata": {
    "scrolled": true
   },
   "outputs": [],
   "source": [
    "take!(p)"
   ]
  },
  {
   "cell_type": "code",
   "execution_count": null,
   "metadata": {},
   "outputs": [],
   "source": [
    "take!(p)"
   ]
  },
  {
   "cell_type": "markdown",
   "metadata": {},
   "source": [
    "Задача может использоваться как повторяемый объект в цикле for, и в этом случае переменная цикла принимает все полученные значения:"
   ]
  },
  {
   "cell_type": "code",
   "execution_count": null,
   "metadata": {},
   "outputs": [],
   "source": [
    "for x in Channel(producer)\n",
    "    println(x)\n",
    "end"
   ]
  },
  {
   "cell_type": "markdown",
   "metadata": {},
   "source": [
    "**Передача сообщений**\n",
    "Julia предоставляет многопроцессорную среду, основанную на передаче сообщений, позволяющую программам работать на нескольких процессорах в общей или распределенной памяти.\n",
    "Реализация передачи сообщений Julia является односторонней:\n",
    "* программист должен явно управлять только одним процессором в двухпроцессорном режиме\n",
    "* эти операции обычно не похожи на отправку и получение сообщения, а скорее на операции более высокого уровня, такие как обращения к пользовательской функции.\n",
    "\n",
    "Два ключевых понятия: *удаленные ссылки* и *удаленные вызовы*\n",
    "Удаленная ссылка - это объект, который может использоваться любым процессором для ссылки на объект, хранящийся в конкретном процессоре.\n",
    "Удаленный вызов - это запрос одного процессора на вызов определенной функции по определенным аргументам другого (возможно, того же) процессора. Удаленный вызов возвращает удаленную ссылку.\n",
    "\n",
    "**Как обрабатываются удаленные вызовы в потоке программы**\n",
    "\n",
    "Удаленные вызовы возвращаются немедленно: процессор, который сделал вызов, может затем перейти к следующей операции, в то время как удаленный вызов происходит где-то еще.\n",
    "Вы можете дождаться завершения удаленного вызова, вызвав `wait` для его удаленной ссылки, и вы можете получить полное значение результата, используя `fetch`."
   ]
  },
  {
   "cell_type": "code",
   "execution_count": null,
   "metadata": {},
   "outputs": [],
   "source": [
    "# Запустите диспетчер задач и посмотрите, как пыхтят ядра\n",
    "using Distributed\n",
    "addprocs(2)"
   ]
  },
  {
   "cell_type": "code",
   "execution_count": null,
   "metadata": {},
   "outputs": [],
   "source": [
    "r = remotecall(rand, 2, 2, 2)"
   ]
  },
  {
   "cell_type": "code",
   "execution_count": null,
   "metadata": {},
   "outputs": [],
   "source": [
    "s = @spawnat 2 1 .+ fetch(r)"
   ]
  },
  {
   "cell_type": "code",
   "execution_count": null,
   "metadata": {},
   "outputs": [],
   "source": [
    "fetch(s)"
   ]
  },
  {
   "cell_type": "markdown",
   "metadata": {},
   "source": [
    "Вторым аргументом для удаленного вызова является индекс процессора, который будет выполнять эту работу.\n",
    "В первой строке мы попросили процессор 2 построить случайную матрицу 2 на 2, и в третьей строке мы попросили добавить 1 к ней.\n",
    "Макрос @spawnat оценивает выражение во втором аргументе процессора, указанного в первом аргументе."
   ]
  },
  {
   "cell_type": "code",
   "execution_count": null,
   "metadata": {},
   "outputs": [],
   "source": [
    "remotecall_fetch(getindex, 2, r, 1, 1)"
   ]
  },
  {
   "cell_type": "markdown",
   "metadata": {},
   "source": [
    "`remotecall_fetch`\n",
    "\n",
    "Иногда вам может понадобиться удаленно вычисленное значение сразу. Для этого существует функция удаленного вызова.\n",
    "Это эквивалентно fetch (remotecall (...)), но более эффективно. Обратите внимание, что `getindex(r, 1,1)` эквивалентен `r[1,1]`, поэтому этот вызов извлекает первый элемент удаленной ссылки `r`.\n",
    "\n",
    "Макрос `@spawn`\n",
    "Синтаксис удаленного вызова не особенно удобен. Макрос @spawn упрощает работу:\n",
    "* Он работает с выражением, а не с функцией, и\n",
    "* выбирает процессор, где выполнять операцию за вас"
   ]
  },
  {
   "cell_type": "code",
   "execution_count": null,
   "metadata": {},
   "outputs": [],
   "source": [
    "r = @spawn rand(2,2)"
   ]
  },
  {
   "cell_type": "code",
   "execution_count": null,
   "metadata": {},
   "outputs": [],
   "source": [
    "s = @spawn 1 .+ fetch(r)"
   ]
  },
  {
   "cell_type": "code",
   "execution_count": null,
   "metadata": {},
   "outputs": [],
   "source": [
    "fetch(s)"
   ]
  },
  {
   "cell_type": "markdown",
   "metadata": {},
   "source": [
    "Обратите внимание, что мы использовали `1 .+ fetch(r)` вместо `1 + r`. Это потому, что мы не знаем, где будет выполняться код, поэтому в общем случае может потребоваться выборка для перемещения `r` к процессору, выполняющему сложение.\n",
    "В этом случае `@spawn` достаточно умен, чтобы выполнять вычисления на процессоре, которому принадлежит `r`, поэтому выборка будет неактивной.\n",
    "\n",
    "### Советы по перемещению кода и данных\n",
    "\n",
    "##### Доступность функции для процессоров\n",
    "\n",
    "Важным моментом является то, что ваш код должен быть доступен на любом процессоре, на котором он выполняется. Например, введите в командной строке julia следующее"
   ]
  },
  {
   "cell_type": "code",
   "execution_count": null,
   "metadata": {},
   "outputs": [],
   "source": [
    "function rand2(dims...)\n",
    "    return 2*rand(dims...)\n",
    "end\n",
    "\n",
    "rand2(2,2)"
   ]
  },
  {
   "cell_type": "code",
   "execution_count": null,
   "metadata": {},
   "outputs": [],
   "source": [
    "fetch(@spawn rand2(2,2))"
   ]
  },
  {
   "cell_type": "markdown",
   "metadata": {},
   "source": [
    "Процесс 1 знал о функции rand2, а процесс 2 — нет.Процесс 1 знал о функции rand2, а процесс 2 — нет. Сделаем нашу функцию видимой для всех процессов с помощью специального макроса:"
   ]
  },
  {
   "cell_type": "code",
   "execution_count": null,
   "metadata": {},
   "outputs": [],
   "source": [
    "@everywhere function rand2(dims...)\n",
    "    return 2*rand(dims...)\n",
    "end\n",
    "\n",
    "rand2(2,2)"
   ]
  },
  {
   "cell_type": "code",
   "execution_count": null,
   "metadata": {},
   "outputs": [],
   "source": [
    "fetch(@spawn rand2(2,2))"
   ]
  },
  {
   "cell_type": "code",
   "execution_count": null,
   "metadata": {
    "scrolled": true
   },
   "outputs": [],
   "source": [
    "@everywhere id = myid() # \n",
    "remotecall_fetch(()->id, 2)"
   ]
  },
  {
   "cell_type": "code",
   "execution_count": null,
   "metadata": {},
   "outputs": [],
   "source": [
    "?myid"
   ]
  },
  {
   "cell_type": "code",
   "execution_count": null,
   "metadata": {},
   "outputs": [],
   "source": [
    "workers()"
   ]
  },
  {
   "cell_type": "markdown",
   "metadata": {},
   "source": [
    "Каждый процесс имеет свой идентификатор. Процесс, обеспечивающий интерактивное приглашение julia, всегда имеет идентификатор, равный 1, как и процесс julia, выполняющий скрипт драйвера в примере выше.\n",
    "Процессы, используемые по умолчанию для параллельных операций, называются рабочими. Когда есть только один процесс, процесс 1 считается работником. В противном случае рабочими считаются все процессы, отличные от процесса 1.\n",
    "\n",
    "Базовая установка Julia имеет встроенную поддержку для двух типов кластеров:\n",
    "* Локальный кластер, вызываемый с параметром -p.\n",
    "* Кластерный охват машин с использованием опции machinefile. При этом используется логин ssh без пароля для запуска рабочих процессов julia (по тому же пути, что и текущий хост) на указанных машинах.\n",
    "\n",
    "Функции addprocs, rmprocs, worker и другие доступны в качестве программного средства добавления, удаления и запроса процессов в кластере.\n",
    "\n",
    "Отправка сообщений и перемещение данных составляют большую часть накладных расходов в параллельной программе. Сокращение количества сообщений и объема отправляемых данных имеет решающее значение для достижения производительности и масштабируемости. Для этого важно понимать движение данных, выполняемое в Julia различными конструкциями параллельного программирования.\n",
    "\n",
    "`fetch` можно рассматривать как явную операцию перемещения данных, поскольку она напрямую запрашивает перемещение объекта на локальную машину.\n",
    "\n",
    "`@spawn` (и несколько связанных конструкций) также перемещает данные, но это не так очевидно, поэтому это можно назвать неявной операцией перемещения данных.\n",
    "\n",
    "Рассмотрим эти два подхода к построению и возведению в квадрат случайной матрицы:"
   ]
  },
  {
   "cell_type": "code",
   "execution_count": null,
   "metadata": {},
   "outputs": [],
   "source": [
    "# method 1\n",
    "A = rand(1000,1000)\n",
    "@time Bref = @spawn A^2\n",
    "\n",
    "fetch(Bref)"
   ]
  },
  {
   "cell_type": "code",
   "execution_count": null,
   "metadata": {},
   "outputs": [],
   "source": [
    "# method 2\n",
    "@time Bref = @spawn rand(1000,1000)^2\n",
    "\n",
    "fetch(Bref)"
   ]
  },
  {
   "cell_type": "markdown",
   "metadata": {},
   "source": [
    "Разница кажется тривиальной, но на самом деле она довольно значительна из-за поведения `@spawn`.\n",
    "В первом методе случайная матрица строится локально, а затем отправляется другому процессору, где она возводится в квадрат.\n",
    "Во втором методе случайная матрица строится и возводится в квадрат на другом процессоре.\n",
    "Поэтому второй метод отправляет намного меньше данных, чем первый.\n",
    "\n",
    "В предыдущем примере эти два способа легко отличить, однако в реальной программе проектирование перемещения данных может потребовать больше обдумывания и, скорее всего, некоторых измерений.\n",
    "\n",
    "Например, если первый процессор нуждается в матрице A, тогда первый метод может быть лучше. Или, если обработка A стоит дорого, но она есть только у текущего процессора, перенос ее на другой процессор может быть неизбежен. Или, если текущий процессор имеет очень мало общего между `@spawn` и `fetch (Bref)`, то может быть лучше вообще исключить параллелизм. Или представьте, что `rand(1000, 1000)` заменен более дорогой операцией. Тогда может иметь смысл добавить еще один оператор `@spawn` только для этого шага."
   ]
  },
  {
   "cell_type": "code",
   "execution_count": null,
   "metadata": {},
   "outputs": [],
   "source": [
    "@everywhere function fib(n)\n",
    "    if n < 2\n",
    "        return n\n",
    "    else \n",
    "        return fib(n-1) + fib(n-2)\n",
    "    end\n",
    "end\n",
    "\n",
    "z = @spawn fib(10)"
   ]
  },
  {
   "cell_type": "code",
   "execution_count": null,
   "metadata": {},
   "outputs": [],
   "source": [
    "fetch(z)"
   ]
  },
  {
   "cell_type": "code",
   "execution_count": null,
   "metadata": {},
   "outputs": [],
   "source": [
    "@time [fib(i) for i=1:45];"
   ]
  },
  {
   "cell_type": "code",
   "execution_count": null,
   "metadata": {},
   "outputs": [],
   "source": [
    "@everywhere function fib_parallel(n)\n",
    "    if n < 40\n",
    "        return fib(n)\n",
    "    else\n",
    "        x = @spawn fib_parallel(n-1)\n",
    "        y = fib_parallel(n-2)\n",
    "        return fetch(x) + y\n",
    "    end\n",
    "end\n",
    "\n",
    "@time [fib_parallel(i) for i=1:45];"
   ]
  },
  {
   "cell_type": "markdown",
   "metadata": {},
   "source": [
    "Следующий простой пример демонстрирует мощный и часто используемый шаблон параллельного программирования: Reductuon.\n",
    "Многие итерации выполняются независимо на нескольких процессорах, а затем их результаты объединяются с использованием некоторой функции"
   ]
  },
  {
   "cell_type": "code",
   "execution_count": null,
   "metadata": {},
   "outputs": [],
   "source": [
    "@everywhere function count_heads(n)\n",
    "    c::Int = 0\n",
    "    for i=1:n\n",
    "        c += rand(Bool)\n",
    "    end\n",
    "    c\n",
    "end\n",
    "\n",
    "a = @spawn count_heads(100000000)\n",
    "b = @spawn count_heads(100000000)\n",
    "fetch(a)+fetch(b)"
   ]
  },
  {
   "cell_type": "code",
   "execution_count": null,
   "metadata": {},
   "outputs": [],
   "source": []
  },
  {
   "cell_type": "markdown",
   "metadata": {},
   "source": [
    "Разобрать пример с Монте-Карло [на Хабре](https://habr.com/ru/post/455846/) + углубленный разбор темы.\n",
    "\n",
    "*ToDo:*\n",
    "\n",
    "* Distributed arrays and parallel reduction\n",
    "* Shared arrays\n",
    "* Parallel blockwise matrix multiplication\n",
    "* Finite difference schemes\n",
    "* Homeworks"
   ]
  }
 ],
 "metadata": {
  "@webio": {
   "lastCommId": null,
   "lastKernelId": null
  },
  "kernelspec": {
   "display_name": "Julia 1.4.1",
   "language": "julia",
   "name": "julia-1.4"
  },
  "language_info": {
   "file_extension": ".jl",
   "mimetype": "application/julia",
   "name": "julia",
   "version": "1.1.0"
  }
 },
 "nbformat": 4,
 "nbformat_minor": 4
}
