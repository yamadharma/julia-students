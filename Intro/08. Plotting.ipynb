{
 "cells": [
  {
   "cell_type": "markdown",
   "metadata": {},
   "source": [
    "# Графика\n",
    "\n",
    "## Основы\n",
    "Есть несколько разных способов построения графика в Julia (включая вызов PyPlot). \n",
    "\n",
    "Здесь мы покажем вам, как использовать `Plots.jl`. Если он еще не установлен, вам нужно использовать менеджер пакетов для его установки, и Джулия прекомпилирует его для вас при первом использовании:"
   ]
  },
  {
   "cell_type": "code",
   "execution_count": null,
   "metadata": {},
   "outputs": [],
   "source": [
    "# using Pkg\n",
    "# Pkg.add(\"Plots\")\n",
    "# Pkg.add(\"Plotly\")\n",
    "using Plots"
   ]
  },
  {
   "cell_type": "markdown",
   "metadata": {},
   "source": [
    "Одним из преимуществ `Plots.jl` является то, что он позволяет вам легко менять серверные части. В этом блокноте мы опробуем бэкенды `gr ()` и `plotlyjs ()`. \n",
    "\n",
    "Во имя научного исследования давайте воспользуемся этой записной книжкой для изучения взаимосвязи между глобальной температурой и числом пиратов между примерно 1860 и 2000 годами."
   ]
  },
  {
   "cell_type": "code",
   "execution_count": null,
   "metadata": {},
   "outputs": [],
   "source": [
    "globaltemperatures = [14.4, 14.5, 14.8, 15.2, 15.5, 15.8]\n",
    "numpirates = [45000, 20000, 15000, 5000, 400, 17];"
   ]
  },
  {
   "cell_type": "markdown",
   "metadata": {},
   "source": [
    "Plots поддерживает несколько бэкэндов - то есть библиотек, которые фактически рисуют - все с одним и тем же API. Для начала давайте попробуем бэкэнд GR. Вы выбираете это с помощью вызова `gr ()`:"
   ]
  },
  {
   "cell_type": "code",
   "execution_count": null,
   "metadata": {},
   "outputs": [],
   "source": [
    "gr() # можно попробовать plotly()"
   ]
  },
  {
   "cell_type": "markdown",
   "metadata": {},
   "source": [
    "и теперь мы можем использовать такие команды, как `plot` и` scatter`, для создания графиков."
   ]
  },
  {
   "cell_type": "code",
   "execution_count": null,
   "metadata": {},
   "outputs": [],
   "source": [
    "plot(numpirates, globaltemperatures, label=\"line\")  \n",
    "scatter!(numpirates, globaltemperatures, label=\"points\") "
   ]
  },
  {
   "cell_type": "markdown",
   "metadata": {},
   "source": [
    "`!` В конце имени функции `scatter!` делает `scatter!` мутирующей функцией, указывая на то, что разбросанные точки будут добавлены в ранее существовавший график.\n",
    "\n",
    "В отличие от этого, посмотрите, что произойдет, если вы замените `scatter!` В приведенном выше описании на немутирующую функцию `scatter` Далее, давайте обновим этот график командами `xlabel!`, `ylabel!` И `title!`, чтобы добавить больше информации в наш график."
   ]
  },
  {
   "cell_type": "code",
   "execution_count": null,
   "metadata": {},
   "outputs": [],
   "source": [
    "xlabel!(\"Number of Pirates [Approximate]\")\n",
    "ylabel!(\"Global Temperature (C)\")\n",
    "title!(\"Influence of pirate population on global warming\")"
   ]
  },
  {
   "cell_type": "markdown",
   "metadata": {},
   "source": [
    "Это все еще выглядит не совсем правильно. Количество пиратов уменьшилось с 1860 года, поэтому чтение сюжета слева направо похоже на взгляд назад во времени, а не вперед. Давайте перевернем ось х, чтобы лучше увидеть, как популяции пиратов вызвали глобальные изменения температуры с течением времени!"
   ]
  },
  {
   "cell_type": "code",
   "execution_count": null,
   "metadata": {},
   "outputs": [],
   "source": [
    "xflip!()"
   ]
  },
  {
   "cell_type": "markdown",
   "metadata": {},
   "source": [
    "Эво оно как! \n",
    "\n",
    "Примечание: у авторов возникли некоторые сомнения по поводу этого упражнения. :) Это пародия на то, как люди часто связывают взаимосвязь и причинность. \n",
    "\n",
    "**Без изменения синтаксиса мы можем создать этот график с помощью бэкэнда UnicodePlots**"
   ]
  },
  {
   "cell_type": "code",
   "execution_count": null,
   "metadata": {},
   "outputs": [],
   "source": [
    "Pkg.add(\"UnicodePlots\")\n",
    "unicodeplots()"
   ]
  },
  {
   "cell_type": "code",
   "execution_count": null,
   "metadata": {},
   "outputs": [],
   "source": [
    "plot(numpirates, globaltemperatures, label=\"line\")  \n",
    "scatter!(numpirates, globaltemperatures, label=\"points\") \n",
    "xlabel!(\"Number of Pirates [Approximate]\")\n",
    "ylabel!(\"Global Temperature (C)\")\n",
    "title!(\"Influence of pirate population on global warming\")"
   ]
  },
  {
   "cell_type": "markdown",
   "metadata": {},
   "source": [
    "И обратите внимание, как этот второй сюжет отличается от первого! Использование такого текста немного глупо в блокноте Jupyter, где у нас есть необычные возможности рисования, но это может быть очень полезно для быстрой и грязной визуализации в терминале."
   ]
  },
  {
   "cell_type": "markdown",
   "metadata": {},
   "source": [
    "### Exercises\n",
    "\n",
    "#### 8.1 \n",
    "Дано\n",
    "```julia\n",
    "x = -10:10\n",
    "```\n",
    "изобразите зависимость y от x для $y = x^2$.  Возможно, вы захотите изменить backends снова."
   ]
  },
  {
   "cell_type": "code",
   "execution_count": null,
   "metadata": {},
   "outputs": [],
   "source": []
  },
  {
   "cell_type": "markdown",
   "metadata": {},
   "source": [
    "#### 8.2 \n",
    "Выполните следующий код"
   ]
  },
  {
   "cell_type": "code",
   "execution_count": null,
   "metadata": {},
   "outputs": [],
   "source": [
    "p1 = plot(x, x)\n",
    "p2 = plot(x, x.^2)\n",
    "p3 = plot(x, x.^3)\n",
    "p4 = plot(x, x.^4)\n",
    "plot(p1, p2, p3, p4, layout = (2, 2), legend = false)"
   ]
  },
  {
   "cell_type": "markdown",
   "metadata": {},
   "source": [
    "и затем создайте график $4x1$, который использует `p1`,` p2`, `p3` и` p4` в качестве вспомогательных участков."
   ]
  },
  {
   "cell_type": "code",
   "execution_count": null,
   "metadata": {},
   "outputs": [],
   "source": []
  }
 ],
 "metadata": {
  "anaconda-cloud": {},
  "kernelspec": {
   "display_name": "Julia 1.4.1",
   "language": "julia",
   "name": "julia-1.4"
  },
  "language_info": {
   "file_extension": ".jl",
   "mimetype": "application/julia",
   "name": "julia",
   "version": "1.4.1"
  },
  "toc": {
   "nav_menu": {
    "height": "66px",
    "width": "252px"
   },
   "navigate_menu": true,
   "number_sections": true,
   "sideBar": true,
   "threshold": "2",
   "toc_cell": false,
   "toc_section_display": "block",
   "toc_window_display": false
  }
 },
 "nbformat": 4,
 "nbformat_minor": 4
}
