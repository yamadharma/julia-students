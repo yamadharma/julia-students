{
 "cells": [
  {
   "cell_type": "code",
   "execution_count": 1,
   "metadata": {},
   "outputs": [
    {
     "name": "stdout",
     "output_type": "stream",
     "text": [
      "\u001b[32m\u001b[1m    Status\u001b[22m\u001b[39m `C:\\Users\\Игорь\\.julia\\environments\\v1.1\\Project.toml`\n",
      " \u001b[90m [6e4b80f9]\u001b[39m\u001b[37m BenchmarkTools v0.4.2\u001b[39m\n",
      " \u001b[90m [a134a8b2]\u001b[39m\u001b[37m BlackBoxOptim v0.4.0\u001b[39m\n",
      " \u001b[90m [336ed68f]\u001b[39m\u001b[37m CSV v0.4.3\u001b[39m\n",
      " \u001b[90m [3da002f7]\u001b[39m\u001b[37m ColorTypes v0.7.5\u001b[39m\n",
      " \u001b[90m [5ae59095]\u001b[39m\u001b[37m Colors v0.9.5\u001b[39m\n",
      " \u001b[90m [8f4d0f93]\u001b[39m\u001b[37m Conda v1.2.0\u001b[39m\n",
      " \u001b[90m [f65535da]\u001b[39m\u001b[37m Convex v0.11.1\u001b[39m\n",
      " \u001b[90m [a93c6f00]\u001b[39m\u001b[37m DataFrames v0.17.1\u001b[39m\n",
      " \u001b[90m [7876af07]\u001b[39m\u001b[37m Example v0.5.1\u001b[39m\n",
      " \u001b[90m [5789e2e9]\u001b[39m\u001b[37m FileIO v1.0.5\u001b[39m\n",
      " \u001b[90m [587475ba]\u001b[39m\u001b[37m Flux v0.7.3\u001b[39m\n",
      " \u001b[90m [28b8d3ca]\u001b[39m\u001b[37m GR v0.38.1\u001b[39m\n",
      " \u001b[90m [7073ff75]\u001b[39m\u001b[37m IJulia v1.17.0\u001b[39m\n",
      " \u001b[90m [6218d12a]\u001b[39m\u001b[37m ImageMagick v0.7.1\u001b[39m\n",
      " \u001b[90m [916415d5]\u001b[39m\u001b[37m Images v0.17.2\u001b[39m\n",
      " \u001b[90m [c601a237]\u001b[39m\u001b[37m Interact v0.9.1\u001b[39m\n",
      " \u001b[90m [4076af6c]\u001b[39m\u001b[37m JuMP v0.19.0\u001b[39m\n",
      " \u001b[90m [dbeba491]\u001b[39m\u001b[37m Metalhead v0.3.0\u001b[39m\n",
      " \u001b[90m [47be7bcc]\u001b[39m\u001b[37m ORCA v0.2.1\u001b[39m\n",
      " \u001b[90m [429524aa]\u001b[39m\u001b[37m Optim v0.17.2\u001b[39m\n",
      " \u001b[90m [58dd65bb]\u001b[39m\u001b[37m Plotly v0.2.0\u001b[39m\n",
      " \u001b[90m [f0f68f2c]\u001b[39m\u001b[37m PlotlyJS v0.12.3\u001b[39m\n",
      " \u001b[90m [91a5bcdd]\u001b[39m\u001b[37m Plots v0.23.1\u001b[39m\n",
      " \u001b[90m [27ebfcd6]\u001b[39m\u001b[37m Primes v0.4.0\u001b[39m\n",
      " \u001b[90m [438e738f]\u001b[39m\u001b[37m PyCall v1.18.5\u001b[39m\n",
      " \u001b[90m [d330b81b]\u001b[39m\u001b[37m PyPlot v2.7.0\u001b[39m\n",
      " \u001b[90m [ce6b1742]\u001b[39m\u001b[37m RDatasets v0.6.1\u001b[39m\n",
      " \u001b[90m [c946c3f1]\u001b[39m\u001b[37m SCS v0.5.1\u001b[39m\n",
      " \u001b[90m [90137ffa]\u001b[39m\u001b[37m StaticArrays v0.10.2\u001b[39m\n",
      " \u001b[90m [24249f21]\u001b[39m\u001b[37m SymPy v0.8.4\u001b[39m\n",
      " \u001b[90m [e0df1984]\u001b[39m\u001b[37m TextParse v0.7.5\u001b[39m\n",
      " \u001b[90m [b8865327]\u001b[39m\u001b[37m UnicodePlots v1.1.0\u001b[39m\n",
      " \u001b[90m [c17dfb99]\u001b[39m\u001b[37m WinRPM v0.4.2\u001b[39m\n",
      " \u001b[90m [8bb1440f]\u001b[39m\u001b[37m DelimitedFiles \u001b[39m\n",
      " \u001b[90m [10745b16]\u001b[39m\u001b[37m Statistics \u001b[39m\n"
     ]
    }
   ],
   "source": [
    "] status"
   ]
  },
  {
   "cell_type": "markdown",
   "metadata": {},
   "source": [
    "# Бесконечный узор на основе простых чисел\n",
    "[Статья на хабре](https://habr.com/post/417861/)\n",
    "\n",
    "Подключаем средства построения графиков"
   ]
  },
  {
   "cell_type": "code",
   "execution_count": 2,
   "metadata": {},
   "outputs": [
    {
     "data": {
      "text/plain": [
       "Plots.PlotlyBackend()"
      ]
     },
     "execution_count": 2,
     "metadata": {},
     "output_type": "execute_result"
    }
   ],
   "source": [
    "# Pkg.add(\"Plots\")\n",
    "# Pkg.add(\"PlotlyJS\")\n",
    "using Plots\n",
    "plotly()"
   ]
  },
  {
   "cell_type": "markdown",
   "metadata": {},
   "source": [
    "Найти среди чесел от 1 до 1000 с помощью решета Эратосфена и записать их в массив"
   ]
  },
  {
   "cell_type": "code",
   "execution_count": null,
   "metadata": {},
   "outputs": [],
   "source": [
    "function eratosphen(n, lst) # решето Эратосфена\n",
    "    ar = [i for i=1:n]\n",
    "    ar[1] = 0\n",
    "    for i = 1:n\n",
    "        if ar[i] != 0\n",
    "            push!(lst, ar[i])\n",
    "            for j = i:i:n\n",
    "                ar[j] = 0\n",
    "            end\n",
    "        end\n",
    "    end\n",
    "end\n",
    "\n",
    "ertsfn = []\n",
    "eratosphen(1000, ertsfn)\n",
    "# print(ertsfn)\n",
    "# print( size(ertsfn) ) # -> 168"
   ]
  },
  {
   "cell_type": "markdown",
   "metadata": {},
   "source": [
    "Применяем к декартовым координатам `х` и `у` операцию деления с остатком, а последний проверяем на принадлежность к простым числам"
   ]
  },
  {
   "cell_type": "code",
   "execution_count": null,
   "metadata": {
    "scrolled": true
   },
   "outputs": [],
   "source": [
    "N = 80\n",
    "M = 80\n",
    "\n",
    "W1 = [in( x % y, ertsfn) for x = 1:N, y = 1:M]*1;\n",
    "W2 = [x % y for x = 1:N, y = 1:M];\n",
    "p1 = heatmap(W1, title = \"x % y is prime?\")\n",
    "p2 = heatmap(W2, title = \"x % y\")\n",
    "plot(p1, p2)"
   ]
  },
  {
   "cell_type": "markdown",
   "metadata": {},
   "source": [
    "#### Для сложения"
   ]
  },
  {
   "cell_type": "code",
   "execution_count": null,
   "metadata": {},
   "outputs": [],
   "source": [
    "W1 = [in( x + y, ertsfn) for x = 1:N, y = 1:M]*1;\n",
    "W2 = [x + y for x = 1:N, y = 1:M];\n",
    "p1 = heatmap(W1, title = \"x + y is prime?\")\n",
    "p2 = heatmap(W2, title = \"x + y\")\n",
    "plot(p1, p2, layout=(2),legend=false)"
   ]
  },
  {
   "cell_type": "markdown",
   "metadata": {},
   "source": [
    "#### Для побитового ИЛИ"
   ]
  },
  {
   "cell_type": "code",
   "execution_count": null,
   "metadata": {},
   "outputs": [],
   "source": [
    "W1 = [in( x | y, ertsfn) for x = 1:N, y = 1:M]*1;\n",
    "W2 = [x | y for x = 1:N, y = 1:M];\n",
    "p1 = heatmap(W1, title = \"x | y is prime?\")\n",
    "p2 = heatmap(W2, title = \"x | y\")\n",
    "plot(p1, p2, layout=(2),legend=false)"
   ]
  },
  {
   "cell_type": "markdown",
   "metadata": {},
   "source": [
    "#### Для побитового И"
   ]
  },
  {
   "cell_type": "code",
   "execution_count": null,
   "metadata": {},
   "outputs": [],
   "source": [
    "W1 = [in( x & y, ertsfn) for x = 1:N, y = 1:M]*1;\n",
    "W2 = [x & y for x = 1:N, y = 1:M];\n",
    "p1 = heatmap(W1, title = \"x & y is prime?\")\n",
    "p2 = heatmap(W2, title = \"x & y\")\n",
    "plot(p1, p2, layout=(2),legend=false)"
   ]
  },
  {
   "cell_type": "markdown",
   "metadata": {},
   "source": [
    "#### Для операции Исключаищее ИЛИ"
   ]
  },
  {
   "cell_type": "code",
   "execution_count": null,
   "metadata": {},
   "outputs": [],
   "source": [
    "W1 = [in( xor(x, y), ertsfn) for x = 1:N, y = 1:M]*1;\n",
    "W2 = [xor(x, y) for x = 1:N, y = 1:M];\n",
    "p1 = heatmap(W1, title = \"x xor y is prime?\")\n",
    "p2 = heatmap(W2, title = \"x xor y\")\n",
    "plot(p1, p2, layout=(2),legend=false)"
   ]
  },
  {
   "cell_type": "code",
   "execution_count": null,
   "metadata": {},
   "outputs": [],
   "source": [
    "using Gaston"
   ]
  },
  {
   "cell_type": "code",
   "execution_count": null,
   "metadata": {},
   "outputs": [],
   "source": [
    "N = 300\n",
    "M = N\n",
    "\n",
    "W = [in( xor(x,y), ertsfn ) for x = 1:N, y = 1:M];\n",
    "Z = [xor(x,y) for x = 1:N, y = 1:M];\n",
    "\n",
    "imagesc(W)"
   ]
  },
  {
   "cell_type": "code",
   "execution_count": null,
   "metadata": {
    "scrolled": false
   },
   "outputs": [],
   "source": [
    "imagesc(Z)"
   ]
  },
  {
   "cell_type": "markdown",
   "metadata": {},
   "source": [
    "Теперь вместо проверки на простоту установим пренадлежность к числам Фиббоначи\n",
    "\n",
    "### Рекурсивное представление"
   ]
  },
  {
   "cell_type": "code",
   "execution_count": null,
   "metadata": {},
   "outputs": [],
   "source": [
    "function fib(n)\n",
    "    a = 0\n",
    "    b = 1\n",
    "    for i = 1:n\n",
    "        a, b = b, a + b\n",
    "    end\n",
    "    return a\n",
    "end\n",
    "fbncc = fib.( [i for i=1:10] )"
   ]
  },
  {
   "cell_type": "markdown",
   "metadata": {},
   "source": [
    "## Матричное представление\n",
    "\n",
    "$$\\left(\\begin{matrix} F_n \\\\ F_{n-1} \\end{matrix}\\right) = \\left(\\begin{matrix} 1 & 1\\\\ 1 & 0 \\end{matrix}\\right)\\left(\\begin{matrix} F_{n-1} \\\\ F_{n-2} \\end{matrix}\\right)$$\n",
    "\n",
    "$$\\left(\\begin{matrix} 1 & 1\\\\ 1 & 0 \\end{matrix}\\right)^n = \\left(\\begin{matrix} F_{n+1} & F_n\\\\ F_n & F_{n-1} \\end{matrix}\\right)$$"
   ]
  },
  {
   "cell_type": "code",
   "execution_count": null,
   "metadata": {},
   "outputs": [],
   "source": [
    "matr_fib = n -> [1 1; 1 0]^(n-1) #  анонимная функция, возводящая матрицу в степень n-1\n",
    "mfbnc = [ matr_fib( i )[1,1] for i=1:17]; # элемент 1,1 этой матрицы есть n-й элемент множества Фибоначчи"
   ]
  },
  {
   "cell_type": "code",
   "execution_count": null,
   "metadata": {},
   "outputs": [],
   "source": [
    "matr_fib( 100 )[1,1]"
   ]
  },
  {
   "cell_type": "code",
   "execution_count": null,
   "metadata": {},
   "outputs": [],
   "source": [
    "[1 1; 1 0]^(2)"
   ]
  },
  {
   "cell_type": "code",
   "execution_count": null,
   "metadata": {},
   "outputs": [],
   "source": [
    "N = 100\n",
    "M = N\n",
    "\n",
    "W1 = [in( x % y, mfbnc) for x = 1:N, y = 1:M]*1;\n",
    "W2 = [in( x | y, mfbnc) for x = 1:N, y = 1:M]*1;\n",
    "p1 = heatmap(W1, title = \"x % y ∈ fibonacci?\")\n",
    "p2 = heatmap(W2, title = \"x | y ∈ fibonacci?\")\n",
    "plot(p1, p2, layout=(2),legend=false)"
   ]
  },
  {
   "cell_type": "code",
   "execution_count": null,
   "metadata": {},
   "outputs": [],
   "source": [
    "W1 = [in( xor(x, y), mfbnc) for x = 1:N, y = 1:M]*1;\n",
    "W2 = [in( x & y, mfbnc) for x = 1:N, y = 1:M]*1;\n",
    "p1 = heatmap(W1, title = \"x xor y ∈ fibonacci?\")\n",
    "p2 = heatmap(W2, title = \"x & y ∈ fibonacci?\")\n",
    "plot(p1, p2, layout=(2),legend=false)"
   ]
  },
  {
   "cell_type": "markdown",
   "metadata": {},
   "source": [
    "# Полгода спустя..."
   ]
  },
  {
   "cell_type": "code",
   "execution_count": 3,
   "metadata": {},
   "outputs": [],
   "source": [
    "using Colors, Images, Primes"
   ]
  },
  {
   "cell_type": "code",
   "execution_count": 40,
   "metadata": {},
   "outputs": [
    {
     "data": {
      "text/plain": [
       "clr (generic function with 1 method)"
      ]
     },
     "execution_count": 40,
     "metadata": {},
     "output_type": "execute_result"
    }
   ],
   "source": [
    "clr(x) = RGB(x*0.7,0,0)"
   ]
  },
  {
   "cell_type": "code",
   "execution_count": null,
   "metadata": {},
   "outputs": [],
   "source": [
    "N = 600\n",
    "M = 600\n",
    "\n",
    "startx = 10000\n",
    "starty = 10000\n",
    "W = [ isprime(x ⊻ y) for x = startx:startx+N, y = starty:starty+M];\n",
    "clr.(W)"
   ]
  },
  {
   "cell_type": "code",
   "execution_count": null,
   "metadata": {},
   "outputs": [],
   "source": [
    "save(\"D:/dat/xor.png\", W)"
   ]
  },
  {
   "cell_type": "code",
   "execution_count": 17,
   "metadata": {
    "scrolled": true
   },
   "outputs": [
    {
     "data": {
      "text/plain": [
       "fib (generic function with 1 method)"
      ]
     },
     "execution_count": 17,
     "metadata": {},
     "output_type": "execute_result"
    }
   ],
   "source": [
    "fib(n) = ( [1 1; 1 0]^(n-1) )[1,1]"
   ]
  },
  {
   "cell_type": "code",
   "execution_count": 44,
   "metadata": {},
   "outputs": [
    {
     "data": {
      "text/plain": [
       "55"
      ]
     },
     "execution_count": 44,
     "metadata": {},
     "output_type": "execute_result"
    }
   ],
   "source": [
    "fib(10)"
   ]
  },
  {
   "cell_type": "code",
   "execution_count": 22,
   "metadata": {},
   "outputs": [],
   "source": [
    "mfbnc = [ fib(i) for i=1:20];"
   ]
  },
  {
   "cell_type": "code",
   "execution_count": 24,
   "metadata": {},
   "outputs": [
    {
     "data": {
      "text/plain": [
       "6765"
      ]
     },
     "execution_count": 24,
     "metadata": {},
     "output_type": "execute_result"
    }
   ],
   "source": [
    "mfbnc[end]"
   ]
  },
  {
   "cell_type": "code",
   "execution_count": null,
   "metadata": {},
   "outputs": [],
   "source": [
    "N = 1000\n",
    "M = 1000\n",
    "\n",
    "Wf = [in( x ⊻ y, mfbnc) for x = 1:N, y = 1:M];\n",
    "clr.(Wf)"
   ]
  },
  {
   "cell_type": "code",
   "execution_count": null,
   "metadata": {},
   "outputs": [],
   "source": []
  }
 ],
 "metadata": {
  "kernelspec": {
   "display_name": "Julia 1.1.0",
   "language": "julia",
   "name": "julia-1.1"
  },
  "language_info": {
   "file_extension": ".jl",
   "mimetype": "application/julia",
   "name": "julia",
   "version": "1.1.0"
  }
 },
 "nbformat": 4,
 "nbformat_minor": 2
}
