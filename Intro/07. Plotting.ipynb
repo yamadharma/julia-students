{
 "cells": [
  {
   "cell_type": "markdown",
   "metadata": {},
   "source": [
    "# Графика"
   ]
  },
  {
   "cell_type": "markdown",
   "metadata": {},
   "source": [
    "## Основы\n",
    "Есть несколько разных способов построения графика в Julia (включая вызов PyPlot). \n",
    "\n",
    "Здесь мы покажем вам, как использовать `Plots.jl`. Если он еще не установлен, вам нужно использовать менеджер пакетов для его установки, и Julia прекомпилирует его для вас при первом использовании:"
   ]
  },
  {
   "cell_type": "code",
   "execution_count": null,
   "metadata": {},
   "outputs": [],
   "source": [
    "using Pkg\n",
    "Pkg.add(\"Plots\")\n",
    "Pkg.add(\"PyPlot\")\n",
    "Pkg.add(\"Plotly\")\n",
    "Pkg.add(\"UnicodePlots\")"
   ]
  },
  {
   "cell_type": "code",
   "execution_count": null,
   "metadata": {},
   "outputs": [],
   "source": [
    "using Plots"
   ]
  },
  {
   "cell_type": "markdown",
   "metadata": {},
   "source": [
    "Одним из преимуществ `Plots.jl` является то, что он позволяет вам легко менять  бэкенды (`gr ()`, `pyplot ()`, `plotlyjs ()`)."
   ]
  },
  {
   "cell_type": "markdown",
   "metadata": {},
   "source": [
    "---\n",
    "Будем рисовать график функции $f(x)$:"
   ]
  },
  {
   "cell_type": "code",
   "execution_count": null,
   "metadata": {},
   "outputs": [],
   "source": [
    "f(x) = (3x.^2 + 6x .- 9).*exp.(-0.3x)"
   ]
  },
  {
   "cell_type": "code",
   "execution_count": null,
   "metadata": {},
   "outputs": [],
   "source": [
    "range(-5,10,length=151)"
   ]
  },
  {
   "cell_type": "code",
   "execution_count": null,
   "metadata": {},
   "outputs": [],
   "source": [
    "x = collect(range(-5,10,length=151))"
   ]
  },
  {
   "cell_type": "code",
   "execution_count": null,
   "metadata": {},
   "outputs": [],
   "source": [
    "y = f(x)"
   ]
  },
  {
   "cell_type": "code",
   "execution_count": null,
   "metadata": {},
   "outputs": [],
   "source": [
    "gr()"
   ]
  },
  {
   "cell_type": "code",
   "execution_count": null,
   "metadata": {},
   "outputs": [],
   "source": [
    "plot(x,y,\n",
    "    title=\"A simple curve\",\n",
    "    xlabel=\"Variable x\",\n",
    "    ylabel=\"Variable y\",\n",
    "    color=\"blue\")"
   ]
  },
  {
   "cell_type": "code",
   "execution_count": null,
   "metadata": {},
   "outputs": [],
   "source": [
    "gr()\n",
    "#pyplot()\n",
    "#plotly()\n",
    "#unicodeplots()"
   ]
  },
  {
   "cell_type": "code",
   "execution_count": null,
   "metadata": {},
   "outputs": [],
   "source": [
    "plot(x,y,\n",
    "    title=\"Простая кривая\",\n",
    "    xlabel=\"Переменная x\",\n",
    "    ylabel=\"Переменная y\",\n",
    "    color=\"blue\")"
   ]
  },
  {
   "cell_type": "markdown",
   "metadata": {},
   "source": [
    "## Украшательства графика\n",
    "\n",
    "Смотрите руководство: http://docs.juliaplots.org/latest/attributes/"
   ]
  },
  {
   "cell_type": "code",
   "execution_count": null,
   "metadata": {},
   "outputs": [],
   "source": [
    "pyplot()"
   ]
  },
  {
   "cell_type": "markdown",
   "metadata": {},
   "source": [
    "$$\n",
    "\\sin x=x-{\\frac {x^{3}}{3!}}+{\\frac {x^{5}}{5!}}-\\cdots \\ =\\sum _{n=0}^{\\infty }{(-1)^{n}}{\\frac {x^{2n+1}}{(2n+1)!}},x\\in \\mathbb {C} \n",
    "$$"
   ]
  },
  {
   "cell_type": "code",
   "execution_count": null,
   "metadata": {},
   "outputs": [],
   "source": [
    "sin_theor(x) = sin(x)"
   ]
  },
  {
   "cell_type": "code",
   "execution_count": null,
   "metadata": {},
   "outputs": [],
   "source": [
    "plot(sin_theor)"
   ]
  },
  {
   "cell_type": "code",
   "execution_count": null,
   "metadata": {},
   "outputs": [],
   "source": [
    "sin_taylor(x) = [(-1)^i*x^(2*i+1)/factorial(2*i+1) for i in 0:4] |> sum"
   ]
  },
  {
   "cell_type": "code",
   "execution_count": null,
   "metadata": {},
   "outputs": [],
   "source": [
    "plot(sin_taylor)"
   ]
  },
  {
   "cell_type": "code",
   "execution_count": null,
   "metadata": {},
   "outputs": [],
   "source": [
    "plot(sin_theor)\n",
    "plot!(sin_taylor)"
   ]
  },
  {
   "cell_type": "code",
   "execution_count": null,
   "metadata": {},
   "outputs": [],
   "source": [
    "plot(                                    \n",
    "    sin_taylor,                                        \n",
    "                                                      \n",
    "    label  = \"sin(x), разложение в ряд Тейлора\",\n",
    "    line=(:blue, 0.3, 6, :solid),                \n",
    "                                                  \n",
    "    size=(800, 500),                              \n",
    "                                                  \n",
    "    xticks = (-5:0.5:5),   \n",
    "    yticks = (-1:0.1:1),\n",
    "    xtickfont = font(12, \"Times New Roman\"),\n",
    "    ytickfont = font(12, \"Times New Roman\"),\n",
    "                                                  \n",
    "    ylabel = \"у\", \n",
    "    xlabel = \"x\",                       \n",
    "                                                  \n",
    "    title  = \"Разложение в ряд Тейлора\",              \n",
    "    xrotation = rad2deg(pi/4),                    \n",
    "                                                  \n",
    "    fillrange = 0,                                \n",
    "    fillalpha = 0.5,                             \n",
    "    fillcolor = :lightgoldenrod,                  \n",
    "                                                  \n",
    "    background_color = :ivory                     \n",
    "    )\n",
    "plot!(\n",
    "    sin_theor,\n",
    "    label = \"sin(x), теоретическое значение\",\n",
    "    line=(:black, 1.0, 2, :dash))"
   ]
  },
  {
   "cell_type": "code",
   "execution_count": null,
   "metadata": {},
   "outputs": [],
   "source": [
    "savefig(\"taylor.pdf\")"
   ]
  },
  {
   "cell_type": "code",
   "execution_count": null,
   "metadata": {},
   "outputs": [],
   "source": [
    "savefig(\"taylor.png\")"
   ]
  },
  {
   "cell_type": "markdown",
   "metadata": {},
   "source": [
    "## Точечный график"
   ]
  },
  {
   "cell_type": "markdown",
   "metadata": {},
   "source": [
    "### Простой точечный график"
   ]
  },
  {
   "cell_type": "code",
   "execution_count": null,
   "metadata": {},
   "outputs": [],
   "source": [
    "x = range(1,10,length=10)"
   ]
  },
  {
   "cell_type": "code",
   "execution_count": null,
   "metadata": {},
   "outputs": [],
   "source": [
    "y = rand(10)"
   ]
  },
  {
   "cell_type": "code",
   "execution_count": null,
   "metadata": {},
   "outputs": [],
   "source": [
    "plot(x, y, \n",
    "    seriestype = :scatter, \n",
    "    title = \"Точечный график\"\n",
    ")"
   ]
  },
  {
   "cell_type": "markdown",
   "metadata": {},
   "source": [
    "### Точечный график с кодированием значения размером точки"
   ]
  },
  {
   "cell_type": "code",
   "execution_count": null,
   "metadata": {},
   "outputs": [],
   "source": [
    "n = 50\n",
    "x = rand(n)\n",
    "y = rand(n)\n",
    "ms = rand(50) * 30\n",
    "scatter(x, y, markersize=ms)\n",
    "# plot(x, y, \n",
    "#     seriestype = :scatter, \n",
    "#     markersize=ms\n",
    "# )"
   ]
  },
  {
   "cell_type": "markdown",
   "metadata": {},
   "source": [
    "### 3-мерный точечный график с кодированием значения размером точки"
   ]
  },
  {
   "cell_type": "code",
   "execution_count": null,
   "metadata": {},
   "outputs": [],
   "source": [
    "n = 50\n",
    "x = rand(n)\n",
    "y = rand(n)\n",
    "z = rand(n)\n",
    "ms = rand(50) * 30\n",
    "scatter(x, y, z, markersize=ms)"
   ]
  },
  {
   "cell_type": "markdown",
   "metadata": {},
   "source": [
    "## Две оси ординат"
   ]
  },
  {
   "cell_type": "code",
   "execution_count": null,
   "metadata": {},
   "outputs": [],
   "source": [
    "plot(randn(100), \n",
    "    ylabel=\"y1\", \n",
    "    leg=:topright,\n",
    "#    grid = :off,\n",
    ")"
   ]
  },
  {
   "cell_type": "code",
   "execution_count": null,
   "metadata": {},
   "outputs": [],
   "source": [
    "plot!(twinx(), randn(100)*10,\n",
    "    c=:red,\n",
    "    ylabel=\"y2\",\n",
    "    leg=:bottomright,  \n",
    "#    grid = :off, \n",
    "#    box = :on,    \n",
    "#    size=(600, 400)\n",
    ")"
   ]
  },
  {
   "cell_type": "markdown",
   "metadata": {},
   "source": [
    "## Полярные координаты"
   ]
  },
  {
   "cell_type": "code",
   "execution_count": null,
   "metadata": {},
   "outputs": [],
   "source": [
    "r(θ) = 1 + cos(θ) * sin(θ)^2\n",
    "θ = range(0, stop=2π, length=50)\n",
    "plot(θ, r.(θ), \n",
    "    proj=:polar, \n",
    "    lims=(0,1.5)\n",
    ")"
   ]
  },
  {
   "cell_type": "markdown",
   "metadata": {},
   "source": [
    "## Параметрический график"
   ]
  },
  {
   "cell_type": "markdown",
   "metadata": {},
   "source": [
    "### 2-мерный параметрический график"
   ]
  },
  {
   "cell_type": "code",
   "execution_count": null,
   "metadata": {},
   "outputs": [],
   "source": [
    "xₜ(t) = sin(t)\n",
    "yₜ(t) = sin(2t)\n",
    "\n",
    "plot(xₜ, yₜ, 0, 2π, leg=false, fill=(0,:orange))"
   ]
  },
  {
   "cell_type": "markdown",
   "metadata": {},
   "source": [
    "### 3-мерный параметрический график"
   ]
  },
  {
   "cell_type": "code",
   "execution_count": null,
   "metadata": {},
   "outputs": [],
   "source": [
    "t = range(0, stop=10, length=1000)\n",
    "x = cos.(t)\n",
    "y = sin.(t)\n",
    "z = sin.(5t)\n",
    "\n",
    "plot(x, y, z)"
   ]
  },
  {
   "cell_type": "markdown",
   "metadata": {},
   "source": [
    "## 3-мерная поверхность"
   ]
  },
  {
   "cell_type": "markdown",
   "metadata": {},
   "source": [
    "### Простая поверхность"
   ]
  },
  {
   "cell_type": "code",
   "execution_count": null,
   "metadata": {},
   "outputs": [],
   "source": [
    "f(x,y) = x^2 + y^2\n",
    "x = -10:10\n",
    "y = x\n",
    "surface(x, y, f)"
   ]
  },
  {
   "cell_type": "markdown",
   "metadata": {},
   "source": [
    "### Ажурная поверхность"
   ]
  },
  {
   "cell_type": "code",
   "execution_count": null,
   "metadata": {},
   "outputs": [],
   "source": [
    "f(x,y) = x^2 + y^2\n",
    "x = -10:10\n",
    "y = x\n",
    "plot(x, y, f, \n",
    "    linetype=:wireframe\n",
    ")"
   ]
  },
  {
   "cell_type": "markdown",
   "metadata": {},
   "source": [
    "### Сглаживание изображения"
   ]
  },
  {
   "cell_type": "code",
   "execution_count": null,
   "metadata": {},
   "outputs": [],
   "source": [
    "f(x,y) = x^2 + y^2\n",
    "x = -10:0.1:10\n",
    "y = x\n",
    "plot(x, y, f, \n",
    "    linetype = :surface\n",
    ")"
   ]
  },
  {
   "cell_type": "markdown",
   "metadata": {},
   "source": [
    "### Задание угла зрения"
   ]
  },
  {
   "cell_type": "code",
   "execution_count": null,
   "metadata": {},
   "outputs": [],
   "source": [
    "x=range(-2,stop=2,length=100)\n",
    "y=range(sqrt(2),stop=2,length=100)\n",
    "f(x,y) = x*y-x-y+1\n",
    "plot(x,y,f,\n",
    "    linetype = :surface,\n",
    "#    c=cgrad([:red,:blue]),\n",
    "#    camera=(-30,30),\n",
    ")"
   ]
  },
  {
   "cell_type": "markdown",
   "metadata": {},
   "source": [
    "## Gif-анимация"
   ]
  },
  {
   "cell_type": "code",
   "execution_count": null,
   "metadata": {},
   "outputs": [],
   "source": [
    "pyplot()"
   ]
  },
  {
   "cell_type": "code",
   "execution_count": null,
   "metadata": {},
   "outputs": [],
   "source": [
    "@gif for i in LinRange(0,2π,100)\n",
    "    X = Y = LinRange(-5,5,40)\n",
    "    surface(X, Y, (x,y) -> sin(x+10sin(i))+cos(y))\n",
    "end"
   ]
  },
  {
   "cell_type": "markdown",
   "metadata": {},
   "source": [
    "## Errorbars"
   ]
  },
  {
   "cell_type": "code",
   "execution_count": null,
   "metadata": {},
   "outputs": [],
   "source": [
    "import Pkg\n",
    "Pkg.add(\"Statistics\")"
   ]
  },
  {
   "cell_type": "code",
   "execution_count": null,
   "metadata": {},
   "outputs": [],
   "source": [
    "using Statistics"
   ]
  },
  {
   "cell_type": "code",
   "execution_count": null,
   "metadata": {},
   "outputs": [],
   "source": [
    "using Plots\n",
    "pyplot()"
   ]
  },
  {
   "cell_type": "markdown",
   "metadata": {},
   "source": [
    "#### Простые ошибки"
   ]
  },
  {
   "cell_type": "code",
   "execution_count": null,
   "metadata": {},
   "outputs": [],
   "source": [
    "sds = [1, 1/2, 1/4, 1/8, 1/16, 1/32]"
   ]
  },
  {
   "cell_type": "code",
   "execution_count": null,
   "metadata": {},
   "outputs": [],
   "source": [
    "n = 10\n",
    "y = [mean(sd*randn(n)) for sd in sds]"
   ]
  },
  {
   "cell_type": "code",
   "execution_count": null,
   "metadata": {},
   "outputs": [],
   "source": [
    "errs = 1.96 * sds / sqrt(n)"
   ]
  },
  {
   "cell_type": "code",
   "execution_count": null,
   "metadata": {},
   "outputs": [],
   "source": [
    "plot(y,\n",
    "    ylims = (-1,1),\n",
    ")"
   ]
  },
  {
   "cell_type": "code",
   "execution_count": null,
   "metadata": {},
   "outputs": [],
   "source": [
    "plot(y, \n",
    "    ylims = (-1,1),\n",
    "    err = errs\n",
    ")"
   ]
  },
  {
   "cell_type": "markdown",
   "metadata": {},
   "source": [
    "#### Перевернём график"
   ]
  },
  {
   "cell_type": "code",
   "execution_count": null,
   "metadata": {},
   "outputs": [],
   "source": [
    "plot(y, 1:length(y), \n",
    "    xerr = errs,\n",
    "    marker = stroke(3,:orange)\n",
    ")"
   ]
  },
  {
   "cell_type": "markdown",
   "metadata": {},
   "source": [
    "#### Непрерывное заполнение errorbars"
   ]
  },
  {
   "cell_type": "code",
   "execution_count": null,
   "metadata": {},
   "outputs": [],
   "source": [
    "plot(y, \n",
    "    ribbon=errs, \n",
    "    fill=:cyan\n",
    ")"
   ]
  },
  {
   "cell_type": "markdown",
   "metadata": {},
   "source": [
    "#### По двум осям"
   ]
  },
  {
   "cell_type": "code",
   "execution_count": null,
   "metadata": {},
   "outputs": [],
   "source": [
    "n = 10"
   ]
  },
  {
   "cell_type": "code",
   "execution_count": null,
   "metadata": {},
   "outputs": [],
   "source": [
    "x = [(rand()+1) .* randn(n) .+ 2i for i in 1:5]"
   ]
  },
  {
   "cell_type": "code",
   "execution_count": null,
   "metadata": {},
   "outputs": [],
   "source": [
    "y = [(rand()+1) .* randn(n) .+ i for i in 1:5]"
   ]
  },
  {
   "cell_type": "code",
   "execution_count": null,
   "metadata": {},
   "outputs": [],
   "source": [
    "f(v) = 1.96std(v) / sqrt(n)"
   ]
  },
  {
   "cell_type": "code",
   "execution_count": null,
   "metadata": {},
   "outputs": [],
   "source": [
    "xerr = map(f, x)"
   ]
  },
  {
   "cell_type": "code",
   "execution_count": null,
   "metadata": {},
   "outputs": [],
   "source": [
    "yerr = map(f, y)"
   ]
  },
  {
   "cell_type": "code",
   "execution_count": null,
   "metadata": {},
   "outputs": [],
   "source": [
    "x = map(mean, x)"
   ]
  },
  {
   "cell_type": "code",
   "execution_count": null,
   "metadata": {},
   "outputs": [],
   "source": [
    "y = map(mean, y)"
   ]
  },
  {
   "cell_type": "code",
   "execution_count": null,
   "metadata": {},
   "outputs": [],
   "source": [
    "plot(x, y, \n",
    "    xerr = xerr, \n",
    "    yerr = yerr, \n",
    "    marker = stroke(2, :orange)\n",
    ")"
   ]
  },
  {
   "cell_type": "markdown",
   "metadata": {},
   "source": [
    "#### Ассиметричная ошибка"
   ]
  },
  {
   "cell_type": "code",
   "execution_count": null,
   "metadata": {},
   "outputs": [],
   "source": [
    "plot(x, y, \n",
    "    xerr = (0.5xerr,2xerr), \n",
    "    yerr = (0.5yerr,2yerr), \n",
    "    marker = stroke(2, :orange)\n",
    ")"
   ]
  },
  {
   "cell_type": "markdown",
   "metadata": {},
   "source": [
    "## Использование пакета `Distributions`"
   ]
  },
  {
   "cell_type": "code",
   "execution_count": null,
   "metadata": {},
   "outputs": [],
   "source": [
    "import Pkg\n",
    "Pkg.add(\"Distributions\")"
   ]
  },
  {
   "cell_type": "code",
   "execution_count": null,
   "metadata": {},
   "outputs": [],
   "source": [
    "using Distributions"
   ]
  },
  {
   "cell_type": "code",
   "execution_count": null,
   "metadata": {},
   "outputs": [],
   "source": [
    "pyplot()"
   ]
  },
  {
   "cell_type": "code",
   "execution_count": null,
   "metadata": {},
   "outputs": [],
   "source": [
    "ages = rand(15:55,1000)"
   ]
  },
  {
   "cell_type": "code",
   "execution_count": null,
   "metadata": {},
   "outputs": [],
   "source": [
    "histogram(ages)"
   ]
  },
  {
   "cell_type": "code",
   "execution_count": null,
   "metadata": {},
   "outputs": [],
   "source": [
    "d=Normal(35.0,10.0)"
   ]
  },
  {
   "cell_type": "code",
   "execution_count": null,
   "metadata": {},
   "outputs": [],
   "source": [
    "ages = rand(d,1000)"
   ]
  },
  {
   "cell_type": "code",
   "execution_count": null,
   "metadata": {},
   "outputs": [],
   "source": [
    "histogram(\n",
    "    ages,\n",
    "    label=\"Распределение по возрастам (года)\",\n",
    "    xlabel = \"Возраст (лет)\",\n",
    "    ylabel= \"Количество\"\n",
    ")"
   ]
  },
  {
   "cell_type": "code",
   "execution_count": null,
   "metadata": {},
   "outputs": [],
   "source": [
    "plotly()"
   ]
  },
  {
   "cell_type": "code",
   "execution_count": null,
   "metadata": {},
   "outputs": [],
   "source": [
    "d1=Normal(10.0,5.0);\n",
    "d2=Normal(35.0,10.0);\n",
    "d3=Normal(60.0,5.0);\n",
    "N=1000;\n",
    "ages = (Float64)[];\n",
    "ages = append!(ages,rand(d1,Int64(ceil(N/2))));\n",
    "ages = append!(ages,rand(d2,N));\n",
    "ages = append!(ages,rand(d3,Int64(ceil(N/3))));\n",
    "\n",
    "histogram(\n",
    "    ages,\n",
    "    bins=50,\n",
    "    label=\"Распределение по возрастам (года)\",\n",
    "    xlabel = \"Возраст (лет)\",\n",
    "    ylabel= \"Количество\",\n",
    "    title = \"Распределение по возрастам (года)s\"\n",
    ")"
   ]
  },
  {
   "cell_type": "markdown",
   "metadata": {},
   "source": [
    "## Подграфики"
   ]
  },
  {
   "cell_type": "markdown",
   "metadata": {},
   "source": [
    "Определим макет расположения графиков. Команда `layout` принимает кортеж `layout = (N, M)`, который строит сетку графиков `NxM`. Например, если мы зададим `layout = (4,1)` на графике с четырьмя сериями, то мы получим четыре ряда графиков, в каждой по одной серии."
   ]
  },
  {
   "cell_type": "code",
   "execution_count": null,
   "metadata": {},
   "outputs": [],
   "source": [
    "pyplot()"
   ]
  },
  {
   "cell_type": "code",
   "execution_count": null,
   "metadata": {},
   "outputs": [],
   "source": [
    "x=range(-2,2,length=10)"
   ]
  },
  {
   "cell_type": "code",
   "execution_count": null,
   "metadata": {},
   "outputs": [],
   "source": [
    "y = rand(10,4)"
   ]
  },
  {
   "cell_type": "code",
   "execution_count": null,
   "metadata": {},
   "outputs": [],
   "source": [
    "plot(x,y,\n",
    "    layout=(4,1)\n",
    ")"
   ]
  },
  {
   "cell_type": "markdown",
   "metadata": {},
   "source": [
    "Передайте целое число `layout`, чтобы автоматически вычислять размер сетки"
   ]
  },
  {
   "cell_type": "code",
   "execution_count": null,
   "metadata": {},
   "outputs": [],
   "source": [
    "plot(x,y,\n",
    "    layout=4\n",
    ")"
   ]
  },
  {
   "cell_type": "markdown",
   "metadata": {},
   "source": [
    "Чуть более сложные макеты сетки могут быть созданы с помощью конструктора `grid (...)`. Например, в следующем макете мы создаем участки разной высоты.\n",
    "\n",
    "Аргумент `heights` принимает в качестве входных данных массив с долями желаемых высот. Если в сумме дроби не составляют 1,0, то некоторые подзаголовки могут отображаться неправильно."
   ]
  },
  {
   "cell_type": "code",
   "execution_count": null,
   "metadata": {},
   "outputs": [],
   "source": [
    "plot(x,y, \n",
    "    size=(600,300),\n",
    "    layout = grid(4,1,heights=[0.2,0.3,0.4,0.15])\n",
    ")"
   ]
  },
  {
   "cell_type": "markdown",
   "metadata": {},
   "source": [
    "Мы также можем сгенерировать отдельные графики и объединить их в один график, например в сетку $ 2 \\times2 $:"
   ]
  },
  {
   "cell_type": "code",
   "execution_count": null,
   "metadata": {},
   "outputs": [],
   "source": [
    "p1 = plot(x,y) # Make a line plot\n",
    "p2 = scatter(x,y) # Make a scatter plot\n",
    "p3 = plot(x,y[:,1:2],xlabel=\"Labelled plot of two columns\",lw=2,title=\"Wide lines\")\n",
    "p4 = histogram(x,y) # Four histograms each with 10 points!\n",
    "plot(\n",
    "    p1,p2,p3,p4,\n",
    "    layout=(2,2),\n",
    "    legend=false,\n",
    "    size=(800,600),\n",
    "    background_color = :ivory)"
   ]
  },
  {
   "cell_type": "markdown",
   "metadata": {},
   "source": [
    "Обратите внимание, что атрибуты на отдельных графиках применяются к отдельным графикам, в то время как атрибуты в последнем вызове `plot` применяются ко всем графикам."
   ]
  },
  {
   "cell_type": "markdown",
   "metadata": {},
   "source": [
    "### Расширенный макет с макросом `@layout`"
   ]
  },
  {
   "cell_type": "markdown",
   "metadata": {},
   "source": [
    "Макрос `@layout` -- это самый простой способ определения сложных макетов, использующий [multidimensional Array construction](https://docs.julialang.org/en/v1/manual/arrays/#Concatenation-1) в качестве основы для собственного синтаксиса. Точные размеры могут быть заданы с помощью фигурных скобок, в противном случае пространство будет поровну разделено между графиками."
   ]
  },
  {
   "cell_type": "code",
   "execution_count": null,
   "metadata": {},
   "outputs": [],
   "source": [
    "l = @layout [  a{0.3w} [grid(3,3)\n",
    "                         b{0.2h} ]]\n",
    "plot(\n",
    "    rand(10,11),\n",
    "    layout = l, legend = false, seriestype = [:bar :scatter :path],\n",
    "    title = [\"($i)\" for j = 1:1, i=1:11], titleloc = :right, titlefont = font(8)\n",
    ")"
   ]
  },
  {
   "cell_type": "markdown",
   "metadata": {},
   "source": [
    "## Использование пакета `VegaLite`"
   ]
  },
  {
   "cell_type": "code",
   "execution_count": null,
   "metadata": {},
   "outputs": [],
   "source": [
    "import Pkg\n",
    "Pkg.add(\"VegaLite\")\n",
    "Pkg.add(\"VegaDatasets\")"
   ]
  },
  {
   "cell_type": "markdown",
   "metadata": {},
   "source": [
    "Пакет `VegaDatasets` предоставляет доступ к набору данных [Vega Datasets](https://github.com/vega/vega-datasets)."
   ]
  },
  {
   "cell_type": "code",
   "execution_count": null,
   "metadata": {},
   "outputs": [],
   "source": [
    "using VegaLite, VegaDatasets"
   ]
  },
  {
   "cell_type": "code",
   "execution_count": null,
   "metadata": {},
   "outputs": [],
   "source": [
    "dataset(\"population\")"
   ]
  },
  {
   "cell_type": "code",
   "execution_count": null,
   "metadata": {},
   "outputs": [],
   "source": [
    "dataset(\"population\") |>\n",
    "@vlplot(\n",
    "    mark={:boxplot, extent=\"min-max\"},\n",
    "    x=\"age:o\",\n",
    "    y={:people, axis={title=\"population\"}}\n",
    ")"
   ]
  },
  {
   "cell_type": "code",
   "execution_count": null,
   "metadata": {},
   "outputs": [],
   "source": [
    "dataset(\"barley\") |>\n",
    "@vlplot(y=\"variety:o\") +\n",
    "@vlplot(\n",
    "    mark={\n",
    "        :point,\n",
    "        filled=true\n",
    "    },\n",
    "    x={\n",
    "        \"mean(yield)\",\n",
    "        scale={zero=false},\n",
    "        title=\"Barley Yield\"\n",
    "    },\n",
    "    color={value=:black}\n",
    ") +\n",
    "@vlplot(\n",
    "    mark={\n",
    "        :errorbar,\n",
    "        extent=:ci\n",
    "     },\n",
    "     x={\"yield:q\", title=\"Barley Yield\"}\n",
    ")"
   ]
  },
  {
   "cell_type": "markdown",
   "metadata": {},
   "source": [
    "### Using `StatsPlots` and `SeriesReceipe`\n",
    "StatsPlots.jl also introduces new series recipes. The key is that you don't have to do anything differently: after using `StatsPlots` you can simply use those new series recipes as though they were built into the plotting libraries. Let's use the `Violin` plot on some random data"
   ]
  },
  {
   "cell_type": "code",
   "execution_count": null,
   "metadata": {},
   "outputs": [],
   "source": [
    "using StatsPlots"
   ]
  },
  {
   "cell_type": "code",
   "execution_count": null,
   "metadata": {},
   "outputs": [],
   "source": [
    "y = rand(100,4) # Four series of 100 points each\n",
    "violin([\"Series 1\" \"Series 2\" \"Series 3\" \"Series 4\"],y,leg=false)"
   ]
  },
  {
   "cell_type": "markdown",
   "metadata": {},
   "source": [
    "and we can add a `boxplot` on top using the same mutation commands (command with a **!**) as before,"
   ]
  },
  {
   "cell_type": "code",
   "execution_count": null,
   "metadata": {},
   "outputs": [],
   "source": [
    "boxplot!([\"Series 1\" \"Series 2\" \"Series 3\" \"Series 4\"],y,leg=false)"
   ]
  },
  {
   "cell_type": "markdown",
   "metadata": {},
   "source": [
    "### Marker shape"
   ]
  },
  {
   "cell_type": "code",
   "execution_count": null,
   "metadata": {},
   "outputs": [],
   "source": [
    "# 10 data points in 4 series\n",
    "xs = 0 : 2π/10 : 2π\n",
    "data = [sin.(xs) cos.(xs) 2sin.(xs) 2cos.(xs)]\n",
    "\n",
    "# We put labels in a row vector: applies to each series\n",
    "labels = [\"Apples\" \"O"
   ]
  },
  {
   "cell_type": "code",
   "execution_count": null,
   "metadata": {},
   "outputs": [],
   "source": [
    "range"
   ]
  },
  {
   "cell_type": "code",
   "execution_count": null,
   "metadata": {},
   "outputs": [],
   "source": [
    "s\" \"Hats\" \"Shoes\"]\n",
    "\n",
    "# Marker shapes in a column vector: applies to data points\n",
    "markershapes = [:circle, :star5]\n",
    "\n",
    "# Marker colors in a matrix: applies to series and data points\n",
    "markercolors = [:green :orange :black :purple\n",
    "                :red   :yellow :brown :white]\n",
    "\n",
    "plot(xs, data, label = labels, shape = markershapes, color = markercolors,\n",
    "     markersize = 10)"
   ]
  },
  {
   "cell_type": "markdown",
   "metadata": {},
   "source": [
    "### Functions\n",
    "\n",
    "Functions can typically be used in place of input data, and they will be mapped as needed. 2D and 3D parametric plots can also be created, and ranges can be given as vectors or min/max. For example, here are alternative methods to create the same plot:"
   ]
  },
  {
   "cell_type": "code",
   "execution_count": null,
   "metadata": {},
   "outputs": [],
   "source": [
    "tmin = 0\n",
    "tmax = 4π\n",
    "tvec = range(tmin, stop=tmax, length=100)\n",
    "\n",
    "plot(sin.(tvec), cos.(tvec))\n",
    "plot(sin, cos, tvec)\n",
    "plot(sin, cos, tmin, tmax)"
   ]
  },
  {
   "cell_type": "markdown",
   "metadata": {},
   "source": [
    "### Using `DataFrames` with `StatsPlots`"
   ]
  },
  {
   "cell_type": "code",
   "execution_count": null,
   "metadata": {},
   "outputs": [],
   "source": [
    "using DataFrames, IndexedTables"
   ]
  },
  {
   "cell_type": "code",
   "execution_count": null,
   "metadata": {},
   "outputs": [],
   "source": [
    "df = DataFrame(a = 1:10, b = 10 .* rand(10), c = 10 .* rand(10));"
   ]
  },
  {
   "cell_type": "code",
   "execution_count": null,
   "metadata": {},
   "outputs": [],
   "source": [
    "df"
   ]
  },
  {
   "cell_type": "code",
   "execution_count": null,
   "metadata": {},
   "outputs": [],
   "source": [
    "@df df plot(:a, [:b :c], colour = [:red :blue])"
   ]
  },
  {
   "cell_type": "code",
   "execution_count": null,
   "metadata": {},
   "outputs": [],
   "source": [
    "@df df scatter(:a, :b, markersize = 4 .* log.(:c .+ 0.1))"
   ]
  },
  {
   "cell_type": "code",
   "execution_count": null,
   "metadata": {},
   "outputs": [],
   "source": [
    "t = table(1:10, rand(10), names = [:a, :b]) # IndexedTable\n",
    "@df t scatter(5 .* :b)"
   ]
  },
  {
   "cell_type": "markdown",
   "metadata": {},
   "source": [
    "Inside a `@df` macro call, the `cols` utility function can be used to refer to a range of columns:"
   ]
  },
  {
   "cell_type": "code",
   "execution_count": null,
   "metadata": {},
   "outputs": [],
   "source": [
    "@df df plot(:a, cols(2:3), colour = [:orange :gray])"
   ]
  },
  {
   "cell_type": "markdown",
   "metadata": {},
   "source": [
    "The `@df` macro plays nicely with the new syntax of the `Query.jl` data manipulation package (v0.8 and above), in that a plot command can be added at the end of a query pipeline, without having to explicitly collect the outcome of the query first,"
   ]
  },
  {
   "cell_type": "code",
   "execution_count": null,
   "metadata": {},
   "outputs": [],
   "source": [
    "using Query"
   ]
  },
  {
   "cell_type": "code",
   "execution_count": null,
   "metadata": {},
   "outputs": [],
   "source": [
    "df |>\n",
    "    @filter(_.a > 5) |>\n",
    "    @map({_.b, d = _.c-10}) |>\n",
    "    @df scatter(:b, :d)"
   ]
  },
  {
   "cell_type": "markdown",
   "metadata": {},
   "source": [
    "The `@df` syntax is also compatible with the `Plots.jl` grouping machinery:"
   ]
  },
  {
   "cell_type": "code",
   "execution_count": null,
   "metadata": {},
   "outputs": [],
   "source": [
    "using RDatasets\n",
    "school = RDatasets.dataset(\"mlmRev\",\"Hsb82\");"
   ]
  },
  {
   "cell_type": "code",
   "execution_count": null,
   "metadata": {},
   "outputs": [],
   "source": [
    "first(school,5)"
   ]
  },
  {
   "cell_type": "code",
   "execution_count": null,
   "metadata": {},
   "outputs": [],
   "source": [
    "@df school density(:MAch, group = :Sx)"
   ]
  },
  {
   "cell_type": "markdown",
   "metadata": {},
   "source": [
    "To group by more than one column, use a tuple of symbols,"
   ]
  },
  {
   "cell_type": "code",
   "execution_count": null,
   "metadata": {},
   "outputs": [],
   "source": [
    "@df school density(:MAch, group = (:Sx, :Sector), legend = :topleft)"
   ]
  },
  {
   "cell_type": "markdown",
   "metadata": {},
   "source": [
    "To name the legend entries with custom or automatic names (i.e. Gender = Male, Sector = Public) use the curly bracket syntax `group = {Gender = :Sx, :Sector}`"
   ]
  },
  {
   "cell_type": "code",
   "execution_count": null,
   "metadata": {},
   "outputs": [],
   "source": [
    "@df school density(:MAch, group = {Gender = :Sx, :Sector}, legend = :topleft)"
   ]
  },
  {
   "cell_type": "markdown",
   "metadata": {},
   "source": [
    "Marginal histogram with Iris dataset"
   ]
  },
  {
   "cell_type": "code",
   "execution_count": null,
   "metadata": {},
   "outputs": [],
   "source": [
    "using RDatasets\n",
    "iris = RDatasets.dataset(\"datasets\",\"iris\")\n",
    "@df iris marginalhist(:PetalLength, :PetalWidth)"
   ]
  },
  {
   "cell_type": "markdown",
   "metadata": {},
   "source": [
    "Correlation plot"
   ]
  },
  {
   "cell_type": "code",
   "execution_count": null,
   "metadata": {},
   "outputs": [],
   "source": [
    "@df iris corrplot([:SepalLength :SepalWidth :PetalLength :PetalWidth], grid = false)"
   ]
  },
  {
   "cell_type": "markdown",
   "metadata": {},
   "source": [
    "A correlation plot may also be produced from a matrix,"
   ]
  },
  {
   "cell_type": "code",
   "execution_count": null,
   "metadata": {},
   "outputs": [],
   "source": [
    "M = randn(1000,4)\n",
    "M[:,2] .+= 0.8sqrt.(abs.(M[:,1])) .- 0.5M[:,3] .+ 5\n",
    "M[:,3] .-= 0.7M[:,1].^2 .+ 2\n",
    "corrplot(M, label = [\"x$i\" for i=1:4])"
   ]
  },
  {
   "cell_type": "code",
   "execution_count": null,
   "metadata": {},
   "outputs": [],
   "source": [
    "cornerplot(M)"
   ]
  },
  {
   "cell_type": "markdown",
   "metadata": {},
   "source": [
    "Boxplot, dotplot, violin"
   ]
  },
  {
   "cell_type": "code",
   "execution_count": null,
   "metadata": {},
   "outputs": [],
   "source": [
    "import RDatasets\n",
    "singers = RDatasets.dataset(\"lattice\",\"singer\")\n",
    "@df singers violin(:VoicePart,:Height,marker=(0.2,:blue,stroke(0)))"
   ]
  },
  {
   "cell_type": "code",
   "execution_count": null,
   "metadata": {},
   "outputs": [],
   "source": [
    "@df singers boxplot!(:VoicePart,:Height,marker=(0.3,:orange,stroke(2)), alpha=0.75)\n",
    "@df singers dotplot!(:VoicePart,:Height,marker=(:black,stroke(0)))"
   ]
  },
  {
   "cell_type": "markdown",
   "metadata": {},
   "source": [
    "### Exercises\n",
    "\n",
    "#### 8.1 \n",
    "Дано\n",
    "```julia\n",
    "x = -10:10\n",
    "```\n",
    "изобразите зависимость y от x для $y = x^2$.  Возможно, вы захотите изменить backends снова."
   ]
  },
  {
   "cell_type": "code",
   "execution_count": null,
   "metadata": {},
   "outputs": [],
   "source": []
  },
  {
   "cell_type": "markdown",
   "metadata": {},
   "source": [
    "#### 8.2 \n",
    "Выполните следующий код"
   ]
  },
  {
   "cell_type": "code",
   "execution_count": null,
   "metadata": {},
   "outputs": [],
   "source": [
    "p1 = plot(x, x)\n",
    "p2 = plot(x, x.^2)\n",
    "p3 = plot(x, x.^3)\n",
    "p4 = plot(x, x.^4)\n",
    "plot(p1, p2, p3, p4, layout = (2, 2), legend = false)"
   ]
  },
  {
   "cell_type": "markdown",
   "metadata": {},
   "source": [
    "и затем создайте график $4x1$, который использует `p1`,` p2`, `p3` и` p4` в качестве вспомогательных участков."
   ]
  },
  {
   "cell_type": "code",
   "execution_count": null,
   "metadata": {},
   "outputs": [],
   "source": []
  }
 ],
 "metadata": {
  "anaconda-cloud": {},
  "kernelspec": {
   "display_name": "Julia 1.5.1",
   "language": "julia",
   "name": "julia-1.5"
  },
  "language_info": {
   "file_extension": ".jl",
   "mimetype": "application/julia",
   "name": "julia",
   "version": "1.5.1"
  },
  "toc": {
   "nav_menu": {
    "height": "66px",
    "width": "252px"
   },
   "navigate_menu": true,
   "number_sections": true,
   "sideBar": true,
   "threshold": "2",
   "toc_cell": false,
   "toc_section_display": "block",
   "toc_window_display": false
  }
 },
 "nbformat": 4,
 "nbformat_minor": 4
}
