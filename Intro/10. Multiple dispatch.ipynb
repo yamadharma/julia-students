{
 "cells": [
  {
   "cell_type": "markdown",
   "metadata": {},
   "source": [
    "# Множественная диспетчеризация"
   ]
  },
  {
   "cell_type": "markdown",
   "metadata": {},
   "source": [
    "В этом блокноте мы рассмотрим **множественную диспетчеризацию (мультиметод)**, которая является ключевой особенностью Юлии. Мультиметод делает программное обеспечение *универсальным* и *быстрым*!\n",
    "\n",
    "#### Начиная со знакомогоr\n",
    "\n",
    "Чтобы понять множественную диспетчеризацию в Julia, давайте начнем с того, что мы уже видели. \n",
    "\n",
    "Мы можем объявить функции в Julia, не предоставляя Julia никакой информации о типах входных аргументов, которые получит функция:"
   ]
  },
  {
   "cell_type": "code",
   "execution_count": null,
   "metadata": {},
   "outputs": [],
   "source": [
    "f(x) = x^2"
   ]
  },
  {
   "cell_type": "markdown",
   "metadata": {},
   "source": [
    "и тогда Julia сама определит, какие типы входных аргументов имеют смысл, а какие нет:"
   ]
  },
  {
   "cell_type": "code",
   "execution_count": null,
   "metadata": {},
   "outputs": [],
   "source": [
    "f(10)"
   ]
  },
  {
   "cell_type": "code",
   "execution_count": null,
   "metadata": {},
   "outputs": [],
   "source": [
    "f([1, 2, 3])"
   ]
  },
  {
   "cell_type": "markdown",
   "metadata": {},
   "source": [
    "#### Настройка типов входных аргументов \n",
    "\n",
    "Тем не менее, у нас также есть опции, чтобы явно сообщить Julia, какие типы разрешены для наших входных аргументов. Например, давайте напишем функцию `foo ()`, которая принимает только строки в качестве входных данных."
   ]
  },
  {
   "cell_type": "code",
   "execution_count": null,
   "metadata": {},
   "outputs": [],
   "source": [
    "foo(x::String, y::String) = println(\"Принял две строки. Попробуй заставить меня их распечатать!\")"
   ]
  },
  {
   "cell_type": "markdown",
   "metadata": {},
   "source": [
    "Здесь мы видим, что для ограничения типа `x` и` y` как `String` мы просто пишем после имени входного аргумента двойное двоеточие и ключевым словом` String`. Теперь мы увидим, что `foo` работает со `String` и не работает с другими типами входных аргументов."
   ]
  },
  {
   "cell_type": "code",
   "execution_count": null,
   "metadata": {},
   "outputs": [],
   "source": [
    "foo(\"hello\", \"hi!\")"
   ]
  },
  {
   "cell_type": "code",
   "execution_count": null,
   "metadata": {},
   "outputs": [],
   "source": [
    "foo(3, \"поросенка\")"
   ]
  },
  {
   "cell_type": "markdown",
   "metadata": {},
   "source": [
    "Чтобы заставить `foo` работать с целочисленными (` Int`) входами, давайте прикрепим `:: Int` к нашим входным аргументам, когда мы объявим` foo`."
   ]
  },
  {
   "cell_type": "code",
   "execution_count": null,
   "metadata": {},
   "outputs": [],
   "source": [
    "foo(x::Int, y::Int) = println(\"Принято два целочисленных\")"
   ]
  },
  {
   "cell_type": "code",
   "execution_count": null,
   "metadata": {},
   "outputs": [],
   "source": [
    "foo(3, 4)"
   ]
  },
  {
   "cell_type": "markdown",
   "metadata": {},
   "source": [
    "Теперь `foo` работает на целых числах! Но посмотрите, `foo` также все еще работает, когда` x` и `y` являются строками!"
   ]
  },
  {
   "cell_type": "code",
   "execution_count": null,
   "metadata": {},
   "outputs": [],
   "source": [
    "foo(\"hello\", \"hi!\")"
   ]
  },
  {
   "cell_type": "markdown",
   "metadata": {},
   "source": [
    "Вот мы и подступили к сути множественной диспетчеризации. Когда мы объявили\n",
    "\n",
    "```julia\n",
    "foo(x::Int, y::Int) = println(\"Принято два целочисленных\")\n",
    "```\n",
    "мы не перезаписывали и не заменяли\n",
    "```julia\n",
    "foo(y::String, y::String)```\n",
    "\n",
    "Вместо этого мы просто добавили дополнительный ***метод*** в ***общую функцию*** называющуюся `foo`.\n",
    "\n",
    "***Общая функция*** это абстрактное понятие, связанное с определенной операцией. \n",
    "\n",
    "Например, обобщенная функция `+` представляет концепцию сложения.\n",
    "\n",
    "***Метод*** конкретная реализация обобщенной функции для *определенных типов аргументов*. \n",
    "\n",
    "Например, `+` имеет методы, которые принимают числа с плавающей запятой, целые числа, матрицы и т. д. \n",
    "\n",
    "Мы можем использовать `methods()`, чтобы увидеть, сколько методов существует для` foo`."
   ]
  },
  {
   "cell_type": "code",
   "execution_count": null,
   "metadata": {},
   "outputs": [],
   "source": [
    "methods(foo)"
   ]
  },
  {
   "cell_type": "markdown",
   "metadata": {},
   "source": [
    "Кроме того: как вы думаете, сколько методов существует для сложения?"
   ]
  },
  {
   "cell_type": "code",
   "execution_count": null,
   "metadata": {},
   "outputs": [],
   "source": [
    "methods(+)"
   ]
  },
  {
   "cell_type": "markdown",
   "metadata": {},
   "source": [
    "Итак, теперь мы можем вызывать `foo` для целых чисел или строк. Когда вы вызываете `foo` для определенного набора аргументов, Джулия выведет типы входных данных и отправит соответствующий метод. Это и есть множественная диспетчеризация.\n",
    "\n",
    "Она делает наш код универсальным и быстрым. Наш код может быть универсальным и гибким, потому что мы можем писать код с точки зрения абстрактных операций, таких как сложение и умножение, а не с точки зрения конкретных реализаций.\n",
    "\n",
    "В то же время наш код выполняется быстро, потому что Джулия может вызывать эффективные методы для соответствующих типов. Чтобы увидеть, какой метод отправляется при вызове универсальной функции, мы можем использовать макрос `@which`:"
   ]
  },
  {
   "cell_type": "code",
   "execution_count": null,
   "metadata": {},
   "outputs": [],
   "source": [
    "@which foo(3, 4)"
   ]
  },
  {
   "cell_type": "markdown",
   "metadata": {},
   "source": [
    "Давайте посмотрим, что происходит, когда мы используем `@which` с оператором сложения!"
   ]
  },
  {
   "cell_type": "code",
   "execution_count": null,
   "metadata": {},
   "outputs": [],
   "source": [
    "@which 3.0 + 3.0"
   ]
  },
  {
   "cell_type": "markdown",
   "metadata": {},
   "source": [
    "И мы можем продолжать добавлять другие методы в нашу обобщенную функцию `foo`. Давайте добавим тот, который принимает ***абстрактный тип*** `Number`, который включает в себя подтипы, такие как `Int`, `Float64`, и другие объекты, которые вы можете рассматривать как числа:"
   ]
  },
  {
   "cell_type": "code",
   "execution_count": null,
   "metadata": {},
   "outputs": [],
   "source": [
    "foo(x::Number, y::Number) = println(\"Входные данные числа. Точнее сказать не могу.\")"
   ]
  },
  {
   "cell_type": "markdown",
   "metadata": {},
   "source": [
    "Этот метод для `foo` будет работать, например, с числами с плавающей запятой:"
   ]
  },
  {
   "cell_type": "code",
   "execution_count": null,
   "metadata": {},
   "outputs": [],
   "source": [
    "foo(3.0, 4.0)"
   ]
  },
  {
   "cell_type": "markdown",
   "metadata": {},
   "source": [
    "На всякий случай можно добавить, метод с уточной-типизацией `foo`, который будет принимать любые типы:"
   ]
  },
  {
   "cell_type": "code",
   "execution_count": null,
   "metadata": {},
   "outputs": [],
   "source": [
    "foo(x, y) = println(\"Сам определяй свои типы!\")"
   ]
  },
  {
   "cell_type": "markdown",
   "metadata": {},
   "source": [
    "Учитывая методы, которые мы уже написали для `foo`, этот метод будет вызываться всякий раз, когда мы передаем не числа в `foo`:"
   ]
  },
  {
   "cell_type": "code",
   "execution_count": null,
   "metadata": {},
   "outputs": [],
   "source": [
    "v = rand(3)"
   ]
  },
  {
   "cell_type": "code",
   "execution_count": null,
   "metadata": {},
   "outputs": [],
   "source": [
    "foo(v, v)"
   ]
  },
  {
   "cell_type": "markdown",
   "metadata": {},
   "source": [
    "### Упражнения"
   ]
  },
  {
   "cell_type": "markdown",
   "metadata": {},
   "source": [
    "---\n",
    "#### 1\n",
    "\n",
    "Расширьте функцию `foo`, добавив метод, который принимает только один входной аргумент, который имеет тип` Bool`, и печатает \"foo с одним логическим значением!\""
   ]
  },
  {
   "cell_type": "code",
   "execution_count": null,
   "metadata": {},
   "outputs": [],
   "source": []
  },
  {
   "cell_type": "markdown",
   "metadata": {},
   "source": [
    "---\n",
    "#### 2\n",
    "\n",
    "Убедитесь, что метод, отправляемый при выполнении \n",
    "```julia\n",
    "foo(true) \n",
    "```\n",
    "является тем, который вы написали."
   ]
  },
  {
   "cell_type": "code",
   "execution_count": null,
   "metadata": {},
   "outputs": [],
   "source": []
  },
  {
   "cell_type": "code",
   "execution_count": null,
   "metadata": {
    "deletable": false,
    "editable": false,
    "hide_input": true,
    "nbgrader": {
     "checksum": "af0db7a08de56491e57f4c882296a00f",
     "grade": true,
     "grade_id": "cell-14072e60ae07c1a2",
     "locked": true,
     "points": 1,
     "schema_version": 1,
     "solution": false
    }
   },
   "outputs": [],
   "source": [
    "@assert foo(true) == \"foo with one boolean!\""
   ]
  }
 ],
 "metadata": {
  "anaconda-cloud": {},
  "kernelspec": {
   "display_name": "Julia 1.5.0",
   "language": "julia",
   "name": "julia-1.5"
  },
  "language": "Julia",
  "language_info": {
   "file_extension": ".jl",
   "mimetype": "application/julia",
   "name": "julia",
   "version": "1.5.0"
  },
  "toc": {
   "nav_menu": {
    "height": "119px",
    "width": "251px"
   },
   "navigate_menu": true,
   "number_sections": true,
   "sideBar": true,
   "threshold": "2",
   "toc_cell": false,
   "toc_section_display": "block",
   "toc_window_display": false
  }
 },
 "nbformat": 4,
 "nbformat_minor": 4
}
