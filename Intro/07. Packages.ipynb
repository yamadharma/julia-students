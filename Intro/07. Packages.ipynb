{
 "cells": [
  {
   "cell_type": "markdown",
   "metadata": {},
   "source": [
    "# Библиотеки (Пакеты) \n",
    "\n",
    "Julia имеет более 2000 зарегистрированных пакетов, что делает их огромной частью экосистемы Julia. Несмотря на это, экосистеме пакетов еще предстоит многое сделать.\n",
    "\n",
    "Примечательно, что у нас есть вызовы функций первого класса для других языков, обеспечивающие превосходные интерфейсы сторонних функций. Мы можем легко вызвать Python или R, например, с помощью `PyCall` или` Rcall`. Это означает, что вам не нужно ждать, пока экосистема Julia станет полностью зрелой, а переход на Julia не означает, что вы должны отказаться от своего любимого пакета / библиотеки с другого языка! \n",
    "\n",
    "Чтобы увидеть все доступные пакеты, ознакомьтесь с https://pkg.julialang.org/ или https://juliaobserver.com/ \n",
    "\n",
    "А сейчас давайте узнаем, как использовать пакеты."
   ]
  },
  {
   "cell_type": "markdown",
   "metadata": {},
   "source": [
    "При первом использовании пакета в данной установке Julia вам необходимо использовать менеджер пакетов, чтобы явно добавить его:"
   ]
  },
  {
   "cell_type": "code",
   "execution_count": null,
   "metadata": {},
   "outputs": [],
   "source": [
    "using Pkg\n",
    "Pkg.add(\"Example\")"
   ]
  },
  {
   "cell_type": "markdown",
   "metadata": {},
   "source": [
    "Каждый раз, когда вы используете Julia (например, начинаете новый сеанс в REPL или открываете блокнот в первый раз), вы загружаете пакет с ключевым словом `using`"
   ]
  },
  {
   "cell_type": "code",
   "execution_count": null,
   "metadata": {},
   "outputs": [],
   "source": [
    "using Example"
   ]
  },
  {
   "cell_type": "markdown",
   "metadata": {},
   "source": [
    "В исходном коде `Example.jl` на\n",
    "https://github.com/JuliaLang/Example.jl/blob/master/src/Example.jl \n",
    "мы видим следующую объявленную функцию \n",
    "``` \n",
    "hello ( who :: String) = \"Hello, $ who\"\n",
    "``` \n",
    "Загрузив `Example`, теперь мы можем вызвать `hello`"
   ]
  },
  {
   "cell_type": "code",
   "execution_count": null,
   "metadata": {},
   "outputs": [],
   "source": [
    "hello(\"it's me. I was wondering if after all these years you'd like to meet.\")"
   ]
  },
  {
   "cell_type": "markdown",
   "metadata": {},
   "source": [
    "Теперь давайте поиграем с пакетом цветов"
   ]
  },
  {
   "cell_type": "code",
   "execution_count": null,
   "metadata": {},
   "outputs": [],
   "source": [
    "Pkg.add(\"Colors\")"
   ]
  },
  {
   "cell_type": "code",
   "execution_count": null,
   "metadata": {},
   "outputs": [],
   "source": [
    "using Colors"
   ]
  },
  {
   "cell_type": "markdown",
   "metadata": {},
   "source": [
    "Давайте создадим палитру из 100 разных цветов"
   ]
  },
  {
   "cell_type": "code",
   "execution_count": null,
   "metadata": {},
   "outputs": [],
   "source": [
    "palette = distinguishable_colors(100)"
   ]
  },
  {
   "cell_type": "markdown",
   "metadata": {},
   "source": [
    "а затем мы можем создать рандомную матрицу, используя команду `rand`"
   ]
  },
  {
   "cell_type": "code",
   "execution_count": null,
   "metadata": {},
   "outputs": [],
   "source": [
    "rand(palette, 3, 3)"
   ]
  },
  {
   "cell_type": "markdown",
   "metadata": {},
   "source": [
    "В следующей записной книжке мы будем использовать новый пакет для построения наборов данных."
   ]
  },
  {
   "cell_type": "markdown",
   "metadata": {},
   "source": [
    "### Упражнения\n",
    "\n",
    "#### 7.1 \n",
    "Загрузите пакет Primes (source code at https://github.com/JuliaMath/Primes.jl )."
   ]
  },
  {
   "cell_type": "code",
   "execution_count": null,
   "metadata": {},
   "outputs": [],
   "source": []
  },
  {
   "cell_type": "code",
   "execution_count": null,
   "metadata": {
    "deletable": false,
    "editable": false,
    "hide_input": true,
    "nbgrader": {
     "checksum": "0c808f5cb8f48b17f8552f00abf2ee09",
     "grade": true,
     "grade_id": "cell-7c4498760f1c26d7",
     "locked": true,
     "points": 1,
     "schema_version": 1,
     "solution": false
    }
   },
   "outputs": [],
   "source": [
    "@assert @isdefined Primes"
   ]
  },
  {
   "cell_type": "markdown",
   "metadata": {},
   "source": [
    "#### 7.2 \n",
    "Убедитесь, что теперь вы можете использовать функцию `primes`, чтобы захватить все простые числа до 1 000 000 и сохранить их в переменной `primes_list`"
   ]
  },
  {
   "cell_type": "code",
   "execution_count": null,
   "metadata": {},
   "outputs": [],
   "source": []
  },
  {
   "cell_type": "code",
   "execution_count": null,
   "metadata": {
    "deletable": false,
    "editable": false,
    "hide_input": true,
    "nbgrader": {
     "checksum": "ec7f3d8aa43d629a2e57bc4be8525286",
     "grade": true,
     "grade_id": "cell-ab26afd81c0a11ae",
     "locked": true,
     "points": 1,
     "schema_version": 1,
     "solution": false
    }
   },
   "outputs": [],
   "source": [
    "@assert primes_list == primes(1000000)"
   ]
  }
 ],
 "metadata": {
  "kernelspec": {
   "display_name": "Julia 1.4.1",
   "language": "julia",
   "name": "julia-1.4"
  },
  "language_info": {
   "file_extension": ".jl",
   "mimetype": "application/julia",
   "name": "julia",
   "version": "1.4.1"
  }
 },
 "nbformat": 4,
 "nbformat_minor": 4
}
