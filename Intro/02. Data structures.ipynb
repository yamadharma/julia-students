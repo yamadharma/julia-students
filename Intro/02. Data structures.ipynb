{
 "cells": [
  {
   "cell_type": "markdown",
   "metadata": {},
   "source": [
    "# Структуры данных\n",
    "\n",
    "Как только мы начнем работать со множеством однотипных данных, нам будет удобней хранить данные в структурах, таких как массивы или словари (а не просто создавать множество переменных). \n",
    "\n",
    "Типы охватываемых структур данных : \n",
    "- [Кортежи](#Кортежи)\n",
    "- [Именованные кортежи](#Именованные-кортежи)\n",
    "- [Словари](#Словари)\n"
   ]
  },
  {
   "cell_type": "markdown",
   "metadata": {},
   "source": [
    "## Кортежи (Tuples)\n",
    "\n",
    "Мы можем создать кортеж, заключив упорядоченную коллекцию элементов в `( )`.\n",
    "\n",
    "Синтаксис: \n",
    "\n",
    "```julia\n",
    "(item1, item2, ...)\n",
    "```"
   ]
  },
  {
   "cell_type": "code",
   "execution_count": null,
   "metadata": {},
   "outputs": [],
   "source": [
    "favoritelang = (\"Python\",\"Julia\",\"R\")"
   ]
  },
  {
   "cell_type": "code",
   "execution_count": null,
   "metadata": {},
   "outputs": [],
   "source": [
    "typeof(favoritelang)"
   ]
  },
  {
   "cell_type": "code",
   "execution_count": null,
   "metadata": {},
   "outputs": [],
   "source": [
    "myfavoriteanimals = (\"penguins\", \"cats\", \"sugargliders\")"
   ]
  },
  {
   "cell_type": "markdown",
   "metadata": {},
   "source": [
    "### Indexing\n",
    "Мы можем индексировать в этот кортеж,"
   ]
  },
  {
   "cell_type": "code",
   "execution_count": null,
   "metadata": {},
   "outputs": [],
   "source": [
    "myfavoriteanimals[1]"
   ]
  },
  {
   "cell_type": "markdown",
   "metadata": {},
   "source": [
    "### Immutability\n",
    "Кортежи неизменны, мы не можем обновить их"
   ]
  },
  {
   "cell_type": "code",
   "execution_count": null,
   "metadata": {},
   "outputs": [],
   "source": [
    "myfavoriteanimals[1] = \"otters\""
   ]
  },
  {
   "cell_type": "markdown",
   "metadata": {},
   "source": [
    "### Iteration\n",
    "Мы можем перебирать кортеж."
   ]
  },
  {
   "cell_type": "code",
   "execution_count": null,
   "metadata": {},
   "outputs": [],
   "source": [
    "for lang in favoritelang\n",
    "    print(lang)\n",
    "    print(\", \")\n",
    "end"
   ]
  },
  {
   "cell_type": "markdown",
   "metadata": {},
   "source": [
    "### Несколько полезных методов (общих для всех структур данных)\n",
    "- `isempty` - проверяет, пуста ли структура данных,\n",
    "- `length` - возвращает длину структуры данных,\n",
    "- `in` - проверяет принадлежность к элементу,\n",
    "- `unique` - возвращает коллекцию уникальных элементов,\n",
    "- `reduce` - сокращает данную коллекцию` itr` с заданным бинарным оператором `op`,\n",
    "- `maximum` (или` minimum`) - возвращает наибольший (или наименьший) результат вызова функции `fun` для каждого элемента` itr`"
   ]
  },
  {
   "cell_type": "code",
   "execution_count": null,
   "metadata": {},
   "outputs": [],
   "source": [
    "isempty(favoritelang)"
   ]
  },
  {
   "cell_type": "code",
   "execution_count": null,
   "metadata": {},
   "outputs": [],
   "source": [
    "length(favoritelang)"
   ]
  },
  {
   "cell_type": "code",
   "execution_count": null,
   "metadata": {},
   "outputs": [],
   "source": [
    "\"Java\" in favoritelang"
   ]
  },
  {
   "cell_type": "code",
   "execution_count": null,
   "metadata": {},
   "outputs": [],
   "source": [
    "\"Julia\" in favoritelang"
   ]
  },
  {
   "cell_type": "code",
   "execution_count": null,
   "metadata": {},
   "outputs": [],
   "source": [
    "favoritelang2 = (\"Python\",\"Julia\",\"R\",\"Julia\",\"Python\");\n",
    "println(\"Printing all the elements:\")\n",
    "for lang in favoritelang2\n",
    "    print(lang);print(\", \")\n",
    "end\n",
    "println(\"\\n\\nNow printing only the unique elements:\")\n",
    "for lang in unique(favoritelang2)\n",
    "    print(lang);print(\", \")\n",
    "end"
   ]
  },
  {
   "cell_type": "code",
   "execution_count": null,
   "metadata": {},
   "outputs": [],
   "source": [
    "reduce(*,favoritelang)"
   ]
  },
  {
   "cell_type": "code",
   "execution_count": null,
   "metadata": {},
   "outputs": [],
   "source": [
    "t = (2,3,-4);\n",
    "reduce(+,t)"
   ]
  },
  {
   "cell_type": "code",
   "execution_count": null,
   "metadata": {},
   "outputs": [],
   "source": [
    "# Python is the longest string, so we expect the answer to be 6\n",
    "maximum(length,favoritelang)"
   ]
  },
  {
   "cell_type": "code",
   "execution_count": null,
   "metadata": {},
   "outputs": [],
   "source": [
    "# R is the shortest string, so we expect the answer to be 1\n",
    "minimum(length,favoritelang)"
   ]
  },
  {
   "cell_type": "markdown",
   "metadata": {},
   "source": [
    "## Именованные кортежи\n",
    "\n",
    "Как вы могли догадаться, `NamedTuple`ы это такие же `Tuple`ы за исключением того, что каждый элемент дополнительно имеет имя! У них есть специальный синтаксис, использующий `=` внутри кортежа:\n",
    "\n",
    "```julia\n",
    "(name1 = item1, name2 = item2, ...)\n",
    "```"
   ]
  },
  {
   "cell_type": "code",
   "execution_count": null,
   "metadata": {},
   "outputs": [],
   "source": [
    "myfavoriteanimals = (bird = \"penguins\", mammal = \"cats\", marsupial = \"sugargliders\")"
   ]
  },
  {
   "cell_type": "markdown",
   "metadata": {},
   "source": [
    "Как и обычные `Tuples`, `NamedTuples` упорядочены, так что мы можем получить их элементы с помощью индексации:"
   ]
  },
  {
   "cell_type": "code",
   "execution_count": null,
   "metadata": {},
   "outputs": [],
   "source": [
    "myfavoriteanimals[1]"
   ]
  },
  {
   "cell_type": "markdown",
   "metadata": {},
   "source": [
    "Они также добавляют особую возможность доступа к значениям по их имени:"
   ]
  },
  {
   "cell_type": "code",
   "execution_count": null,
   "metadata": {},
   "outputs": [],
   "source": [
    "myfavoriteanimals.bird"
   ]
  },
  {
   "cell_type": "markdown",
   "metadata": {},
   "source": [
    "## Словари\n",
    "\n",
    "Если у нас есть наборы данных, связанных друг с другом, мы можем сохранить эти данные в словаре. Мы можем создать словарь, используя функцию `Dict()`.\n",
    "\n",
    "Syntax:\n",
    "\n",
    "```julia\n",
    "Dict(key1 => value1, key2 => value2, ...)\n",
    "```\n",
    "\n",
    "Хорошим примером является список контактов, где мы связываем имена с номерами телефонов."
   ]
  },
  {
   "cell_type": "code",
   "execution_count": null,
   "metadata": {},
   "outputs": [],
   "source": [
    "phonebook = Dict(\"Jenny\" => \"867-5309\", \"Ghostbusters\" => \"555-2368\")"
   ]
  },
  {
   "cell_type": "markdown",
   "metadata": {},
   "source": [
    "В этом примере каждое имя и номер являются парой «ключ» и «значение». Мы можем получить номер Дженни (значение), используя связанный ключ"
   ]
  },
  {
   "cell_type": "code",
   "execution_count": null,
   "metadata": {},
   "outputs": [],
   "source": [
    "phonebook[\"Jenny\"]"
   ]
  },
  {
   "cell_type": "markdown",
   "metadata": {},
   "source": [
    "Мы можем добавить еще одну запись в этот словарь следующим образом"
   ]
  },
  {
   "cell_type": "code",
   "execution_count": null,
   "metadata": {},
   "outputs": [],
   "source": [
    "phonebook[\"Kramer\"] = \"555-FILK\""
   ]
  },
  {
   "cell_type": "markdown",
   "metadata": {},
   "source": [
    "Давайте посмотрим, как сейчас выглядит наша телефонная книга..."
   ]
  },
  {
   "cell_type": "code",
   "execution_count": null,
   "metadata": {},
   "outputs": [],
   "source": [
    "phonebook"
   ]
  },
  {
   "cell_type": "markdown",
   "metadata": {},
   "source": [
    "Мы можем удалить Крамера из нашего списка контактов и одновременно получить его номер, используя `pop!`"
   ]
  },
  {
   "cell_type": "code",
   "execution_count": null,
   "metadata": {},
   "outputs": [],
   "source": [
    "pop!(phonebook, \"Kramer\")"
   ]
  },
  {
   "cell_type": "code",
   "execution_count": null,
   "metadata": {},
   "outputs": [],
   "source": [
    "phonebook"
   ]
  },
  {
   "cell_type": "markdown",
   "metadata": {},
   "source": [
    "В отличие от кортежей и массивов, словари не упорядочены. Таким образом, мы не можем индексировать их."
   ]
  },
  {
   "cell_type": "code",
   "execution_count": null,
   "metadata": {},
   "outputs": [],
   "source": [
    "phonebook[1]"
   ]
  },
  {
   "cell_type": "markdown",
   "metadata": {},
   "source": [
    "В этом примере `julia` думает, что вы пытаетесь получить доступ к значению, связанному с ключом `1`."
   ]
  },
  {
   "cell_type": "markdown",
   "metadata": {},
   "source": [
    "### Некоторые полезные методы\n",
    "- `keys`\n",
    "- `values`\n",
    "- `pairs`\n",
    "- `haskey`"
   ]
  },
  {
   "cell_type": "code",
   "execution_count": null,
   "metadata": {},
   "outputs": [],
   "source": [
    "keys(phonebook)"
   ]
  },
  {
   "cell_type": "code",
   "execution_count": null,
   "metadata": {},
   "outputs": [],
   "source": [
    "values(phonebook)"
   ]
  },
  {
   "cell_type": "code",
   "execution_count": null,
   "metadata": {},
   "outputs": [],
   "source": [
    "pairs(phonebook)"
   ]
  },
  {
   "cell_type": "code",
   "execution_count": null,
   "metadata": {},
   "outputs": [],
   "source": [
    "haskey(phonebook,\"Kramer\")"
   ]
  },
  {
   "cell_type": "code",
   "execution_count": null,
   "metadata": {},
   "outputs": [],
   "source": [
    "haskey(phonebook,\"Ghostbusters\")"
   ]
  },
  {
   "cell_type": "markdown",
   "metadata": {},
   "source": [
    "### Функция `merge()`\n",
    "Эта функция создает объединенную коллекцию из заданных коллекций. При необходимости типы результирующей коллекции будут приведены, чтобы соответствовать типам объединенных коллекций. Если такой же ключ присутствует в другой коллекции, значением для этого ключа будет значение, которое он имеет в последней перечисленной коллекции."
   ]
  },
  {
   "cell_type": "code",
   "execution_count": null,
   "metadata": {},
   "outputs": [],
   "source": [
    "a = Dict(\"foo\" => 0.0, \"bar\" => 42.0);\n",
    "b = Dict(\"baz\" => 17, \"bar\" => 13.0);"
   ]
  },
  {
   "cell_type": "code",
   "execution_count": null,
   "metadata": {},
   "outputs": [],
   "source": [
    "a"
   ]
  },
  {
   "cell_type": "code",
   "execution_count": null,
   "metadata": {},
   "outputs": [],
   "source": [
    "b"
   ]
  },
  {
   "cell_type": "code",
   "execution_count": null,
   "metadata": {},
   "outputs": [],
   "source": [
    "# Note the order of merging\n",
    "merge(a, b)"
   ]
  },
  {
   "cell_type": "code",
   "execution_count": null,
   "metadata": {},
   "outputs": [],
   "source": [
    "# Now the order is reversed\n",
    "merge(b,a)"
   ]
  },
  {
   "cell_type": "markdown",
   "metadata": {},
   "source": [
    "Если `merge ()` используется с аргументом функции \"объединитель\", то значения с одним и тем же ключом будут объединены с помощью функции объединения."
   ]
  },
  {
   "cell_type": "code",
   "execution_count": null,
   "metadata": {},
   "outputs": [],
   "source": [
    "a = Dict(\"foo\" => 0.0, \"bar\" => 42.0);\n",
    "b = Dict(\"baz\" => 17, \"bar\" => 13.0);\n",
    "\n",
    "# Using a +(sum) function as the combiner\n",
    "merge(+,a,b)"
   ]
  }
 ],
 "metadata": {
  "kernelspec": {
   "display_name": "Julia 1.5.0",
   "language": "julia",
   "name": "julia-1.5"
  },
  "language_info": {
   "file_extension": ".jl",
   "mimetype": "application/julia",
   "name": "julia",
   "version": "1.5.0"
  }
 },
 "nbformat": 4,
 "nbformat_minor": 4
}
