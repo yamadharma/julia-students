{
 "cells": [
  {
   "cell_type": "markdown",
   "metadata": {},
   "source": [
    "## Начало работы с блокнотами Jupyter \n",
    "\n",
    "Блокноты Jupyter - это удобный способ запуска, отображения и представления интерактивного кода. Основная концепция - это ячейка - отдельный фрагмент текста. Ячейки могут быть с текстом (как эта) или с кодом (как следующая).\n",
    "\n",
    "## Запуск ячейки\n",
    "\n",
    "Чтобы выполнить код внутри ячейки, выберите эту ячейку и (1) нажмите `Shift` и `Enter` или (2) нажмите кнопку «Выполнить» (стрелка вправо) выше."
   ]
  },
  {
   "cell_type": "code",
   "execution_count": null,
   "metadata": {},
   "outputs": [],
   "source": [
    "1 + 1"
   ]
  },
  {
   "cell_type": "code",
   "execution_count": null,
   "metadata": {},
   "outputs": [],
   "source": [
    "2 + 2"
   ]
  },
  {
   "cell_type": "code",
   "execution_count": null,
   "metadata": {},
   "outputs": [],
   "source": [
    "1 + 1\n",
    "2 + 2"
   ]
  },
  {
   "cell_type": "markdown",
   "metadata": {},
   "source": [
    "Oбратите внимание, что при выполнении этой ячейки по умолчанию печатается только последняя строка ячейки, и вы можете подавить этот вывод точкой с запятой."
   ]
  },
  {
   "cell_type": "code",
   "execution_count": null,
   "metadata": {},
   "outputs": [],
   "source": [
    "1 + 1\n",
    "2 + 2;"
   ]
  },
  {
   "cell_type": "markdown",
   "metadata": {},
   "source": [
    "## Изменение режимов и вставка новых ячеек\n",
    "\n",
    "Вы можете использовать меню выше или комбинации клавиш - ESC выведет из редактирования ячейки и перейдет в командный режим, где есть специальные сочетания клавиш для вставки / вырезания / изменения ячеек. Попробуйте `ESC` и затем `a` или `b` для создания новой ячейки выше или ниже соответственно. Также полезно запомнить:\n",
    "- `x` - удаление ячейки\n",
    "- `z` - отмена удаления\n",
    "- `m` - перевести ячейку в режим текста\n",
    "- `y` - либо в режим набора кода\n",
    "\n",
    "\n",
    "### Как получить документы для функций Джулии\n",
    "\n",
    "Чтобы получить документы для функции, с которой вы не знакомы, поставьте перед ней знак вопроса. (Это работает и в REPL!)"
   ]
  },
  {
   "cell_type": "code",
   "execution_count": null,
   "metadata": {},
   "outputs": [],
   "source": [
    "?println"
   ]
  },
  {
   "cell_type": "markdown",
   "metadata": {},
   "source": [
    "### Как использовать команды оболочки \n",
    "Используйте команды вашей системы поставив перед ними `;`"
   ]
  },
  {
   "cell_type": "code",
   "execution_count": null,
   "metadata": {},
   "outputs": [],
   "source": [
    ";ls"
   ]
  },
  {
   "cell_type": "code",
   "execution_count": null,
   "metadata": {},
   "outputs": [],
   "source": [
    ";cd"
   ]
  },
  {
   "cell_type": "markdown",
   "metadata": {},
   "source": [
    "### Взаимодействие с менеджером пакетов \n",
    "\n",
    "Менеджер пакетов Юлии имеет специальный \"командный\" режим синтаксиса - вы можете ввести его с помощью символа `]`."
   ]
  },
  {
   "cell_type": "code",
   "execution_count": null,
   "metadata": {},
   "outputs": [],
   "source": [
    "]status"
   ]
  }
 ],
 "metadata": {
  "kernelspec": {
   "display_name": "Julia 1.4.1",
   "language": "julia",
   "name": "julia-1.4"
  },
  "language_info": {
   "file_extension": ".jl",
   "mimetype": "application/julia",
   "name": "julia",
   "version": "1.4.1"
  }
 },
 "nbformat": 4,
 "nbformat_minor": 4
}
