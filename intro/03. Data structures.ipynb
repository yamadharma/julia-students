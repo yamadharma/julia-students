{
 "cells": [
  {
   "cell_type": "markdown",
   "metadata": {},
   "source": [
    "# Структуры данных\n",
    "\n",
    "Как только мы начнем работать со множеством однотипных данных, нам будет удобней хранить данные в структурах, таких как массивы или словари (а не просто создавать множество переменных). \n",
    "\n",
    "Типы охватываемых структур данных : \n",
    "1. Кортежи \n",
    "2. Словари \n",
    "3. Массивы\n",
    "\n",
    "<br>\n",
    "Кортежи и массивы - это упорядоченные последовательности элементов (поэтому мы можем индексировать их). Словари и массивы являются изменяемыми. \n",
    "Мы объясним это подробнее ниже!"
   ]
  },
  {
   "cell_type": "markdown",
   "metadata": {},
   "source": [
    "## Кортежи (Tuples)\n",
    "\n",
    "Мы можем создать кортеж, заключив упорядоченную коллекцию элементов в `( )`.\n",
    "\n",
    "Синтаксис: <br>\n",
    "```julia\n",
    "(item1, item2, ...)```"
   ]
  },
  {
   "cell_type": "code",
   "execution_count": null,
   "metadata": {},
   "outputs": [],
   "source": [
    "myfavoriteanimals = (\"penguins\", \"cats\", \"sugargliders\")"
   ]
  },
  {
   "cell_type": "markdown",
   "metadata": {},
   "source": [
    "Мы можем индексировать в этот кортеж,"
   ]
  },
  {
   "cell_type": "code",
   "execution_count": null,
   "metadata": {},
   "outputs": [],
   "source": [
    "myfavoriteanimals[1]"
   ]
  },
  {
   "cell_type": "markdown",
   "metadata": {},
   "source": [
    "но так как кортежи неизменны, мы не можем обновить их"
   ]
  },
  {
   "cell_type": "code",
   "execution_count": null,
   "metadata": {},
   "outputs": [],
   "source": [
    "myfavoriteanimals[1] = \"otters\""
   ]
  },
  {
   "cell_type": "markdown",
   "metadata": {},
   "source": [
    "Именованные кортежи\n",
    "\n",
    "Как вы могли догадаться, `NamedTuple`ы это такие же `Tuple`ы за исключением того, что каждый элемент дополнительно имеет имя! У них есть специальный синтаксис, использующий `=` внутри кортежа:\n",
    "\n",
    "```julia\n",
    "(name1 = item1, name2 = item2, ...)\n",
    "```"
   ]
  },
  {
   "cell_type": "code",
   "execution_count": null,
   "metadata": {},
   "outputs": [],
   "source": [
    "myfavoriteanimals = (bird = \"penguins\", mammal = \"cats\", marsupial = \"sugargliders\")"
   ]
  },
  {
   "cell_type": "markdown",
   "metadata": {},
   "source": [
    "Как и обычные `Tuples`, `NamedTuples` упорядочены, так что мы можем получить их элементы с помощью индексации:"
   ]
  },
  {
   "cell_type": "code",
   "execution_count": null,
   "metadata": {},
   "outputs": [],
   "source": [
    "myfavoriteanimals[1]"
   ]
  },
  {
   "cell_type": "markdown",
   "metadata": {},
   "source": [
    "Они также добавляют особую возможность доступа к значениям по их имени:"
   ]
  },
  {
   "cell_type": "code",
   "execution_count": null,
   "metadata": {},
   "outputs": [],
   "source": [
    "myfavoriteanimals.bird"
   ]
  },
  {
   "cell_type": "markdown",
   "metadata": {},
   "source": [
    "## Словари\n",
    "\n",
    "Если у нас есть наборы данных, связанных друг с другом, мы можем сохранить эти данные в словаре. Мы можем создать словарь, используя функцию `Dict()`.\n",
    "\n",
    "Syntax:\n",
    "```julia\n",
    "Dict(key1 => value1, key2 => value2, ...)```\n",
    "\n",
    "Хорошим примером является список контактов, где мы связываем имена с номерами телефонов."
   ]
  },
  {
   "cell_type": "code",
   "execution_count": null,
   "metadata": {},
   "outputs": [],
   "source": [
    "myphonebook = Dict(\"Jenny\" => \"867-5309\", \"Ghostbusters\" => \"555-2368\")"
   ]
  },
  {
   "cell_type": "markdown",
   "metadata": {},
   "source": [
    "В этом примере каждое имя и номер являются парой «ключ» и «значение». Мы можем получить номер Дженни (значение), используя связанный ключ"
   ]
  },
  {
   "cell_type": "code",
   "execution_count": null,
   "metadata": {},
   "outputs": [],
   "source": [
    "myphonebook[\"Jenny\"]"
   ]
  },
  {
   "cell_type": "markdown",
   "metadata": {},
   "source": [
    "Мы можем добавить еще одну запись в этот словарь следующим образом"
   ]
  },
  {
   "cell_type": "code",
   "execution_count": null,
   "metadata": {},
   "outputs": [],
   "source": [
    "myphonebook[\"Kramer\"] = \"555-FILK\""
   ]
  },
  {
   "cell_type": "markdown",
   "metadata": {},
   "source": [
    "Давайте посмотрим, как сейчас выглядит наша телефонная книга..."
   ]
  },
  {
   "cell_type": "code",
   "execution_count": null,
   "metadata": {},
   "outputs": [],
   "source": [
    "myphonebook"
   ]
  },
  {
   "cell_type": "markdown",
   "metadata": {},
   "source": [
    "Мы можем удалить Крамера из нашего списка контактов и одновременно получить его номер, используя `pop!`"
   ]
  },
  {
   "cell_type": "code",
   "execution_count": null,
   "metadata": {},
   "outputs": [],
   "source": [
    "pop!(myphonebook, \"Kramer\")"
   ]
  },
  {
   "cell_type": "code",
   "execution_count": null,
   "metadata": {},
   "outputs": [],
   "source": [
    "myphonebook"
   ]
  },
  {
   "cell_type": "markdown",
   "metadata": {},
   "source": [
    "В отличие от кортежей и массивов, словари не упорядочены. Таким образом, мы не можем индексировать их."
   ]
  },
  {
   "cell_type": "code",
   "execution_count": null,
   "metadata": {},
   "outputs": [],
   "source": [
    "myphonebook[1]"
   ]
  },
  {
   "cell_type": "markdown",
   "metadata": {},
   "source": [
    "В этом примере `julia` думает, что вы пытаетесь получить доступ к значению, связанному с ключом `1`."
   ]
  },
  {
   "cell_type": "markdown",
   "metadata": {},
   "source": [
    "### Массивы\n",
    "\n",
    "Как и в других программах, под массивами в Julia понимается коллекция упорядоченных элементов, размещённая в многомерной сетке. Векторы и матрицы являются частными случаями массивов.\n",
    "\n",
    "\n",
    "В Julia предусмотрено достаточно много способов создать массив (с учётом типа, значения, размерности и пр.), но по моему скромному мнению в большинстве случаев удобнее пойти путём Matlab-подобных сред и инициализировать массив через перечисление его элементов в квадратных скобках, разделяя строки знаком \" ; \". Чтобы обратиться к элементу, укажите его индекс в квадратных скобках, если массив многомерный, перечислите индексы через запятую. ***Индексация, кстати, начинается с единицы.*** Для облегчения доступа индекс последнего элемента хранится в переменной end. \n",
    "\n",
    "Вот некоторые из базовых функций для работы с массивами.\n",
    "+ **length(A)** - число элементов.\n",
    "+ **ndims(A)** - число размерностей.\n",
    "+ **size(A)** - кортеж размерностей.\n",
    "+ **size(A, n)** - размерность в заданном направлении.\n",
    "+ **copy(A)** - создание копии массива. \n",
    "\n",
    "Синтаксис: <br>\n",
    "```julia\n",
    "[item1, item2, ...]\n",
    "```\n",
    "\n",
    "\n",
    "Например, мы можем создать массив ингридиентов для кекса \"Нежность\""
   ]
  },
  {
   "cell_type": "code",
   "execution_count": null,
   "metadata": {},
   "outputs": [],
   "source": [
    "ingridients = [\"Meal\", \"Eag\", \"Sugar\", \"Butter\", \"Milk\"]"
   ]
  },
  {
   "cell_type": "markdown",
   "metadata": {},
   "source": [
    "`1` в `Array{String,1}` означает что мы задали одномерный вектор. `Array{String,2}` будет 2d матрицей и т.д. `String` это тип входящих элементов.\n",
    "\n",
    "Еще мы можем сохранить последовательность чисел"
   ]
  },
  {
   "cell_type": "code",
   "execution_count": null,
   "metadata": {},
   "outputs": [],
   "source": [
    "fibonacci = [1, 1, 2, 3, 5, 8, 13]"
   ]
  },
  {
   "cell_type": "code",
   "execution_count": null,
   "metadata": {},
   "outputs": [],
   "source": [
    "mixture = [1, 1, 2, 3, \"Пэрри\", \"Утконос\"]"
   ]
  },
  {
   "cell_type": "markdown",
   "metadata": {},
   "source": [
    "Задав массив, мы можем получить отдельные фрагменты данных из этого массива путем индексации в массиве. Например, если мы хотим, получить третий компонент нашего `ingridients`, мы напишем"
   ]
  },
  {
   "cell_type": "code",
   "execution_count": null,
   "metadata": {},
   "outputs": [],
   "source": [
    "ingridients[3]"
   ]
  },
  {
   "cell_type": "markdown",
   "metadata": {},
   "source": [
    "Мы можем использовать индексирование для редактирования существующего элемента массива"
   ]
  },
  {
   "cell_type": "code",
   "execution_count": null,
   "metadata": {},
   "outputs": [],
   "source": [
    "ingridients[3] = \"Fish\""
   ]
  },
  {
   "cell_type": "markdown",
   "metadata": {},
   "source": [
    "Да, Julia использует **индексацию начинающуюся с единицы**, а не с нуля как Python.  Войны ведутся и из-за меньших проблем. У меня есть друг мудрый как Соломон, который предлагает раз и навсегда решить эту проблему начиная счет с ½ `:)`"
   ]
  },
  {
   "cell_type": "markdown",
   "metadata": {},
   "source": [
    "Мы также можем редактировать массив, используя `push!` и `pop!`. `push!` aдобавляет элемент в конец массива, а `pop!` удаляет последний элемент массива. \n",
    "\n",
    "Мы можем добавить еще один номер в нашу последовательность Фибоначчи"
   ]
  },
  {
   "cell_type": "code",
   "execution_count": null,
   "metadata": {},
   "outputs": [],
   "source": [
    "push!(fibonacci, 21)"
   ]
  },
  {
   "cell_type": "markdown",
   "metadata": {},
   "source": [
    "а затем удалить его"
   ]
  },
  {
   "cell_type": "code",
   "execution_count": null,
   "metadata": {},
   "outputs": [],
   "source": [
    "pop!(fibonacci)"
   ]
  },
  {
   "cell_type": "code",
   "execution_count": null,
   "metadata": {},
   "outputs": [],
   "source": [
    "fibonacci"
   ]
  },
  {
   "cell_type": "markdown",
   "metadata": {},
   "source": [
    "До сих пор я приводил примеры только одномерных массивов скаляров, но массивы могут иметь произвольное количество измерений, а также могут хранить другие массивы.\n",
    "\n",
    "Например, следующие массивы:"
   ]
  },
  {
   "cell_type": "code",
   "execution_count": null,
   "metadata": {},
   "outputs": [],
   "source": [
    "favorites = [[\"koobideh\", \"chocolate\", \"eggs\"],[\"penguins\", \"cats\", \"sugargliders\"]]"
   ]
  },
  {
   "cell_type": "code",
   "execution_count": null,
   "metadata": {},
   "outputs": [],
   "source": [
    "numbers = [[1, 2, 3], [4, 5], [6, 7, 8, 9]]"
   ]
  },
  {
   "cell_type": "markdown",
   "metadata": {},
   "source": [
    "Ниже приведены примеры двумерных и трехмерных массивов, заполненных случайными значениями:"
   ]
  },
  {
   "cell_type": "code",
   "execution_count": null,
   "metadata": {},
   "outputs": [],
   "source": [
    "rand(4, 3)"
   ]
  },
  {
   "cell_type": "code",
   "execution_count": null,
   "metadata": {},
   "outputs": [],
   "source": [
    "rand(4, 3, 2)"
   ]
  },
  {
   "cell_type": "markdown",
   "metadata": {},
   "source": [
    "Будьте осторожны, когда хотите скопировать массивы!"
   ]
  },
  {
   "cell_type": "code",
   "execution_count": null,
   "metadata": {},
   "outputs": [],
   "source": [
    "fibonacci"
   ]
  },
  {
   "cell_type": "code",
   "execution_count": null,
   "metadata": {},
   "outputs": [],
   "source": [
    "somenumbers = fibonacci"
   ]
  },
  {
   "cell_type": "code",
   "execution_count": null,
   "metadata": {},
   "outputs": [],
   "source": [
    "somenumbers[1] = 404"
   ]
  },
  {
   "cell_type": "code",
   "execution_count": null,
   "metadata": {},
   "outputs": [],
   "source": [
    "fibonacci"
   ]
  },
  {
   "cell_type": "markdown",
   "metadata": {},
   "source": [
    "Редактирование `somenumbers` задело `fibonacci`!\n",
    "\n",
    "В приведенном выше примере мы фактически не делали копию `fibonacci`. Мы только что создали новый способ доступа к записям в массиве, привязанным к `fibonacci`.\n",
    "\n",
    "Если мы хотим сделать копию массива, привязанного к `fibonacci`, нам следует использовать функцию `copy`."
   ]
  },
  {
   "cell_type": "code",
   "execution_count": null,
   "metadata": {},
   "outputs": [],
   "source": [
    "# Во первых, восстановим fibonacci\n",
    "fibonacci[1] = 1\n",
    "fibonacci"
   ]
  },
  {
   "cell_type": "code",
   "execution_count": null,
   "metadata": {},
   "outputs": [],
   "source": [
    "somemorenumbers = copy(fibonacci)"
   ]
  },
  {
   "cell_type": "code",
   "execution_count": null,
   "metadata": {},
   "outputs": [],
   "source": [
    "somemorenumbers[1] = 404"
   ]
  },
  {
   "cell_type": "code",
   "execution_count": null,
   "metadata": {},
   "outputs": [],
   "source": [
    "fibonacci"
   ]
  },
  {
   "cell_type": "markdown",
   "metadata": {},
   "source": [
    "В этом последнем примере Фибоначчи не был обновлен. Поэтому мы видим, что массивы связаные с `somemorenumbers` и `fibonacci` разные."
   ]
  },
  {
   "cell_type": "markdown",
   "metadata": {},
   "source": [
    "### Упражнения\n",
    "\n",
    "#### 3.1 \n",
    "Создайте массив, `a_ray`, Спомощью следующего кода:\n",
    "\n",
    "```julia\n",
    "a_ray = [1, 2, 3]\n",
    "```\n",
    "\n",
    "Добавьте число `4` в конец масива, а затем удалите его."
   ]
  },
  {
   "cell_type": "code",
   "execution_count": null,
   "metadata": {},
   "outputs": [],
   "source": []
  },
  {
   "cell_type": "code",
   "execution_count": null,
   "metadata": {
    "deletable": false,
    "editable": false,
    "hide_input": true,
    "nbgrader": {
     "checksum": "8dde7e020bc07c5762194abf5c72285c",
     "grade": true,
     "grade_id": "cell-a6b20b78fbfeb449",
     "locked": true,
     "points": 1,
     "schema_version": 1,
     "solution": false
    }
   },
   "outputs": [],
   "source": [
    "@assert a_ray == [1, 2, 3]"
   ]
  },
  {
   "cell_type": "markdown",
   "metadata": {},
   "source": [
    "#### 3.2 \n",
    "Попробуйте добавить \"Emergency\" в `myphonebook` задав значение `string(911)`, а потом попробуйте\n",
    "```julia\n",
    "myphonebook[\"Emergency\"] = 911\n",
    "```\n",
    "\n",
    "Что тут не так?"
   ]
  },
  {
   "cell_type": "code",
   "execution_count": null,
   "metadata": {},
   "outputs": [],
   "source": []
  },
  {
   "cell_type": "markdown",
   "metadata": {},
   "source": [
    "#### 3.3 \n",
    "Создайте новый словарь `flexible_phonebook` где номер Дженни будет целочисленным, а у Охотников за привидениями - строковым используя следующий код\n",
    "\n",
    "```julia\n",
    "flexible_phonebook = Dict(\"Jenny\" => 8675309, \"Ghostbusters\" => \"555-2368\")\n",
    "```"
   ]
  },
  {
   "cell_type": "code",
   "execution_count": null,
   "metadata": {},
   "outputs": [],
   "source": []
  },
  {
   "cell_type": "code",
   "execution_count": null,
   "metadata": {
    "deletable": false,
    "editable": false,
    "hide_input": true,
    "nbgrader": {
     "checksum": "4a8e1e6d6c64cf1370e0fb60a233deb9",
     "grade": true,
     "grade_id": "cell-66f1d636c676c2f2",
     "locked": true,
     "points": 1,
     "schema_version": 1,
     "solution": false
    }
   },
   "outputs": [],
   "source": [
    "@assert flexible_phonebook == Dict(\"Jenny\" => 8675309, \"Ghostbusters\" => \"555-2368\")"
   ]
  },
  {
   "cell_type": "markdown",
   "metadata": {},
   "source": [
    "#### 3.4 \n",
    "Добавьте туда ключ \"Emergency\" со значением `911` (целочисленное)."
   ]
  },
  {
   "cell_type": "code",
   "execution_count": null,
   "metadata": {},
   "outputs": [],
   "source": []
  },
  {
   "cell_type": "code",
   "execution_count": null,
   "metadata": {
    "deletable": false,
    "editable": false,
    "hide_input": true,
    "nbgrader": {
     "checksum": "e790c96d2a64c04de1d9e01eaf5ba162",
     "grade": true,
     "grade_id": "cell-ee862ab938680259",
     "locked": true,
     "points": 1,
     "schema_version": 1,
     "solution": false
    }
   },
   "outputs": [],
   "source": [
    "@assert haskey(flexible_phonebook, \"Emergency\")"
   ]
  },
  {
   "cell_type": "code",
   "execution_count": null,
   "metadata": {
    "deletable": false,
    "editable": false,
    "hide_input": true,
    "nbgrader": {
     "checksum": "356ba6c4ee4d106b41aec07039bd8495",
     "grade": true,
     "grade_id": "cell-c8c40ababe7cdfce",
     "locked": true,
     "points": 2,
     "schema_version": 1,
     "solution": false
    }
   },
   "outputs": [],
   "source": [
    "@assert flexible_phonebook[\"Emergency\"] == 911"
   ]
  },
  {
   "cell_type": "markdown",
   "metadata": {},
   "source": [
    "#### 3.5 \n",
    "Почему в `flexible_phonebook` целочисленное добавляется, а в `myphonebook` нет? Как нам следует инициализировать `myphonebook`, чтоб он мог принимать целочисленные значения?"
   ]
  },
  {
   "cell_type": "code",
   "execution_count": null,
   "metadata": {},
   "outputs": [],
   "source": []
  }
 ],
 "metadata": {
  "kernelspec": {
   "display_name": "Julia 1.4.1",
   "language": "julia",
   "name": "julia-1.4"
  },
  "language_info": {
   "file_extension": ".jl",
   "mimetype": "application/julia",
   "name": "julia",
   "version": "1.4.1"
  }
 },
 "nbformat": 4,
 "nbformat_minor": 4
}
