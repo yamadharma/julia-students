{
 "cells": [
  {
   "cell_type": "markdown",
   "metadata": {},
   "source": [
    "# Условные выражения\n",
    "\n",
    "#### с ключевым словом `if`\n",
    "\n",
    "Синтаксис\n",
    "```julia\n",
    "if *условие 1*\n",
    "    *действие 1*\n",
    "elseif *условие 2*\n",
    "    *действие 2*\n",
    "else\n",
    "    *действие 3*\n",
    "end\n",
    "```\n",
    "\n",
    "<br><br>\n",
    "Например, мы можем захотеть реализовать тест FizzBuzz: для заданного числа N выведите «Fizz», если N делится на 3, «Buzz», если N делится на 5, и «FizzBuzz», если N делится на 3, и 5. В противном случае просто напечатайте сам номер! Введите ваш выбор для `N` здесь"
   ]
  },
  {
   "cell_type": "code",
   "execution_count": null,
   "metadata": {},
   "outputs": [],
   "source": [
    "N = "
   ]
  },
  {
   "cell_type": "code",
   "execution_count": null,
   "metadata": {},
   "outputs": [],
   "source": [
    "if (N % 3 == 0) && (N % 5 == 0) # `&&` значит \"AND\"; % вычисляет остаток после деления\n",
    "    println(\"FizzBuzz\")\n",
    "elseif N % 3 == 0\n",
    "    println(\"Fizz\")\n",
    "elseif N % 5 == 0\n",
    "    println(\"Buzz\")\n",
    "else\n",
    "    println(N)\n",
    "end"
   ]
  },
  {
   "cell_type": "markdown",
   "metadata": {},
   "source": [
    "#### с тернарными операторами\n",
    "\n",
    "Для этого последнего блока мы могли бы вместо этого использовать троичный оператор с синтаксисом\n",
    "\n",
    "```julia\n",
    "a ? b : c\n",
    "```\n",
    "\n",
    "что приравнивается к \n",
    "\n",
    "```julia\n",
    "if a\n",
    "    b\n",
    "else\n",
    "    c\n",
    "end\n",
    "```"
   ]
  },
  {
   "cell_type": "markdown",
   "metadata": {},
   "source": [
    "Теперь допустим, что мы хотим вернуть большее из двух чисел. Инициализируйте `x` и` y` здесь:"
   ]
  },
  {
   "cell_type": "code",
   "execution_count": null,
   "metadata": {},
   "outputs": [],
   "source": [
    "x =\n",
    "y ="
   ]
  },
  {
   "cell_type": "markdown",
   "metadata": {},
   "source": [
    "Используя ключевые слова `if` и` else`, мы можем написать:"
   ]
  },
  {
   "cell_type": "code",
   "execution_count": null,
   "metadata": {},
   "outputs": [],
   "source": [
    "if x > y\n",
    "    x\n",
    "else\n",
    "    y\n",
    "end"
   ]
  },
  {
   "cell_type": "markdown",
   "metadata": {},
   "source": [
    "а с использованием тернарного оператора, условие выглядит так:"
   ]
  },
  {
   "cell_type": "code",
   "execution_count": null,
   "metadata": {},
   "outputs": [],
   "source": [
    "(x > y) ? x : y"
   ]
  },
  {
   "cell_type": "markdown",
   "metadata": {},
   "source": [
    "#### с использованием short-circuit (короткого замыкания)\n",
    "\n",
    "Мы уже видели выражения с синтаксисом\n",
    "```julia\n",
    "a && b\n",
    "```\n",
    "возвращает истину, если оба `a` и` b` верны. Конечно, если `a` равно false, Джулии даже не нужно знать значение` b`, чтобы определить, что общий результат будет ложным. Так что Джулии даже не нужно проверять, что такое `b`; он может просто «замкнуть накоротко» и сразу же вернуть «ложь». Второй аргумент `b` может быть более сложным выражением, таким как вызов функции с побочным эффектом, и в этом случае она даже не будет вызвана:"
   ]
  },
  {
   "cell_type": "code",
   "execution_count": null,
   "metadata": {},
   "outputs": [],
   "source": [
    "false && (println(\"hi\"); true)"
   ]
  },
  {
   "cell_type": "code",
   "execution_count": null,
   "metadata": {},
   "outputs": [],
   "source": [
    "true && (println(\"hi\"); true)"
   ]
  },
  {
   "cell_type": "markdown",
   "metadata": {},
   "source": [
    "С другой стороны, если `a` равно true, Джулия знает, что она может просто вернуть значение` b` в качестве общего выражения. Это означает, что `b` не обязательно нужно оценивать как` true` или `false`! `b` может даже быть ошибкой:"
   ]
  },
  {
   "cell_type": "code",
   "execution_count": null,
   "metadata": {},
   "outputs": [],
   "source": [
    "(x > 0) && error(\"x cannot be greater than 0\")"
   ]
  },
  {
   "cell_type": "markdown",
   "metadata": {},
   "source": [
    "Точно так же проверьте оператор `||`, который также использует оценку короткого замыкания для выполнения операции 'или'."
   ]
  },
  {
   "cell_type": "code",
   "execution_count": null,
   "metadata": {},
   "outputs": [],
   "source": [
    "true || println(\"hi\")"
   ]
  },
  {
   "cell_type": "markdown",
   "metadata": {},
   "source": [
    "и"
   ]
  },
  {
   "cell_type": "code",
   "execution_count": null,
   "metadata": {},
   "outputs": [],
   "source": [
    "false || println(\"hi\")"
   ]
  },
  {
   "cell_type": "markdown",
   "metadata": {},
   "source": [
    "### Упражнения\n",
    "\n",
    "#### 5.1 \n",
    "Напишите условный оператор, который печатает число, если число четное, и строку «нечетное», если число нечетное."
   ]
  },
  {
   "cell_type": "code",
   "execution_count": null,
   "metadata": {},
   "outputs": [],
   "source": []
  },
  {
   "cell_type": "markdown",
   "metadata": {},
   "source": [
    "#### 5.2 \n",
    "Перепишите код из 5.1, используя троичный оператор."
   ]
  },
  {
   "cell_type": "code",
   "execution_count": null,
   "metadata": {},
   "outputs": [],
   "source": []
  }
 ],
 "metadata": {
  "kernelspec": {
   "display_name": "Julia 1.4.1",
   "language": "julia",
   "name": "julia-1.4"
  },
  "language_info": {
   "file_extension": ".jl",
   "mimetype": "application/julia",
   "name": "julia",
   "version": "1.4.1"
  }
 },
 "nbformat": 4,
 "nbformat_minor": 4
}
