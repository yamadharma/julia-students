{
 "cells": [
  {
   "cell_type": "code",
   "execution_count": 1,
   "metadata": {},
   "outputs": [
    {
     "data": {
      "text/html": [
       "    <script class='js-collapse-script'>\n",
       "        var curMatch =\n",
       "            window.location.href\n",
       "            .match(/(.*?)\\/notebooks\\/.*\\.ipynb/);\n",
       "\n",
       "        curMatch = curMatch ||\n",
       "            window.location.href\n",
       "            .match(/(.*?)\\/apps\\/.*\\.ipynb/);\n",
       "\n",
       "        if ( curMatch ) {\n",
       "            $('head').append('<base href=\"' + curMatch[1] + '/\">');\n",
       "        }\n",
       "    </script>\n"
      ],
      "text/plain": [
       "HTML{String}(\"    <script class='js-collapse-script'>\\n        var curMatch =\\n            window.location.href\\n            .match(/(.*?)\\\\/notebooks\\\\/.*\\\\.ipynb/);\\n\\n        curMatch = curMatch ||\\n            window.location.href\\n            .match(/(.*?)\\\\/apps\\\\/.*\\\\.ipynb/);\\n\\n        if ( curMatch ) {\\n            \\$('head').append('<base href=\\\"' + curMatch[1] + '/\\\">');\\n        }\\n    </script>\\n\")"
      ]
     },
     "metadata": {},
     "output_type": "display_data"
    },
    {
     "data": {
      "text/html": [
       "<script class='js-collapse-script' src='/assetserver/914c23191e59e3852d3d15cfe92655817e94228b-assets/webio/dist/bundle.js'></script>"
      ],
      "text/plain": [
       "HTML{String}(\"<script class='js-collapse-script' src='/assetserver/914c23191e59e3852d3d15cfe92655817e94228b-assets/webio/dist/bundle.js'></script>\")"
      ]
     },
     "metadata": {},
     "output_type": "display_data"
    },
    {
     "data": {
      "text/html": [
       "<script class='js-collapse-script' src='/assetserver/914c23191e59e3852d3d15cfe92655817e94228b-assets/providers/ijulia_setup.js'></script>"
      ],
      "text/plain": [
       "HTML{String}(\"<script class='js-collapse-script' src='/assetserver/914c23191e59e3852d3d15cfe92655817e94228b-assets/providers/ijulia_setup.js'></script>\")"
      ]
     },
     "metadata": {},
     "output_type": "display_data"
    },
    {
     "data": {
      "text/html": [
       "  <script class='js-collapse-script'>\n",
       "    $('.js-collapse-script').parent('.output_subarea').css('padding', '0');\n",
       "  </script>\n"
      ],
      "text/plain": [
       "HTML{String}(\"  <script class='js-collapse-script'>\\n    \\$('.js-collapse-script').parent('.output_subarea').css('padding', '0');\\n  </script>\\n\")"
      ]
     },
     "metadata": {},
     "output_type": "display_data"
    }
   ],
   "source": [
    "# Helpful packages for working with images and factorizations\n",
    "# using Pkg; Pkg.add(\"Images\")\n",
    "# using Pkg; Pkg.add(\"Interact\")\n",
    "# using Pkg; Pkg.add(\"ImageMagick\") # And this allows us to load JPEG-encoded images\n",
    "using Images, LinearAlgebra, Interact"
   ]
  },
  {
   "cell_type": "markdown",
   "metadata": {},
   "source": [
    "### Использование SVD для сжатия изображения\n",
    "\n",
    "В этом упражнении мы будем использовать разложение по сингулярным числам (SVD) для сжатия изображения, чтобы мы могли хранить изображение, не сохраняя «ненужную» информацию. Для начала давайте определим разложение по единственному значению. В SVD мы берем матрицу $A$ и разлагаем ее так, чтобы\n",
    "\n",
    "$$A = USV^T$$\n",
    "\n",
    "где матрицы $U$ и $V$ являются унитарными и содержат наши особые векторы. Матрица $S$ диагональна и хранит наши сингулярные значения в порядке убывания сверху/слева, снизу/справа. В Джулии наши изображения хранятся в виде массивов, поэтому мы можем рассматривать их как матрицы"
   ]
  },
  {
   "cell_type": "code",
   "execution_count": null,
   "metadata": {},
   "outputs": [],
   "source": [
    "file = download(\"https://uploads6.wikiart.org/images/salvador-dali/the-persistence-of-memory-1931.jpg!Large.jpg\")"
   ]
  },
  {
   "cell_type": "code",
   "execution_count": null,
   "metadata": {},
   "outputs": [],
   "source": [
    "img = load(file)"
   ]
  },
  {
   "cell_type": "code",
   "execution_count": null,
   "metadata": {},
   "outputs": [],
   "source": [
    "size(img)"
   ]
  },
  {
   "cell_type": "code",
   "execution_count": null,
   "metadata": {},
   "outputs": [],
   "source": [
    "img[245,280]"
   ]
  },
  {
   "cell_type": "code",
   "execution_count": null,
   "metadata": {},
   "outputs": [],
   "source": [
    "img[140:145,220:225] # Each element in the array is a color"
   ]
  },
  {
   "cell_type": "code",
   "execution_count": null,
   "metadata": {},
   "outputs": [],
   "source": [
    "dump(img[24,24])"
   ]
  },
  {
   "cell_type": "code",
   "execution_count": null,
   "metadata": {},
   "outputs": [],
   "source": [
    "channels = Float64.(channelview(img))\n",
    "Gray.(channels[1, :, :])"
   ]
  },
  {
   "cell_type": "markdown",
   "metadata": {},
   "source": [
    "Теперь мы можем взять SVD этого изображения. Таким образом, мы можем хранить эту картинку как наборы сингулярных векторов и сингулярных значений. \n",
    "\n",
    "Это полезно, так как мы обнаружим, что нам не нужно отслеживать все особые векторы и все особые значения для хранения изображения, которое все еще выглядит как репродукция картины! Это означает, что мы можем хранить только важную информацию, отбрасывая остальную часть и тем самым «сжимая» изображение. \n",
    "\n",
    "Работать с изображениями в оттенках серого немного проще, поэтому давайте поработаем с серой версией."
   ]
  },
  {
   "cell_type": "markdown",
   "metadata": {},
   "source": [
    "Если мы не выбрасываем данные, то возвращаемся к тому, с чего начали:"
   ]
  },
  {
   "cell_type": "code",
   "execution_count": null,
   "metadata": {},
   "outputs": [],
   "source": [
    "U, S, V = svd(channels[1,:,:])\n",
    "Gray.(U * Diagonal(S) * V')"
   ]
  },
  {
   "cell_type": "markdown",
   "metadata": {},
   "source": [
    "Ну, конечно, мы не делаем здесь никакого сжатия - размеры U, S и V больше, чем наша исходная матрица! Это как противоположность сжатия. Ключевым моментом является то, что значения хранятся в порядке убывания, поэтому мы можем начать отбрасывать ненужности."
   ]
  },
  {
   "cell_type": "code",
   "execution_count": null,
   "metadata": {},
   "outputs": [],
   "source": [
    "sum(length.((U, S, V)))"
   ]
  },
  {
   "cell_type": "code",
   "execution_count": null,
   "metadata": {},
   "outputs": [],
   "source": [
    "length(img)"
   ]
  },
  {
   "cell_type": "code",
   "execution_count": null,
   "metadata": {},
   "outputs": [],
   "source": [
    "Gray.(U[:, 1:25] * Diagonal(S[1:25]) * V[:, 1:25]')"
   ]
  },
  {
   "cell_type": "code",
   "execution_count": null,
   "metadata": {},
   "outputs": [],
   "source": [
    "sum(length.((U[:, 1:25], S[1:25], V[:, 1:25])))/length(img)"
   ]
  },
  {
   "cell_type": "markdown",
   "metadata": {},
   "source": [
    "Конечно, это всего лишь один канал изображения. Давайте соберем все воедино и посмотрим, как мы можем сжать разные каналы, чтобы найти приемлемый уровень сжатия."
   ]
  },
  {
   "cell_type": "code",
   "execution_count": null,
   "metadata": {},
   "outputs": [],
   "source": [
    "function rank_approx(M, k)\n",
    "    U, S, V = svd(M)\n",
    "    \n",
    "    M = U[:, 1:k] * Diagonal(S[1:k]) * V[:, 1:k]'\n",
    "    \n",
    "    M = min.(max.(M, 0.0), 1.)\n",
    "end\n",
    "\n",
    "n = 100\n",
    "@manipulate for k1 in 1:n, k2 in 1:n, k3 in 1:n\n",
    "colorview(  RGB, \n",
    "            rank_approx(channels[1,:,:], k1),\n",
    "            rank_approx(channels[2,:,:], k2),\n",
    "            rank_approx(channels[3,:,:], k3)\n",
    ")\n",
    "end # ??? interact не отображается"
   ]
  },
  {
   "cell_type": "markdown",
   "metadata": {},
   "source": [
    "**Итак, как мы можем использовать SVD, чтобы определить, какая информация на изображении действительно важна?**\n",
    "\n",
    "Ответ кроется в сингулярных значениях!\n",
    "\n",
    "Если у нас есть матрицы $U$, $S$, и $V$ Исходя из нашего изображения, мы можем восстановить это изображение с помощью матричного умножения $USV^T$. \n",
    "\n",
    "Взятие этого матричного произведения аналогично суммированию внешних произведений каждой соответствующей пары векторов из $ U $ и $ V $, масштабированных по сингулярному значению ($\\sigma$) из $ S $. Другими словами, для (100 x 100) пиксельного изображения\n",
    "\n",
    "$$A_{image} = USV^T = \\sum_{i = 1}^{100} \\sigma_i \\mathbf{u_i}\\mathbf{v_i'} $$"
   ]
  },
  {
   "cell_type": "markdown",
   "metadata": {},
   "source": [
    "Каждый внешнее произведение $ u_i * v_i '$ создает  матрицу(100 x 100). Здесь мы суммируем сто  матриц(100 x 100), чтобы создать исходную матрицу $ A_ {image} $. Матрицы в начале ряда - те, которые масштабируются на большие особые значения - будут  намного более важны при воссоздании исходной матрицы\n",
    "\n",
    "Это значит мы можем аппроксимировать $A_{image}$ как\n",
    "\n",
    "$$A_{image} \\approx \\sum_{i = 1}^{n} \\sigma_i \\mathbf{u_i}\\mathbf{v_i'}$$\n",
    "\n",
    "где $n < 100$.\n",
    "\n",
    "#### Упражнение\n",
    "\n",
    "Напишите функцию под названием `compress_image`. Её входные аргументы должны быть изображением и фактором сжатия. Сжатое изображение в градациях серого должно отображаться при вызове `compress_image`.\n",
    "\n",
    "Например,\n",
    "\n",
    "```julia\n",
    "compress_image(\"images/104_100.jpg\", 33)\n",
    "```\n",
    "\n",
    "вернет сжатое изображение банана в градациях серого, построенного с использованием 3 особых значений. (Это изображение имеет 100 единичных значений, поэтому используйте `fld (100, 33)`, чтобы определить, сколько особенных значений следует сохранить. `Fld` выполняет `floor division`.)\n",
    "\n",
    "*Намёки*: \n",
    "\n",
    "* Выполните SVD на «канале» изображения в градациях серого.\n",
    "* В пустой ячейке ввода выполните `? Svd`, чтобы найти функцию, которая выполнит SVD для вас."
   ]
  },
  {
   "cell_type": "code",
   "execution_count": null,
   "metadata": {},
   "outputs": [],
   "source": []
  },
  {
   "cell_type": "code",
   "execution_count": null,
   "metadata": {},
   "outputs": [],
   "source": []
  },
  {
   "cell_type": "code",
   "execution_count": null,
   "metadata": {},
   "outputs": [],
   "source": []
  }
 ],
 "metadata": {
  "kernelspec": {
   "display_name": "Julia 1.4.1",
   "language": "julia",
   "name": "julia-1.4"
  },
  "language_info": {
   "file_extension": ".jl",
   "mimetype": "application/julia",
   "name": "julia",
   "version": "1.1.0"
  }
 },
 "nbformat": 4,
 "nbformat_minor": 4
}
