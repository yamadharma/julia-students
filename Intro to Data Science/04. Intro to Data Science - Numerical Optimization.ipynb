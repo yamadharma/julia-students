{
 "cells": [
  {
   "cell_type": "code",
   "execution_count": 1,
   "metadata": {},
   "outputs": [],
   "source": [
    "import Pkg"
   ]
  },
  {
   "cell_type": "code",
   "execution_count": 2,
   "metadata": {},
   "outputs": [
    {
     "name": "stderr",
     "output_type": "stream",
     "text": [
      "\u001b[32m\u001b[1m   Updating\u001b[22m\u001b[39m registry at `~/.julia/registries/General`\n",
      "######################################################################### 100,0%\n",
      "\u001b[32m\u001b[1m  Resolving\u001b[22m\u001b[39m package versions...\n",
      "\u001b[32m\u001b[1m  Installed\u001b[22m\u001b[39m JSONSchema ─────── v0.3.3\n",
      "\u001b[32m\u001b[1m  Installed\u001b[22m\u001b[39m URIs ───────────── v1.1.0\n",
      "\u001b[32m\u001b[1m  Installed\u001b[22m\u001b[39m HTTP ───────────── v0.9.1\n",
      "\u001b[32m\u001b[1m  Installed\u001b[22m\u001b[39m MathOptInterface ─ v0.9.19\n",
      "\u001b[32m\u001b[1m  Installed\u001b[22m\u001b[39m Convex ─────────── v0.13.8\n",
      "\u001b[32m\u001b[1mUpdating\u001b[22m\u001b[39m `~/.julia/environments/v1.5/Project.toml`\n",
      " \u001b[90m [f65535da] \u001b[39m\u001b[92m+ Convex v0.13.8\u001b[39m\n",
      "\u001b[32m\u001b[1mUpdating\u001b[22m\u001b[39m `~/.julia/environments/v1.5/Manifest.toml`\n",
      " \u001b[90m [1520ce14] \u001b[39m\u001b[92m+ AbstractTrees v0.3.3\u001b[39m\n",
      " \u001b[90m [6e4b80f9] \u001b[39m\u001b[92m+ BenchmarkTools v0.5.0\u001b[39m\n",
      " \u001b[90m [6e34b625] \u001b[39m\u001b[92m+ Bzip2_jll v1.0.6+5\u001b[39m\n",
      " \u001b[90m [523fee87] \u001b[39m\u001b[92m+ CodecBzip2 v0.7.2\u001b[39m\n",
      " \u001b[90m [944b1d66] \u001b[39m\u001b[92m+ CodecZlib v0.7.0\u001b[39m\n",
      " \u001b[90m [f65535da] \u001b[39m\u001b[92m+ Convex v0.13.8\u001b[39m\n",
      " \u001b[90m [cd3eb016] \u001b[39m\u001b[92m+ HTTP v0.9.1\u001b[39m\n",
      " \u001b[90m [83e8ac13] \u001b[39m\u001b[92m+ IniFile v0.5.0\u001b[39m\n",
      " \u001b[90m [7d188eb4] \u001b[39m\u001b[92m+ JSONSchema v0.3.3\u001b[39m\n",
      " \u001b[90m [b8f27783] \u001b[39m\u001b[92m+ MathOptInterface v0.9.19\u001b[39m\n",
      " \u001b[90m [d8a4904e] \u001b[39m\u001b[92m+ MutableArithmetics v0.2.12\u001b[39m\n",
      " \u001b[90m [bac558e1] \u001b[39m\u001b[92m+ OrderedCollections v1.3.2\u001b[39m\n",
      " \u001b[90m [3bb67fe8] \u001b[39m\u001b[92m+ TranscodingStreams v0.9.5\u001b[39m\n",
      " \u001b[90m [5c2747f8] \u001b[39m\u001b[92m+ URIs v1.1.0\u001b[39m\n",
      " \u001b[90m [a5390f91] \u001b[39m\u001b[92m+ ZipFile v0.9.3\u001b[39m\n",
      " \u001b[90m [83775a58] \u001b[39m\u001b[92m+ Zlib_jll v1.2.11+18\u001b[39m\n",
      "\u001b[32m\u001b[1m  Resolving\u001b[22m\u001b[39m package versions...\n",
      "\u001b[32m\u001b[1mUpdating\u001b[22m\u001b[39m `~/.julia/environments/v1.5/Project.toml`\n",
      " \u001b[90m [c946c3f1] \u001b[39m\u001b[92m+ SCS v0.7.1\u001b[39m\n",
      "\u001b[32m\u001b[1mUpdating\u001b[22m\u001b[39m `~/.julia/environments/v1.5/Manifest.toml`\n",
      " \u001b[90m [b99e7846] \u001b[39m\u001b[92m+ BinaryProvider v0.5.10\u001b[39m\n",
      " \u001b[90m [e66e0078] \u001b[39m\u001b[92m+ CompilerSupportLibraries_jll v0.3.4+0\u001b[39m\n",
      " \u001b[90m [fdba3010] \u001b[39m\u001b[92m+ MathProgBase v0.7.8\u001b[39m\n",
      " \u001b[90m [4536629a] \u001b[39m\u001b[92m+ OpenBLAS_jll v0.3.9+5\u001b[39m\n",
      " \u001b[90m [ae029012] \u001b[39m\u001b[92m+ Requires v1.1.1\u001b[39m\n",
      " \u001b[90m [c946c3f1] \u001b[39m\u001b[92m+ SCS v0.7.1\u001b[39m\n",
      " \u001b[90m [af6e375f] \u001b[39m\u001b[92m+ SCS_GPU_jll v2.1.2+0\u001b[39m\n",
      " \u001b[90m [f4f2fc5b] \u001b[39m\u001b[92m+ SCS_jll v2.1.2+1\u001b[39m\n",
      "\u001b[32m\u001b[1m  Resolving\u001b[22m\u001b[39m package versions...\n",
      "\u001b[32m\u001b[1mUpdating\u001b[22m\u001b[39m `~/.julia/environments/v1.5/Project.toml`\n",
      " \u001b[90m [fdbf4ff8] \u001b[39m\u001b[92m+ XLSX v0.7.3\u001b[39m\n",
      "\u001b[32m\u001b[1mUpdating\u001b[22m\u001b[39m `~/.julia/environments/v1.5/Manifest.toml`\n",
      " \u001b[90m [9a962f9c] \u001b[39m\u001b[92m+ DataAPI v1.4.0\u001b[39m\n",
      " \u001b[90m [e2d170a0] \u001b[39m\u001b[92m+ DataValueInterfaces v1.0.0\u001b[39m\n",
      " \u001b[90m [8f5d6c58] \u001b[39m\u001b[92m+ EzXML v1.1.0\u001b[39m\n",
      " \u001b[90m [82899510] \u001b[39m\u001b[92m+ IteratorInterfaceExtensions v1.0.0\u001b[39m\n",
      " \u001b[90m [94ce4f54] \u001b[39m\u001b[92m+ Libiconv_jll v1.16.0+7\u001b[39m\n",
      " \u001b[90m [3783bdb8] \u001b[39m\u001b[92m+ TableTraits v1.0.0\u001b[39m\n",
      " \u001b[90m [bd369af6] \u001b[39m\u001b[92m+ Tables v1.2.2\u001b[39m\n",
      " \u001b[90m [fdbf4ff8] \u001b[39m\u001b[92m+ XLSX v0.7.3\u001b[39m\n",
      " \u001b[90m [02c8fc9c] \u001b[39m\u001b[92m+ XML2_jll v2.9.10+3\u001b[39m\n",
      "\u001b[32m\u001b[1m  Resolving\u001b[22m\u001b[39m package versions...\n",
      "\u001b[32m\u001b[1m  Installed\u001b[22m\u001b[39m DataStructures ─ v0.18.8\n",
      "\u001b[32m\u001b[1mUpdating\u001b[22m\u001b[39m `~/.julia/environments/v1.5/Project.toml`\n",
      " \u001b[90m [a93c6f00] \u001b[39m\u001b[92m+ DataFrames v0.22.1\u001b[39m\n",
      "\u001b[32m\u001b[1mUpdating\u001b[22m\u001b[39m `~/.julia/environments/v1.5/Manifest.toml`\n",
      " \u001b[90m [324d7699] \u001b[39m\u001b[92m+ CategoricalArrays v0.9.0\u001b[39m\n",
      " \u001b[90m [34da2185] \u001b[39m\u001b[92m+ Compat v3.23.0\u001b[39m\n",
      " \u001b[90m [a8cc5b0e] \u001b[39m\u001b[92m+ Crayons v4.0.4\u001b[39m\n",
      " \u001b[90m [a93c6f00] \u001b[39m\u001b[92m+ DataFrames v0.22.1\u001b[39m\n",
      " \u001b[90m [864edb3b] \u001b[39m\u001b[92m+ DataStructures v0.18.8\u001b[39m\n",
      " \u001b[90m [59287772] \u001b[39m\u001b[92m+ Formatting v0.4.2\u001b[39m\n",
      " \u001b[90m [41ab1584] \u001b[39m\u001b[92m+ InvertedIndices v1.0.0\u001b[39m\n",
      " \u001b[90m [e1d29d7a] \u001b[39m\u001b[92m+ Missings v0.4.4\u001b[39m\n",
      " \u001b[90m [2dfb63ee] \u001b[39m\u001b[92m+ PooledArrays v0.5.3\u001b[39m\n",
      " \u001b[90m [08abe8d2] \u001b[39m\u001b[92m+ PrettyTables v0.10.1\u001b[39m\n",
      " \u001b[90m [189a3867] \u001b[39m\u001b[92m+ Reexport v0.2.0\u001b[39m\n",
      " \u001b[90m [a2af1166] \u001b[39m\u001b[92m+ SortingAlgorithms v0.3.1\u001b[39m\n",
      " \u001b[90m [856f2bd8] \u001b[39m\u001b[92m+ StructTypes v1.1.0\u001b[39m\n",
      " \u001b[90m [9fa8497b] \u001b[39m\u001b[92m+ Future\u001b[39m\n",
      " \u001b[90m [1a1011a3] \u001b[39m\u001b[92m+ SharedArrays\u001b[39m\n",
      "\u001b[32m\u001b[1m  Resolving\u001b[22m\u001b[39m package versions...\n",
      "\u001b[32m\u001b[1m  Installed\u001b[22m\u001b[39m StaticArrays ─ v1.0.1\n",
      "\u001b[32m\u001b[1m  Installed\u001b[22m\u001b[39m GR ─────────── v0.49.1\n",
      "\u001b[32m\u001b[1mUpdating\u001b[22m\u001b[39m `~/.julia/environments/v1.5/Project.toml`\n",
      " \u001b[90m [91a5bcdd] \u001b[39m\u001b[92m+ Plots v1.9.1\u001b[39m\n",
      "\u001b[32m\u001b[1mUpdating\u001b[22m\u001b[39m `~/.julia/environments/v1.5/Manifest.toml`\n",
      " \u001b[90m [79e6a3ab] \u001b[39m\u001b[92m+ Adapt v2.3.0\u001b[39m\n",
      " \u001b[90m [35d6a980] \u001b[39m\u001b[92m+ ColorSchemes v3.10.2\u001b[39m\n",
      " \u001b[90m [3da002f7] \u001b[39m\u001b[92m+ ColorTypes v0.10.9\u001b[39m\n",
      " \u001b[90m [5ae59095] \u001b[39m\u001b[92m+ Colors v0.12.4\u001b[39m\n",
      " \u001b[90m [d38c429a] \u001b[39m\u001b[92m+ Contour v0.5.7\u001b[39m\n",
      " \u001b[90m [5ae413db] \u001b[39m\u001b[92m+ EarCut_jll v2.1.5+1\u001b[39m\n",
      " \u001b[90m [c87230d0] \u001b[39m\u001b[92m+ FFMPEG v0.4.0\u001b[39m\n",
      " \u001b[90m [b22a6f82] \u001b[39m\u001b[92m+ FFMPEG_jll v4.3.1+4\u001b[39m\n",
      " \u001b[90m [53c48c17] \u001b[39m\u001b[92m+ FixedPointNumbers v0.8.4\u001b[39m\n",
      " \u001b[90m [d7e528f0] \u001b[39m\u001b[92m+ FreeType2_jll v2.10.1+5\u001b[39m\n",
      " \u001b[90m [559328eb] \u001b[39m\u001b[92m+ FriBidi_jll v1.0.5+6\u001b[39m\n",
      " \u001b[90m [28b8d3ca] \u001b[39m\u001b[92m+ GR v0.49.1\u001b[39m\n",
      " \u001b[90m [5c1252a2] \u001b[39m\u001b[92m+ GeometryBasics v0.3.4\u001b[39m\n",
      " \u001b[90m [42e2da0e] \u001b[39m\u001b[92m+ Grisu v1.0.0\u001b[39m\n",
      " \u001b[90m [c8e1da08] \u001b[39m\u001b[92m+ IterTools v1.3.0\u001b[39m\n",
      " \u001b[90m [c1c5ebd0] \u001b[39m\u001b[92m+ LAME_jll v3.100.0+3\u001b[39m\n",
      " \u001b[90m [b964fa9f] \u001b[39m\u001b[92m+ LaTeXStrings v1.2.0\u001b[39m\n",
      " \u001b[90m [23fbe1c1] \u001b[39m\u001b[92m+ Latexify v0.14.6\u001b[39m\n",
      " \u001b[90m [dd192d2f] \u001b[39m\u001b[92m+ LibVPX_jll v1.9.0+1\u001b[39m\n",
      " \u001b[90m [1914dd2f] \u001b[39m\u001b[92m+ MacroTools v0.5.6\u001b[39m\n",
      " \u001b[90m [442fdcdd] \u001b[39m\u001b[92m+ Measures v0.3.1\u001b[39m\n",
      " \u001b[90m [77ba4419] \u001b[39m\u001b[92m+ NaNMath v0.3.5\u001b[39m\n",
      " \u001b[90m [e7412a2a] \u001b[39m\u001b[92m+ Ogg_jll v1.3.4+2\u001b[39m\n",
      " \u001b[90m [458c3c95] \u001b[39m\u001b[92m+ OpenSSL_jll v1.1.1+6\u001b[39m\n",
      " \u001b[90m [91d4177d] \u001b[39m\u001b[92m+ Opus_jll v1.3.1+3\u001b[39m\n",
      " \u001b[90m [ccf2f8ad] \u001b[39m\u001b[92m+ PlotThemes v2.0.0\u001b[39m\n",
      " \u001b[90m [995b91a9] \u001b[39m\u001b[92m+ PlotUtils v1.0.8\u001b[39m\n",
      " \u001b[90m [91a5bcdd] \u001b[39m\u001b[92m+ Plots v1.9.1\u001b[39m\n",
      " \u001b[90m [3cdcf5f2] \u001b[39m\u001b[92m+ RecipesBase v1.1.1\u001b[39m\n",
      " \u001b[90m [01d81517] \u001b[39m\u001b[92m+ RecipesPipeline v0.2.1\u001b[39m\n",
      " \u001b[90m [6c6a2e73] \u001b[39m\u001b[92m+ Scratch v1.0.3\u001b[39m\n",
      " \u001b[90m [992d4aef] \u001b[39m\u001b[92m+ Showoff v0.3.2\u001b[39m\n",
      " \u001b[90m [90137ffa] \u001b[39m\u001b[92m+ StaticArrays v1.0.1\u001b[39m\n",
      " \u001b[90m [2913bbd2] \u001b[39m\u001b[92m+ StatsBase v0.33.2\u001b[39m\n",
      " \u001b[90m [09ab397b] \u001b[39m\u001b[92m+ StructArrays v0.4.4\u001b[39m\n",
      " \u001b[90m [0ac62f75] \u001b[39m\u001b[92m+ libass_jll v0.14.0+4\u001b[39m\n",
      " \u001b[90m [f638f0a6] \u001b[39m\u001b[92m+ libfdk_aac_jll v0.1.6+4\u001b[39m\n",
      " \u001b[90m [f27f6e37] \u001b[39m\u001b[92m+ libvorbis_jll v1.3.6+6\u001b[39m\n",
      " \u001b[90m [1270edf5] \u001b[39m\u001b[92m+ x264_jll v2020.7.14+2\u001b[39m\n",
      " \u001b[90m [dfaa095f] \u001b[39m\u001b[92m+ x265_jll v3.0.0+3\u001b[39m\n",
      "\u001b[32m\u001b[1m   Building\u001b[22m\u001b[39m GR → `~/.julia/packages/GR/cRdXQ/deps/build.log`\n",
      "\u001b[32m\u001b[1m  Resolving\u001b[22m\u001b[39m package versions...\n",
      "\u001b[32m\u001b[1mUpdating\u001b[22m\u001b[39m `~/.julia/environments/v1.5/Project.toml`\n",
      " \u001b[90m [336ed68f] \u001b[39m\u001b[92m+ CSV v0.8.2\u001b[39m\n",
      "\u001b[32m\u001b[1mUpdating\u001b[22m\u001b[39m `~/.julia/environments/v1.5/Manifest.toml`\n",
      " \u001b[90m [336ed68f] \u001b[39m\u001b[92m+ CSV v0.8.2\u001b[39m\n",
      " \u001b[90m [91c51154] \u001b[39m\u001b[92m+ SentinelArrays v1.2.16\u001b[39m\n",
      "\u001b[32m\u001b[1m  Resolving\u001b[22m\u001b[39m package versions...\n",
      "\u001b[32m\u001b[1mNo Changes\u001b[22m\u001b[39m to `~/.julia/environments/v1.5/Project.toml`\n",
      "\u001b[32m\u001b[1mNo Changes\u001b[22m\u001b[39m to `~/.julia/environments/v1.5/Manifest.toml`\n",
      "\u001b[32m\u001b[1m  Resolving\u001b[22m\u001b[39m package versions...\n",
      "\u001b[32m\u001b[1m  Installed\u001b[22m\u001b[39m Distances ──────── v0.10.0\n",
      "\u001b[32m\u001b[1m  Installed\u001b[22m\u001b[39m SpecialFunctions ─ v1.1.0\n",
      "\u001b[32m\u001b[1mUpdating\u001b[22m\u001b[39m `~/.julia/environments/v1.5/Project.toml`\n",
      " \u001b[90m [916415d5] \u001b[39m\u001b[92m+ Images v0.23.1\u001b[39m\n",
      "\u001b[32m\u001b[1mUpdating\u001b[22m\u001b[39m `~/.julia/environments/v1.5/Manifest.toml`\n",
      " \u001b[90m [621f4979] \u001b[39m\u001b[92m+ AbstractFFTs v0.5.0\u001b[39m\n",
      " \u001b[90m [13072b0f] \u001b[39m\u001b[92m+ AxisAlgorithms v1.0.0\u001b[39m\n",
      " \u001b[90m [39de3d68] \u001b[39m\u001b[92m+ AxisArrays v0.4.3\u001b[39m\n",
      " \u001b[90m [83423d85] \u001b[39m\u001b[92m+ Cairo_jll v1.16.0+6\u001b[39m\n",
      " \u001b[90m [aafaddc9] \u001b[39m\u001b[92m+ CatIndices v0.2.1\u001b[39m\n",
      " \u001b[90m [c3611d14] \u001b[39m\u001b[92m+ ColorVectorSpace v0.8.7\u001b[39m\n",
      " \u001b[90m [ed09eef8] \u001b[39m\u001b[92m+ ComputationalResources v0.3.2\u001b[39m\n",
      " \u001b[90m [150eb455] \u001b[39m\u001b[92m+ CoordinateTransformations v0.6.1\u001b[39m\n",
      " \u001b[90m [dc8bdbbb] \u001b[39m\u001b[92m+ CustomUnitRanges v1.0.0\u001b[39m\n",
      " \u001b[90m [b4f34e82] \u001b[39m\u001b[92m+ Distances v0.10.0\u001b[39m\n",
      " \u001b[90m [da5c29d0] \u001b[39m\u001b[92m+ EllipsisNotation v0.4.0\u001b[39m\n",
      " \u001b[90m [2e619515] \u001b[39m\u001b[92m+ Expat_jll v2.2.7+6\u001b[39m\n",
      " \u001b[90m [4f61f5a4] \u001b[39m\u001b[92m+ FFTViews v0.3.1\u001b[39m\n",
      " \u001b[90m [7a1cc6ca] \u001b[39m\u001b[92m+ FFTW v1.2.4\u001b[39m\n",
      " \u001b[90m [f5851436] \u001b[39m\u001b[92m+ FFTW_jll v3.3.9+6\u001b[39m\n",
      " \u001b[90m [5789e2e9] \u001b[39m\u001b[92m+ FileIO v1.4.5\u001b[39m\n",
      " \u001b[90m [a3f928ae] \u001b[39m\u001b[92m+ Fontconfig_jll v2.13.1+14\u001b[39m\n",
      " \u001b[90m [0656b61e] \u001b[39m\u001b[92m+ GLFW_jll v3.3.2+1\u001b[39m\n",
      " \u001b[90m [28b8d3ca] \u001b[39m\u001b[93m↑ GR v0.49.1 ⇒ v0.53.0\u001b[39m\n",
      " \u001b[90m [d2c73de3] \u001b[39m\u001b[92m+ GR_jll v0.53.0+0\u001b[39m\n",
      " \u001b[90m [78b55507] \u001b[39m\u001b[92m+ Gettext_jll v0.20.1+7\u001b[39m\n",
      " \u001b[90m [7746bdde] \u001b[39m\u001b[92m+ Glib_jll v2.59.0+4\u001b[39m\n",
      " \u001b[90m [a2bd30eb] \u001b[39m\u001b[92m+ Graphics v1.0.2\u001b[39m\n",
      " \u001b[90m [cd3eb016] \u001b[39m\u001b[95m↓ HTTP v0.9.1 ⇒ v0.8.19\u001b[39m\n",
      " \u001b[90m [bbac6d45] \u001b[39m\u001b[92m+ IdentityRanges v0.3.1\u001b[39m\n",
      " \u001b[90m [2803e5a7] \u001b[39m\u001b[92m+ ImageAxes v0.6.7\u001b[39m\n",
      " \u001b[90m [f332f351] \u001b[39m\u001b[92m+ ImageContrastAdjustment v0.3.6\u001b[39m\n",
      " \u001b[90m [a09fc81d] \u001b[39m\u001b[92m+ ImageCore v0.8.19\u001b[39m\n",
      " \u001b[90m [51556ac3] \u001b[39m\u001b[92m+ ImageDistances v0.2.9\u001b[39m\n",
      " \u001b[90m [6a3955dd] \u001b[39m\u001b[92m+ ImageFiltering v0.6.18\u001b[39m\n",
      " \u001b[90m [bc367c6b] \u001b[39m\u001b[92m+ ImageMetadata v0.9.4\u001b[39m\n",
      " \u001b[90m [787d08f9] \u001b[39m\u001b[92m+ ImageMorphology v0.2.9\u001b[39m\n",
      " \u001b[90m [2996bd0c] \u001b[39m\u001b[92m+ ImageQualityIndexes v0.2.0\u001b[39m\n",
      " \u001b[90m [4e3cecfd] \u001b[39m\u001b[92m+ ImageShow v0.2.3\u001b[39m\n",
      " \u001b[90m [02fcd773] \u001b[39m\u001b[92m+ ImageTransformations v0.8.6\u001b[39m\n",
      " \u001b[90m [916415d5] \u001b[39m\u001b[92m+ Images v0.23.1\u001b[39m\n",
      " \u001b[90m [9b13fd28] \u001b[39m\u001b[92m+ IndirectArrays v0.5.1\u001b[39m\n",
      " \u001b[90m [1d5cc7b8] \u001b[39m\u001b[92m+ IntelOpenMP_jll v2018.0.3+0\u001b[39m\n",
      " \u001b[90m [a98d9a8b] \u001b[39m\u001b[92m+ Interpolations v0.12.10\u001b[39m\n",
      " \u001b[90m [8197267c] \u001b[39m\u001b[92m+ IntervalSets v0.5.1\u001b[39m\n",
      " \u001b[90m [aacddb02] \u001b[39m\u001b[92m+ JpegTurbo_jll v2.0.1+3\u001b[39m\n",
      " \u001b[90m [dd4b983a] \u001b[39m\u001b[92m+ LZO_jll v2.10.0+3\u001b[39m\n",
      " \u001b[90m [e9f186c6] \u001b[39m\u001b[92m+ Libffi_jll v3.2.1+4\u001b[39m\n",
      " \u001b[90m [d4300ac3] \u001b[39m\u001b[92m+ Libgcrypt_jll v1.8.5+4\u001b[39m\n",
      " \u001b[90m [7e76a0d4] \u001b[39m\u001b[92m+ Libglvnd_jll v1.3.0+3\u001b[39m\n",
      " \u001b[90m [7add5ba3] \u001b[39m\u001b[92m+ Libgpg_error_jll v1.36.0+3\u001b[39m\n",
      " \u001b[90m [4b2f31a3] \u001b[39m\u001b[92m+ Libmount_jll v2.34.0+3\u001b[39m\n",
      " \u001b[90m [89763e89] \u001b[39m\u001b[92m+ Libtiff_jll v4.1.0+2\u001b[39m\n",
      " \u001b[90m [38a345b3] \u001b[39m\u001b[92m+ Libuuid_jll v2.34.0+7\u001b[39m\n",
      " \u001b[90m [856f044c] \u001b[39m\u001b[92m+ MKL_jll v2020.2.254+0\u001b[39m\n",
      " \u001b[90m [dbb5928d] \u001b[39m\u001b[92m+ MappedArrays v0.2.2\u001b[39m\n",
      " \u001b[90m [e94cdb99] \u001b[39m\u001b[92m+ MosaicViews v0.2.4\u001b[39m\n",
      " \u001b[90m [6fe1bfb0] \u001b[39m\u001b[92m+ OffsetArrays v1.4.1\u001b[39m\n",
      " \u001b[90m [efe28fd5] \u001b[39m\u001b[92m+ OpenSpecFun_jll v0.5.3+4\u001b[39m\n",
      " \u001b[90m [2f80f16e] \u001b[39m\u001b[92m+ PCRE_jll v8.42.0+4\u001b[39m\n",
      " \u001b[90m [5432bcbf] \u001b[39m\u001b[92m+ PaddedViews v0.5.7\u001b[39m\n",
      " \u001b[90m [d96e819e] \u001b[39m\u001b[92m+ Parameters v0.12.1\u001b[39m\n",
      " \u001b[90m [30392449] \u001b[39m\u001b[92m+ Pixman_jll v0.40.0+0\u001b[39m\n",
      " \u001b[90m [ede63266] \u001b[39m\u001b[92m+ Qt_jll v5.15.2+0\u001b[39m\n",
      " \u001b[90m [b3c3ace0] \u001b[39m\u001b[92m+ RangeArrays v0.3.2\u001b[39m\n",
      " \u001b[90m [c84ed2f1] \u001b[39m\u001b[92m+ Ratios v0.4.0\u001b[39m\n",
      " \u001b[90m [6038ab10] \u001b[39m\u001b[92m+ Rotations v1.0.2\u001b[39m\n",
      " \u001b[90m [699a6c99] \u001b[39m\u001b[92m+ SimpleTraits v0.9.3\u001b[39m\n",
      " \u001b[90m [276daf66] \u001b[39m\u001b[92m+ SpecialFunctions v1.1.0\u001b[39m\n",
      " \u001b[90m [90137ffa] \u001b[39m\u001b[95m↓ StaticArrays v1.0.1 ⇒ v0.12.5\u001b[39m\n",
      " \u001b[90m [06e1c1a7] \u001b[39m\u001b[92m+ TiledIteration v0.2.5\u001b[39m\n",
      " \u001b[90m [5c2747f8] \u001b[39m\u001b[91m- URIs v1.1.0\u001b[39m\n",
      " \u001b[90m [3a884ed6] \u001b[39m\u001b[92m+ UnPack v1.0.2\u001b[39m\n",
      " \u001b[90m [a2964d1f] \u001b[39m\u001b[92m+ Wayland_jll v1.17.0+4\u001b[39m\n",
      " \u001b[90m [2381bf8a] \u001b[39m\u001b[92m+ Wayland_protocols_jll v1.18.0+4\u001b[39m\n",
      " \u001b[90m [efce3f68] \u001b[39m\u001b[92m+ WoodburyMatrices v0.5.3\u001b[39m\n",
      " \u001b[90m [aed1982a] \u001b[39m\u001b[92m+ XSLT_jll v1.1.33+4\u001b[39m\n",
      " \u001b[90m [4f6342f7] \u001b[39m\u001b[92m+ Xorg_libX11_jll v1.6.9+4\u001b[39m\n",
      " \u001b[90m [0c0b7dd1] \u001b[39m\u001b[92m+ Xorg_libXau_jll v1.0.9+4\u001b[39m\n",
      " \u001b[90m [935fb764] \u001b[39m\u001b[92m+ Xorg_libXcursor_jll v1.2.0+4\u001b[39m\n",
      " \u001b[90m [a3789734] \u001b[39m\u001b[92m+ Xorg_libXdmcp_jll v1.1.3+4\u001b[39m\n",
      " \u001b[90m [1082639a] \u001b[39m\u001b[92m+ Xorg_libXext_jll v1.3.4+4\u001b[39m\n",
      " \u001b[90m [d091e8ba] \u001b[39m\u001b[92m+ Xorg_libXfixes_jll v5.0.3+4\u001b[39m\n",
      " \u001b[90m [a51aa0fd] \u001b[39m\u001b[92m+ Xorg_libXi_jll v1.7.10+4\u001b[39m\n",
      " \u001b[90m [d1454406] \u001b[39m\u001b[92m+ Xorg_libXinerama_jll v1.1.4+4\u001b[39m\n",
      " \u001b[90m [ec84b674] \u001b[39m\u001b[92m+ Xorg_libXrandr_jll v1.5.2+4\u001b[39m\n",
      " \u001b[90m [ea2f1a96] \u001b[39m\u001b[92m+ Xorg_libXrender_jll v0.9.10+4\u001b[39m\n",
      " \u001b[90m [14d82f49] \u001b[39m\u001b[92m+ Xorg_libpthread_stubs_jll v0.1.0+3\u001b[39m\n",
      " \u001b[90m [c7cfdc94] \u001b[39m\u001b[92m+ Xorg_libxcb_jll v1.13.0+3\u001b[39m\n",
      " \u001b[90m [cc61e674] \u001b[39m\u001b[92m+ Xorg_libxkbfile_jll v1.1.0+4\u001b[39m\n",
      " \u001b[90m [12413925] \u001b[39m\u001b[92m+ Xorg_xcb_util_image_jll v0.4.0+1\u001b[39m\n",
      " \u001b[90m [2def613f] \u001b[39m\u001b[92m+ Xorg_xcb_util_jll v0.4.0+1\u001b[39m\n",
      " \u001b[90m [975044d2] \u001b[39m\u001b[92m+ Xorg_xcb_util_keysyms_jll v0.4.0+1\u001b[39m\n",
      " \u001b[90m [0d47668e] \u001b[39m\u001b[92m+ Xorg_xcb_util_renderutil_jll v0.3.9+1\u001b[39m\n",
      " \u001b[90m [c22f9ab0] \u001b[39m\u001b[92m+ Xorg_xcb_util_wm_jll v0.4.1+1\u001b[39m\n",
      " \u001b[90m [35661453] \u001b[39m\u001b[92m+ Xorg_xkbcomp_jll v1.4.2+4\u001b[39m\n",
      " \u001b[90m [33bec58e] \u001b[39m\u001b[92m+ Xorg_xkeyboard_config_jll v2.27.0+4\u001b[39m\n",
      " \u001b[90m [c5fb5394] \u001b[39m\u001b[92m+ Xorg_xtrans_jll v1.4.0+3\u001b[39m\n",
      " \u001b[90m [3161d3a3] \u001b[39m\u001b[92m+ Zstd_jll v1.4.5+2\u001b[39m\n",
      " \u001b[90m [b53b4c65] \u001b[39m\u001b[92m+ libpng_jll v1.6.37+6\u001b[39m\n",
      " \u001b[90m [d8fb68d0] \u001b[39m\u001b[92m+ xkbcommon_jll v0.9.1+5\u001b[39m\n",
      "\u001b[32m\u001b[1m  Resolving\u001b[22m\u001b[39m package versions...\n",
      "\u001b[32m\u001b[1mNo Changes\u001b[22m\u001b[39m to `~/.julia/environments/v1.5/Project.toml`\n",
      "\u001b[32m\u001b[1mNo Changes\u001b[22m\u001b[39m to `~/.julia/environments/v1.5/Manifest.toml`\n"
     ]
    }
   ],
   "source": [
    "Pkg.add(\"Convex\")\n",
    "Pkg.add(\"SCS\")\n",
    "Pkg.add(\"XLSX\")\n",
    "Pkg.add(\"DataFrames\")\n",
    "Pkg.add(\"Plots\")\n",
    "Pkg.add(\"CSV\")\n",
    "Pkg.add(\"Statistics\")\n",
    "Pkg.add(\"Images\")\n",
    "Pkg.add(\"DelimitedFiles\")"
   ]
  },
  {
   "cell_type": "code",
   "execution_count": 3,
   "metadata": {},
   "outputs": [
    {
     "name": "stderr",
     "output_type": "stream",
     "text": [
      "┌ Info: Precompiling Convex [f65535da-76fb-5f13-bab9-19810c17039a]\n",
      "└ @ Base loading.jl:1278\n",
      "┌ Info: Precompiling SCS [c946c3f1-0d1f-5ce8-9dea-7daa1f7e2d13]\n",
      "└ @ Base loading.jl:1278\n",
      "┌ Info: Precompiling DataFrames [a93c6f00-e57d-5684-b7b6-d8193f3e46c0]\n",
      "└ @ Base loading.jl:1278\n",
      "┌ Info: Precompiling Plots [91a5bcdd-55d7-5caf-9e0b-520d859cae80]\n",
      "└ @ Base loading.jl:1278\n",
      "┌ Info: Precompiling Images [916415d5-f1e6-5110-898d-aaa5f9f070e0]\n",
      "└ @ Base loading.jl:1278\n"
     ]
    }
   ],
   "source": [
    "using Convex\n",
    "using SCS\n",
    "using XLSX\n",
    "using DataFrames\n",
    "using Plots\n",
    "using CSV\n",
    "using Statistics\n",
    "using Images\n",
    "using DelimitedFiles"
   ]
  },
  {
   "cell_type": "markdown",
   "metadata": {},
   "source": [
    "---\n",
    "\n",
    "## Линейное программирование"
   ]
  },
  {
   "cell_type": "markdown",
   "metadata": {},
   "source": [
    "Решим следующую задачу линейного программирования, используя `JuMP` и `GLPK` (решатель линейного и смешанного целочисленного программирования). \n",
    "\n",
    " $$\n",
    "   \\begin{align*}\n",
    "    & \\min & 12x + 20y \\\\\n",
    "    & \\;\\;\\text{s.t.} & 6x + 8y \\geqslant 100 \\\\\n",
    "    & & 7x + 12y \\geqslant 120 \\\\\n",
    "    & & x \\geqslant 0 \\\\\n",
    "    & & y \\geqslant 0 \\\\\n",
    "    \\end{align*}\n",
    "    $$"
   ]
  },
  {
   "cell_type": "code",
   "execution_count": 4,
   "metadata": {},
   "outputs": [
    {
     "name": "stderr",
     "output_type": "stream",
     "text": [
      "\u001b[32m\u001b[1m  Resolving\u001b[22m\u001b[39m package versions...\n",
      "\u001b[32m\u001b[1m  Installed\u001b[22m\u001b[39m JuMP ─ v0.21.5\n",
      "\u001b[32m\u001b[1mUpdating\u001b[22m\u001b[39m `~/.julia/environments/v1.5/Project.toml`\n",
      " \u001b[90m [4076af6c] \u001b[39m\u001b[92m+ JuMP v0.21.5\u001b[39m\n",
      "\u001b[32m\u001b[1mUpdating\u001b[22m\u001b[39m `~/.julia/environments/v1.5/Manifest.toml`\n",
      " \u001b[90m [49dc2e85] \u001b[39m\u001b[92m+ Calculus v0.5.1\u001b[39m\n",
      " \u001b[90m [bbf7d656] \u001b[39m\u001b[92m+ CommonSubexpressions v0.3.0\u001b[39m\n",
      " \u001b[90m [163ba53b] \u001b[39m\u001b[92m+ DiffResults v1.0.3\u001b[39m\n",
      " \u001b[90m [b552c78f] \u001b[39m\u001b[92m+ DiffRules v1.0.2\u001b[39m\n",
      " \u001b[90m [f6369f11] \u001b[39m\u001b[92m+ ForwardDiff v0.10.14\u001b[39m\n",
      " \u001b[90m [4076af6c] \u001b[39m\u001b[92m+ JuMP v0.21.5\u001b[39m\n",
      "\u001b[32m\u001b[1m  Resolving\u001b[22m\u001b[39m package versions...\n",
      "\u001b[32m\u001b[1m  Installed\u001b[22m\u001b[39m GLPK ─ v0.14.4\n",
      "\u001b[32m\u001b[1mUpdating\u001b[22m\u001b[39m `~/.julia/environments/v1.5/Project.toml`\n",
      " \u001b[90m [60bf3e95] \u001b[39m\u001b[92m+ GLPK v0.14.4\u001b[39m\n",
      "\u001b[32m\u001b[1mUpdating\u001b[22m\u001b[39m `~/.julia/environments/v1.5/Manifest.toml`\n",
      " \u001b[90m [fa961155] \u001b[39m\u001b[92m+ CEnum v0.4.1\u001b[39m\n",
      " \u001b[90m [60bf3e95] \u001b[39m\u001b[92m+ GLPK v0.14.4\u001b[39m\n",
      " \u001b[90m [e8aa6df9] \u001b[39m\u001b[92m+ GLPK_jll v4.64.0+0\u001b[39m\n",
      " \u001b[90m [781609d7] \u001b[39m\u001b[92m+ GMP_jll v6.1.2+6\u001b[39m\n",
      "\u001b[32m\u001b[1m   Building\u001b[22m\u001b[39m GLPK → `~/.julia/packages/GLPK/G3GZQ/deps/build.log`\n"
     ]
    }
   ],
   "source": [
    "import Pkg\n",
    "Pkg.add(\"JuMP\")\n",
    "Pkg.add(\"GLPK\")"
   ]
  },
  {
   "cell_type": "code",
   "execution_count": 5,
   "metadata": {},
   "outputs": [
    {
     "name": "stderr",
     "output_type": "stream",
     "text": [
      "┌ Info: Precompiling JuMP [4076af6c-e467-56ae-b986-b466b2749572]\n",
      "└ @ Base loading.jl:1278\n",
      "┌ Info: Precompiling GLPK [60bf3e95-4087-53dc-ae20-288a0d20c6a6]\n",
      "└ @ Base loading.jl:1278\n"
     ]
    }
   ],
   "source": [
    "using JuMP\n",
    "using GLPK"
   ]
  },
  {
   "cell_type": "markdown",
   "metadata": {},
   "source": [
    "Объект модели - это контейнер для переменных, ограничений, параметров решателя и т. д. Модели создаются с помощью функции `Model()`. Модель может быть создана с оптимизатором, присоединенным с аргументами по умолчанию, путем вызова конструктора с типом оптимизатора."
   ]
  },
  {
   "cell_type": "code",
   "execution_count": 6,
   "metadata": {},
   "outputs": [
    {
     "data": {
      "text/latex": [
       "$$ \\begin{alignat*}{1}\\text{feasibility}\\\\\n",
       "\\text{Subject to} \\quad\\end{alignat*}\n",
       " $$"
      ],
      "text/plain": [
       "A JuMP Model\n",
       "Feasibility problem with:\n",
       "Variables: 0\n",
       "Model mode: AUTOMATIC\n",
       "CachingOptimizer state: EMPTY_OPTIMIZER\n",
       "Solver name: GLPK"
      ]
     },
     "execution_count": 6,
     "metadata": {},
     "output_type": "execute_result"
    }
   ],
   "source": [
    "model = Model(GLPK.Optimizer)"
   ]
  },
  {
   "cell_type": "markdown",
   "metadata": {},
   "source": [
    "Переменные задаются с помощью `@variable` (имя объекта модели, имя и привязка переменной, тип переменной). Здесь же задаются граничные условия на переменные. Если тип переменной не определен, он считается действительным."
   ]
  },
  {
   "cell_type": "code",
   "execution_count": 7,
   "metadata": {},
   "outputs": [
    {
     "data": {
      "text/latex": [
       "$$ y $$"
      ],
      "text/plain": [
       "y"
      ]
     },
     "execution_count": 7,
     "metadata": {},
     "output_type": "execute_result"
    }
   ],
   "source": [
    "@variable(model, x >= 0)\n",
    "@variable(model, y >= 0)"
   ]
  },
  {
   "cell_type": "markdown",
   "metadata": {},
   "source": [
    "Ограничения задаются с помощью `@constraint (имя объекта модели, ограничение)`."
   ]
  },
  {
   "cell_type": "code",
   "execution_count": 8,
   "metadata": {},
   "outputs": [
    {
     "data": {
      "text/latex": [
       "$ 7 x + 12 y \\geq 120.0 $"
      ],
      "text/plain": [
       "7 x + 12 y ≥ 120.0"
      ]
     },
     "execution_count": 8,
     "metadata": {},
     "output_type": "execute_result"
    }
   ],
   "source": [
    "@constraint(model, 6x + 8y >= 100)\n",
    "@constraint(model, 7x + 12y >= 120)"
   ]
  },
  {
   "cell_type": "markdown",
   "metadata": {},
   "source": [
    "Задача задаётся аналогичным образом с помощью `@objective (имя объекта модели, Min / Max, функция для оптимизации)`."
   ]
  },
  {
   "cell_type": "code",
   "execution_count": 9,
   "metadata": {},
   "outputs": [
    {
     "data": {
      "text/latex": [
       "$$ 12 x + 20 y $$"
      ],
      "text/plain": [
       "12 x + 20 y"
      ]
     },
     "execution_count": 9,
     "metadata": {},
     "output_type": "execute_result"
    }
   ],
   "source": [
    "@objective(model, Min, 12x + 20y)"
   ]
  },
  {
   "cell_type": "markdown",
   "metadata": {},
   "source": [
    "Чтобы решить задачу оптимизации, мы вызываем функцию оптимизации."
   ]
  },
  {
   "cell_type": "code",
   "execution_count": 10,
   "metadata": {},
   "outputs": [],
   "source": [
    "optimize!(model)"
   ]
  },
  {
   "cell_type": "markdown",
   "metadata": {},
   "source": [
    "Проверяем значение цели и переменных."
   ]
  },
  {
   "cell_type": "code",
   "execution_count": 11,
   "metadata": {},
   "outputs": [
    {
     "name": "stdout",
     "output_type": "stream",
     "text": [
      "value(x) = 14.999999999999993\n",
      "value(y) = 1.2500000000000047\n",
      "objective_value(model) = 205.0\n"
     ]
    }
   ],
   "source": [
    "@show value(x);\n",
    "@show value(y);\n",
    "@show objective_value(model);"
   ]
  },
  {
   "cell_type": "markdown",
   "metadata": {},
   "source": [
    "---\n",
    "\n",
    "## Векторизованные ограничения и цель"
   ]
  },
  {
   "cell_type": "markdown",
   "metadata": {},
   "source": [
    "Можно добавить ограничения и цель в `JuMP`, используя векторизованную линейную алгебру."
   ]
  },
  {
   "cell_type": "markdown",
   "metadata": {},
   "source": [
    " $$\n",
    "   \\begin{align*}\n",
    "    & \\min & c^{T} x \\\\\n",
    "    & \\;\\;\\text{s.t.} & Ax=b \\\\\n",
    "    & & x \\succeq 0 \\\\\n",
    "    & & x \\in \\mathbb{R}^{n}\n",
    "    \\end{align*}\n",
    "    $$"
   ]
  },
  {
   "cell_type": "code",
   "execution_count": 12,
   "metadata": {},
   "outputs": [
    {
     "data": {
      "text/latex": [
       "$$ \\begin{alignat*}{1}\\text{feasibility}\\\\\n",
       "\\text{Subject to} \\quad\\end{alignat*}\n",
       " $$"
      ],
      "text/plain": [
       "A JuMP Model\n",
       "Feasibility problem with:\n",
       "Variables: 0\n",
       "Model mode: AUTOMATIC\n",
       "CachingOptimizer state: EMPTY_OPTIMIZER\n",
       "Solver name: GLPK"
      ]
     },
     "execution_count": 12,
     "metadata": {},
     "output_type": "execute_result"
    }
   ],
   "source": [
    "vector_model = Model(GLPK.Optimizer)"
   ]
  },
  {
   "cell_type": "code",
   "execution_count": 13,
   "metadata": {},
   "outputs": [
    {
     "data": {
      "text/plain": [
       "3×4 Array{Int64,2}:\n",
       " 1  1  9   5\n",
       " 3  5  0   8\n",
       " 2  0  6  13"
      ]
     },
     "execution_count": 13,
     "metadata": {},
     "output_type": "execute_result"
    }
   ],
   "source": [
    "A= [ 1 1 9  5;\n",
    "     3 5 0  8;\n",
    "     2 0 6 13]"
   ]
  },
  {
   "cell_type": "code",
   "execution_count": 14,
   "metadata": {},
   "outputs": [
    {
     "data": {
      "text/plain": [
       "3-element Array{Int64,1}:\n",
       " 7\n",
       " 3\n",
       " 5"
      ]
     },
     "execution_count": 14,
     "metadata": {},
     "output_type": "execute_result"
    }
   ],
   "source": [
    "b = [7; 3; 5]"
   ]
  },
  {
   "cell_type": "code",
   "execution_count": 15,
   "metadata": {},
   "outputs": [
    {
     "data": {
      "text/plain": [
       "4-element Array{Int64,1}:\n",
       " 1\n",
       " 3\n",
       " 5\n",
       " 2"
      ]
     },
     "execution_count": 15,
     "metadata": {},
     "output_type": "execute_result"
    }
   ],
   "source": [
    "c = [1; 3; 5; 2]"
   ]
  },
  {
   "cell_type": "code",
   "execution_count": 16,
   "metadata": {},
   "outputs": [
    {
     "data": {
      "text/plain": [
       "4-element Array{VariableRef,1}:\n",
       " x[1]\n",
       " x[2]\n",
       " x[3]\n",
       " x[4]"
      ]
     },
     "execution_count": 16,
     "metadata": {},
     "output_type": "execute_result"
    }
   ],
   "source": [
    "@variable(vector_model, x[1:4] >= 0)"
   ]
  },
  {
   "cell_type": "code",
   "execution_count": 17,
   "metadata": {},
   "outputs": [
    {
     "data": {
      "text/plain": [
       "3-element Array{ConstraintRef{Model,MathOptInterface.ConstraintIndex{MathOptInterface.ScalarAffineFunction{Float64},MathOptInterface.EqualTo{Float64}},ScalarShape},1}:\n",
       " x[1] + x[2] + 9 x[3] + 5 x[4] = 7.0\n",
       " 3 x[1] + 5 x[2] + 8 x[4] = 3.0\n",
       " 2 x[1] + 6 x[3] + 13 x[4] = 5.0"
      ]
     },
     "execution_count": 17,
     "metadata": {},
     "output_type": "execute_result"
    }
   ],
   "source": [
    "@constraint(vector_model, A * x .== b)"
   ]
  },
  {
   "cell_type": "code",
   "execution_count": 18,
   "metadata": {},
   "outputs": [
    {
     "data": {
      "text/latex": [
       "$$ x_{1} + 3 x_{2} + 5 x_{3} + 2 x_{4} $$"
      ],
      "text/plain": [
       "x[1] + 3 x[2] + 5 x[3] + 2 x[4]"
      ]
     },
     "execution_count": 18,
     "metadata": {},
     "output_type": "execute_result"
    }
   ],
   "source": [
    "@objective(vector_model, Min, c' * x)"
   ]
  },
  {
   "cell_type": "code",
   "execution_count": 19,
   "metadata": {},
   "outputs": [],
   "source": [
    "optimize!(vector_model)"
   ]
  },
  {
   "cell_type": "code",
   "execution_count": 20,
   "metadata": {},
   "outputs": [
    {
     "name": "stdout",
     "output_type": "stream",
     "text": [
      "objective_value(vector_model) = 4.9230769230769225\n"
     ]
    }
   ],
   "source": [
    "@show objective_value(vector_model);"
   ]
  },
  {
   "cell_type": "markdown",
   "metadata": {},
   "source": [
    "---\n",
    "## Оптимизация рациона\n",
    "\n",
    "Нам даны ограничения на (минимальное, максимальное) количество потребляемых калорий, белков, жиров и натрия. \n",
    "\n",
    "Сначала мы создадим контейнер JuMP для хранения этой информации и передадим ее в качестве ограничений позже."
   ]
  },
  {
   "cell_type": "code",
   "execution_count": 21,
   "metadata": {},
   "outputs": [
    {
     "name": "stderr",
     "output_type": "stream",
     "text": [
      "\u001b[32m\u001b[1m  Resolving\u001b[22m\u001b[39m package versions...\n",
      "\u001b[32m\u001b[1mNo Changes\u001b[22m\u001b[39m to `~/.julia/environments/v1.5/Project.toml`\n",
      "\u001b[32m\u001b[1mNo Changes\u001b[22m\u001b[39m to `~/.julia/environments/v1.5/Manifest.toml`\n",
      "\u001b[32m\u001b[1m  Resolving\u001b[22m\u001b[39m package versions...\n",
      "\u001b[32m\u001b[1mNo Changes\u001b[22m\u001b[39m to `~/.julia/environments/v1.5/Project.toml`\n",
      "\u001b[32m\u001b[1mNo Changes\u001b[22m\u001b[39m to `~/.julia/environments/v1.5/Manifest.toml`\n"
     ]
    }
   ],
   "source": [
    "import Pkg\n",
    "Pkg.add(\"JuMP\")\n",
    "Pkg.add(\"GLPK\")"
   ]
  },
  {
   "cell_type": "code",
   "execution_count": 22,
   "metadata": {},
   "outputs": [],
   "source": [
    "using JuMP\n",
    "using GLPK"
   ]
  },
  {
   "cell_type": "code",
   "execution_count": 23,
   "metadata": {},
   "outputs": [
    {
     "data": {
      "text/plain": [
       "2-dimensional DenseAxisArray{Float64,2,...} with index sets:\n",
       "    Dimension 1, [\"calories\", \"protein\", \"fat\", \"sodium\"]\n",
       "    Dimension 2, [\"min\", \"max\"]\n",
       "And data, a 4×2 Array{Float64,2}:\n",
       " 1800.0  2200.0\n",
       "   91.0    Inf\n",
       "    0.0    65.0\n",
       "    0.0  1779.0"
      ]
     },
     "execution_count": 23,
     "metadata": {},
     "output_type": "execute_result"
    }
   ],
   "source": [
    "category_data = JuMP.Containers.DenseAxisArray(\n",
    "    [1800 2200;\n",
    "     91   Inf;\n",
    "     0    65;\n",
    "     0    1779], \n",
    "    [\"calories\", \"protein\", \"fat\", \"sodium\"], \n",
    "    [\"min\", \"max\"])"
   ]
  },
  {
   "cell_type": "code",
   "execution_count": 24,
   "metadata": {},
   "outputs": [
    {
     "name": "stdout",
     "output_type": "stream",
     "text": [
      "category_data[\"calories\", \"max\"] = 2200.0\n",
      "category_data[\"fat\", \"min\"] = 0.0\n"
     ]
    }
   ],
   "source": [
    "@show category_data[\"calories\",\"max\"] \n",
    "@show category_data[\"fat\",\"min\"]\n",
    ";"
   ]
  },
  {
   "cell_type": "markdown",
   "metadata": {},
   "source": [
    "Запишем информацию о еде, которые у нас есть."
   ]
  },
  {
   "cell_type": "code",
   "execution_count": 25,
   "metadata": {},
   "outputs": [
    {
     "data": {
      "text/plain": [
       "9-element Array{String,1}:\n",
       " \"hamburger\"\n",
       " \"chicken\"\n",
       " \"hot dog\"\n",
       " \"fries\"\n",
       " \"macaroni\"\n",
       " \"pizza\"\n",
       " \"salad\"\n",
       " \"milk\"\n",
       " \"ice cream\""
      ]
     },
     "execution_count": 25,
     "metadata": {},
     "output_type": "execute_result"
    }
   ],
   "source": [
    "foods = [\"hamburger\", \"chicken\", \"hot dog\", \"fries\", \"macaroni\", \"pizza\",\"salad\", \"milk\", \"ice cream\"]"
   ]
  },
  {
   "cell_type": "markdown",
   "metadata": {},
   "source": [
    "Запишем стоимость каждого из этих товаров"
   ]
  },
  {
   "cell_type": "code",
   "execution_count": 26,
   "metadata": {},
   "outputs": [
    {
     "data": {
      "text/plain": [
       "1-dimensional DenseAxisArray{Float64,1,...} with index sets:\n",
       "    Dimension 1, [\"hamburger\", \"chicken\", \"hot dog\", \"fries\", \"macaroni\", \"pizza\", \"salad\", \"milk\", \"ice cream\"]\n",
       "And data, a 9-element Array{Float64,1}:\n",
       " 2.49\n",
       " 2.89\n",
       " 1.5\n",
       " 1.89\n",
       " 2.09\n",
       " 1.99\n",
       " 2.49\n",
       " 0.89\n",
       " 1.59"
      ]
     },
     "execution_count": 26,
     "metadata": {},
     "output_type": "execute_result"
    }
   ],
   "source": [
    "cost = JuMP.Containers.DenseAxisArray(\n",
    "    [2.49, 2.89, 1.50, 1.89, 2.09, 1.99, 2.49, 0.89, 1.59],\n",
    "    foods)"
   ]
  },
  {
   "cell_type": "markdown",
   "metadata": {},
   "source": [
    "Создадим матрицу для кодирования калорий, белков, жиров и натрия, присутствующих в каждом из этих продуктов."
   ]
  },
  {
   "cell_type": "code",
   "execution_count": 27,
   "metadata": {},
   "outputs": [
    {
     "name": "stdout",
     "output_type": "stream",
     "text": [
      "food_data[\"chicken\", \"fat\"] = 10.0\n",
      "food_data[\"milk\", \"sodium\"] = 125.0\n"
     ]
    }
   ],
   "source": [
    "food_data = JuMP.Containers.DenseAxisArray(\n",
    "    [410 24 26 730;\n",
    "     420 32 10 1190;\n",
    "     560 20 32 1800;\n",
    "     380  4 19 270;\n",
    "     320 12 10 930;\n",
    "     320 15 12 820;\n",
    "     320 31 12 1230;\n",
    "     100  8 2.5 125;\n",
    "     330  8 10 180], \n",
    "    foods, \n",
    "    [\"calories\", \"protein\", \"fat\", \"sodium\"])\n",
    "\n",
    "@show food_data[\"chicken\", \"fat\"]\n",
    "@show food_data[\"milk\", \"sodium\"]\n",
    ";"
   ]
  },
  {
   "cell_type": "markdown",
   "metadata": {},
   "source": [
    "Построим модель."
   ]
  },
  {
   "cell_type": "code",
   "execution_count": 28,
   "metadata": {},
   "outputs": [
    {
     "data": {
      "text/latex": [
       "$$ \\begin{alignat*}{1}\\text{feasibility}\\\\\n",
       "\\text{Subject to} \\quad\\end{alignat*}\n",
       " $$"
      ],
      "text/plain": [
       "A JuMP Model\n",
       "Feasibility problem with:\n",
       "Variables: 0\n",
       "Model mode: AUTOMATIC\n",
       "CachingOptimizer state: EMPTY_OPTIMIZER\n",
       "Solver name: GLPK"
      ]
     },
     "execution_count": 28,
     "metadata": {},
     "output_type": "execute_result"
    }
   ],
   "source": [
    "model = Model(GLPK.Optimizer)"
   ]
  },
  {
   "cell_type": "code",
   "execution_count": 29,
   "metadata": {},
   "outputs": [
    {
     "data": {
      "text/plain": [
       "4-element Array{String,1}:\n",
       " \"calories\"\n",
       " \"protein\"\n",
       " \"fat\"\n",
       " \"sodium\""
      ]
     },
     "execution_count": 29,
     "metadata": {},
     "output_type": "execute_result"
    }
   ],
   "source": [
    "categories = [\"calories\", \"protein\", \"fat\", \"sodium\"]"
   ]
  },
  {
   "cell_type": "markdown",
   "metadata": {},
   "source": [
    "Добавим переменные"
   ]
  },
  {
   "cell_type": "code",
   "execution_count": 30,
   "metadata": {},
   "outputs": [],
   "source": [
    "@variables(model, begin\n",
    "    category_data[c, \"min\"] <= nutrition[c = categories] <= category_data[c, \"max\"]\n",
    "    # Сколько покупать продуктов\n",
    "    buy[foods] >= 0\n",
    "end)"
   ]
  },
  {
   "cell_type": "markdown",
   "metadata": {},
   "source": [
    "Будем минимизировать цену"
   ]
  },
  {
   "cell_type": "code",
   "execution_count": 31,
   "metadata": {},
   "outputs": [
    {
     "data": {
      "text/latex": [
       "$$ 2.49 buy_{hamburger} + 2.89 buy_{chicken} + 1.5 buy_{hot dog} + 1.89 buy_{fries} + 2.09 buy_{macaroni} + 1.99 buy_{pizza} + 2.49 buy_{salad} + 0.89 buy_{milk} + 1.59 buy_{ice cream} $$"
      ],
      "text/plain": [
       "2.49 buy[hamburger] + 2.89 buy[chicken] + 1.5 buy[hot dog] + 1.89 buy[fries] + 2.09 buy[macaroni] + 1.99 buy[pizza] + 2.49 buy[salad] + 0.89 buy[milk] + 1.59 buy[ice cream]"
      ]
     },
     "execution_count": 31,
     "metadata": {},
     "output_type": "execute_result"
    }
   ],
   "source": [
    "@objective(model, Min, sum(cost[f] * buy[f] for f in foods))"
   ]
  },
  {
   "cell_type": "markdown",
   "metadata": {},
   "source": [
    "Ограничения"
   ]
  },
  {
   "cell_type": "code",
   "execution_count": 32,
   "metadata": {},
   "outputs": [
    {
     "data": {
      "text/plain": [
       "1-dimensional DenseAxisArray{ConstraintRef{Model,MathOptInterface.ConstraintIndex{MathOptInterface.ScalarAffineFunction{Float64},MathOptInterface.EqualTo{Float64}},ScalarShape},1,...} with index sets:\n",
       "    Dimension 1, [\"calories\", \"protein\", \"fat\", \"sodium\"]\n",
       "And data, a 4-element Array{ConstraintRef{Model,MathOptInterface.ConstraintIndex{MathOptInterface.ScalarAffineFunction{Float64},MathOptInterface.EqualTo{Float64}},ScalarShape},1}:\n",
       " -nutrition[calories] + 410 buy[hamburger] + 420 buy[chicken] + 560 buy[hot dog] + 380 buy[fries] + 320 buy[macaroni] + 320 buy[pizza] + 320 buy[salad] + 100 buy[milk] + 330 buy[ice cream] = 0.0\n",
       " -nutrition[protein] + 24 buy[hamburger] + 32 buy[chicken] + 20 buy[hot dog] + 4 buy[fries] + 12 buy[macaroni] + 15 buy[pizza] + 31 buy[salad] + 8 buy[milk] + 8 buy[ice cream] = 0.0\n",
       " -nutrition[fat] + 26 buy[hamburger] + 10 buy[chicken] + 32 buy[hot dog] + 19 buy[fries] + 10 buy[macaroni] + 12 buy[pizza] + 12 buy[salad] + 2.5 buy[milk] + 10 buy[ice cream] = 0.0\n",
       " -nutrition[sodium] + 730 buy[hamburger] + 1190 buy[chicken] + 1800 buy[hot dog] + 270 buy[fries] + 930 buy[macaroni] + 820 buy[pizza] + 1230 buy[salad] + 125 buy[milk] + 180 buy[ice cream] = 0.0"
      ]
     },
     "execution_count": 32,
     "metadata": {},
     "output_type": "execute_result"
    }
   ],
   "source": [
    "@constraint(model, [c in categories],\n",
    "    sum(food_data[f, c] * buy[f] for f in foods) == nutrition[c]\n",
    ")"
   ]
  },
  {
   "cell_type": "markdown",
   "metadata": {},
   "source": [
    "Решаем"
   ]
  },
  {
   "cell_type": "code",
   "execution_count": 33,
   "metadata": {},
   "outputs": [
    {
     "name": "stdout",
     "output_type": "stream",
     "text": [
      "JuMP.primal_status(model) == MOI.FEASIBLE_POINT = true\n",
      "JuMP.objective_value(model) ≈ 11.8288 = false\n",
      "atol = 0.0001 = 0.0001\n"
     ]
    },
    {
     "data": {
      "text/plain": [
       "0.0001"
      ]
     },
     "execution_count": 33,
     "metadata": {},
     "output_type": "execute_result"
    }
   ],
   "source": [
    "JuMP.optimize!(model)\n",
    "term_status = JuMP.termination_status(model)\n",
    "is_optimal = term_status == MOI.OPTIMAL\n",
    "@show JuMP.primal_status(model) == MOI.FEASIBLE_POINT\n",
    "@show JuMP.objective_value(model) ≈ 11.8288 atol = 1e-4"
   ]
  },
  {
   "cell_type": "markdown",
   "metadata": {},
   "source": [
    "Чтобы увидеть решение, нужно посмотреть переменную `buy`."
   ]
  },
  {
   "cell_type": "code",
   "execution_count": 34,
   "metadata": {},
   "outputs": [
    {
     "data": {
      "text/plain": [
       "9×2 Array{GenericAffExpr{Float64,VariableRef},2}:\n",
       " buy[hamburger]  0.6045138888888888\n",
       " buy[chicken]    0\n",
       " buy[hot dog]    0\n",
       " buy[fries]      0\n",
       " buy[macaroni]   0\n",
       " buy[pizza]      0\n",
       " buy[salad]      0\n",
       " buy[milk]       6.9701388888888935\n",
       " buy[ice cream]  2.591319444444441"
      ]
     },
     "execution_count": 34,
     "metadata": {},
     "output_type": "execute_result"
    }
   ],
   "source": [
    "hcat(buy.data,JuMP.value.(buy.data))"
   ]
  },
  {
   "cell_type": "markdown",
   "metadata": {},
   "source": [
    "----\n",
    "\n",
    "## Сколько паспортов нужно, чтобы путешествовать по миру без предварительного получения визы?"
   ]
  },
  {
   "cell_type": "markdown",
   "metadata": {},
   "source": [
    "Получим данные"
   ]
  },
  {
   "cell_type": "code",
   "execution_count": 35,
   "metadata": {},
   "outputs": [
    {
     "name": "stderr",
     "output_type": "stream",
     "text": [
      "Клонирование в «passport-index-dataset»…\n"
     ]
    }
   ],
   "source": [
    ";git clone https://github.com/ilyankou/passport-index-dataset.git"
   ]
  },
  {
   "cell_type": "markdown",
   "metadata": {},
   "source": [
    "Нам нужен файл «`passport-index-dataset/passport-index-matrix.csv`, и мы будем использовать пакет `DelimitedFiles` для его чтения."
   ]
  },
  {
   "cell_type": "code",
   "execution_count": 36,
   "metadata": {},
   "outputs": [
    {
     "data": {
      "text/plain": [
       "200×200 Array{Any,2}:\n",
       " \"Passport\"                \"Albania\"        …    \"Afghanistan\"\n",
       " \"Afghanistan\"             \"visa required\"     -1\n",
       " \"Albania\"               -1                      \"visa required\"\n",
       " \"Algeria\"                 \"visa required\"       \"visa required\"\n",
       " \"Andorra\"               90                      \"visa required\"\n",
       " \"Angola\"                  \"visa required\"  …    \"visa required\"\n",
       " \"Antigua and Barbuda\"   90                      \"visa required\"\n",
       " \"Argentina\"             90                      \"visa required\"\n",
       " \"Armenia\"               90                      \"visa required\"\n",
       " \"Australia\"             90                      \"visa required\"\n",
       " \"Austria\"               90                 …    \"visa required\"\n",
       " \"Azerbaijan\"            90                      \"visa required\"\n",
       " \"Bahamas\"               90                      \"visa required\"\n",
       " ⋮                                          ⋱  \n",
       " \"United Arab Emirates\"  90                      \"visa required\"\n",
       " \"United Kingdom\"        90                      \"visa required\"\n",
       " \"United States\"         90                 …    \"visa required\"\n",
       " \"Uruguay\"               90                      \"visa required\"\n",
       " \"Uzbekistan\"              \"visa required\"       \"visa required\"\n",
       " \"Vanuatu\"                 \"visa required\"       \"visa required\"\n",
       " \"Vatican\"               90                      \"visa required\"\n",
       " \"Venezuela\"             90                 …    \"visa required\"\n",
       " \"Vietnam\"                 \"visa required\"       \"visa required\"\n",
       " \"Yemen\"                   \"visa required\"       \"visa required\"\n",
       " \"Zambia\"                  \"visa required\"       \"visa required\"\n",
       " \"Zimbabwe\"                \"visa required\"       \"visa required\""
      ]
     },
     "execution_count": 36,
     "metadata": {},
     "output_type": "execute_result"
    }
   ],
   "source": [
    "passportdata = readdlm(joinpath(\"passport-index-dataset\",\"passport-index-matrix.csv\"),',')"
   ]
  },
  {
   "cell_type": "markdown",
   "metadata": {},
   "source": [
    "Вот возможные варианты:\n",
    "\n",
    "| Значение | Расшифровка |\n",
    "|---|---|\n",
    "|7-360| количество безвизовых дней|\n",
    "|VF| безвизовый режим|\n",
    "|VOA| виза по прибытии|\n",
    "|ETA| требуется eTA (electronic travel authority)|\n",
    "|VR| требуется виза|\n",
    "|-1| паспорт из места назначения|\n",
    "\n",
    "Если в поле число, «VF» или «VOA», то предварительная виза не нужна."
   ]
  },
  {
   "cell_type": "code",
   "execution_count": 37,
   "metadata": {},
   "outputs": [],
   "source": [
    "cntr = passportdata[2:end,1]\n",
    "vf = (x ->  typeof(x)==Int64 || x == \"VF\" || x == \"VOA\" ? 1 : 0).(passportdata[2:end,2:end]);"
   ]
  },
  {
   "cell_type": "markdown",
   "metadata": {},
   "source": [
    "Зададим модель"
   ]
  },
  {
   "cell_type": "code",
   "execution_count": 38,
   "metadata": {},
   "outputs": [
    {
     "data": {
      "text/latex": [
       "$$ \\begin{alignat*}{1}\\text{feasibility}\\\\\n",
       "\\text{Subject to} \\quad\\end{alignat*}\n",
       " $$"
      ],
      "text/plain": [
       "A JuMP Model\n",
       "Feasibility problem with:\n",
       "Variables: 0\n",
       "Model mode: AUTOMATIC\n",
       "CachingOptimizer state: EMPTY_OPTIMIZER\n",
       "Solver name: GLPK"
      ]
     },
     "execution_count": 38,
     "metadata": {},
     "output_type": "execute_result"
    }
   ],
   "source": [
    "model = Model(GLPK.Optimizer)"
   ]
  },
  {
   "cell_type": "markdown",
   "metadata": {},
   "source": [
    "Добавим переменные, ограничения и целевую функцию."
   ]
  },
  {
   "cell_type": "code",
   "execution_count": 39,
   "metadata": {},
   "outputs": [
    {
     "data": {
      "text/latex": [
       "$$ pass_{1} + pass_{2} + pass_{3} + pass_{4} + pass_{5} + pass_{6} + pass_{7} + pass_{8} + pass_{9} + pass_{10} + pass_{11} + pass_{12} + pass_{13} + pass_{14} + pass_{15} + pass_{16} + pass_{17} + pass_{18} + pass_{19} + pass_{20} + pass_{21} + pass_{22} + pass_{23} + pass_{24} + pass_{25} + pass_{26} + pass_{27} + pass_{28} + pass_{29} + pass_{30} + pass_{31} + pass_{32} + pass_{33} + pass_{34} + pass_{35} + pass_{36} + pass_{37} + pass_{38} + pass_{39} + pass_{40} + pass_{41} + pass_{42} + pass_{43} + pass_{44} + pass_{45} + pass_{46} + pass_{47} + pass_{48} + pass_{49} + pass_{50} + pass_{51} + pass_{52} + pass_{53} + pass_{54} + pass_{55} + pass_{56} + pass_{57} + pass_{58} + pass_{59} + pass_{60} + pass_{61} + pass_{62} + pass_{63} + pass_{64} + pass_{65} + pass_{66} + pass_{67} + pass_{68} + pass_{69} + pass_{70} + pass_{71} + pass_{72} + pass_{73} + pass_{74} + pass_{75} + pass_{76} + pass_{77} + pass_{78} + pass_{79} + pass_{80} + pass_{81} + pass_{82} + pass_{83} + pass_{84} + pass_{85} + pass_{86} + pass_{87} + pass_{88} + pass_{89} + pass_{90} + pass_{91} + pass_{92} + pass_{93} + pass_{94} + pass_{95} + pass_{96} + pass_{97} + pass_{98} + pass_{99} + pass_{100} + pass_{101} + pass_{102} + pass_{103} + pass_{104} + pass_{105} + pass_{106} + pass_{107} + pass_{108} + pass_{109} + pass_{110} + pass_{111} + pass_{112} + pass_{113} + pass_{114} + pass_{115} + pass_{116} + pass_{117} + pass_{118} + pass_{119} + pass_{120} + pass_{121} + pass_{122} + pass_{123} + pass_{124} + pass_{125} + pass_{126} + pass_{127} + pass_{128} + pass_{129} + pass_{130} + pass_{131} + pass_{132} + pass_{133} + pass_{134} + pass_{135} + pass_{136} + pass_{137} + pass_{138} + pass_{139} + pass_{140} + pass_{141} + pass_{142} + pass_{143} + pass_{144} + pass_{145} + pass_{146} + pass_{147} + pass_{148} + pass_{149} + pass_{150} + pass_{151} + pass_{152} + pass_{153} + pass_{154} + pass_{155} + pass_{156} + pass_{157} + pass_{158} + pass_{159} + pass_{160} + pass_{161} + pass_{162} + pass_{163} + pass_{164} + pass_{165} + pass_{166} + pass_{167} + pass_{168} + pass_{169} + pass_{170} + pass_{171} + pass_{172} + pass_{173} + pass_{174} + pass_{175} + pass_{176} + pass_{177} + pass_{178} + pass_{179} + pass_{180} + pass_{181} + pass_{182} + pass_{183} + pass_{184} + pass_{185} + pass_{186} + pass_{187} + pass_{188} + pass_{189} + pass_{190} + pass_{191} + pass_{192} + pass_{193} + pass_{194} + pass_{195} + pass_{196} + pass_{197} + pass_{198} + pass_{199} $$"
      ],
      "text/plain": [
       "pass[1] + pass[2] + pass[3] + pass[4] + pass[5] + pass[6] + pass[7] + pass[8] + pass[9] + pass[10] + pass[11] + pass[12] + pass[13] + pass[14] + pass[15] + pass[16] + pass[17] + pass[18] + pass[19] + pass[20] + pass[21] + pass[22] + pass[23] + pass[24] + pass[25] + pass[26] + pass[27] + pass[28] + pass[29] + pass[30] + pass[31] + pass[32] + pass[33] + pass[34] + pass[35] + pass[36] + pass[37] + pass[38] + pass[39] + pass[40] + pass[41] + pass[42] + pass[43] + pass[44] + pass[45] + pass[46] + pass[47] + pass[48] + pass[49] + pass[50] + pass[51] + pass[52] + pass[53] + pass[54] + pass[55] + pass[56] + pass[57] + pass[58] + pass[59] + pass[60] + pass[61] + pass[62] + pass[63] + pass[64] + pass[65] + pass[66] + pass[67] + pass[68] + pass[69] + pass[70] + pass[71] + pass[72] + pass[73] + pass[74] + pass[75] + pass[76] + pass[77] + pass[78] + pass[79] + pass[80] + pass[81] + pass[82] + pass[83] + pass[84] + pass[85] + pass[86] + pass[87] + pass[88] + pass[89] + pass[90] + pass[91] + pass[92] + pass[93] + pass[94] + pass[95] + pass[96] + pass[97] + pass[98] + pass[99] + pass[100] + pass[101] + pass[102] + pass[103] + pass[104] + pass[105] + pass[106] + pass[107] + pass[108] + pass[109] + pass[110] + pass[111] + pass[112] + pass[113] + pass[114] + pass[115] + pass[116] + pass[117] + pass[118] + pass[119] + pass[120] + pass[121] + pass[122] + pass[123] + pass[124] + pass[125] + pass[126] + pass[127] + pass[128] + pass[129] + pass[130] + pass[131] + pass[132] + pass[133] + pass[134] + pass[135] + pass[136] + pass[137] + pass[138] + pass[139] + pass[140] + pass[141] + pass[142] + pass[143] + pass[144] + pass[145] + pass[146] + pass[147] + pass[148] + pass[149] + pass[150] + pass[151] + pass[152] + pass[153] + pass[154] + pass[155] + pass[156] + pass[157] + pass[158] + pass[159] + pass[160] + pass[161] + pass[162] + pass[163] + pass[164] + pass[165] + pass[166] + pass[167] + pass[168] + pass[169] + pass[170] + pass[171] + pass[172] + pass[173] + pass[174] + pass[175] + pass[176] + pass[177] + pass[178] + pass[179] + pass[180] + pass[181] + pass[182] + pass[183] + pass[184] + pass[185] + pass[186] + pass[187] + pass[188] + pass[189] + pass[190] + pass[191] + pass[192] + pass[193] + pass[194] + pass[195] + pass[196] + pass[197] + pass[198] + pass[199]"
      ]
     },
     "execution_count": 39,
     "metadata": {},
     "output_type": "execute_result"
    }
   ],
   "source": [
    "@variable(model, pass[1:length(cntr)], Bin)\n",
    "@constraint(model, [j=1:length(cntr)], sum( vf[i,j]*pass[i] for i in 1:length(cntr)) >= 1)\n",
    "@objective(model, Min, sum(pass))"
   ]
  },
  {
   "cell_type": "markdown",
   "metadata": {},
   "source": [
    "Решаем задачу"
   ]
  },
  {
   "cell_type": "code",
   "execution_count": 40,
   "metadata": {},
   "outputs": [],
   "source": [
    "JuMP.optimize!(model)"
   ]
  },
  {
   "cell_type": "code",
   "execution_count": 41,
   "metadata": {},
   "outputs": [
    {
     "name": "stdout",
     "output_type": "stream",
     "text": [
      "63.0 passports: Afghanistan, Andorra, Argentina, Australia, Azerbaijan, Bahrain, Brunei, Cambodia, Cameroon, Canada, Chile, Colombia, Comoros, DR Congo, Djibouti, Equatorial Guinea, Eritrea, Fiji, Gabon, Georgia, Guinea, Guinea-Bissau, Hong Kong, Hungary, Indonesia, Iraq, Ireland, Israel, Jamaica, Japan, Kuwait, Laos, Liberia, Libya, Macao, Madagascar, Malaysia, Maldives, Marshall Islands, Mauritania, Mauritius, Mongolia, Mozambique, Nauru, Nepal, New Zealand, North Korea, Palestine, Papua New Guinea, Qatar, Saudi Arabia, Solomon Islands, Somalia, South Sudan, Sri Lanka, Syria, Taiwan, Timor-Leste, Togo, Turkmenistan, United States, Uruguay, Vietnam"
     ]
    }
   ],
   "source": [
    "print(JuMP.objective_value(model),\" passports: \",join(cntr[findall(JuMP.value.(pass) .== 1)],\", \"))"
   ]
  },
  {
   "cell_type": "markdown",
   "metadata": {},
   "source": [
    "---\n",
    "\n",
    "## Портфельные инвестиции\n",
    "\n",
    "Рассмотрим инвестиционную проблему. Мы посмотрим на цены на акции трех компаний и решим, как потратить 1000 долларов на эти три компании. Давайте сначала загрузим некоторые данные."
   ]
  },
  {
   "cell_type": "code",
   "execution_count": 42,
   "metadata": {},
   "outputs": [
    {
     "name": "stderr",
     "output_type": "stream",
     "text": [
      "\u001b[32m\u001b[1m  Resolving\u001b[22m\u001b[39m package versions...\n",
      "\u001b[32m\u001b[1mNo Changes\u001b[22m\u001b[39m to `~/.julia/environments/v1.5/Project.toml`\n",
      "\u001b[32m\u001b[1mNo Changes\u001b[22m\u001b[39m to `~/.julia/environments/v1.5/Manifest.toml`\n",
      "\u001b[32m\u001b[1m  Resolving\u001b[22m\u001b[39m package versions...\n",
      "\u001b[32m\u001b[1mNo Changes\u001b[22m\u001b[39m to `~/.julia/environments/v1.5/Project.toml`\n",
      "\u001b[32m\u001b[1mNo Changes\u001b[22m\u001b[39m to `~/.julia/environments/v1.5/Manifest.toml`\n",
      "\u001b[32m\u001b[1m  Resolving\u001b[22m\u001b[39m package versions...\n",
      "\u001b[32m\u001b[1mNo Changes\u001b[22m\u001b[39m to `~/.julia/environments/v1.5/Project.toml`\n",
      "\u001b[32m\u001b[1mNo Changes\u001b[22m\u001b[39m to `~/.julia/environments/v1.5/Manifest.toml`\n",
      "\u001b[32m\u001b[1m  Resolving\u001b[22m\u001b[39m package versions...\n",
      "\u001b[32m\u001b[1mUpdating\u001b[22m\u001b[39m `~/.julia/environments/v1.5/Project.toml`\n",
      " \u001b[90m [d330b81b] \u001b[39m\u001b[92m+ PyPlot v2.9.0\u001b[39m\n",
      "\u001b[32m\u001b[1mUpdating\u001b[22m\u001b[39m `~/.julia/environments/v1.5/Manifest.toml`\n",
      " \u001b[90m [438e738f] \u001b[39m\u001b[92m+ PyCall v1.92.1\u001b[39m\n",
      " \u001b[90m [d330b81b] \u001b[39m\u001b[92m+ PyPlot v2.9.0\u001b[39m\n",
      "\u001b[32m\u001b[1m  Resolving\u001b[22m\u001b[39m package versions...\n",
      "\u001b[32m\u001b[1mNo Changes\u001b[22m\u001b[39m to `~/.julia/environments/v1.5/Project.toml`\n",
      "\u001b[32m\u001b[1mNo Changes\u001b[22m\u001b[39m to `~/.julia/environments/v1.5/Manifest.toml`\n",
      "\u001b[32m\u001b[1m  Resolving\u001b[22m\u001b[39m package versions...\n",
      "\u001b[32m\u001b[1mNo Changes\u001b[22m\u001b[39m to `~/.julia/environments/v1.5/Project.toml`\n",
      "\u001b[32m\u001b[1mNo Changes\u001b[22m\u001b[39m to `~/.julia/environments/v1.5/Manifest.toml`\n"
     ]
    }
   ],
   "source": [
    "import Pkg\n",
    "Pkg.add(\"DataFrames\")\n",
    "Pkg.add(\"XLSX\")\n",
    "Pkg.add(\"Plots\")\n",
    "Pkg.add(\"PyPlot\")\n",
    "Pkg.add(\"Convex\")\n",
    "Pkg.add(\"SCS\")"
   ]
  },
  {
   "cell_type": "code",
   "execution_count": 43,
   "metadata": {},
   "outputs": [],
   "source": [
    "using XLSX\n",
    "using Plots\n",
    "pyplot()\n",
    "using Convex\n",
    "using SCS\n",
    "using DataFrames"
   ]
  },
  {
   "cell_type": "code",
   "execution_count": 44,
   "metadata": {},
   "outputs": [
    {
     "data": {
      "text/html": [
       "<table class=\"data-frame\"><thead><tr><th></th><th>MSFT</th><th>FB</th><th>AAPL</th></tr><tr><th></th><th>Any</th><th>Any</th><th>Any</th></tr></thead><tbody><p>13 rows × 3 columns</p><tr><th>1</th><td>101.93</td><td>137.95</td><td>148.26</td></tr><tr><th>2</th><td>102.8</td><td>143.8</td><td>152.29</td></tr><tr><th>3</th><td>107.71</td><td>150.04</td><td>156.82</td></tr><tr><th>4</th><td>107.17</td><td>149.01</td><td>157.76</td></tr><tr><th>5</th><td>102.78</td><td>165.71</td><td>166.52</td></tr><tr><th>6</th><td>105.67</td><td>167.33</td><td>170.41</td></tr><tr><th>7</th><td>108.22</td><td>162.5</td><td>170.42</td></tr><tr><th>8</th><td>110.97</td><td>161.89</td><td>172.97</td></tr><tr><th>9</th><td>112.53</td><td>162.28</td><td>174.97</td></tr><tr><th>10</th><td>110.51</td><td>169.6</td><td>172.91</td></tr><tr><th>11</th><td>115.91</td><td>165.98</td><td>186.12</td></tr><tr><th>12</th><td>117.05</td><td>164.34</td><td>191.05</td></tr><tr><th>13</th><td>117.94</td><td>166.69</td><td>189.95</td></tr></tbody></table>"
      ],
      "text/latex": [
       "\\begin{tabular}{r|ccc}\n",
       "\t& MSFT & FB & AAPL\\\\\n",
       "\t\\hline\n",
       "\t& Any & Any & Any\\\\\n",
       "\t\\hline\n",
       "\t1 & 101.93 & 137.95 & 148.26 \\\\\n",
       "\t2 & 102.8 & 143.8 & 152.29 \\\\\n",
       "\t3 & 107.71 & 150.04 & 156.82 \\\\\n",
       "\t4 & 107.17 & 149.01 & 157.76 \\\\\n",
       "\t5 & 102.78 & 165.71 & 166.52 \\\\\n",
       "\t6 & 105.67 & 167.33 & 170.41 \\\\\n",
       "\t7 & 108.22 & 162.5 & 170.42 \\\\\n",
       "\t8 & 110.97 & 161.89 & 172.97 \\\\\n",
       "\t9 & 112.53 & 162.28 & 174.97 \\\\\n",
       "\t10 & 110.51 & 169.6 & 172.91 \\\\\n",
       "\t11 & 115.91 & 165.98 & 186.12 \\\\\n",
       "\t12 & 117.05 & 164.34 & 191.05 \\\\\n",
       "\t13 & 117.94 & 166.69 & 189.95 \\\\\n",
       "\\end{tabular}\n"
      ],
      "text/plain": [
       "\u001b[1m13×3 DataFrame\u001b[0m\n",
       "\u001b[1m Row \u001b[0m│\u001b[1m MSFT   \u001b[0m\u001b[1m FB     \u001b[0m\u001b[1m AAPL   \u001b[0m\n",
       "\u001b[1m     \u001b[0m│\u001b[90m Any    \u001b[0m\u001b[90m Any    \u001b[0m\u001b[90m Any    \u001b[0m\n",
       "─────┼────────────────────────\n",
       "   1 │ 101.93  137.95  148.26\n",
       "   2 │ 102.8   143.8   152.29\n",
       "   3 │ 107.71  150.04  156.82\n",
       "   4 │ 107.17  149.01  157.76\n",
       "   5 │ 102.78  165.71  166.52\n",
       "   6 │ 105.67  167.33  170.41\n",
       "   7 │ 108.22  162.5   170.42\n",
       "   8 │ 110.97  161.89  172.97\n",
       "   9 │ 112.53  162.28  174.97\n",
       "  10 │ 110.51  169.6   172.91\n",
       "  11 │ 115.91  165.98  186.12\n",
       "  12 │ 117.05  164.34  191.05\n",
       "  13 │ 117.94  166.69  189.95"
      ]
     },
     "execution_count": 44,
     "metadata": {},
     "output_type": "execute_result"
    }
   ],
   "source": [
    "T = DataFrame(XLSX.readtable(\"data/stock_prices.xlsx\",\"Sheet2\")...)"
   ]
  },
  {
   "cell_type": "markdown",
   "metadata": {},
   "source": [
    "`T` - это `DataFrame`, который содержит еженедельные значения цен на акции трех компаний (Microsoft, Facebook, Apple) за период с января 2019 года по март 2019 года. Посмотрим эти цены на графике."
   ]
  },
  {
   "cell_type": "code",
   "execution_count": 45,
   "metadata": {},
   "outputs": [
    {
     "data": {
      "image/png": "[encoded data removed]"
     },
     "execution_count": 45,
     "metadata": {},
     "output_type": "execute_result"
    }
   ],
   "source": [
    "plot(T[!,:MSFT],label=\"Microsoft\")\n",
    "plot!(T[!,:AAPL],label=\"Apple\")\n",
    "plot!(T[!,:FB],label=\"FB\")"
   ]
  },
  {
   "cell_type": "code",
   "execution_count": 46,
   "metadata": {},
   "outputs": [
    {
     "data": {
      "text/plain": [
       "13×3 Array{Any,2}:\n",
       " 101.93  137.95  148.26\n",
       " 102.8   143.8   152.29\n",
       " 107.71  150.04  156.82\n",
       " 107.17  149.01  157.76\n",
       " 102.78  165.71  166.52\n",
       " 105.67  167.33  170.41\n",
       " 108.22  162.5   170.42\n",
       " 110.97  161.89  172.97\n",
       " 112.53  162.28  174.97\n",
       " 110.51  169.6   172.91\n",
       " 115.91  165.98  186.12\n",
       " 117.05  164.34  191.05\n",
       " 117.94  166.69  189.95"
      ]
     },
     "execution_count": 46,
     "metadata": {},
     "output_type": "execute_result"
    }
   ],
   "source": [
    "# convert the prices to a Matrix to be used later in the optimization problem\n",
    "prices_matrix = Matrix(T)"
   ]
  },
  {
   "cell_type": "markdown",
   "metadata": {},
   "source": [
    "Для вычисления еженедельной доходности мы будем использовать формулу: `R [i, t] = (price [i, t] - price [i, t-1]) / price [i, t-1]`. Это доходность акций `i` за неделю `t`."
   ]
  },
  {
   "cell_type": "code",
   "execution_count": 47,
   "metadata": {},
   "outputs": [
    {
     "data": {
      "text/plain": [
       "12×3 Array{Any,2}:\n",
       " 101.93  137.95  148.26\n",
       " 102.8   143.8   152.29\n",
       " 107.71  150.04  156.82\n",
       " 107.17  149.01  157.76\n",
       " 102.78  165.71  166.52\n",
       " 105.67  167.33  170.41\n",
       " 108.22  162.5   170.42\n",
       " 110.97  161.89  172.97\n",
       " 112.53  162.28  174.97\n",
       " 110.51  169.6   172.91\n",
       " 115.91  165.98  186.12\n",
       " 117.05  164.34  191.05"
      ]
     },
     "execution_count": 47,
     "metadata": {},
     "output_type": "execute_result"
    }
   ],
   "source": [
    "M1 = prices_matrix[1:end-1,:]"
   ]
  },
  {
   "cell_type": "code",
   "execution_count": 48,
   "metadata": {},
   "outputs": [
    {
     "data": {
      "text/plain": [
       "12×3 Array{Any,2}:\n",
       " 102.8   143.8   152.29\n",
       " 107.71  150.04  156.82\n",
       " 107.17  149.01  157.76\n",
       " 102.78  165.71  166.52\n",
       " 105.67  167.33  170.41\n",
       " 108.22  162.5   170.42\n",
       " 110.97  161.89  172.97\n",
       " 112.53  162.28  174.97\n",
       " 110.51  169.6   172.91\n",
       " 115.91  165.98  186.12\n",
       " 117.05  164.34  191.05\n",
       " 117.94  166.69  189.95"
      ]
     },
     "execution_count": 48,
     "metadata": {},
     "output_type": "execute_result"
    }
   ],
   "source": [
    "M2 = prices_matrix[2:end,:]"
   ]
  },
  {
   "cell_type": "code",
   "execution_count": 49,
   "metadata": {},
   "outputs": [
    {
     "data": {
      "text/plain": [
       "12×3 Array{Float64,2}:\n",
       "  0.00853527   0.0424067    0.027182\n",
       "  0.0477626    0.0433936    0.0297459\n",
       " -0.00501346  -0.00686484   0.00599413\n",
       " -0.040963     0.112073     0.0555274\n",
       "  0.0281183    0.00977611   0.0233606\n",
       "  0.0241317   -0.0288651    5.8682e-5\n",
       "  0.0254112   -0.00375385   0.014963\n",
       "  0.0140579    0.00240904   0.0115627\n",
       " -0.0179508    0.0451072   -0.0117734\n",
       "  0.0488644   -0.0213443    0.0763981\n",
       "  0.00983522  -0.00988071   0.0264883\n",
       "  0.00760359   0.0142996   -0.00575766"
      ]
     },
     "execution_count": 49,
     "metadata": {},
     "output_type": "execute_result"
    }
   ],
   "source": [
    "R = (M2.-M1)./M1"
   ]
  },
  {
   "cell_type": "markdown",
   "metadata": {},
   "source": [
    "Теперь предположим, что вектор `x = [x1 x2 x3]` будет содержать общее количество денег, которые мы инвестируем в эти компании, т.е. `x1` - это то, сколько мы будем инвестировать в первую компанию (MSFT),` x2` - это то, сколько мы будем инвестировать в FB, а `x3` - это сколько мы будем инвестировать в AAPL. Возврат инвестиций будет равен `dot (r, x)`, где `r = [r1 r2 r3]` - доход от каждой из компаний.\n",
    "\n",
    "Здесь `r` - случайная величина, и нам нужно будет смоделировать ее в терминах ожидаемых значений. И ожидаемое значение `E (dot (r, x))` будет `E [dot (mean (R, dims = 2), x)`. Если мы хотим, чтобы доходность составляла 10% или больше, то нам нужно выполнение условия `dot (r, x)> = 0,1`.\n",
    "\n",
    "Смоделируем матрицу рисков. Матрица риска будет ковариационной матрицей рассчитанных цен доходности (`R`)."
   ]
  },
  {
   "cell_type": "code",
   "execution_count": 50,
   "metadata": {},
   "outputs": [
    {
     "data": {
      "text/plain": [
       "3×3 Array{Float64,2}:\n",
       "  0.000659383  -0.000630653  0.000139112\n",
       " -0.000630653   0.00152162   0.000192288\n",
       "  0.000139112   0.000192288  0.000635503"
      ]
     },
     "execution_count": 50,
     "metadata": {},
     "output_type": "execute_result"
    }
   ],
   "source": [
    "risk_matrix = cov(R)"
   ]
  },
  {
   "cell_type": "markdown",
   "metadata": {},
   "source": [
    "Обратите внимание, что матрица рисков положительно определена [Positive-definite matrix](https://en.wikipedia.org/wiki/Definite_symmetric_matrix)\n",
    "\n",
    "$$\n",
    "M{\\text{ positive-definite}}\\quad \\iff \\quad x^{\\textsf {T}}Mx>0{\\text{ for all }}x\\in \\mathbb {R} ^{n}\\setminus \\mathbf {0}.\n",
    "$$"
   ]
  },
  {
   "cell_type": "code",
   "execution_count": 51,
   "metadata": {},
   "outputs": [
    {
     "data": {
      "text/plain": [
       "true"
      ]
     },
     "execution_count": 51,
     "metadata": {},
     "output_type": "execute_result"
    }
   ],
   "source": [
    "isposdef(risk_matrix)"
   ]
  },
  {
   "cell_type": "code",
   "execution_count": 52,
   "metadata": {},
   "outputs": [
    {
     "data": {
      "text/plain": [
       "3-element Array{Float64,1}:\n",
       " 0.012532748705136572\n",
       " 0.016563036855293173\n",
       " 0.02114580465503291"
      ]
     },
     "execution_count": 52,
     "metadata": {},
     "output_type": "execute_result"
    }
   ],
   "source": [
    "r = mean(R,dims=1)[:]"
   ]
  },
  {
   "cell_type": "markdown",
   "metadata": {},
   "source": [
    "Теперь давайте решим следующую проблему: некто дал вам 1000 долларов и сказал вам потратить их в виде инвестиций в эти три компании, чтобы вы получили возврат в размере 2\\% от того, что вы потратили.\n",
    "\n",
    "Целью будет минимизировать риск, то есть `x' * risk_matrix * x`.\n",
    "\n",
    "Ограничения будут\n",
    "- `sum (x) = 1`, мы будем вычислять процент инвестиций, а не точную сумму\n",
    "- `dot (r, x) >= 0,02`\n",
    "- `x [i] >= 0`\n",
    "\n",
    "Эта задача представляет собой выпуклую задачу, и мы будем использовать для нее библиотеку `Convex.jl`."
   ]
  },
  {
   "cell_type": "code",
   "execution_count": 53,
   "metadata": {},
   "outputs": [
    {
     "data": {
      "text/plain": [
       "Variable\n",
       "size: (3, 1)\n",
       "sign: real\n",
       "vexity: affine\n",
       "id: 216…492"
      ]
     },
     "execution_count": 53,
     "metadata": {},
     "output_type": "execute_result"
    }
   ],
   "source": [
    "x = Variable(length(r))"
   ]
  },
  {
   "cell_type": "code",
   "execution_count": 54,
   "metadata": {},
   "outputs": [
    {
     "data": {
      "text/plain": [
       "minimize\n",
       "└─ * (Convex.NotDcp; real)\n",
       "   ├─ * (affine; real)\n",
       "   │  ├─ adjoint (affine; real)\n",
       "   │  │  └─ …\n",
       "   │  └─ 3×3 Array{Float64,2}\n",
       "   └─ 3-element real variable (id: 216…492)\n",
       "subject to\n",
       "├─ == constraint (affine)\n",
       "│  ├─ sum (affine; real)\n",
       "│  │  └─ 3-element real variable (id: 216…492)\n",
       "│  └─ 1\n",
       "├─ >= constraint (affine)\n",
       "│  ├─ * (affine; real)\n",
       "│  │  ├─ [0.0125327 0.016563 0.0211458]\n",
       "│  │  └─ 3-element real variable (id: 216…492)\n",
       "│  └─ 0.02\n",
       "├─ >= constraint (affine)\n",
       "│  ├─ index (affine; real)\n",
       "│  │  └─ 3-element real variable (id: 216…492)\n",
       "│  └─ 0\n",
       "├─ >= constraint (affine)\n",
       "│  ├─ index (affine; real)\n",
       "│  │  └─ 3-element real variable (id: 216…492)\n",
       "│  └─ 0\n",
       "└─ >= constraint (affine)\n",
       "   ├─ index (affine; real)\n",
       "   │  └─ 3-element real variable (id: 216…492)\n",
       "   └─ 0\n",
       "\n",
       "status: `solve!` not called yet"
      ]
     },
     "execution_count": 54,
     "metadata": {},
     "output_type": "execute_result"
    },
    {
     "name": "stderr",
     "output_type": "stream",
     "text": [
      "┌ Warning: Expression not DCP compliant. Trying to solve non-DCP compliant problems can lead to unexpected behavior.\n",
      "└ @ Convex /home/dharma/.julia/packages/Convex/cKTOH/src/dcp.jl:25\n"
     ]
    }
   ],
   "source": [
    "problem = minimize(x'*risk_matrix*x,[sum(x)==1;r'*x>=0.02;x.>=0])"
   ]
  },
  {
   "cell_type": "markdown",
   "metadata": {},
   "source": [
    "`Convex.jl` требует, чтобы мы прошли задачу, совместимую с DCP (дисциплинированное выпуклое программирование) <http://cvxr.com/cvx/doc/dcp.html>.\n",
    "\n",
    "Сделаем задачу совместимой с DCP."
   ]
  },
  {
   "cell_type": "code",
   "execution_count": 55,
   "metadata": {},
   "outputs": [
    {
     "data": {
      "text/plain": [
       "minimize\n",
       "└─ * (convex; positive)\n",
       "   ├─ 1\n",
       "   └─ qol_elem (convex; positive)\n",
       "      ├─ norm2 (convex; positive)\n",
       "      │  └─ …\n",
       "      └─ [1.0]\n",
       "subject to\n",
       "├─ == constraint (affine)\n",
       "│  ├─ sum (affine; real)\n",
       "│  │  └─ 3-element real variable (id: 216…492)\n",
       "│  └─ 1\n",
       "├─ >= constraint (affine)\n",
       "│  ├─ * (affine; real)\n",
       "│  │  ├─ [0.0125327 0.016563 0.0211458]\n",
       "│  │  └─ 3-element real variable (id: 216…492)\n",
       "│  └─ 0.02\n",
       "├─ >= constraint (affine)\n",
       "│  ├─ index (affine; real)\n",
       "│  │  └─ 3-element real variable (id: 216…492)\n",
       "│  └─ 0\n",
       "├─ >= constraint (affine)\n",
       "│  ├─ index (affine; real)\n",
       "│  │  └─ 3-element real variable (id: 216…492)\n",
       "│  └─ 0\n",
       "└─ >= constraint (affine)\n",
       "   ├─ index (affine; real)\n",
       "   │  └─ 3-element real variable (id: 216…492)\n",
       "   └─ 0\n",
       "\n",
       "status: `solve!` not called yet"
      ]
     },
     "execution_count": 55,
     "metadata": {},
     "output_type": "execute_result"
    }
   ],
   "source": [
    "problem = minimize(Convex.quadform(x,risk_matrix),[sum(x)==1;r'*x>=0.02;x.>=0])"
   ]
  },
  {
   "cell_type": "code",
   "execution_count": 56,
   "metadata": {},
   "outputs": [
    {
     "name": "stdout",
     "output_type": "stream",
     "text": [
      "----------------------------------------------------------------------------\n",
      "\tSCS v2.1.2 - Splitting Conic Solver\n",
      "\t(c) Brendan O'Donoghue, Stanford University, 2012\n",
      "----------------------------------------------------------------------------\n",
      "Lin-sys: sparse-indirect, nnz in A = 24, CG tol ~ 1/iter^(2.00)\n",
      "eps = 1.00e-05, alpha = 1.50, max_iters = 5000, normalize = 1, scale = 1.00\n",
      "acceleration_lookback = 10, rho_x = 1.00e-03\n",
      "Variables n = 6, constraints m = 14\n",
      "Cones:\tprimal zero / dual free vars: 2\n",
      "\tlinear vars: 5\n",
      "\tsoc vars: 7, soc blks: 2\n",
      "Setup time: 4.16e-05s\n",
      "----------------------------------------------------------------------------\n",
      " Iter | pri res | dua res | rel gap | pri obj | dua obj | kap/tau | time (s)\n",
      "----------------------------------------------------------------------------\n",
      "     0| 1.71e+19  2.86e+19  1.00e+00 -3.40e+19  5.17e+18  5.49e+19  2.04e-05 \n",
      "    98| 1.81e-11  5.95e-11  3.89e-11  4.85e-04  4.85e-04  1.51e-16  1.48e-03 \n",
      "----------------------------------------------------------------------------\n",
      "Status: Solved\n",
      "Timing: Solve time: 1.49e-03s\n",
      "\tLin-sys: avg # CG iterations: 3.35, avg solve time: 1.55e-06s\n",
      "\tCones: avg projection time: 8.24e-07s\n",
      "\tAcceleration: avg step time: 9.74e-06s\n",
      "----------------------------------------------------------------------------\n",
      "Error metrics:\n",
      "dist(s, K) = 9.4427e-17, dist(y, K*) = 0.0000e+00, s'y/|s||y| = 1.0445e-16\n",
      "primal res: |Ax + s - b|_2 / (1 + |b|_2) = 1.8123e-11\n",
      "dual res:   |A'y + c|_2 / (1 + |c|_2) = 5.9537e-11\n",
      "rel gap:    |c'x + b'y| / (1 + |c'x| + |b'y|) = 3.8917e-11\n",
      "----------------------------------------------------------------------------\n",
      "c'x = 0.0005, -b'y = 0.0005\n",
      "============================================================================\n"
     ]
    }
   ],
   "source": [
    "solve!(problem, SCS.Optimizer)"
   ]
  },
  {
   "cell_type": "code",
   "execution_count": 57,
   "metadata": {},
   "outputs": [
    {
     "data": {
      "text/plain": [
       "Variable\n",
       "size: (3, 1)\n",
       "sign: real\n",
       "vexity: affine\n",
       "id: 216…492\n",
       "value: [0.0679541325834259, 0.12230859883703213, 0.8097372685335199]"
      ]
     },
     "execution_count": 57,
     "metadata": {},
     "output_type": "execute_result"
    }
   ],
   "source": [
    "x"
   ]
  },
  {
   "cell_type": "code",
   "execution_count": 58,
   "metadata": {},
   "outputs": [
    {
     "data": {
      "text/plain": [
       "0.9999999999539779"
      ]
     },
     "execution_count": 58,
     "metadata": {},
     "output_type": "execute_result"
    }
   ],
   "source": [
    "sum(x.value)"
   ]
  },
  {
   "cell_type": "code",
   "execution_count": 59,
   "metadata": {},
   "outputs": [
    {
     "data": {
      "text/plain": [
       "1×1 LinearAlgebra.Adjoint{Float64,Array{Float64,1}}:\n",
       " 0.01999999999971038"
      ]
     },
     "execution_count": 59,
     "metadata": {},
     "output_type": "execute_result"
    }
   ],
   "source": [
    "# return \n",
    "r'*x.value "
   ]
  },
  {
   "cell_type": "code",
   "execution_count": 60,
   "metadata": {},
   "outputs": [
    {
     "data": {
      "text/plain": [
       "3×1 Array{Float64,2}:\n",
       "  67.9541325834259\n",
       " 122.30859883703212\n",
       " 809.7372685335199"
      ]
     },
     "execution_count": 60,
     "metadata": {},
     "output_type": "execute_result"
    }
   ],
   "source": [
    "x.value .* 1000"
   ]
  },
  {
   "cell_type": "markdown",
   "metadata": {},
   "source": [
    "Вывод: надо инвестировать **67.9USD в Microsoft**, **122.3USD в Facebook**, **809.7USD в Apple**."
   ]
  },
  {
   "cell_type": "markdown",
   "metadata": {},
   "source": [
    "---\n",
    "\n",
    "## Восстановление изображения\n",
    "\n",
    "В этой задаче нам дается изображение, на котором были изменены некоторые пиксели. Цель состоит в том, чтобы восстановить неизвестные пиксели путем решения задачи оптимизации. \n",
    "\n",
    "Сначала загрузим фигуру."
   ]
  },
  {
   "cell_type": "code",
   "execution_count": 61,
   "metadata": {},
   "outputs": [
    {
     "name": "stderr",
     "output_type": "stream",
     "text": [
      "\u001b[32m\u001b[1m  Resolving\u001b[22m\u001b[39m package versions...\n",
      "\u001b[32m\u001b[1mUpdating\u001b[22m\u001b[39m `~/.julia/environments/v1.5/Project.toml`\n",
      " \u001b[90m [6218d12a] \u001b[39m\u001b[92m+ ImageMagick v1.1.6\u001b[39m\n",
      "\u001b[32m\u001b[1mUpdating\u001b[22m\u001b[39m `~/.julia/environments/v1.5/Manifest.toml`\n",
      " \u001b[90m [6218d12a] \u001b[39m\u001b[92m+ ImageMagick v1.1.6\u001b[39m\n",
      " \u001b[90m [c73af94c] \u001b[39m\u001b[92m+ ImageMagick_jll v6.9.10-12+3\u001b[39m\n"
     ]
    }
   ],
   "source": [
    "import Pkg\n",
    "Pkg.add(\"ImageMagick\")"
   ]
  },
  {
   "cell_type": "code",
   "execution_count": 62,
   "metadata": {},
   "outputs": [
    {
     "data": {
      "image/png": "[encoded data removed]",
      "text/plain": [
       "283×283 Array{RGB{N0f8},2} with eltype RGB{Normed{UInt8,8}}:\n",
       " RGB{N0f8}(0.153,0.082,0.075)  …  RGB{N0f8}(0.678,0.659,0.675)\n",
       " RGB{N0f8}(0.118,0.047,0.039)     RGB{N0f8}(0.514,0.494,0.51)\n",
       " RGB{N0f8}(0.129,0.059,0.043)     RGB{N0f8}(0.624,0.604,0.62)\n",
       " RGB{N0f8}(0.137,0.067,0.051)     RGB{N0f8}(0.157,0.137,0.153)\n",
       " RGB{N0f8}(0.129,0.063,0.035)     RGB{N0f8}(0.243,0.224,0.239)\n",
       " RGB{N0f8}(0.125,0.059,0.027)  …  RGB{N0f8}(0.184,0.161,0.176)\n",
       " RGB{N0f8}(0.169,0.114,0.071)     RGB{N0f8}(0.208,0.184,0.2)\n",
       " RGB{N0f8}(0.482,0.427,0.384)     RGB{N0f8}(0.153,0.129,0.145)\n",
       " RGB{N0f8}(0.498,0.451,0.396)     RGB{N0f8}(0.141,0.106,0.125)\n",
       " RGB{N0f8}(0.49,0.443,0.388)      RGB{N0f8}(0.161,0.125,0.145)\n",
       " RGB{N0f8}(0.49,0.455,0.396)   …  RGB{N0f8}(0.149,0.114,0.125)\n",
       " RGB{N0f8}(0.498,0.463,0.404)     RGB{N0f8}(0.145,0.102,0.118)\n",
       " RGB{N0f8}(0.478,0.451,0.388)     RGB{N0f8}(0.145,0.102,0.118)\n",
       " ⋮                             ⋱  \n",
       " RGB{N0f8}(0.51,0.49,0.478)       RGB{N0f8}(0.459,0.431,0.459)\n",
       " RGB{N0f8}(0.49,0.475,0.439)      RGB{N0f8}(0.443,0.424,0.439)\n",
       " RGB{N0f8}(0.51,0.494,0.459)      RGB{N0f8}(0.467,0.443,0.459)\n",
       " RGB{N0f8}(0.482,0.471,0.443)     RGB{N0f8}(0.451,0.404,0.42)\n",
       " RGB{N0f8}(0.463,0.459,0.439)  …  RGB{N0f8}(0.463,0.404,0.424)\n",
       " RGB{N0f8}(0.443,0.443,0.435)     RGB{N0f8}(0.392,0.329,0.341)\n",
       " RGB{N0f8}(0.471,0.475,0.482)     RGB{N0f8}(0.4,0.341,0.353)\n",
       " RGB{N0f8}(0.471,0.482,0.502)     RGB{N0f8}(0.349,0.31,0.314)\n",
       " RGB{N0f8}(0.537,0.557,0.58)      RGB{N0f8}(0.396,0.361,0.365)\n",
       " RGB{N0f8}(0.529,0.557,0.588)  …  RGB{N0f8}(0.424,0.4,0.4)\n",
       " RGB{N0f8}(0.541,0.569,0.6)       RGB{N0f8}(0.443,0.408,0.412)\n",
       " RGB{N0f8}(0.541,0.576,0.604)     RGB{N0f8}(0.459,0.412,0.427)"
      ]
     },
     "execution_count": 62,
     "metadata": {},
     "output_type": "execute_result"
    }
   ],
   "source": [
    "Kref = load(\"data/khiam-small.jpg\")"
   ]
  },
  {
   "cell_type": "markdown",
   "metadata": {},
   "source": [
    "Преобразуем изображение в оттенки серого и испортим некоторые пиксели"
   ]
  },
  {
   "cell_type": "code",
   "execution_count": 63,
   "metadata": {},
   "outputs": [
    {
     "data": {
      "image/png": "[encoded data removed]",
      "text/plain": [
       "283×283 Array{Gray{N0f8},2} with eltype Gray{Normed{UInt8,8}}:\n",
       " Gray{N0f8}(0.102)  Gray{N0f8}(0.063)  …  Gray{N0f8}(0.667)\n",
       " Gray{N0f8}(0.067)  Gray{N0f8}(0.098)     Gray{N0f8}(0.502)\n",
       " Gray{N0f8}(0.078)  Gray{N0f8}(0.086)     Gray{N0f8}(0.612)\n",
       " Gray{N0f8}(0.086)  Gray{N0f8}(0.067)     Gray{N0f8}(0.145)\n",
       " Gray{N0f8}(0.078)  Gray{N0f8}(0.102)     Gray{N0f8}(0.231)\n",
       " Gray{N0f8}(0.075)  Gray{N0f8}(0.075)  …  Gray{N0f8}(0.169)\n",
       " Gray{N0f8}(0.125)  Gray{N0f8}(0.098)     Gray{N0f8}(0.192)\n",
       " Gray{N0f8}(0.439)  Gray{N0f8}(0.447)     Gray{N0f8}(0.137)\n",
       " Gray{N0f8}(0.459)  Gray{N0f8}(0.455)     Gray{N0f8}(0.118)\n",
       " Gray{N0f8}(0.451)  Gray{N0f8}(0.467)     Gray{N0f8}(0.137)\n",
       " Gray{N0f8}(0.459)  Gray{N0f8}(0.459)  …  Gray{N0f8}(0.125)\n",
       " Gray{N0f8}(0.467)  Gray{N0f8}(0.451)     Gray{N0f8}(0.118)\n",
       " Gray{N0f8}(0.451)  Gray{N0f8}(0.451)     Gray{N0f8}(0.118)\n",
       " ⋮                                     ⋱  \n",
       " Gray{N0f8}(0.494)  Gray{N0f8}(0.475)     Gray{N0f8}(0.443)\n",
       " Gray{N0f8}(0.475)  Gray{N0f8}(0.482)     Gray{N0f8}(0.431)\n",
       " Gray{N0f8}(0.494)  Gray{N0f8}(0.502)     Gray{N0f8}(0.451)\n",
       " Gray{N0f8}(0.471)  Gray{N0f8}(0.494)     Gray{N0f8}(0.42)\n",
       " Gray{N0f8}(0.459)  Gray{N0f8}(0.482)  …  Gray{N0f8}(0.424)\n",
       " Gray{N0f8}(0.443)  Gray{N0f8}(0.459)     Gray{N0f8}(0.349)\n",
       " Gray{N0f8}(0.475)  Gray{N0f8}(0.478)     Gray{N0f8}(0.361)\n",
       " Gray{N0f8}(0.482)  Gray{N0f8}(0.478)     Gray{N0f8}(0.322)\n",
       " Gray{N0f8}(0.553)  Gray{N0f8}(0.553)     Gray{N0f8}(0.373)\n",
       " Gray{N0f8}(0.553)  Gray{N0f8}(0.545)  …  Gray{N0f8}(0.408)\n",
       " Gray{N0f8}(0.565)  Gray{N0f8}(0.553)     Gray{N0f8}(0.42)\n",
       " Gray{N0f8}(0.569)  Gray{N0f8}(0.553)     Gray{N0f8}(0.427)"
      ]
     },
     "execution_count": 63,
     "metadata": {},
     "output_type": "execute_result"
    }
   ],
   "source": [
    "K = copy(Kref)\n",
    "p = prod(size(K))\n",
    "missingids = rand(1:p,400)\n",
    "K[missingids] .= RGBX{N0f8}(0.0,0.0,0.0)\n",
    "K\n",
    "Gray.(K)"
   ]
  },
  {
   "cell_type": "code",
   "execution_count": 65,
   "metadata": {},
   "outputs": [
    {
     "data": {
      "text/plain": [
       "283×283 Array{Float64,2}:\n",
       " 0.101961   0.0627451  0.0784314  0.0941176  …  0.509804  0.552941  0.666667\n",
       " 0.0666667  0.0980392  0.0745098  0.054902      0.505882  0.584314  0.501961\n",
       " 0.0784314  0.0862745  0.0784314  0.0862745     0.6       0.701961  0.611765\n",
       " 0.0862745  0.0666667  0.0745098  0.0941176     0.658824  0.705882  0.145098\n",
       " 0.0784314  0.101961   0.0901961  0.0745098     0.713725  0.682353  0.231373\n",
       " 0.0745098  0.0745098  0.0784314  0.0862745  …  0.729412  0.701961  0.168627\n",
       " 0.12549    0.0980392  0.0862745  0.0862745     0.627451  0.466667  0.192157\n",
       " 0.439216   0.447059   0.305882   0.137255      0.231373  0.184314  0.137255\n",
       " 0.458824   0.454902   0.45098    0.454902      0.196078  0.101961  0.117647\n",
       " 0.45098    0.466667   0.458824   0.45098       0.584314  0.121569  0.137255\n",
       " 0.458824   0.458824   0.458824   0.454902   …  0.521569  0.513725  0.12549\n",
       " 0.466667   0.45098    0.458824   0.47451       0.576471  0.741176  0.117647\n",
       " 0.45098    0.45098    0.462745   0.458824      0.560784  0.67451   0.117647\n",
       " ⋮                                           ⋱  ⋮                   \n",
       " 0.494118   0.47451    0.47451    0.462745      0.427451  0.435294  0.443137\n",
       " 0.47451    0.482353   0.470588   0.470588      0.439216  0.431373  0.431373\n",
       " 0.494118   0.501961   0.470588   0.45098       0.447059  0.447059  0.45098\n",
       " 0.470588   0.494118   0.490196   0.482353      0.431373  0.419608  0.419608\n",
       " 0.458824   0.482353   0.47451    0.466667   …  0.454902  0.435294  0.423529\n",
       " 0.443137   0.458824   0.45098    0.45098       0.309804  0.32549   0.34902\n",
       " 0.47451    0.478431   0.462745   0.462745      0.341176  0.345098  0.360784\n",
       " 0.482353   0.478431   0.458824   0.458824      0.419608  0.372549  0.321569\n",
       " 0.552941   0.552941   0.541176   0.533333      0.447059  0.411765  0.372549\n",
       " 0.552941   0.545098   0.576471   0.552941   …  0.435294  0.423529  0.407843\n",
       " 0.564706   0.552941   0.54902    0.505882      0.439216  0.431373  0.419608\n",
       " 0.568627   0.552941   0.517647   0.462745      0.439216  0.431373  0.427451"
      ]
     },
     "execution_count": 65,
     "metadata": {},
     "output_type": "execute_result"
    }
   ],
   "source": [
    "Y = Float64.(Gray.(K))"
   ]
  },
  {
   "cell_type": "markdown",
   "metadata": {},
   "source": [
    "Мы будем использовать общую технику для решения этой задачи, разработанную Кандесом и Тао. Целью будет создание новой матрицы `X`, в которой мы минимизируем ядерную норму` X` (т. е. сумму сингулярных значений `X`), такую, что элементы, которые уже известны в` Y`, остаются теми же самыми в `X`. \n",
    "\n",
    "Мы снова будем использовать `Convex.jl` для решения этой проблемы."
   ]
  },
  {
   "cell_type": "code",
   "execution_count": 66,
   "metadata": {},
   "outputs": [
    {
     "data": {
      "text/plain": [
       "1-element Array{Constraint,1}:\n",
       " == constraint (affine)\n",
       "├─ index (affine; real)\n",
       "│  └─ 283×283 real variable (id: 184…799)\n",
       "└─ 79691-element Array{Float64,1}"
      ]
     },
     "execution_count": 66,
     "metadata": {},
     "output_type": "execute_result"
    }
   ],
   "source": [
    "correctids = findall(Y[:].!=0)\n",
    "X = Convex.Variable(size(Y))\n",
    "problem = minimize(nuclearnorm(X))\n",
    "problem.constraints += X[correctids]==Y[correctids]"
   ]
  },
  {
   "cell_type": "code",
   "execution_count": 67,
   "metadata": {},
   "outputs": [
    {
     "name": "stdout",
     "output_type": "stream",
     "text": [
      "----------------------------------------------------------------------------\n",
      "\tSCS v2.1.2 - Splitting Conic Solver\n",
      "\t(c) Brendan O'Donoghue, Stanford University, 2012\n",
      "----------------------------------------------------------------------------\n",
      "Lin-sys: sparse-indirect, nnz in A = 400331, CG tol ~ 1/iter^(2.00)\n",
      "eps = 1.00e-03, alpha = 1.50, max_iters = 5000, normalize = 1, scale = 1.00\n",
      "acceleration_lookback = 10, rho_x = 1.00e-03\n",
      "Variables n = 240268, constraints m = 400048\n",
      "Cones:\tprimal zero / dual free vars: 239587\n",
      "\tsd vars: 160461, sd blks: 1\n",
      "Setup time: 9.15e-02s\n",
      "----------------------------------------------------------------------------\n",
      " Iter | pri res | dua res | rel gap | pri obj | dua obj | kap/tau | time (s)\n",
      "----------------------------------------------------------------------------\n",
      "     0| 1.04e+21  5.63e+19  1.00e+00 -1.54e+24  1.44e+22  1.15e+24  2.85e-01 \n",
      "   100| 4.24e-02  2.40e-02  2.23e-05  4.41e+02  4.41e+02  1.76e-15  2.33e+01 \n",
      "   200| 3.14e-02  1.91e-02  1.65e-04  4.45e+02  4.45e+02  9.00e-15  4.57e+01 \n",
      "   300| 6.27e-03  4.00e-03  2.88e-05  4.45e+02  4.45e+02  2.18e-15  6.79e+01 \n",
      "   400| 2.59e-03  1.59e-03  1.43e-06  4.45e+02  4.45e+02  3.20e-15  8.92e+01 \n",
      "   500| 2.08e-03  1.35e-03  1.06e-05  4.46e+02  4.46e+02  8.04e-15  1.09e+02 \n",
      "   600| 1.39e+00  8.41e-01  3.71e-04  4.46e+02  4.45e+02  2.04e-14  1.28e+02 \n",
      "   700| 1.57e-03  9.57e-04  2.61e-06  4.46e+02  4.46e+02  5.56e-15  1.48e+02 \n",
      "   800| 1.12e-03  6.28e-04  1.18e-05  4.46e+02  4.46e+02  5.01e-15  1.68e+02 \n",
      "   860| 9.94e-04  7.42e-04  9.89e-06  4.46e+02  4.46e+02  9.63e-15  1.81e+02 \n",
      "----------------------------------------------------------------------------\n",
      "Status: Solved\n",
      "Timing: Solve time: 1.81e+02s\n",
      "\tLin-sys: avg # CG iterations: 6.40, avg solve time: 4.16e-02s\n",
      "\tCones: avg projection time: 8.53e-02s\n",
      "\tAcceleration: avg step time: 6.71e-02s\n",
      "----------------------------------------------------------------------------\n",
      "Error metrics:\n",
      "dist(s, K) = 5.9031e-10, dist(y, K*) = 9.6094e-10, s'y/|s||y| = 8.1817e-13\n",
      "primal res: |Ax + s - b|_2 / (1 + |b|_2) = 9.9445e-04\n",
      "dual res:   |A'y + c|_2 / (1 + |c|_2) = 7.4249e-04\n",
      "rel gap:    |c'x + b'y| / (1 + |c'x| + |b'y|) = 9.8939e-06\n",
      "----------------------------------------------------------------------------\n",
      "c'x = 445.6359, -b'y = 445.6447\n",
      "============================================================================\n"
     ]
    }
   ],
   "source": [
    "solve!(problem, SCS.Optimizer(eps=1e-3, alpha=1.5))"
   ]
  },
  {
   "cell_type": "code",
   "execution_count": 68,
   "metadata": {},
   "outputs": [
    {
     "name": "stdout",
     "output_type": "stream",
     "text": [
      "norm(float.(Gray.(Kref)) - X.value) = 1.1305233151508465\n",
      "norm(-(X.value)) = 124.34145607572904\n"
     ]
    },
    {
     "data": {
      "image/png": "[encoded data removed]",
      "text/plain": [
       "283×283 reinterpret(Gray{Float64}, ::Array{Float64,2}):\n",
       " Gray{Float64}(0.101983)   …  Gray{Float64}(0.666713)\n",
       " Gray{Float64}(0.066589)      Gray{Float64}(0.501912)\n",
       " Gray{Float64}(0.0785372)     Gray{Float64}(0.611827)\n",
       " Gray{Float64}(0.0862128)     Gray{Float64}(0.145188)\n",
       " Gray{Float64}(0.0783708)     Gray{Float64}(0.231354)\n",
       " Gray{Float64}(0.0745903)  …  Gray{Float64}(0.168568)\n",
       " Gray{Float64}(0.125583)      Gray{Float64}(0.192302)\n",
       " Gray{Float64}(0.439133)      Gray{Float64}(0.137225)\n",
       " Gray{Float64}(0.458797)      Gray{Float64}(0.117638)\n",
       " Gray{Float64}(0.450962)      Gray{Float64}(0.1374)\n",
       " Gray{Float64}(0.458855)   …  Gray{Float64}(0.125563)\n",
       " Gray{Float64}(0.466729)      Gray{Float64}(0.117718)\n",
       " Gray{Float64}(0.451156)      Gray{Float64}(0.117697)\n",
       " ⋮                         ⋱  \n",
       " Gray{Float64}(0.494031)      Gray{Float64}(0.44323)\n",
       " Gray{Float64}(0.474602)      Gray{Float64}(0.431487)\n",
       " Gray{Float64}(0.494063)      Gray{Float64}(0.450898)\n",
       " Gray{Float64}(0.470691)      Gray{Float64}(0.419634)\n",
       " Gray{Float64}(0.458754)   …  Gray{Float64}(0.423674)\n",
       " Gray{Float64}(0.443174)      Gray{Float64}(0.348928)\n",
       " Gray{Float64}(0.474382)      Gray{Float64}(0.36079)\n",
       " Gray{Float64}(0.482465)      Gray{Float64}(0.321721)\n",
       " Gray{Float64}(0.553084)      Gray{Float64}(0.372563)\n",
       " Gray{Float64}(0.553118)   …  Gray{Float64}(0.407997)\n",
       " Gray{Float64}(0.564365)      Gray{Float64}(0.419532)\n",
       " Gray{Float64}(0.568766)      Gray{Float64}(0.42758)"
      ]
     },
     "execution_count": 68,
     "metadata": {},
     "output_type": "execute_result"
    }
   ],
   "source": [
    "@show norm(float.(Gray.(Kref))-X.value)\n",
    "@show norm(-X.value)\n",
    "colorview(Gray, X.value)"
   ]
  }
 ],
 "metadata": {
  "kernelspec": {
   "display_name": "Julia 1.5.3",
   "language": "julia",
   "name": "julia-1.5"
  },
  "language_info": {
   "file_extension": ".jl",
   "mimetype": "application/julia",
   "name": "julia",
   "version": "1.5.3"
  }
 },
 "nbformat": 4,
 "nbformat_minor": 4
}
