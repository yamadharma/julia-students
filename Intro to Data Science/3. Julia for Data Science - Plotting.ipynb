{
 "cells": [
  {
   "cell_type": "markdown",
   "metadata": {},
   "source": [
    "# Julia для Data Science\n",
    "\n",
    "* Данные\n",
    "* Обработка данных\n",
    "* **Визуализация**\n",
    "\n",
    "### Визуализация данных: создание красивых графиков в Julia просто\n",
    "В дальнейшем мы увидим некоторые инструменты, которые Джулия предоставляет для получения высококачественных данных для ваших данных."
   ]
  },
  {
   "cell_type": "markdown",
   "metadata": {},
   "source": [
    "## Часть 1: математика на наших графиках"
   ]
  },
  {
   "cell_type": "code",
   "execution_count": null,
   "metadata": {},
   "outputs": [],
   "source": [
    "import Pkg\n",
    "Pkg.add(\"LaTeXStrings\")\n",
    "Pkg.add(\"Plots\")"
   ]
  },
  {
   "cell_type": "code",
   "execution_count": null,
   "metadata": {},
   "outputs": [],
   "source": [
    "Pkg.add(\"PyPlot\")"
   ]
  },
  {
   "cell_type": "code",
   "execution_count": null,
   "metadata": {},
   "outputs": [],
   "source": [
    "using LaTeXStrings\n",
    "using Plots\n",
    "pyplot()\n",
    "x = 1:0.2:4"
   ]
  },
  {
   "cell_type": "markdown",
   "metadata": {},
   "source": [
    "Давайте объявим некоторые переменные, которые хранят функции, которые мы хотим построить, написанные в LaTex"
   ]
  },
  {
   "cell_type": "code",
   "execution_count": null,
   "metadata": {},
   "outputs": [],
   "source": [
    "x2 = L\"x^{2}\"\n",
    "logx = L\"log(x)\"\n",
    "sqrtx = L\"\\sqrt{x}\""
   ]
  },
  {
   "cell_type": "markdown",
   "metadata": {},
   "source": [
    "Создайте три функции и подготовьте их все!"
   ]
  },
  {
   "cell_type": "code",
   "execution_count": null,
   "metadata": {},
   "outputs": [],
   "source": [
    "y1 = sqrt.(x)\n",
    "y2 = log.(x)\n",
    "y3 = x.^2"
   ]
  },
  {
   "cell_type": "code",
   "execution_count": null,
   "metadata": {},
   "outputs": [],
   "source": [
    "f1 = plot(x,y1,legend = false)\n",
    "plot!(f1, x,y2) # \"plot!\" means \"plot on the same canvas we just plotted on\"\n",
    "plot!(f1, x,y3)\n",
    "title!(\"Plot $x2 vs. $logx vs. $sqrtx\")"
   ]
  },
  {
   "cell_type": "markdown",
   "metadata": {},
   "source": [
    "Теперь мы можем аннотировать каждую из этих кривых, используя текстовые или TeX строки."
   ]
  },
  {
   "cell_type": "code",
   "execution_count": null,
   "metadata": {},
   "outputs": [],
   "source": [
    "annotate!(f1,[(x[6],y1[6],text(sqrtx,16,:center)),\n",
    "          (x[11],y2[11],text(logx,:right,16)),\n",
    "          (x[6],y3[6],text(x2,16))])"
   ]
  },
  {
   "cell_type": "markdown",
   "metadata": {},
   "source": [
    "Yay! Теперь вы можете убедить маленького ребенка, что $x ^ 2$ растет намного быстрее, чем $\\sqrt x$"
   ]
  },
  {
   "cell_type": "markdown",
   "metadata": {},
   "source": [
    "## Часть 2: Статосюжеты.\n",
    "\n",
    "2D гистограммы действительно просты!"
   ]
  },
  {
   "cell_type": "code",
   "execution_count": null,
   "metadata": {},
   "outputs": [],
   "source": [
    "n = 1000\n",
    "set1 = randn(n)\n",
    "set2 = randn(n)\n",
    "histogram2d(set1,set2,nbins=20,colorbar=true)"
   ]
  },
  {
   "cell_type": "code",
   "execution_count": null,
   "metadata": {},
   "outputs": [],
   "source": [
    "using DataFrames\n",
    "using CSV"
   ]
  },
  {
   "cell_type": "markdown",
   "metadata": {},
   "source": [
    "**Давайте вернемся к нашему набору данных домов и узнаем еще больше о них!**"
   ]
  },
  {
   "cell_type": "code",
   "execution_count": null,
   "metadata": {},
   "outputs": [],
   "source": [
    "houses = CSV.read(\"houses.csv\")"
   ]
  },
  {
   "cell_type": "code",
   "execution_count": null,
   "metadata": {},
   "outputs": [],
   "source": [
    "typeof(houses)"
   ]
  },
  {
   "cell_type": "code",
   "execution_count": null,
   "metadata": {},
   "outputs": [],
   "source": [
    "filter_houses = houses[houses[!,:sq__ft].>0,:]\n",
    "x = filter_houses[!,:sq__ft]\n",
    "y = filter_houses[!,:price]"
   ]
  },
  {
   "cell_type": "code",
   "execution_count": null,
   "metadata": {},
   "outputs": [],
   "source": [
    "gh = histogram2d(x,y,nbins=20,colorbar=true)\n",
    "xaxis!(gh,\"square feet\")\n",
    "yaxis!(gh,\"price\")"
   ]
  },
  {
   "cell_type": "markdown",
   "metadata": {},
   "source": [
    "Интересно!\n",
    "\n",
    "Большинство проданных домов находятся в диапазоне 1000-1500, и они стоят около 150000 долларов\n",
    "\n",
    "*Давайте посмотрим больше графиков статистики.*\n",
    "\n",
    "Мы можем убедить себя, что случайные искажения действительно очень похожи.\n",
    "\n",
    "Давайте сделаем это через **box** и **violin**.\n",
    "\n",
    "https://github.com/JuliaPlots/StatsPlots.jl"
   ]
  },
  {
   "cell_type": "code",
   "execution_count": null,
   "metadata": {
    "scrolled": true
   },
   "outputs": [],
   "source": [
    "]add StatsPlots"
   ]
  },
  {
   "cell_type": "code",
   "execution_count": null,
   "metadata": {},
   "outputs": [],
   "source": [
    "using StatsPlots"
   ]
  },
  {
   "cell_type": "code",
   "execution_count": null,
   "metadata": {},
   "outputs": [],
   "source": [
    "y = rand(10000,6); # generate 6 random samples of size 1000 each"
   ]
  },
  {
   "cell_type": "code",
   "execution_count": null,
   "metadata": {},
   "outputs": [],
   "source": [
    "f2 = violin( [\"Series 1\", \"Series 2\", \"Series 3\", \"Series 4\", \"Series 5\"], y,leg=false,color=:red)"
   ]
  },
  {
   "cell_type": "code",
   "execution_count": null,
   "metadata": {},
   "outputs": [],
   "source": [
    "boxplot!([\"Series 1\" \"Series 2\" \"Series 3\" \"Series 4\" \"Series 5\"],y,leg=false,color=:green)"
   ]
  },
  {
   "cell_type": "markdown",
   "metadata": {},
   "source": [
    "Эти графики выглядят почти одинаково, поэтому у нас действительно одинаковое распределение.\n",
    "\n",
    "Давайте изучим распределение цен в разных городах в наборе данных домов."
   ]
  },
  {
   "cell_type": "code",
   "execution_count": null,
   "metadata": {},
   "outputs": [],
   "source": [
    "some_cities = [\"SACRAMENTO\",\"RANCHO CORDOVA\",\"RIO LINDA\",\"CITRUS HEIGHTS\",\"NORTH HIGHLANDS\",\"ANTELOPE\",\"ELK GROVE\",\"ELVERTA\" ] # try picking pther cities!\n",
    "\n",
    "fh = plot(xrotation=90)\n",
    "for ucity in some_cities\n",
    "    subs = filter_houses[filter_houses[!,:city].==ucity,:]\n",
    "    city_prices = subs[!,:price]\n",
    "    violin!(fh,[ucity],city_prices,leg=false)\n",
    "end\n",
    "display(fh)"
   ]
  },
  {
   "cell_type": "markdown",
   "metadata": {},
   "source": [
    "## Part 3: Subplots это просто!\n",
    "\n",
    "Вы можете создать свой собственный макет следующим образом."
   ]
  },
  {
   "cell_type": "code",
   "execution_count": null,
   "metadata": {},
   "outputs": [],
   "source": [
    "mylayout = @layout([a{0.5h};[b{0.7w} c]])\n",
    "plot(fh,f2,gh,layout=mylayout,legend=false)\n",
    "\n",
    "# this layout:\n",
    "# 1 \n",
    "# 2 3"
   ]
  },
  {
   "cell_type": "markdown",
   "metadata": {},
   "source": [
    "## Part 4: Bonus plot, XKCD kind of plots with PyPlot\n",
    "\n",
    "Давайте загрузим `PyPlot` и создадим некоторые данные."
   ]
  },
  {
   "cell_type": "code",
   "execution_count": null,
   "metadata": {},
   "outputs": [],
   "source": [
    "]add PyPlot"
   ]
  },
  {
   "cell_type": "code",
   "execution_count": null,
   "metadata": {},
   "outputs": [],
   "source": [
    "using Plots\n",
    "pyplot()"
   ]
  },
  {
   "cell_type": "code",
   "execution_count": null,
   "metadata": {},
   "outputs": [],
   "source": [
    "x=[1:1:10]\n",
    "y=ones(10)\n",
    "for i=1:1:10 y[i] = pi + i*i end\n",
    "PyPlot.xkcd()\n",
    "plot(x,y,legend = false,\n",
    "    xlabel=\"X-axis\",\n",
    "    ylabel=\"Y-axis\",\n",
    "    title=\"XKCD hand drawing\"\n",
    "    )\n"
   ]
  },
  {
   "cell_type": "code",
   "execution_count": null,
   "metadata": {},
   "outputs": [],
   "source": [
    "x = 1:100;\n",
    "y = vcat(ones(Int,20),1:10,10*ones(70));"
   ]
  },
  {
   "cell_type": "code",
   "execution_count": null,
   "metadata": {},
   "outputs": [],
   "source": [
    "PyPlot.xkcd()\n",
    "fig = PyPlot.figure()\n",
    "ax = PyPlot.axes()\n",
    "p = PyPlot.plot(x,y)\n",
    "PyPlot.annotate(\"some \\n caption\",xy=[30;10],arrowprops=Dict(\"arrowstyle\"=>\"->\"),xytext=[40;7])"
   ]
  },
  {
   "cell_type": "markdown",
   "metadata": {},
   "source": [
    "Измените параметры графика:"
   ]
  },
  {
   "cell_type": "code",
   "execution_count": null,
   "metadata": {},
   "outputs": [],
   "source": [
    "PyPlot.xticks([])\n",
    "PyPlot.yticks([])\n",
    "PyPlot.xlabel(\"index\")\n",
    "PyPlot.ylabel(\"value\")\n",
    "PyPlot.title(\"our first xkcd plot\")\n",
    "\n",
    "ax[:spines][\"top\"][:set_color](\"none\") \n",
    "ax[:spines][\"right\"][:set_color](\"none\") \n",
    "ax[:spines][\"left\"][:set_color](\"none\") \n",
    "ax[:spines][\"bottom\"][:set_color](\"none\") \n",
    "\n",
    "fig[:canvas][:draw]()"
   ]
  },
  {
   "cell_type": "markdown",
   "metadata": {},
   "source": [
    "И, наконец, отобразить фигуру!"
   ]
  },
  {
   "cell_type": "code",
   "execution_count": null,
   "metadata": {},
   "outputs": [],
   "source": [
    "display(fig)"
   ]
  },
  {
   "cell_type": "code",
   "execution_count": null,
   "metadata": {},
   "outputs": [],
   "source": []
  }
 ],
 "metadata": {
  "kernelspec": {
   "display_name": "Julia 1.5.3",
   "language": "julia",
   "name": "julia-1.5"
  },
  "language_info": {
   "file_extension": ".jl",
   "mimetype": "application/julia",
   "name": "julia",
   "version": "1.5.3"
  }
 },
 "nbformat": 4,
 "nbformat_minor": 4
}
