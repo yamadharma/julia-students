{
 "cells": [
  {
   "cell_type": "markdown",
   "metadata": {},
   "source": [
    "# Julia для науки о данных\n",
    "Подготовлено [@nassarhuda](https://github.com/nassarhuda)! 😃\n",
    "\n",
    "В этом руководстве мы обсудим, почему *Julia* - это инструмент, который вы хотите использовать в своих приложениях для обработки данных.\n",
    "\n",
    "Мы рассмотрим следующее:\n",
    "* **Данные**\n",
    "* Обработка данных\n",
    "* Визуализация\n",
    "\n",
    "### Данные. Постройте прочные отношения с вашими данными.\n",
    "Каждое задание по науке о данных имеет один основной компонент - _данные_! Скорее всего,\n",
    "Вы хотите использовать свои данные, чтобы узнать что-то новое. Но как насчет данных, которые у вас уже есть? Давайте удостоверимся, что вы можете их читать, сохранять и понимать, прежде чем начинать использование.\n",
    "\n",
    "Джулия делает этот шаг действительно простым с помощью структур данных и пакетов для обработки данных, а также,\n",
    "существующих функций, которые легко использовать на ваших данных.\n",
    "\n",
    "Цель этой первой части - познакомить вас с некоторыми инструментами Джулии для управления вашими данными."
   ]
  },
  {
   "cell_type": "markdown",
   "metadata": {},
   "source": [
    "Сначала давайте загрузим csv-файл с github, с которым мы можем работать.\n",
    "\n",
    "Примечание: `загрузка` зависит от внешних инструментов, таких как curl, wget или fetch. Таким образом, вы должны иметь один из них."
   ]
  },
  {
   "cell_type": "code",
   "execution_count": null,
   "metadata": {},
   "outputs": [],
   "source": [
    "# обновим окружение\n",
    "using Pkg\n",
    "Pkg.update"
   ]
  },
  {
   "cell_type": "code",
   "execution_count": null,
   "metadata": {},
   "outputs": [],
   "source": [
    "# установим пакеты\n",
    "using Pkg\n",
    "for p in [\"CSV\", \"DataFrames\", \"RDatasets\", \"FileIO\"]\n",
    "    Pkg.add(p)\n",
    "end"
   ]
  },
  {
   "cell_type": "code",
   "execution_count": null,
   "metadata": {
    "scrolled": true
   },
   "outputs": [],
   "source": [
    "using CSV, DataFrames, DelimitedFiles"
   ]
  },
  {
   "cell_type": "markdown",
   "metadata": {},
   "source": [
    "Мы можем использовать команды оболочки типа `ls` в Julia, поставив перед ними точку с запятой."
   ]
  },
  {
   "cell_type": "code",
   "execution_count": null,
   "metadata": {},
   "outputs": [],
   "source": [
    ";ls"
   ]
  },
  {
   "cell_type": "code",
   "execution_count": null,
   "metadata": {},
   "outputs": [],
   "source": [
    "pwd()"
   ]
  },
  {
   "cell_type": "markdown",
   "metadata": {},
   "source": [
    "По умолчанию `readcsv` заполнит массив данными, сохраненными во входном файле .csv. Если мы установим ключевое слово аргумент `header` в` true`, мы получим второй выходной массив."
   ]
  },
  {
   "cell_type": "code",
   "execution_count": null,
   "metadata": {
    "scrolled": true
   },
   "outputs": [],
   "source": [
    "P = CSV.read(\"programminglanguages.csv\")"
   ]
  },
  {
   "cell_type": "markdown",
   "metadata": {},
   "source": [
    "Здесь мы пишем нашу первую маленькую функцию. <br>\n",
    "Теперь вы можете ответить на такие вопросы, как \"когда был создан язык X?\""
   ]
  },
  {
   "cell_type": "code",
   "execution_count": null,
   "metadata": {},
   "outputs": [],
   "source": [
    "function language_created_year(P,language::String)\n",
    "    loc = findfirst(P[:,2].==language)\n",
    "    return P[loc,1]\n",
    "end"
   ]
  },
  {
   "cell_type": "code",
   "execution_count": null,
   "metadata": {},
   "outputs": [],
   "source": [
    "language_created_year(P,\"Python\")"
   ]
  },
  {
   "cell_type": "code",
   "execution_count": null,
   "metadata": {},
   "outputs": [],
   "source": [
    "language_created_year(P,\"Julia\")"
   ]
  },
  {
   "cell_type": "code",
   "execution_count": null,
   "metadata": {
    "scrolled": true
   },
   "outputs": [],
   "source": [
    "language_created_year(P,\"julia\")"
   ]
  },
  {
   "cell_type": "markdown",
   "metadata": {},
   "source": [
    "Как и ожидалось, это не вернет то, что вы хотите, но, к счастью, манипуляции со строками действительно просты в Julia!"
   ]
  },
  {
   "cell_type": "code",
   "execution_count": null,
   "metadata": {},
   "outputs": [],
   "source": [
    "function language_created_year_v2(P,language::String)\n",
    "    loc = findfirst(lowercase.(P[:,2]).==lowercase.(language))\n",
    "    return P[loc,1]\n",
    "end\n",
    "language_created_year_v2(P,\"julia\")"
   ]
  },
  {
   "cell_type": "markdown",
   "metadata": {},
   "source": [
    "**Запись в файлы** <br>\n",
    "\n",
    "Вы можете использовать разные разделители с функцией `readdlm` (` readcsv` это просто экземпляр `readdlm`). <br>\n",
    "\n",
    "Для записи в файлы мы можем использовать `writecsv` или` writedlm`. <br>\n",
    "\n",
    "Давайте запишем эти же данные в файл с другим разделителем."
   ]
  },
  {
   "cell_type": "code",
   "execution_count": null,
   "metadata": {},
   "outputs": [],
   "source": [
    "CSV.write(\"programming_languages_data2.csv\", P)"
   ]
  },
  {
   "cell_type": "code",
   "execution_count": null,
   "metadata": {},
   "outputs": [],
   "source": [
    "Tx = readdlm(\"programminglanguages.csv\", ',')"
   ]
  },
  {
   "cell_type": "code",
   "execution_count": null,
   "metadata": {},
   "outputs": [],
   "source": [
    "writedlm(\"programming_languages_data.txt\", Tx, ',')"
   ]
  },
  {
   "cell_type": "code",
   "execution_count": null,
   "metadata": {},
   "outputs": [],
   "source": [
    "writedlm(\"programming_languages_data2.txt\", Tx, '-')"
   ]
  },
  {
   "cell_type": "markdown",
   "metadata": {},
   "source": [
    "а также проверьте, что мы можем использовать `readdlm`, чтобы правильно прочитать наш новый текстовый файл."
   ]
  },
  {
   "cell_type": "code",
   "execution_count": null,
   "metadata": {},
   "outputs": [],
   "source": [
    "P_new_delim = readdlm(\"programming_languages_data2.txt\", '-')"
   ]
  },
  {
   "cell_type": "markdown",
   "metadata": {},
   "source": [
    "### Словари\n",
    "Попробуем сохранить вышеуказанные данные в формате словаря!\n",
    "\n",
    "Во-первых, давайте инициализируем пустой словарь"
   ]
  },
  {
   "cell_type": "code",
   "execution_count": null,
   "metadata": {},
   "outputs": [],
   "source": [
    "dict = Dict{Integer,Vector{String}}()"
   ]
  },
  {
   "cell_type": "markdown",
   "metadata": {},
   "source": [
    "Здесь мы сказали Джулии, что хотим, чтобы `dict` принимал только целые числа как ключи, а векторы строк как значения.\n",
    "\n",
    "Однако мы могли бы инициализировать пустой словарь, не предоставляя эту информацию (в зависимости от нашего приложения)."
   ]
  },
  {
   "cell_type": "code",
   "execution_count": null,
   "metadata": {},
   "outputs": [],
   "source": [
    "dict2 = Dict()"
   ]
  },
  {
   "cell_type": "markdown",
   "metadata": {},
   "source": [
    "Этот словарь принимает ключи и значения любого типа!\n",
    "\n",
    "Теперь давайте наполним словарь ключами и годами, которые содержат все языки программирования, созданные в каждом году, в качестве значений."
   ]
  },
  {
   "cell_type": "code",
   "execution_count": null,
   "metadata": {},
   "outputs": [],
   "source": [
    "for i = 1:size(P,1)\n",
    "    year,lang = P[i,:]\n",
    "    \n",
    "    if year in keys(dict)\n",
    "        dict[year] = push!(dict[year],lang)\n",
    "    else\n",
    "        dict[year] = [lang]\n",
    "    end\n",
    "end"
   ]
  },
  {
   "cell_type": "markdown",
   "metadata": {},
   "source": [
    "Теперь вы можете выбрать любой год и узнать, какие языки программирования были изобретены в этом году."
   ]
  },
  {
   "cell_type": "code",
   "execution_count": null,
   "metadata": {},
   "outputs": [],
   "source": [
    "dict[2003]"
   ]
  },
  {
   "cell_type": "markdown",
   "metadata": {},
   "source": [
    "### DataFrames! \n",
    "*Привет фанатам R!*\n",
    "Еще один способ поиграться с данными в Julia - это использовать DataFrame.\n",
    "\n",
    "Это требует загрузки пакета `DataFrames`"
   ]
  },
  {
   "cell_type": "code",
   "execution_count": null,
   "metadata": {
    "scrolled": true
   },
   "outputs": [],
   "source": [
    "# using DataFrames\n",
    "df = DataFrame(year = P[:,1], language = P[:,2])"
   ]
  },
  {
   "cell_type": "markdown",
   "metadata": {},
   "source": [
    "Вы можете получить доступ к столбцам по имени заголовка или по индексу столбца.\n",
    "\n",
    "В этом случае `df[1]` эквивалентно `df [:year]`.\n",
    "\n",
    "Обратите внимание, что если мы хотим получить доступ к столбцам по имени заголовка, мы добавляем к имени заголовка двоеточие! В Julia это означает, что имена заголовков обрабатываются как *символы*."
   ]
  },
  {
   "cell_type": "code",
   "execution_count": null,
   "metadata": {},
   "outputs": [],
   "source": [
    "df[!,:year]"
   ]
  },
  {
   "cell_type": "markdown",
   "metadata": {},
   "source": [
    "**`DataFrames` предоставляют некоторые удобные функции при работе с данными**\n",
    "\n",
    "Во-первых, они используют «отсутствующий» тип."
   ]
  },
  {
   "cell_type": "code",
   "execution_count": null,
   "metadata": {},
   "outputs": [],
   "source": [
    "a = missing\n",
    "typeof(a)"
   ]
  },
  {
   "cell_type": "markdown",
   "metadata": {},
   "source": [
    "Давайте посмотрим, что происходит, когда мы пытаемся добавить «пропущенный» тип к числу."
   ]
  },
  {
   "cell_type": "code",
   "execution_count": null,
   "metadata": {},
   "outputs": [],
   "source": [
    "a + 1"
   ]
  },
  {
   "cell_type": "markdown",
   "metadata": {},
   "source": [
    "`DataFrames` предоставляет` description`, который может дать вам быструю статистику о каждом столбце в вашем фрейме данных"
   ]
  },
  {
   "cell_type": "code",
   "execution_count": null,
   "metadata": {},
   "outputs": [],
   "source": [
    "describe(df)"
   ]
  },
  {
   "cell_type": "markdown",
   "metadata": {},
   "source": [
    "### RDatasets\n",
    "\n",
    "Мы можем использовать наборы данных RD для работы с уже существующими наборами данных."
   ]
  },
  {
   "cell_type": "code",
   "execution_count": null,
   "metadata": {
    "scrolled": true
   },
   "outputs": [],
   "source": [
    "using RDatasets\n",
    "iris = dataset(\"datasets\", \"iris\")"
   ]
  },
  {
   "cell_type": "markdown",
   "metadata": {},
   "source": [
    "Обратите внимание, что данные, загруженные с помощью набора данных, хранятся в виде DataFrame."
   ]
  },
  {
   "cell_type": "code",
   "execution_count": null,
   "metadata": {},
   "outputs": [],
   "source": [
    "typeof(iris) "
   ]
  },
  {
   "cell_type": "markdown",
   "metadata": {},
   "source": [
    "Резюме, которое мы получаем из `description` на` iris`, дает нам гораздо больше информации, чем резюме на `df`!"
   ]
  },
  {
   "cell_type": "code",
   "execution_count": null,
   "metadata": {},
   "outputs": [],
   "source": [
    "describe(iris)"
   ]
  },
  {
   "cell_type": "markdown",
   "metadata": {},
   "source": [
    "### Missing Values Support"
   ]
  },
  {
   "cell_type": "code",
   "execution_count": null,
   "metadata": {},
   "outputs": [],
   "source": [
    "foods = [\"apple\", \"cucumber\", \"tomato\", \"banana\"]"
   ]
  },
  {
   "cell_type": "code",
   "execution_count": null,
   "metadata": {},
   "outputs": [],
   "source": [
    "calories = [missing,47,22,105]"
   ]
  },
  {
   "cell_type": "code",
   "execution_count": null,
   "metadata": {},
   "outputs": [],
   "source": [
    "typeof(calories)"
   ]
  },
  {
   "cell_type": "code",
   "execution_count": null,
   "metadata": {},
   "outputs": [],
   "source": [
    "using Statistics"
   ]
  },
  {
   "cell_type": "code",
   "execution_count": null,
   "metadata": {},
   "outputs": [],
   "source": [
    "mean(calories)"
   ]
  },
  {
   "cell_type": "markdown",
   "metadata": {},
   "source": [
    "missings все портят! 😑\n",
    "\n",
    "К счастью, мы можем игнорировать их `skipmissing`!"
   ]
  },
  {
   "cell_type": "code",
   "execution_count": null,
   "metadata": {},
   "outputs": [],
   "source": [
    "mean(skipmissing(calories))"
   ]
  },
  {
   "cell_type": "markdown",
   "metadata": {},
   "source": [
    "О, ПОДОЖДИТЕ! Лирическое отступление. Как я получила смайлики там?\n",
    "\n",
    "Попробуйте это:\n",
    "\n",
    "`\\:expressionless: + <TAB>`"
   ]
  },
  {
   "cell_type": "code",
   "execution_count": null,
   "metadata": {},
   "outputs": [],
   "source": [
    "😑 = 0 # expressionless\n",
    "😀 = 1\n",
    "😞 = -1\n",
    "\n",
    "(😀 + 😞)^😑"
   ]
  },
  {
   "cell_type": "code",
   "execution_count": null,
   "metadata": {},
   "outputs": [],
   "source": [
    "prices = [0.85,1.6,0.8,0.6,]"
   ]
  },
  {
   "cell_type": "code",
   "execution_count": null,
   "metadata": {},
   "outputs": [],
   "source": [
    "dataframe_calories = DataFrame(item=foods,calories=calories)"
   ]
  },
  {
   "cell_type": "code",
   "execution_count": null,
   "metadata": {},
   "outputs": [],
   "source": [
    "dataframe_prices = DataFrame(item=foods,price=prices)"
   ]
  },
  {
   "cell_type": "markdown",
   "metadata": {},
   "source": [
    "Мы также можем объединить два блока данных вместе"
   ]
  },
  {
   "cell_type": "code",
   "execution_count": null,
   "metadata": {},
   "outputs": [],
   "source": [
    "DF = join(dataframe_calories,dataframe_prices,on=:item)"
   ]
  },
  {
   "cell_type": "markdown",
   "metadata": {},
   "source": [
    "### FileIO"
   ]
  },
  {
   "cell_type": "code",
   "execution_count": null,
   "metadata": {},
   "outputs": [],
   "source": [
    "using FileIO"
   ]
  },
  {
   "cell_type": "code",
   "execution_count": null,
   "metadata": {},
   "outputs": [],
   "source": [
    "# julialogo = download(\"https://avatars0.githubusercontent.com/u/743164?s=200&v=4\",\"julialogo.png\")"
   ]
  },
  {
   "cell_type": "markdown",
   "metadata": {},
   "source": [
    "Опять же, давайте проверим, работает ли эта загрузка!"
   ]
  },
  {
   "cell_type": "code",
   "execution_count": null,
   "metadata": {},
   "outputs": [],
   "source": [
    ";ls"
   ]
  },
  {
   "cell_type": "code",
   "execution_count": null,
   "metadata": {},
   "outputs": [],
   "source": [
    "import Pkg\n",
    "Pkg.add(\"ImageIO\")"
   ]
  },
  {
   "cell_type": "code",
   "execution_count": null,
   "metadata": {},
   "outputs": [],
   "source": [
    "X1 = load(\"julialogo.png\")"
   ]
  },
  {
   "cell_type": "markdown",
   "metadata": {},
   "source": [
    "Ниже мы видим, что Юлия хранит этот логотип в виде множества цветов."
   ]
  },
  {
   "cell_type": "code",
   "execution_count": null,
   "metadata": {},
   "outputs": [],
   "source": [
    "@show typeof(X1);\n",
    "@show size(X1);"
   ]
  }
 ],
 "metadata": {
  "kernelspec": {
   "display_name": "Julia 1.4.0",
   "language": "julia",
   "name": "julia-1.4"
  },
  "language_info": {
   "file_extension": ".jl",
   "mimetype": "application/julia",
   "name": "julia",
   "version": "1.4.0"
  }
 },
 "nbformat": 4,
 "nbformat_minor": 4
}
