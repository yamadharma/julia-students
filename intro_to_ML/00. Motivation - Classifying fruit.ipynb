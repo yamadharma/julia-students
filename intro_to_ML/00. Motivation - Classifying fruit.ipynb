{
 "cells": [
  {
   "cell_type": "markdown",
   "metadata": {},
   "source": [
    "# Мотивация\n",
    "\n",
    "Привет и добро пожаловать! Мы рады быть вашими воротами в машинное обучение. ML - быстро развивающаяся область, которая гудит от возможностей. Почему? Потому что инструменты и навыки, используемые специалистами по ML, чрезвычайно мощны и позволяют им делать выводы из больших наборов данных быстро и с относительной легкостью. Взять, к примеру, проект Celeste. Это проект, который взял 178 **тера** байт данных о видимом небе и использовал его для каталогизации 188 миллионов звезд и галактик. «Каталогизация» этих звезд означала определение таких характеристик, как их местоположение, цвет, размеры и морфология. Это удивительный подвиг, *особенно*, потому что весь этот расчет занял менее 15 минут.\n",
    "\n",
    "<img src=\"data/Celeste.png\" alt=\"Drawing\" style=\"width: 1000px;\"/>\n",
    "\n",
    "Почему вычисления Селесты такие быстрые? Для достижения производительности в таком масштабе команда Celeste использует язык программирования Julia для написания своего программного обеспечения и суперкомпьютеры из NERSC Лоуренса Беркли из Национальной лаборатории в качестве своего аппаратного обеспечения. В этом курсе, к сожалению, мы не сможем предоставить вам доступ к 10 суперкомпьютерам, но зато научим вас пользоваться Julia! Мы уверены, что этот курс поможет вам понять многие важные понятия и «модные слова» в ML. Для начала мы покажем вам, как научить машину различать изображения яблок и бананов, то есть **классифицировать** изображения как фрукты того или иного типа.\n",
    "\n",
    "Как и проект Celeste, мы будем использовать [язык программирования Julia](https://julialang.org/). В частности, мы будем работать в [блокнотах Jupyter](http://jupyter.org/), как этот! (Возможно, вы уже знаете, что «Ju» в Jupyter происходит от Julia.)"
   ]
  },
  {
   "cell_type": "markdown",
   "metadata": {},
   "source": [
    "## Как выглядят изображения, которые мы хотим классифицировать?\n",
    "\n",
    "Мы можем использовать пакет `Images.jl` в Julia для загрузки образцов изображений из этого набора данных. Большая часть данных, которые мы будем использовать, находится в папке `data` в этом хранилище."
   ]
  },
  {
   "cell_type": "code",
   "execution_count": null,
   "metadata": {},
   "outputs": [],
   "source": [
    "]add Images"
   ]
  },
  {
   "cell_type": "code",
   "execution_count": null,
   "metadata": {},
   "outputs": [],
   "source": [
    "using Images  # To execute hit <shift> + enter"
   ]
  },
  {
   "cell_type": "code",
   "execution_count": null,
   "metadata": {},
   "outputs": [],
   "source": [
    "cd(\"./data\") # load не любит кириллицу в пути, \n",
    "# а так как мой профиль назван по-русски, то придётся перенести папку и поменять рабочую директорию"
   ]
  },
  {
   "cell_type": "code",
   "execution_count": null,
   "metadata": {},
   "outputs": [],
   "source": [
    "apple = load(\"10_100.jpg\")"
   ]
  },
  {
   "cell_type": "code",
   "execution_count": null,
   "metadata": {},
   "outputs": [],
   "source": [
    "banana = load(\"104_100.jpg\")"
   ]
  },
  {
   "cell_type": "markdown",
   "metadata": {},
   "source": [
    "Набор данных состоит из множества изображений разных фруктов, рассматриваемых с разных позиций. Эти изображения [доступны на GitHub здесь](https://github.com/Horea94/Fruit-Images-Dataset)."
   ]
  },
  {
   "cell_type": "markdown",
   "metadata": {},
   "source": [
    "## Какова цель?"
   ]
  },
  {
   "cell_type": "markdown",
   "metadata": {},
   "source": [
    "Конечная цель состоит в том, чтобы передать одно из этих изображений на компьютер и определить, является ли изображение яблоком или бананом! Для этого мы будем *обучать* компьютер, чтобы он сам *узнал*, как различать два изображения. Следующие записные книжки шаг за шагом проведут вас по основным понятиям математики и машинного обучения, которые вам необходимо знать для выполнения этой классификации. Они чередуются между двумя разными типами ноутбуков: с надписями **ML** (Машинное обучение), которые предназначены для предоставления общего обзора концепций, необходимых для машинного обучения, но при этом затушевывают некоторые технические подробности; и те, которые помечены **Tools**, которые углубятся в детали кодирования в Julia, которые будут ключевыми для фактической реализации алгоритмов машинного обучения своими силами. В тетрадях много *упражнений*. Выполняя эти упражнения в Julia, вы изучите основы машинного обучения!"
   ]
  },
  {
   "cell_type": "markdown",
   "metadata": {},
   "source": [
    "## Содержание курса"
   ]
  },
  {
   "cell_type": "markdown",
   "metadata": {},
   "source": [
    "Блокноты курса перечислены ниже. Мы рекомендуем вам следовать им по порядку."
   ]
  },
  {
   "cell_type": "markdown",
   "metadata": {},
   "source": [
    "- [01. Representing data in a computer](01. ML - Representing data in a computer.ipynb)\n",
    "- [02. Using arrays to store data](02. Tools - Using arrays to store data.ipynb)\n",
    "\n",
    "- [03. Representing data with models](03. ML - Representing data with models.ipynb)\n",
    "- [04. Functions](04. Tools - Functions.ipynb)\n",
    "- [05. Building models](05. ML - Building models.ipynb)\n",
    "- [06. Adding a function parameter](06. Tools - Adding a function parameter.ipynb)\n",
    "- [07. Model complexity](07. ML - Model complexity.ipynb)\n",
    "- [08. Multiple function parameters](08. Tools - Multiple function parameters.ipynb)\n",
    "- [09. What is learning](09. ML - What is learning.ipynb)\n",
    "- [10. Minimizing functions - how a computer learns](10. Tools - Minimizing functions - how a computer learns.ipynb)\n",
    "- [11. Intro to Neurons](11. ML - Intro to Neurons.ipynb)\n",
    "- [12. Learning with a single neuron](12. Tools - Learning with a single neuron.ipynb)\n",
    "- [13. Intro to Flux.jl](13. ML - Intro to Flux.jl.ipynb)\n",
    "- [14. Learning with a single neuron using Flux.jl](14. Tools - Learning with a single neuron using Flux.jl.ipynb)\n",
    "- [15. Intro to neural networks](15. ML - Intro to neural networks.ipynb)\n",
    "- [16. Using Flux to build a single layer neural net](16. Tools - Using Flux to build a single layer neural net.ipynb)\n",
    "- [17. Introduction to deep learning](17. ML - Introduction to deep learning.ipynb)\n",
    "- [18. Multi-layer neural networks with Flux](18. Tools - Multi-layer neural networks with Flux.ipynb)\n",
    "- [19. Recognizing handwriting using a neural network](19. Recognizing handwriting using a neural network.ipynb)"
   ]
  },
  {
   "cell_type": "markdown",
   "metadata": {},
   "source": [
    "Давайте начнем с [Representing data in a computer](01. ML - Representing data in a computer.ipynb\n",
    ")!"
   ]
  }
 ],
 "metadata": {
  "kernelspec": {
   "display_name": "Julia 1.4.0",
   "language": "julia",
   "name": "julia-1.4"
  },
  "language_info": {
   "file_extension": ".jl",
   "mimetype": "application/julia",
   "name": "julia",
   "version": "1.4.0"
  }
 },
 "nbformat": 4,
 "nbformat_minor": 4
}
