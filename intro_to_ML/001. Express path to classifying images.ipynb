{
 "cells": [
  {
   "cell_type": "markdown",
   "metadata": {},
   "source": [
    "# Экспресс-путь к классификации изображений\n",
    "\n",
    "В этой записной книжке мы покажем, как запускать программное обеспечение для классификации, аналогичное тому, как работают изображения Google.\n",
    "\n",
    "Julia позволяет нам загружать различные предварительно обученные модели для классификации изображений через пакет `Metalhead.jl`."
   ]
  },
  {
   "cell_type": "code",
   "execution_count": null,
   "metadata": {},
   "outputs": [],
   "source": [
    "]add Metalhead"
   ]
  },
  {
   "cell_type": "code",
   "execution_count": null,
   "metadata": {},
   "outputs": [],
   "source": [
    "using Metalhead, Images  # To run type <shift> + enter\n",
    "using Metalhead: classify"
   ]
  },
  {
   "cell_type": "markdown",
   "metadata": {},
   "source": [
    "Давайте загрузим изображение слона (можете указать свой путь - у меня проблемы из-за имени юзера на русском):"
   ]
  },
  {
   "cell_type": "code",
   "execution_count": null,
   "metadata": {},
   "outputs": [],
   "source": [
    "# download(\"http://www.mikebirkhead.com/images/EyeForAnElephant.jpg\", \"./data/elephant.jpg\")"
   ]
  },
  {
   "cell_type": "code",
   "execution_count": null,
   "metadata": {},
   "outputs": [],
   "source": [
    "image = load(\"./data/elephant.jpg\") # open up a new cell type ESC + b (for below)"
   ]
  },
  {
   "cell_type": "markdown",
   "metadata": {},
   "source": [
    "Мы будем использовать модель VGG19, которая представляет собой глубокую сверточную нейронную сеть, обученную на подмножестве базы данных ImageNet. Поскольку это ваш первый блокнот, очень вероятно, что слова «сверточный», «нейронная сеть» и «глубокий» могут показаться загадочными. В ходе этого курса мы развеем этитайны."
   ]
  },
  {
   "cell_type": "code",
   "execution_count": null,
   "metadata": {},
   "outputs": [],
   "source": [
    "vgg = VGG19() # нехило так грузится ...прошло уже две минуты - наверно модель крута"
   ]
  },
  {
   "cell_type": "markdown",
   "metadata": {},
   "source": [
    " Здесь мы будем отображать слои:"
   ]
  },
  {
   "cell_type": "code",
   "execution_count": null,
   "metadata": {},
   "outputs": [],
   "source": [
    "for i=1:28\n",
    "  println(vgg.layers[i])\n",
    "end"
   ]
  },
  {
   "cell_type": "markdown",
   "metadata": {},
   "source": [
    "Чтобы классифицировать изображение с помощью модели, мы просто запускаем следующую команду, и она возвращает наилучшее предположение при классификации:"
   ]
  },
  {
   "cell_type": "code",
   "execution_count": null,
   "metadata": {},
   "outputs": [],
   "source": [
    "image"
   ]
  },
  {
   "cell_type": "code",
   "execution_count": null,
   "metadata": {},
   "outputs": [],
   "source": [
    "classify(vgg, image)"
   ]
  },
  {
   "cell_type": "markdown",
   "metadata": {},
   "source": [
    "Упражнение 1: возьмите любимое изображение, а затем классифицируйте его. Расскажите нам, что вы получили!"
   ]
  },
  {
   "cell_type": "code",
   "execution_count": null,
   "metadata": {},
   "outputs": [],
   "source": [
    "image = load(\"./data/ct.jpg\")"
   ]
  },
  {
   "cell_type": "code",
   "execution_count": null,
   "metadata": {},
   "outputs": [],
   "source": [
    "classify(vgg, image)"
   ]
  },
  {
   "cell_type": "markdown",
   "metadata": {},
   "source": [
    "Мы можем сделать то же самое с любым изображением, которое у нас есть, например, с собакой Алана, Филиппом:"
   ]
  },
  {
   "cell_type": "code",
   "execution_count": null,
   "metadata": {},
   "outputs": [],
   "source": [
    "image = load(\"data/philip.jpg\")"
   ]
  },
  {
   "cell_type": "code",
   "execution_count": null,
   "metadata": {},
   "outputs": [],
   "source": [
    "classify(vgg, image)"
   ]
  },
  {
   "cell_type": "markdown",
   "metadata": {},
   "source": [
    "## Что здесь происходит?\n",
    "\n",
    "VGG19 классифицирует изображения в соответствии со следующими 1000 различными классами:\n"
   ]
  },
  {
   "cell_type": "code",
   "execution_count": null,
   "metadata": {},
   "outputs": [],
   "source": [
    "# Metalhead.imagenet_classes[rand(1:1000,1,1)]\n",
    "Metalhead.ImageNet.imagenet_labels[rand(1:1000,1,1)]"
   ]
  },
  {
   "cell_type": "markdown",
   "metadata": {},
   "source": [
    "Модель представляет собой сверточную нейронную сеть (CNN), состоящую из последовательности слоев 'нейронов'. Ранее было изучено огромное количество параметров, составляющих эти взаимосвязи, чтобы правильно предсказать набор обучающих образов, представляющих каждый класс.\n",
    "\n",
    "Запуск модели на изображении выдаст вероятности пренадлежности к каждому классу"
   ]
  },
  {
   "cell_type": "code",
   "execution_count": null,
   "metadata": {},
   "outputs": [],
   "source": [
    "probs = Metalhead.forward(vgg, image)"
   ]
  },
  {
   "cell_type": "markdown",
   "metadata": {},
   "source": [
    "Теперь мы можем увидеть, какие из них наиболее вероятны:"
   ]
  },
  {
   "cell_type": "code",
   "execution_count": null,
   "metadata": {},
   "outputs": [],
   "source": [
    "perm = sortperm(probs)\n",
    "probs[273]"
   ]
  },
  {
   "cell_type": "code",
   "execution_count": null,
   "metadata": {},
   "outputs": [],
   "source": [
    "[ Metalhead.imagenet_classes(vgg)[perm] probs[perm] ][end:-1:end-10, :]"
   ]
  },
  {
   "cell_type": "markdown",
   "metadata": {},
   "source": [
    "## Что нужно, чтобы получить успешный классификатор с помощью машинного обучения?\n",
    "\n",
    "Ключевые вопросы для получения успешного классификатора в машинном обучении: \n",
    "\n",
    "- Как мы определяем подходящую модель, которая может адекватно моделировать данные? \n",
    "\n",
    "- Как мы обучаем её соответствующим данным?\n",
    "\n",
    "Вот вопросы, на ответ которых рассчитан этот курс."
   ]
  }
 ],
 "metadata": {
  "kernelspec": {
   "display_name": "Julia 1.4.0",
   "language": "julia",
   "name": "julia-1.4"
  },
  "language_info": {
   "file_extension": ".jl",
   "mimetype": "application/julia",
   "name": "julia",
   "version": "1.4.0"
  }
 },
 "nbformat": 4,
 "nbformat_minor": 4
}
