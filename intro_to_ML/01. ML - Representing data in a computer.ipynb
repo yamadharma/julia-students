{
 "cells": [
  {
   "cell_type": "markdown",
   "metadata": {},
   "source": [
    "# Представление данных в компьютере\n",
    "\n",
    "Ядро науки о данных (*Data Science*) и машинного обучения - **данные**: мы заинтересованы в извлечении знаний из данных. Но как именно компьютеры представляют данные? Давайте точно выясним, чему располагает «искусственный интеллект» для изучения."
   ]
  },
  {
   "cell_type": "markdown",
   "metadata": {},
   "source": [
    "## Данные представленые в виде массивов\n",
    "\n",
    "Давайте посмотрим на некоторые фрукты. Используя библиотеку `Images.jl`, мы можем загрузить несколько изображений:"
   ]
  },
  {
   "cell_type": "code",
   "execution_count": null,
   "metadata": {},
   "outputs": [],
   "source": [
    "]add Images"
   ]
  },
  {
   "cell_type": "code",
   "execution_count": null,
   "metadata": {},
   "outputs": [],
   "source": [
    "using Images"
   ]
  },
  {
   "cell_type": "code",
   "execution_count": null,
   "metadata": {},
   "outputs": [],
   "source": [
    "apple = load(\"data/10_100.jpg\")"
   ]
  },
  {
   "cell_type": "code",
   "execution_count": null,
   "metadata": {},
   "outputs": [],
   "source": [
    "banana = load(\"data/104_100.jpg\")"
   ]
  },
  {
   "cell_type": "markdown",
   "metadata": {},
   "source": [
    "Здесь у нас есть изображения яблок и бананов. В конечном итоге мы хотели бы создать программу, которая может автоматически различать их. Однако компьютер не «видит» яблоко или банан; вместо этого он просто видит цифры. \n",
    "\n",
    "Изображение кодируется во что-то, называемое **массивом**, который похож на контейнер, в котором есть поля или ячейки для отдельных фрагментов данных:\n",
    "\n",
    "![attachment:array_cartoon.png](data/array_cartoon.png)\n",
    "\n",
    "Массив - это набор чисел в связанных блоках; На рисунке выше показан одномерный массив. Наши изображения вместо этого представляют собой двумерные массивы или матрицы чисел, расположенные примерно так:"
   ]
  },
  {
   "cell_type": "markdown",
   "metadata": {},
   "source": [
    "![attachment:array2d.png](data/array2d.png)"
   ]
  },
  {
   "cell_type": "markdown",
   "metadata": {},
   "source": [
    "Например, `apple` - это изображение, состоящее из массива чисел 100x100:"
   ]
  },
  {
   "cell_type": "code",
   "execution_count": null,
   "metadata": {},
   "outputs": [],
   "source": [
    "typeof(apple)"
   ]
  },
  {
   "cell_type": "code",
   "execution_count": null,
   "metadata": {},
   "outputs": [],
   "source": [
    "a = [ 1 2 3;4 5 6]"
   ]
  },
  {
   "cell_type": "code",
   "execution_count": null,
   "metadata": {},
   "outputs": [],
   "source": [
    "typeof(a)"
   ]
  },
  {
   "cell_type": "code",
   "execution_count": null,
   "metadata": {},
   "outputs": [],
   "source": [
    "size(a)"
   ]
  },
  {
   "cell_type": "code",
   "execution_count": null,
   "metadata": {},
   "outputs": [],
   "source": [
    "size(apple)"
   ]
  },
  {
   "cell_type": "markdown",
   "metadata": {},
   "source": [
    "Мы можем получить данные, хранящиеся в блоке в строке `i` и столбце `j`, путем *индексации* с использованием квадратных скобок: `[i, j]`. Например, давайте возьмем пиксель (часть изображения) в блоке $ (40, 60) $, то есть в 40-й строке и 60-м столбце изображения:"
   ]
  },
  {
   "cell_type": "code",
   "execution_count": null,
   "metadata": {},
   "outputs": [],
   "source": [
    "apple"
   ]
  },
  {
   "cell_type": "code",
   "execution_count": null,
   "metadata": {},
   "outputs": [],
   "source": [
    "apple[40, 60]"
   ]
  },
  {
   "cell_type": "code",
   "execution_count": null,
   "metadata": {},
   "outputs": [],
   "source": [
    "typeof(apple[40, 60])"
   ]
  },
  {
   "cell_type": "code",
   "execution_count": null,
   "metadata": {},
   "outputs": [],
   "source": [
    "dump(typeof(apple[40, 60]))"
   ]
  },
  {
   "cell_type": "code",
   "execution_count": null,
   "metadata": {},
   "outputs": [],
   "source": [
    "apple[18:20,29:31] # 9-ть пикселей от яблока"
   ]
  },
  {
   "cell_type": "markdown",
   "metadata": {},
   "source": [
    "Мы видим, что Julia показывает цветную коробку! Julia, благодаря пакету «Colors.jl», достаточно умна, чтобы отображать цвета так, чтобы это было понятно для нас, людей! \n",
    "\n",
    "Таким образом, на самом деле изображение - это двумерный массив, в котором каждый элемент массива представляет собой объект (набор чисел), описывающий цветной пиксель."
   ]
  },
  {
   "cell_type": "markdown",
   "metadata": {},
   "source": [
    "## Цвета как числа\n",
    "\n",
    "Как же тогда эти цвета на самом деле хранятся? Компьютеры хранят цвета в формате RGB, то есть они хранят значения от 0 до 1 для каждого из трех «каналов»: красного, зеленого и синего. Здесь 0 означает ни один из этого цвета, а 1 означает самую яркую форму этого цвета. Общий цвет представляет собой комбинацию этих трех цветов. Например, мы можем извлечь значение `red`, используя функцию` red`, примененную к цвету. "
   ]
  },
  {
   "cell_type": "code",
   "execution_count": null,
   "metadata": {},
   "outputs": [],
   "source": [
    "red(apple[40, 60])"
   ]
  },
  {
   "cell_type": "markdown",
   "metadata": {},
   "source": [
    "Поскольку внутреннее фактическое значение хранится в специальном формате, мы решили преобразовать его в стандартное число с плавающей запятой, используя функцию `Float64`:"
   ]
  },
  {
   "cell_type": "code",
   "execution_count": null,
   "metadata": {},
   "outputs": [],
   "source": [
    "Float64(red(apple[40, 60]))"
   ]
  },
  {
   "cell_type": "code",
   "execution_count": null,
   "metadata": {},
   "outputs": [],
   "source": [
    "Float64(green(apple[40, 60]))"
   ]
  },
  {
   "cell_type": "code",
   "execution_count": null,
   "metadata": {},
   "outputs": [],
   "source": [
    "Float64(blue(apple[40, 60]))"
   ]
  },
  {
   "cell_type": "code",
   "execution_count": null,
   "metadata": {},
   "outputs": [],
   "source": [
    "using Plots, Statistics"
   ]
  },
  {
   "cell_type": "code",
   "execution_count": null,
   "metadata": {},
   "outputs": [],
   "source": [
    "# plotly()"
   ]
  },
  {
   "cell_type": "code",
   "execution_count": null,
   "metadata": {},
   "outputs": [],
   "source": [
    "[ mean(float.(c.(img))) for c = [red,green,blue], img = [apple,banana] ]"
   ]
  },
  {
   "cell_type": "code",
   "execution_count": null,
   "metadata": {},
   "outputs": [],
   "source": [
    "histogram(float.(green.(apple[:])),color=\"red\",label=\"apple\", normalize=true, nbins=25)\n",
    "histogram!(float.(green.(banana[:])),color=\"yellow\",label=\"banana\",normalize=true, nbins=25)"
   ]
  },
  {
   "cell_type": "code",
   "execution_count": null,
   "metadata": {},
   "outputs": [],
   "source": [
    "apple"
   ]
  },
  {
   "cell_type": "code",
   "execution_count": null,
   "metadata": {},
   "outputs": [],
   "source": [
    "float(red(banana[50,20]))"
   ]
  },
  {
   "cell_type": "code",
   "execution_count": null,
   "metadata": {},
   "outputs": [],
   "source": [
    "banana[50,20]"
   ]
  },
  {
   "cell_type": "code",
   "execution_count": null,
   "metadata": {},
   "outputs": [],
   "source": [
    "pixel = apple[40, 60]"
   ]
  },
  {
   "cell_type": "code",
   "execution_count": null,
   "metadata": {},
   "outputs": [],
   "source": [
    "red_value   = Float64( red(pixel) )\n",
    "green_value = Float64( green(pixel) )\n",
    "blue_value  = Float64( blue(pixel) )\n",
    "\n",
    "print(\"The RGB values are ($red_value, $green_value, $blue_value)\")"
   ]
  },
  {
   "cell_type": "markdown",
   "metadata": {},
   "source": [
    "Поскольку значение красного цвета высокое, а остальные низкие, это означает, что в пикселе `(40, 60)` изображение яблока очень красное. Если мы сделаем то же самое в одном из углов изображения, мы получим следующее:"
   ]
  },
  {
   "cell_type": "code",
   "execution_count": null,
   "metadata": {},
   "outputs": [],
   "source": [
    "pixel = apple[1, 1]"
   ]
  },
  {
   "cell_type": "code",
   "execution_count": null,
   "metadata": {},
   "outputs": [],
   "source": [
    "red_value   = Float64( red(pixel) )\n",
    "green_value = Float64( green(pixel) )\n",
    "blue_value  = Float64( blue(pixel) )\n",
    "\n",
    "print(\"The RGB values are ($red_value, $green_value, $blue_value)\")"
   ]
  },
  {
   "cell_type": "code",
   "execution_count": null,
   "metadata": {},
   "outputs": [],
   "source": [
    "apple"
   ]
  },
  {
   "cell_type": "markdown",
   "metadata": {},
   "source": [
    "Мы видим, что каждый цвет яркий, что соответствует белому."
   ]
  },
  {
   "cell_type": "markdown",
   "metadata": {},
   "source": [
    "## Работа над изображением в целом\n",
    "\n",
    "В Julia, чтобы применить функцию ко всему массиву, мы помещаем `.` между именем функции и левой круглой скобкой \"`(`\", поэтому следующее дает нам значение 'red' каждого пикселя в изображении:"
   ]
  },
  {
   "cell_type": "code",
   "execution_count": null,
   "metadata": {},
   "outputs": [],
   "source": [
    "redpartofapple = Float64.(red.(apple))\n",
    "mean(redpartofapple)"
   ]
  },
  {
   "cell_type": "code",
   "execution_count": null,
   "metadata": {},
   "outputs": [],
   "source": [
    "histogram(redpartofapple[:],color=:red,label=\"Распределение красноты\")"
   ]
  },
  {
   "cell_type": "markdown",
   "metadata": {},
   "source": [
    "Обратите внимание, что мы получаем на выходе 2D массив (матрицу)."
   ]
  },
  {
   "cell_type": "markdown",
   "metadata": {},
   "source": [
    "[Математическая стандартная библиотека Джулии] (https://docs.julialang.org/en/stable/stdlib/math/Matmatics-1) имеет много встроенных математических функций. Одной из них является функция `mean` (пакет `Statistics`), которая вычисляет среднее значение. Если мы применим это к нашему яблоку:"
   ]
  },
  {
   "cell_type": "code",
   "execution_count": null,
   "metadata": {},
   "outputs": [],
   "source": [
    "mean(Float64.(red.(apple)))"
   ]
  },
  {
   "cell_type": "markdown",
   "metadata": {},
   "source": [
    "мы видим, что значение указывает на то, что среднее количество красного на изображении является значением между количеством красного в яблоке и количеством красного на белом фоне.\n",
    "\n",
    "*Каким-то образом нам нужно научить компьютер использовать эту информацию о картине, чтобы распознать, что там есть яблоко!*"
   ]
  },
  {
   "cell_type": "markdown",
   "metadata": {},
   "source": [
    "## Небольшая загадка\n",
    "\n",
    "Из научного интереса, давайте проверим среднее значение красного цвета на изображении банана."
   ]
  },
  {
   "cell_type": "code",
   "execution_count": null,
   "metadata": {},
   "outputs": [],
   "source": [
    "mean(Float64.(red.(banana)))"
   ]
  },
  {
   "cell_type": "markdown",
   "metadata": {},
   "source": [
    "Не уж-то этот банан краснее чем наше яблоко? Это не ошибка и на самом деле это правда! Прежде чем перейти к следующему упражнению, внимательно изучите изображения яблок и бананов и посмотрите, сможете ли вы объяснить, почему этот результат вполне ожидаем."
   ]
  },
  {
   "cell_type": "markdown",
   "metadata": {},
   "source": [
    "#### Упражнение 1\n",
    "\n",
    "Найдите среднее уровня синего в банане?\n",
    "\n",
    "(Чтобы открыть новую ячейку, используйте <ESC>+b (b от \"below\", как думаете, что он делает?))"
   ]
  },
  {
   "cell_type": "markdown",
   "metadata": {},
   "source": [
    "#### Упражнение 2\n",
    "\n",
    "В банане больше синего или зеленого?"
   ]
  }
 ],
 "metadata": {
  "kernelspec": {
   "display_name": "Julia 1.4.1",
   "language": "julia",
   "name": "julia-1.4"
  },
  "language_info": {
   "file_extension": ".jl",
   "mimetype": "application/julia",
   "name": "julia",
   "version": "1.4.1"
  }
 },
 "nbformat": 4,
 "nbformat_minor": 4
}
